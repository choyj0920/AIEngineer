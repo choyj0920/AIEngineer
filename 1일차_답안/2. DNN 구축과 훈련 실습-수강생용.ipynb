{
 "cells": [
  {
   "cell_type": "markdown",
   "metadata": {
    "colab_type": "text",
    "id": "1D2zND53dHZg"
   },
   "source": [
    "# DNN 구축과 훈련 실습"
   ]
  },
  {
   "cell_type": "markdown",
   "metadata": {
    "colab_type": "text",
    "id": "YuSmlP3hc2gA"
   },
   "source": [
    "## 라이브러리 불러오기"
   ]
  },
  {
   "cell_type": "code",
   "execution_count": 1,
   "metadata": {},
   "outputs": [],
   "source": [
    "import warnings\n",
    "warnings.filterwarnings('ignore')"
   ]
  },
  {
   "cell_type": "code",
   "execution_count": 2,
   "metadata": {
    "colab": {
     "base_uri": "https://localhost:8080/",
     "height": 55
    },
    "colab_type": "code",
    "id": "yIP78tvlc2gB",
    "outputId": "0def9aa6-d010-4b7c-822c-2fdca0735e96"
   },
   "outputs": [
    {
     "name": "stdout",
     "output_type": "stream",
     "text": [
      "2.3.0\n",
      "2.4.0\n"
     ]
    }
   ],
   "source": [
    "## 라이브러리 임포트\n",
    "import tensorflow as tf\n",
    "from tensorflow import keras\n",
    "from tensorflow.keras.utils import to_categorical\n",
    "import numpy as np\n",
    "import matplotlib.pyplot as plt\n",
    "import os\n",
    "\n",
    "print(tf.__version__)\n",
    "print(keras.__version__)"
   ]
  },
  {
   "cell_type": "markdown",
   "metadata": {
    "colab_type": "text",
    "id": "P9h5pJtRc2gG"
   },
   "source": [
    "## 하이퍼 파라미터"
   ]
  },
  {
   "cell_type": "code",
   "execution_count": 3,
   "metadata": {
    "colab": {},
    "colab_type": "code",
    "id": "8GyqfeSTc2gH"
   },
   "outputs": [],
   "source": [
    "learning_rate = 0.001\n",
    "training_epochs = 10\n",
    "batch_size = 128\n",
    "n_class = 10"
   ]
  },
  {
   "cell_type": "markdown",
   "metadata": {
    "colab_type": "text",
    "id": "yfso9lHbc2gJ"
   },
   "source": [
    "## MNIST 데이터셋"
   ]
  },
  {
   "cell_type": "code",
   "execution_count": 4,
   "metadata": {
    "colab": {},
    "colab_type": "code",
    "id": "bTm_qqgnc2gK"
   },
   "outputs": [],
   "source": [
    "## MNIST Dataset \n",
    "mnist = keras.datasets.mnist\n",
    "class_names = ['0', '1', '2', '3', '4', '5', '6', '7', '8', '9']\n",
    "\n",
    "## Fashion MNIST Dataset \n",
    "#mnist = keras.datasets.fashion_mnist\n",
    "#class_names = ['T-shirt/top', 'Trouser', 'Pullover', 'Dress', 'Coat', 'Sandal', 'Shirt', 'Sneaker', 'Bag', 'Ankle boot']"
   ]
  },
  {
   "cell_type": "markdown",
   "metadata": {
    "colab_type": "text",
    "id": "yBEChy8Vc2gM"
   },
   "source": [
    "## 데이터셋 불러오기"
   ]
  },
  {
   "cell_type": "code",
   "execution_count": 5,
   "metadata": {
    "colab": {},
    "colab_type": "code",
    "id": "xIiLtFKFc2gN"
   },
   "outputs": [],
   "source": [
    "## MNIST dataset load\n",
    "(train_images, train_labels), (test_images, test_labels) = mnist.load_data()  "
   ]
  },
  {
   "cell_type": "markdown",
   "metadata": {},
   "source": [
    "## 연습1: 데이터셋 불러오기"
   ]
  },
  {
   "cell_type": "code",
   "execution_count": 6,
   "metadata": {
    "colab": {
     "base_uri": "https://localhost:8080/",
     "height": 36
    },
    "colab_type": "code",
    "id": "7pZPYK3tc2gP",
    "outputId": "be2a0a49-3df7-4519-b66b-9f21f76032b3"
   },
   "outputs": [
    {
     "data": {
      "text/plain": [
       "(numpy.ndarray, numpy.ndarray)"
      ]
     },
     "execution_count": 6,
     "metadata": {},
     "output_type": "execute_result"
    }
   ],
   "source": [
    "## train_images, train_labels의 type 확인\n",
    "type(train_images), type(train_labels)"
   ]
  },
  {
   "cell_type": "code",
   "execution_count": 7,
   "metadata": {
    "colab": {
     "base_uri": "https://localhost:8080/",
     "height": 36
    },
    "colab_type": "code",
    "id": "pot6yL8Jc2gR",
    "outputId": "258ac93e-72be-4f9c-ea08-60d7e15c9828"
   },
   "outputs": [
    {
     "data": {
      "text/plain": [
       "((60000, 28, 28), (60000,))"
      ]
     },
     "execution_count": 7,
     "metadata": {},
     "output_type": "execute_result"
    }
   ],
   "source": [
    "## train_images, train_labels의 shape 확인\n",
    "train_images.shape, train_labels.shape"
   ]
  },
  {
   "cell_type": "code",
   "execution_count": 8,
   "metadata": {
    "colab": {
     "base_uri": "https://localhost:8080/",
     "height": 36
    },
    "colab_type": "code",
    "id": "tbXINTxAc2gT",
    "outputId": "bb8b9f5c-fd7e-4a37-f963-33fdc75d538e"
   },
   "outputs": [
    {
     "data": {
      "text/plain": [
       "((10000, 28, 28), (10000,))"
      ]
     },
     "execution_count": 8,
     "metadata": {},
     "output_type": "execute_result"
    }
   ],
   "source": [
    "## test_images, test_labels의 shape 확인\n",
    "test_images.shape, test_labels.shape"
   ]
  },
  {
   "cell_type": "code",
   "execution_count": 9,
   "metadata": {
    "colab": {
     "base_uri": "https://localhost:8080/",
     "height": 209
    },
    "colab_type": "code",
    "id": "UNUwl_XzdscK",
    "outputId": "6f388c04-880b-41d0-9f2b-2e925bb83a4f"
   },
   "outputs": [
    {
     "data": {
      "text/plain": [
       "{0: 5923,\n",
       " 1: 6742,\n",
       " 2: 5958,\n",
       " 3: 6131,\n",
       " 4: 5842,\n",
       " 5: 5421,\n",
       " 6: 5918,\n",
       " 7: 6265,\n",
       " 8: 5851,\n",
       " 9: 5949}"
      ]
     },
     "execution_count": 9,
     "metadata": {},
     "output_type": "execute_result"
    }
   ],
   "source": [
    "## training set의 각 class 별 image 수 확인\n",
    "unique, counts = np.unique(train_labels, axis=-1, return_counts=True)\n",
    "dict(zip(unique, counts))"
   ]
  },
  {
   "cell_type": "code",
   "execution_count": 10,
   "metadata": {
    "colab": {
     "base_uri": "https://localhost:8080/",
     "height": 209
    },
    "colab_type": "code",
    "id": "jG4FZ0PKd2sQ",
    "outputId": "abb57dd3-045b-499a-dd71-1e7db1d4c4e5"
   },
   "outputs": [
    {
     "data": {
      "text/plain": [
       "{0: 980,\n",
       " 1: 1135,\n",
       " 2: 1032,\n",
       " 3: 1010,\n",
       " 4: 982,\n",
       " 5: 892,\n",
       " 6: 958,\n",
       " 7: 1028,\n",
       " 8: 974,\n",
       " 9: 1009}"
      ]
     },
     "execution_count": 10,
     "metadata": {},
     "output_type": "execute_result"
    }
   ],
   "source": [
    "## test set의 각 class 별 image 수 확인\n",
    "unique, counts = np.unique(test_labels, axis=-1, return_counts=True)\n",
    "dict(zip(unique, counts))"
   ]
  },
  {
   "cell_type": "code",
   "execution_count": 11,
   "metadata": {
    "colab": {
     "base_uri": "https://localhost:8080/",
     "height": 55
    },
    "colab_type": "code",
    "id": "0IJkpDBLc2gV",
    "outputId": "6b35c7ff-046b-4aee-96b3-8c9c1ae389cd"
   },
   "outputs": [
    {
     "name": "stdout",
     "output_type": "stream",
     "text": [
      "train data 수:  60000\n",
      " test data 수:  10000\n"
     ]
    }
   ],
   "source": [
    "## train dataset, test dataset의 개수 저장\n",
    "n_train = train_images.shape[0]\n",
    "n_test = test_images.shape[0]\n",
    "print('train data 수: ', n_train)\n",
    "print(' test data 수: ', n_test)"
   ]
  },
  {
   "cell_type": "code",
   "execution_count": 20,
   "metadata": {},
   "outputs": [
    {
     "name": "stdout",
     "output_type": "stream",
     "text": [
      "4\n"
     ]
    }
   ],
   "source": [
    "print(train_labels[2])"
   ]
  },
  {
   "cell_type": "code",
   "execution_count": 21,
   "metadata": {
    "colab": {
     "base_uri": "https://localhost:8080/",
     "height": 265
    },
    "colab_type": "code",
    "id": "nPGVScGHc2gX",
    "outputId": "13525f5d-1424-4542-f0c8-0e62c5c1874a"
   },
   "outputs": [
    {
     "data": {
      "image/png": "[encoded data removed]",
      "text/plain": [
       "<Figure size 432x288 with 2 Axes>"
      ]
     },
     "metadata": {
      "needs_background": "light"
     },
     "output_type": "display_data"
    }
   ],
   "source": [
    "## train_images의 0번 image 화면에 출력\n",
    "plt.figure()\n",
    "plt.imshow(train_images[2], cmap=plt.cm.binary)\n",
    "plt.colorbar()\n",
    "plt.show()"
   ]
  },
  {
   "cell_type": "code",
   "execution_count": 22,
   "metadata": {
    "colab": {
     "base_uri": "https://localhost:8080/",
     "height": 860
    },
    "colab_type": "code",
    "id": "lMx9I_5Lc2gZ",
    "outputId": "7f2b8bb0-205b-47d2-fa18-1d29691d6b43"
   },
   "outputs": [
    {
     "data": {
      "image/png": "[encoded data removed]",
      "text/plain": [
       "<Figure size 1080x1080 with 25 Axes>"
      ]
     },
     "metadata": {},
     "output_type": "display_data"
    }
   ],
   "source": [
    "## 25개의 train image와 label 화면에 출력\n",
    "plt.figure(figsize=(15,15))\n",
    "for i in range(25):\n",
    "    plt.subplot(5,5,i+1)\n",
    "    plt.xticks([])\n",
    "    plt.yticks([])\n",
    "    plt.grid(False)\n",
    "    plt.imshow(train_images[i], cmap=plt.cm.binary)\n",
    "    plt.xlabel(class_names[train_labels[i]])"
   ]
  },
  {
   "cell_type": "code",
   "execution_count": 23,
   "metadata": {
    "colab": {
     "base_uri": "https://localhost:8080/",
     "height": 228
    },
    "colab_type": "code",
    "id": "kg0Nx9Obc2gb",
    "outputId": "ada56711-3720-46ea-ae9f-067298dcdd70"
   },
   "outputs": [
    {
     "name": "stdout",
     "output_type": "stream",
     "text": [
      "<nomalizing pixel values>\n",
      "before:  [ 35 241 225 160 108]\n",
      "after:   [0.13725491 0.94509804 0.88235295 0.627451   0.42352942]\n",
      "\n"
     ]
    }
   ],
   "source": [
    "## image를 0~1사이 값으로 만들기 위하여 255로 나누어줌\n",
    "print('<nomalizing pixel values>')\n",
    "print('before: ', train_images[0,13,12:17])\n",
    "train_images = train_images.astype(np.float32) / 255.\n",
    "test_images = test_images.astype(np.float32) / 255.\n",
    "print('after:  ', train_images[0,13,12:17])\n",
    "print()"
   ]
  },
  {
   "cell_type": "markdown",
   "metadata": {},
   "source": [
    "## 연습2: 원핫인코딩"
   ]
  },
  {
   "cell_type": "code",
   "execution_count": 24,
   "metadata": {},
   "outputs": [
    {
     "name": "stdout",
     "output_type": "stream",
     "text": [
      "<one-hot encoding>\n",
      "before:  [5 0 4 1 9]\n",
      "after:   [[0. 0. 0. 0. 0. 1. 0. 0. 0. 0.]\n",
      " [1. 0. 0. 0. 0. 0. 0. 0. 0. 0.]\n",
      " [0. 0. 0. 0. 1. 0. 0. 0. 0. 0.]\n",
      " [0. 1. 0. 0. 0. 0. 0. 0. 0. 0.]\n",
      " [0. 0. 0. 0. 0. 0. 0. 0. 0. 1.]]\n"
     ]
    }
   ],
   "source": [
    "## one-hot encodin을 완성하라.\n",
    "## to_categorical(레이블, n_class)을 사용  => categorical_crossentropy로 매치하는 것 기억  (정수: sparse_categorial_crossentropy\n",
    "print('<one-hot encoding>')\n",
    "print('before: ', train_labels[:5])\n",
    "train_labels = to_categorical(train_labels, n_class)\n",
    "test_labels =  to_categorical(test_labels, n_class)\n",
    "print('after:  ', train_labels[:5])"
   ]
  },
  {
   "cell_type": "markdown",
   "metadata": {},
   "source": [
    "## 연습3: 데이터셋 구성"
   ]
  },
  {
   "cell_type": "code",
   "execution_count": 28,
   "metadata": {
    "colab": {},
    "colab_type": "code",
    "id": "lHyVpL1Ka9mz"
   },
   "outputs": [],
   "source": [
    "## dataset 구성\n",
    "# from_tensor_slices, shuffe, batch, repeat를 사용해보라. \n",
    "# 참조 \n",
    "#1. repeat(step_n) : 원하는 epoch 수를 넣을 수 있다. 아무런 파라미터를 주지 않는다면 iteration이 무제한으로 돌아간다.\n",
    "#2. shuffle(1000) : 한번 epoch이 돌고나서 랜덤하게 섞을 것인지 정한다.\n",
    "\n",
    "train_dataset = tf.data.Dataset.from_tensor_slices((train_images, train_labels)).shuffle(buffer_size=100000).batch(batch_size).repeat()\n",
    "test_dataset = tf.data.Dataset.from_tensor_slices((test_images, test_labels)).batch(batch_size)"
   ]
  },
  {
   "cell_type": "markdown",
   "metadata": {
    "colab_type": "text",
    "id": "y9pWpm9mc2gd"
   },
   "source": [
    "## 신경망으로 구현한 로지스틱 회귀 모델"
   ]
  },
  {
   "cell_type": "markdown",
   "metadata": {},
   "source": [
    "## 연습 4: 신경망 로지스틱 회귀 모델 구축"
   ]
  },
  {
   "cell_type": "code",
   "execution_count": 29,
   "metadata": {
    "colab": {},
    "colab_type": "code",
    "id": "i5v4vQA2c2ge"
   },
   "outputs": [],
   "source": [
    "# 힌트: Dense, 클래스 10개, softmax를 사용해라.\n",
    "def create_lr_model():\n",
    "    model = keras.Sequential()\n",
    "    model.add(keras.layers.Flatten(input_shape=(28,28)))\n",
    "    model.add(keras.layers.Dense(10, activation='softmax')) #<= 로지스틱 함수를 만들어 보라.\n",
    "    return model"
   ]
  },
  {
   "cell_type": "code",
   "execution_count": 31,
   "metadata": {
    "colab": {
     "base_uri": "https://localhost:8080/",
     "height": 247
    },
    "colab_type": "code",
    "id": "54eUybNTc2gg",
    "outputId": "0f27021b-7053-4965-f0f5-a3d238b4b283"
   },
   "outputs": [
    {
     "name": "stdout",
     "output_type": "stream",
     "text": [
      "Model: \"sequential_1\"\n",
      "_________________________________________________________________\n",
      "Layer (type)                 Output Shape              Param #   \n",
      "=================================================================\n",
      "flatten_1 (Flatten)          (None, 784)               0         \n",
      "_________________________________________________________________\n",
      "dense_1 (Dense)              (None, 10)                7850      \n",
      "=================================================================\n",
      "Total params: 7,850\n",
      "Trainable params: 7,850\n",
      "Non-trainable params: 0\n",
      "_________________________________________________________________\n"
     ]
    }
   ],
   "source": [
    "lr_model = create_lr_model()\n",
    "lr_model.summary()"
   ]
  },
  {
   "cell_type": "markdown",
   "metadata": {},
   "source": [
    "# 연습 5. 모델 컴파일"
   ]
  },
  {
   "cell_type": "markdown",
   "metadata": {
    "colab_type": "text",
    "id": "xWTv4YmqegoR"
   },
   "source": [
    "## 모델 컴파일 (최적화와 손실함수) "
   ]
  },
  {
   "cell_type": "code",
   "execution_count": 32,
   "metadata": {
    "colab": {},
    "colab_type": "code",
    "id": "WIDB24aaeZbT"
   },
   "outputs": [],
   "source": [
    "# 다음을 사용해 컴파일을 완성하라\n",
    "# keras.optimizers.Adam, learning_rate, 손실함수는 categorical_crossentropy, 성과척도는 accaury로 시도해보라\n",
    "# 최적화(optimizer), 손실함수(loss), 성과척도(metrics) 정의하는 것\n",
    "lr_model.compile(optimizer=keras.optimizers.Adam(learning_rate), \n",
    "                 loss='categorical_crossentropy', \n",
    "                 metrics=['accuracy']            \n",
    "                )"
   ]
  },
  {
   "cell_type": "markdown",
   "metadata": {
    "colab_type": "text",
    "id": "UZ4-9ws-c2gh"
   },
   "source": [
    "## 훈련(학습)"
   ]
  },
  {
   "cell_type": "code",
   "execution_count": 33,
   "metadata": {
    "colab": {
     "base_uri": "https://localhost:8080/",
     "height": 55
    },
    "colab_type": "code",
    "id": "Tuge30Lsc2gi",
    "outputId": "468ee494-6c01-4b0b-9eee-3e5690bef1cb"
   },
   "outputs": [
    {
     "name": "stdout",
     "output_type": "stream",
     "text": [
      "number of steps per epoch:  468\n",
      "number of steps per validation:  78\n"
     ]
    }
   ],
   "source": [
    "steps_per_epoch = n_train//batch_size  #model.fit()에서 사용한다.\n",
    "validation_steps = n_test//batch_size\n",
    "print('number of steps per epoch: ', steps_per_epoch)\n",
    "print('number of steps per validation: ', validation_steps) "
   ]
  },
  {
   "cell_type": "code",
   "execution_count": 34,
   "metadata": {},
   "outputs": [
    {
     "name": "stdout",
     "output_type": "stream",
     "text": [
      "78/78 [==============================] - 0s 2ms/step - loss: 2.4632 - accuracy: 0.0402\n"
     ]
    },
    {
     "data": {
      "text/plain": [
       "[2.463182210922241, 0.04016426205635071]"
      ]
     },
     "execution_count": 34,
     "metadata": {},
     "output_type": "execute_result"
    }
   ],
   "source": [
    "## traing 전에 loss 및 validation accuracy 확인\n",
    "# test_dataset을 사용해 보라\n",
    "lr_model.evaluate(test_dataset, steps=validation_steps)"
   ]
  },
  {
   "cell_type": "markdown",
   "metadata": {},
   "source": [
    "## 연습 6. 모델 학습 "
   ]
  },
  {
   "cell_type": "code",
   "execution_count": 37,
   "metadata": {
    "colab": {
     "base_uri": "https://localhost:8080/",
     "height": 804
    },
    "colab_type": "code",
    "id": "AqA-8BjNfarK",
    "outputId": "c87c41f0-0383-406a-8b26-ca868f598bc2"
   },
   "outputs": [
    {
     "name": "stdout",
     "output_type": "stream",
     "text": [
      "Epoch 1/10\n",
      "468/468 [==============================] - 2s 3ms/step - loss: 0.6838 - accuracy: 0.8302 - val_loss: 0.3846 - val_accuracy: 0.9024\n",
      "Epoch 2/10\n",
      "468/468 [==============================] - 2s 4ms/step - loss: 0.3623 - accuracy: 0.9026 - val_loss: 0.3195 - val_accuracy: 0.9128\n",
      "Epoch 3/10\n",
      "468/468 [==============================] - 2s 3ms/step - loss: 0.3191 - accuracy: 0.9119 - val_loss: 0.2978 - val_accuracy: 0.9168\n",
      "Epoch 4/10\n",
      "468/468 [==============================] - 2s 4ms/step - loss: 0.2997 - accuracy: 0.9173 - val_loss: 0.2861 - val_accuracy: 0.9210\n",
      "Epoch 5/10\n",
      "468/468 [==============================] - 2s 4ms/step - loss: 0.2875 - accuracy: 0.9201 - val_loss: 0.2772 - val_accuracy: 0.9231\n",
      "Epoch 6/10\n",
      "468/468 [==============================] - 2s 4ms/step - loss: 0.2798 - accuracy: 0.9223 - val_loss: 0.2740 - val_accuracy: 0.9243\n",
      "Epoch 7/10\n",
      "468/468 [==============================] - 2s 4ms/step - loss: 0.2744 - accuracy: 0.9240 - val_loss: 0.2719 - val_accuracy: 0.9246\n",
      "Epoch 8/10\n",
      "468/468 [==============================] - 2s 4ms/step - loss: 0.2684 - accuracy: 0.9257 - val_loss: 0.2668 - val_accuracy: 0.9261\n",
      "Epoch 9/10\n",
      "468/468 [==============================] - 2s 5ms/step - loss: 0.2667 - accuracy: 0.9261 - val_loss: 0.2679 - val_accuracy: 0.9242\n",
      "Epoch 10/10\n",
      "468/468 [==============================] - 2s 4ms/step - loss: 0.2616 - accuracy: 0.9264 - val_loss: 0.2681 - val_accuracy: 0.9255\n"
     ]
    }
   ],
   "source": [
    "# 다음과 lr_model.fit() 함수를 이용해 아래 학습함수를 완성하라\n",
    "# 힌트:  train_dataset, epochs=training_epochs, steps_per_epoch=steps_per_epoch, \n",
    "# validation_data=test_dataset, validation_steps=validation_steps\n",
    "history =lr_model.fit(train_dataset, epochs=training_epochs, steps_per_epoch=steps_per_epoch,\n",
    "                       validation_data=test_dataset, validation_steps=validation_steps)"
   ]
  },
  {
   "cell_type": "code",
   "execution_count": 38,
   "metadata": {},
   "outputs": [
    {
     "name": "stdout",
     "output_type": "stream",
     "text": [
      "78/78 [==============================] - 0s 4ms/step - loss: 0.2681 - accuracy: 0.9255\n"
     ]
    },
    {
     "data": {
      "text/plain": [
       "[0.2680811882019043, 0.9254807829856873]"
      ]
     },
     "execution_count": 38,
     "metadata": {},
     "output_type": "execute_result"
    }
   ],
   "source": [
    "## traing 후에 loss 및 validation accuracy 확인: 훈련이전과 비교\n",
    "# test_dataset을 사용해 보라\n",
    "lr_model.evaluate(test_dataset, steps=validation_steps)"
   ]
  },
  {
   "cell_type": "markdown",
   "metadata": {
    "colab_type": "text",
    "id": "KZ3x2hbfc2gk"
   },
   "source": [
    "## 학습 결과 확인"
   ]
  },
  {
   "cell_type": "code",
   "execution_count": 39,
   "metadata": {
    "colab": {},
    "colab_type": "code",
    "id": "P8o6oJWWc2gl"
   },
   "outputs": [],
   "source": [
    "def plot_image(i, predictions_array, true_label, img):\n",
    "    predictions_array, true_label, img = predictions_array[i], true_label[i], img[i]\n",
    "    plt.grid(False)\n",
    "    plt.xticks([])\n",
    "    plt.yticks([])\n",
    "\n",
    "    plt.imshow(img, cmap=plt.cm.binary)  # 손글씨 그림 그리기\n",
    "\n",
    "    predicted_label = np.argmax(predictions_array)  # 레이블 예측\n",
    "    if predicted_label == true_label:\n",
    "        color = 'blue'\n",
    "    else:\n",
    "        color = 'red'\n",
    "\n",
    "    plt.xlabel(\"{} {:2.0f}% ({})\".format(class_names[predicted_label],\n",
    "                                100*np.max(predictions_array),\n",
    "                                class_names[true_label]),\n",
    "                                color=color)\n",
    "\n",
    "def plot_value_array(i, predictions_array, true_label):\n",
    "    predictions_array, true_label = predictions_array[i], true_label[i]\n",
    "    plt.grid(False)\n",
    "    #plt.xticks([])\n",
    "    plt.xticks(range(n_class), class_names, rotation=90)\n",
    "    plt.yticks([])\n",
    "    thisplot = plt.bar(range(n_class), predictions_array, color=\"#777777\")\n",
    "    plt.ylim([0, 1]) \n",
    "    predicted_label = np.argmax(predictions_array) # 레이블 예측\n",
    " \n",
    "    thisplot[predicted_label].set_color('red')\n",
    "    thisplot[true_label].set_color('blue')"
   ]
  },
  {
   "cell_type": "code",
   "execution_count": 40,
   "metadata": {
    "colab": {
     "base_uri": "https://localhost:8080/",
     "height": 1000
    },
    "colab_type": "code",
    "id": "QXeU3uTQf-lK",
    "outputId": "80dfe9e1-aa7e-4b1d-f10e-2bf7ff503878"
   },
   "outputs": [
    {
     "data": {
      "image/png": "[encoded data removed]",
      "text/plain": [
       "<Figure size 1296x1440 with 30 Axes>"
      ]
     },
     "metadata": {
      "needs_background": "light"
     },
     "output_type": "display_data"
    }
   ],
   "source": [
    "rnd_idx = np.random.randint(1, n_test//batch_size)\n",
    "img_cnt = 0\n",
    "for images, labels in test_dataset:\n",
    "    img_cnt += 1\n",
    "    if img_cnt != rnd_idx:\n",
    "        continue\n",
    "    predictions = lr_model(images, training=False)\n",
    "    num_rows = 5\n",
    "    num_cols = 3\n",
    "    num_images = num_rows*num_cols\n",
    "    labels = tf.argmax(labels, axis=-1)\n",
    "    plt.figure(figsize=(3*2*num_cols, 4*num_rows))\n",
    "    plt.subplots_adjust(hspace=1.0)\n",
    "    for i in range(num_images):\n",
    "        plt.subplot(num_rows, 2*num_cols, 2*i+1)\n",
    "        plot_image(i, predictions.numpy(), labels.numpy(), images.numpy())  # images.numpy()를 imshow로 그린다.\n",
    "        plt.subplot(num_rows, 2*num_cols, 2*i+2)\n",
    "        plot_value_array(i, predictions.numpy(), labels.numpy())        \n",
    "    break"
   ]
  },
  {
   "cell_type": "code",
   "execution_count": 41,
   "metadata": {},
   "outputs": [],
   "source": [
    " predictions = lr_model(images, training=False)"
   ]
  },
  {
   "cell_type": "code",
   "execution_count": 44,
   "metadata": {},
   "outputs": [],
   "source": [
    " predictions = lr_model.predict(images)"
   ]
  },
  {
   "cell_type": "code",
   "execution_count": 45,
   "metadata": {},
   "outputs": [
    {
     "data": {
      "text/plain": [
       "array([2.73873206e-06, 4.44469697e-06, 3.10926727e-04, 5.25590638e-03,\n",
       "       1.86862653e-05, 4.74443892e-03, 4.89926492e-07, 2.23479132e-04,\n",
       "       9.78334427e-01, 1.11044245e-02], dtype=float32)"
      ]
     },
     "execution_count": 45,
     "metadata": {},
     "output_type": "execute_result"
    }
   ],
   "source": [
    "predictions[0]"
   ]
  },
  {
   "cell_type": "markdown",
   "metadata": {
    "colab_type": "text",
    "id": "7NlrYsiqc2gn"
   },
   "source": [
    "## 3층 DNN을 구축해보자"
   ]
  },
  {
   "cell_type": "markdown",
   "metadata": {},
   "source": [
    "## 연습 7: 3층 DNN 구축"
   ]
  },
  {
   "cell_type": "code",
   "execution_count": 48,
   "metadata": {
    "colab": {},
    "colab_type": "code",
    "id": "oExA_JU5c2gn"
   },
   "outputs": [],
   "source": [
    "# 다음의 3층 DNN을 완성하라.\n",
    "# input_shape=(28,28)를 사용하고\n",
    "# 은닉층의 유닛을 256, 128로 하고 마지막 전결합 출력 유닛을 10로 하는 3층 신경망을 완성하라. \n",
    "# 은닉층의 활성화 함수는 relu 전결합층의 활성화함수는 softmax를 사용하라.\n",
    "def create_mlp_model():\n",
    "    model = keras.Sequential()\n",
    "    model.add(keras.layers.Flatten(input_shape=(28,28)))\n",
    "    model.add(keras.layers.Dense(256, activation='relu'))\n",
    "    model.add(keras.layers.Dense(128, activation='relu'))\n",
    "    model.add(keras.layers.Dense(10, activation='softmax'))\n",
    "    return model"
   ]
  },
  {
   "cell_type": "code",
   "execution_count": 49,
   "metadata": {
    "colab": {
     "base_uri": "https://localhost:8080/",
     "height": 324
    },
    "colab_type": "code",
    "id": "qt3aJVrBg4I7",
    "outputId": "32fe62e0-8b36-4b2b-ec55-3b61a2e7a97c"
   },
   "outputs": [
    {
     "name": "stdout",
     "output_type": "stream",
     "text": [
      "Model: \"sequential_3\"\n",
      "_________________________________________________________________\n",
      "Layer (type)                 Output Shape              Param #   \n",
      "=================================================================\n",
      "flatten_2 (Flatten)          (None, 784)               0         \n",
      "_________________________________________________________________\n",
      "dense_2 (Dense)              (None, 256)               200960    \n",
      "_________________________________________________________________\n",
      "dense_3 (Dense)              (None, 128)               32896     \n",
      "_________________________________________________________________\n",
      "dense_4 (Dense)              (None, 10)                1290      \n",
      "=================================================================\n",
      "Total params: 235,146\n",
      "Trainable params: 235,146\n",
      "Non-trainable params: 0\n",
      "_________________________________________________________________\n"
     ]
    }
   ],
   "source": [
    "mlp_model = create_mlp_model()\n",
    "mlp_model.summary()"
   ]
  },
  {
   "cell_type": "code",
   "execution_count": 50,
   "metadata": {
    "colab": {},
    "colab_type": "code",
    "id": "a4Bh7fiKc2gq"
   },
   "outputs": [],
   "source": [
    "## 모델 컴파일\n",
    "mlp_model.compile(optimizer=keras.optimizers.Adam(learning_rate),\n",
    "                 loss = 'categorical_crossentropy',\n",
    "                 metrics=['accuracy'])"
   ]
  },
  {
   "cell_type": "code",
   "execution_count": 51,
   "metadata": {
    "colab": {
     "base_uri": "https://localhost:8080/",
     "height": 55
    },
    "colab_type": "code",
    "id": "08ZRV2yaNG1r",
    "outputId": "9a8cff49-4c17-42d1-cef3-237f90ac3027"
   },
   "outputs": [
    {
     "name": "stdout",
     "output_type": "stream",
     "text": [
      "78/78 [==============================] - 1s 8ms/step - loss: 2.2931 - accuracy: 0.1321\n"
     ]
    },
    {
     "data": {
      "text/plain": [
       "[2.2930729389190674, 0.13211138546466827]"
      ]
     },
     "execution_count": 51,
     "metadata": {},
     "output_type": "execute_result"
    }
   ],
   "source": [
    "## traing 전에 loss 및 validation accuracy 확인\n",
    "mlp_model.evaluate(test_dataset, steps=validation_steps)"
   ]
  },
  {
   "cell_type": "code",
   "execution_count": 52,
   "metadata": {
    "colab": {
     "base_uri": "https://localhost:8080/",
     "height": 804
    },
    "colab_type": "code",
    "id": "PJUm_LLJc2gx",
    "outputId": "63793ce3-b8af-4174-8a11-51a4664d892a",
    "scrolled": false
   },
   "outputs": [
    {
     "name": "stdout",
     "output_type": "stream",
     "text": [
      "Epoch 1/10\n",
      "468/468 [==============================] - 4s 10ms/step - loss: 0.2704 - accuracy: 0.9233 - val_loss: 0.1323 - val_accuracy: 0.9584\n",
      "Epoch 2/10\n",
      "468/468 [==============================] - 4s 8ms/step - loss: 0.1045 - accuracy: 0.9686 - val_loss: 0.0893 - val_accuracy: 0.9725\n",
      "Epoch 3/10\n",
      "468/468 [==============================] - 3s 7ms/step - loss: 0.0660 - accuracy: 0.9803 - val_loss: 0.0915 - val_accuracy: 0.9719\n",
      "Epoch 4/10\n",
      "468/468 [==============================] - 3s 7ms/step - loss: 0.0493 - accuracy: 0.9844 - val_loss: 0.0737 - val_accuracy: 0.9774\n",
      "Epoch 5/10\n",
      "468/468 [==============================] - 3s 7ms/step - loss: 0.0378 - accuracy: 0.9878 - val_loss: 0.0709 - val_accuracy: 0.9771\n",
      "Epoch 6/10\n",
      "468/468 [==============================] - 3s 7ms/step - loss: 0.0268 - accuracy: 0.9915 - val_loss: 0.0650 - val_accuracy: 0.9815\n",
      "Epoch 7/10\n",
      "468/468 [==============================] - 4s 7ms/step - loss: 0.0224 - accuracy: 0.9929 - val_loss: 0.0809 - val_accuracy: 0.9763\n",
      "Epoch 8/10\n",
      "468/468 [==============================] - 3s 7ms/step - loss: 0.0189 - accuracy: 0.9938 - val_loss: 0.0861 - val_accuracy: 0.9761\n",
      "Epoch 9/10\n",
      "468/468 [==============================] - 3s 7ms/step - loss: 0.0142 - accuracy: 0.9954 - val_loss: 0.1008 - val_accuracy: 0.9739\n",
      "Epoch 10/10\n",
      "468/468 [==============================] - 4s 8ms/step - loss: 0.0154 - accuracy: 0.9949 - val_loss: 0.0828 - val_accuracy: 0.9780\n"
     ]
    }
   ],
   "source": [
    "## 훈련\n",
    "history = mlp_model.fit(train_dataset, epochs=training_epochs, steps_per_epoch=steps_per_epoch, \n",
    "                    validation_data=test_dataset, validation_steps=validation_steps)"
   ]
  },
  {
   "cell_type": "markdown",
   "metadata": {},
   "source": [
    "# 학습결과 확인"
   ]
  },
  {
   "cell_type": "code",
   "execution_count": 53,
   "metadata": {},
   "outputs": [],
   "source": [
    "def plot_image(i, predictions_array, true_label, img):\n",
    "    predictions_array, true_label, img = predictions_array[i], true_label[i], img[i]\n",
    "    plt.grid(False)\n",
    "    plt.xticks([])\n",
    "    plt.yticks([])\n",
    "\n",
    "    plt.imshow(img,cmap=plt.cm.binary)\n",
    "\n",
    "    predicted_label = np.argmax(predictions_array)\n",
    "    if predicted_label == true_label:\n",
    "        color = 'blue'\n",
    "    else:\n",
    "        color = 'red'\n",
    "\n",
    "    plt.xlabel(\"{} {:2.0f}% ({})\".format(class_names[predicted_label],\n",
    "                                100*np.max(predictions_array),\n",
    "                                class_names[true_label]),\n",
    "                                color=color)\n",
    "\n",
    "def plot_value_array(i, predictions_array, true_label):\n",
    "    predictions_array, true_label = predictions_array[i], true_label[i]\n",
    "    plt.grid(False)\n",
    "    #plt.xticks([])\n",
    "    plt.xticks(range(n_class), class_names, rotation=90)\n",
    "    plt.yticks([])\n",
    "    thisplot = plt.bar(range(n_class), predictions_array, color=\"#777777\")\n",
    "    plt.ylim([0, 1]) \n",
    "    predicted_label = np.argmax(predictions_array)\n",
    " \n",
    "    thisplot[predicted_label].set_color('red')\n",
    "    thisplot[true_label].set_color('blue')"
   ]
  },
  {
   "cell_type": "code",
   "execution_count": 54,
   "metadata": {},
   "outputs": [
    {
     "data": {
      "image/png": "[encoded data removed]",
      "text/plain": [
       "<Figure size 1296x1440 with 30 Axes>"
      ]
     },
     "metadata": {
      "needs_background": "light"
     },
     "output_type": "display_data"
    }
   ],
   "source": [
    "rnd_idx = np.random.randint(1, n_test//batch_size)\n",
    "img_cnt = 0\n",
    "for images, labels in test_dataset:\n",
    "    img_cnt += 1\n",
    "    if img_cnt != rnd_idx:\n",
    "        continue\n",
    "    predictions = lr_model(images, training=False)\n",
    "    num_rows = 5\n",
    "    num_cols = 3\n",
    "    num_images = num_rows*num_cols\n",
    "    labels = tf.argmax(labels, axis=-1)\n",
    "    plt.figure(figsize=(3*2*num_cols, 4*num_rows))\n",
    "    plt.subplots_adjust(hspace=1.0)\n",
    "    for i in range(num_images):\n",
    "        plt.subplot(num_rows, 2*num_cols, 2*i+1)\n",
    "        plot_image(i, predictions.numpy(), labels.numpy(), images.numpy())\n",
    "        plt.subplot(num_rows, 2*num_cols, 2*i+2)\n",
    "        plot_value_array(i, predictions.numpy(), labels.numpy())        \n",
    "    break"
   ]
  },
  {
   "cell_type": "markdown",
   "metadata": {
    "colab_type": "text",
    "id": "41x7OABPhZVL"
   },
   "source": [
    "## 이제 5층 DNN을 구축해보자"
   ]
  },
  {
   "cell_type": "markdown",
   "metadata": {},
   "source": [
    "## 연습 8:  5층 DNN 구축"
   ]
  },
  {
   "cell_type": "code",
   "execution_count": 55,
   "metadata": {
    "colab": {},
    "colab_type": "code",
    "id": "b8VAp4MUc2g2"
   },
   "outputs": [],
   "source": [
    "# 다음의 5층 DNN을 완성하라.\n",
    "# input_shape=(28,28)를 사용하고\n",
    "# 2개 은닉층의 유닛을 각각 256, 128로 하고 마지막 전결합 출력 유닛을 10로 하는 5층 신경망을 완성하라. \n",
    "# 은닉층의 활성화 함수는 relu 전결합층의 활성화함수는 softmax를 사용하라.\n",
    "\n",
    "def create_dmlp_model():\n",
    "    model = keras.Sequential()\n",
    "    model.add(keras.layers.Flatten(input_shape=(28,28)))\n",
    "    model.add(keras.layers.Dense(256, activation='relu'))\n",
    "    model.add(keras.layers.Dense(256, activation='relu'))\n",
    "    model.add(keras.layers.Dense(128, activation='relu'))\n",
    "    model.add(keras.layers.Dense(128, activation='relu'))\n",
    "    model.add(keras.layers.Dense(10, activation='softmax'))\n",
    "    return model"
   ]
  },
  {
   "cell_type": "code",
   "execution_count": 56,
   "metadata": {
    "colab": {
     "base_uri": "https://localhost:8080/",
     "height": 401
    },
    "colab_type": "code",
    "id": "7-DUAEV0hsSd",
    "outputId": "28d707f7-d068-4956-95b1-bcf933a7e8a9"
   },
   "outputs": [
    {
     "name": "stdout",
     "output_type": "stream",
     "text": [
      "Model: \"sequential_4\"\n",
      "_________________________________________________________________\n",
      "Layer (type)                 Output Shape              Param #   \n",
      "=================================================================\n",
      "flatten_3 (Flatten)          (None, 784)               0         \n",
      "_________________________________________________________________\n",
      "dense_5 (Dense)              (None, 256)               200960    \n",
      "_________________________________________________________________\n",
      "dense_6 (Dense)              (None, 256)               65792     \n",
      "_________________________________________________________________\n",
      "dense_7 (Dense)              (None, 128)               32896     \n",
      "_________________________________________________________________\n",
      "dense_8 (Dense)              (None, 128)               16512     \n",
      "_________________________________________________________________\n",
      "dense_9 (Dense)              (None, 10)                1290      \n",
      "=================================================================\n",
      "Total params: 317,450\n",
      "Trainable params: 317,450\n",
      "Non-trainable params: 0\n",
      "_________________________________________________________________\n"
     ]
    }
   ],
   "source": [
    "dmlp_model = create_dmlp_model()\n",
    "dmlp_model.summary()"
   ]
  },
  {
   "cell_type": "code",
   "execution_count": 57,
   "metadata": {
    "colab": {},
    "colab_type": "code",
    "id": "KhkHjbQNhwhU"
   },
   "outputs": [],
   "source": [
    "## 모델 컴파일\n",
    "dmlp_model.compile(optimizer=keras.optimizers.Adam(learning_rate),\n",
    "                 loss = 'categorical_crossentropy',\n",
    "                 metrics=['accuracy'])"
   ]
  },
  {
   "cell_type": "code",
   "execution_count": 58,
   "metadata": {
    "colab": {
     "base_uri": "https://localhost:8080/",
     "height": 55
    },
    "colab_type": "code",
    "id": "r-WGoWaMN8hc",
    "outputId": "003b7855-77b4-4d4a-93ca-f5f620cbcb88"
   },
   "outputs": [
    {
     "name": "stdout",
     "output_type": "stream",
     "text": [
      "78/78 [==============================] - 0s 4ms/step - loss: 2.3051 - accuracy: 0.1505\n"
     ]
    },
    {
     "data": {
      "text/plain": [
       "[2.3051295280456543, 0.15054085850715637]"
      ]
     },
     "execution_count": 58,
     "metadata": {},
     "output_type": "execute_result"
    }
   ],
   "source": [
    "## traing 전에 loss 및 validation accuracy 확인\n",
    "dmlp_model.evaluate(test_dataset, steps=validation_steps)"
   ]
  },
  {
   "cell_type": "code",
   "execution_count": 59,
   "metadata": {
    "colab": {
     "base_uri": "https://localhost:8080/",
     "height": 804
    },
    "colab_type": "code",
    "id": "6Vv2ebjDh4LZ",
    "outputId": "71712c29-f948-42ca-ff5e-991aca8321a1"
   },
   "outputs": [
    {
     "name": "stdout",
     "output_type": "stream",
     "text": [
      "Epoch 1/10\n",
      "468/468 [==============================] - 5s 11ms/step - loss: 0.2621 - accuracy: 0.9239 - val_loss: 0.1152 - val_accuracy: 0.9641\n",
      "Epoch 2/10\n",
      "468/468 [==============================] - 7s 16ms/step - loss: 0.0964 - accuracy: 0.9705 - val_loss: 0.0964 - val_accuracy: 0.9692\n",
      "Epoch 3/10\n",
      "468/468 [==============================] - 8s 17ms/step - loss: 0.0642 - accuracy: 0.9794 - val_loss: 0.1024 - val_accuracy: 0.9711\n",
      "Epoch 4/10\n",
      "468/468 [==============================] - 9s 20ms/step - loss: 0.0477 - accuracy: 0.9841 - val_loss: 0.0768 - val_accuracy: 0.9771\n",
      "Epoch 5/10\n",
      "468/468 [==============================] - 10s 22ms/step - loss: 0.0356 - accuracy: 0.9882 - val_loss: 0.0818 - val_accuracy: 0.9756\n",
      "Epoch 6/10\n",
      "468/468 [==============================] - 6s 14ms/step - loss: 0.0322 - accuracy: 0.9895 - val_loss: 0.0933 - val_accuracy: 0.9729\n",
      "Epoch 7/10\n",
      "468/468 [==============================] - 5s 11ms/step - loss: 0.0271 - accuracy: 0.9912 - val_loss: 0.0858 - val_accuracy: 0.9790\n",
      "Epoch 8/10\n",
      "468/468 [==============================] - 4s 9ms/step - loss: 0.0235 - accuracy: 0.9926 - val_loss: 0.0846 - val_accuracy: 0.9784\n",
      "Epoch 9/10\n",
      "468/468 [==============================] - 4s 9ms/step - loss: 0.0190 - accuracy: 0.9941 - val_loss: 0.0754 - val_accuracy: 0.9799\n",
      "Epoch 10/10\n",
      "468/468 [==============================] - 4s 9ms/step - loss: 0.0183 - accuracy: 0.9941 - val_loss: 0.0936 - val_accuracy: 0.9755\n"
     ]
    }
   ],
   "source": [
    "## 훈련\n",
    "history = dmlp_model.fit(train_dataset, epochs=training_epochs, steps_per_epoch=steps_per_epoch, \n",
    "                    validation_data=test_dataset, validation_steps=validation_steps)"
   ]
  },
  {
   "cell_type": "markdown",
   "metadata": {
    "colab_type": "text",
    "id": "71kpuSCFiVC8"
   },
   "source": [
    "## 드롭 아웃 (Drop-out)을 추가해보자"
   ]
  },
  {
   "cell_type": "markdown",
   "metadata": {},
   "source": [
    "## 연습 9: 드롭아웃 추가"
   ]
  },
  {
   "cell_type": "code",
   "execution_count": 60,
   "metadata": {
    "colab": {},
    "colab_type": "code",
    "id": "nJlViNrRiTxX"
   },
   "outputs": [],
   "source": [
    "# 5층 DNN의 은닉층의 출력 다음 단계에 Dropout을 추가하라. kera.layers.Dropout(drop_rate)\n",
    "drop_rate = 0.2\n",
    "\n",
    "def create_do_model():\n",
    "    model = keras.Sequential()\n",
    "    model.add(keras.layers.Flatten(input_shape=(28,28)))\n",
    "    model.add(keras.layers.Dense(256, activation='relu'))\n",
    "    model.add(keras.layers.Dropout(drop_rate))\n",
    "    model.add(keras.layers.Dense(256, activation='relu'))\n",
    "    model.add(keras.layers.Dropout(drop_rate))\n",
    "    model.add(keras.layers.Dense(128, activation='relu'))\n",
    "    model.add(keras.layers.Dropout(drop_rate))\n",
    "    model.add(keras.layers.Dense(128, activation='relu'))\n",
    "    model.add(keras.layers.Dropout(drop_rate))\n",
    "    model.add(keras.layers.Dense(10, activation='softmax'))\n",
    "    return model"
   ]
  },
  {
   "cell_type": "code",
   "execution_count": 61,
   "metadata": {
    "colab": {
     "base_uri": "https://localhost:8080/",
     "height": 554
    },
    "colab_type": "code",
    "id": "nI-pBhnhikLR",
    "outputId": "3934aac5-5373-4b45-be7a-9bdabf556413"
   },
   "outputs": [
    {
     "name": "stdout",
     "output_type": "stream",
     "text": [
      "Model: \"sequential_5\"\n",
      "_________________________________________________________________\n",
      "Layer (type)                 Output Shape              Param #   \n",
      "=================================================================\n",
      "flatten_4 (Flatten)          (None, 784)               0         \n",
      "_________________________________________________________________\n",
      "dense_10 (Dense)             (None, 256)               200960    \n",
      "_________________________________________________________________\n",
      "dropout (Dropout)            (None, 256)               0         \n",
      "_________________________________________________________________\n",
      "dense_11 (Dense)             (None, 256)               65792     \n",
      "_________________________________________________________________\n",
      "dropout_1 (Dropout)          (None, 256)               0         \n",
      "_________________________________________________________________\n",
      "dense_12 (Dense)             (None, 128)               32896     \n",
      "_________________________________________________________________\n",
      "dropout_2 (Dropout)          (None, 128)               0         \n",
      "_________________________________________________________________\n",
      "dense_13 (Dense)             (None, 128)               16512     \n",
      "_________________________________________________________________\n",
      "dropout_3 (Dropout)          (None, 128)               0         \n",
      "_________________________________________________________________\n",
      "dense_14 (Dense)             (None, 10)                1290      \n",
      "=================================================================\n",
      "Total params: 317,450\n",
      "Trainable params: 317,450\n",
      "Non-trainable params: 0\n",
      "_________________________________________________________________\n"
     ]
    }
   ],
   "source": [
    "do_model = create_do_model()\n",
    "do_model.summary()"
   ]
  },
  {
   "cell_type": "code",
   "execution_count": 62,
   "metadata": {
    "colab": {},
    "colab_type": "code",
    "id": "HCcq8aCHipD7"
   },
   "outputs": [],
   "source": [
    "## 모델 컴파일\n",
    "do_model.compile(optimizer=keras.optimizers.Adam(learning_rate),\n",
    "                 loss = 'categorical_crossentropy',\n",
    "                 metrics=['accuracy'])"
   ]
  },
  {
   "cell_type": "code",
   "execution_count": 63,
   "metadata": {
    "colab": {
     "base_uri": "https://localhost:8080/",
     "height": 55
    },
    "colab_type": "code",
    "id": "TLWGEw3mOMmN",
    "outputId": "aa4447c9-7bee-4e6e-97dc-cb6d6ce6c55f"
   },
   "outputs": [
    {
     "name": "stdout",
     "output_type": "stream",
     "text": [
      "78/78 [==============================] - 0s 4ms/step - loss: 2.3196 - accuracy: 0.1036\n"
     ]
    },
    {
     "data": {
      "text/plain": [
       "[2.3195600509643555, 0.10356570780277252]"
      ]
     },
     "execution_count": 63,
     "metadata": {},
     "output_type": "execute_result"
    }
   ],
   "source": [
    "## traing 전에 loss 및 validation accuracy 확인\n",
    "do_model.evaluate(test_dataset, steps=validation_steps)"
   ]
  },
  {
   "cell_type": "code",
   "execution_count": 64,
   "metadata": {
    "colab": {
     "base_uri": "https://localhost:8080/",
     "height": 804
    },
    "colab_type": "code",
    "id": "1mKoA7PQisdX",
    "outputId": "0dc25016-275a-40b9-caba-35ba673a00e7"
   },
   "outputs": [
    {
     "name": "stdout",
     "output_type": "stream",
     "text": [
      "Epoch 1/10\n",
      "468/468 [==============================] - 7s 15ms/step - loss: 0.3822 - accuracy: 0.8821 - val_loss: 0.1282 - val_accuracy: 0.9604\n",
      "Epoch 2/10\n",
      "468/468 [==============================] - 8s 17ms/step - loss: 0.1527 - accuracy: 0.9562 - val_loss: 0.0916 - val_accuracy: 0.9736\n",
      "Epoch 3/10\n",
      "468/468 [==============================] - 8s 18ms/step - loss: 0.1147 - accuracy: 0.9669 - val_loss: 0.0872 - val_accuracy: 0.9748\n",
      "Epoch 4/10\n",
      "468/468 [==============================] - 11s 23ms/step - loss: 0.0924 - accuracy: 0.9730 - val_loss: 0.0842 - val_accuracy: 0.9746\n",
      "Epoch 5/10\n",
      "468/468 [==============================] - 12s 25ms/step - loss: 0.0798 - accuracy: 0.9764 - val_loss: 0.0828 - val_accuracy: 0.9770 - loss:\n",
      "Epoch 6/10\n",
      "468/468 [==============================] - 6s 13ms/step - loss: 0.0694 - accuracy: 0.9793 - val_loss: 0.0779 - val_accuracy: 0.9769\n",
      "Epoch 7/10\n",
      "468/468 [==============================] - 6s 12ms/step - loss: 0.0628 - accuracy: 0.9812 - val_loss: 0.0755 - val_accuracy: 0.9793\n",
      "Epoch 8/10\n",
      "468/468 [==============================] - 5s 10ms/step - loss: 0.0551 - accuracy: 0.9834 - val_loss: 0.0694 - val_accuracy: 0.9805\n",
      "Epoch 9/10\n",
      "468/468 [==============================] - 5s 11ms/step - loss: 0.0502 - accuracy: 0.9854 - val_loss: 0.0680 - val_accuracy: 0.9812\n",
      "Epoch 10/10\n",
      "468/468 [==============================] - 5s 10ms/step - loss: 0.0461 - accuracy: 0.9858 - val_loss: 0.0772 - val_accuracy: 0.9801\n"
     ]
    }
   ],
   "source": [
    "## 훈련\n",
    "history = do_model.fit(train_dataset, epochs=training_epochs, steps_per_epoch=steps_per_epoch, \n",
    "                    validation_data=test_dataset, validation_steps=validation_steps)"
   ]
  },
  {
   "cell_type": "markdown",
   "metadata": {
    "colab_type": "text",
    "id": "o4Gwn7Ohke_0"
   },
   "source": [
    "## 가중치 감쇠: L2 규제화 (Weight Decay: L2 Regulrarization)를 적용해보자"
   ]
  },
  {
   "cell_type": "markdown",
   "metadata": {},
   "source": [
    "## 연습 10: 가중치 감쇠 규제화"
   ]
  },
  {
   "cell_type": "code",
   "execution_count": 68,
   "metadata": {
    "colab": {},
    "colab_type": "code",
    "id": "498WlMinivuh"
   },
   "outputs": [],
   "source": [
    "# 다음을 이용해서 5층 DNN의 규제화를 완성하라. (Dropout 대신 규제화를 사용한다.)\n",
    "# kernel_regularizer=keras.regularizers.l2(reg_weight,\n",
    "# bias_regularizer=keras.regularizers.l2(reg_weight\n",
    "reg_weight = 0.00002\n",
    "\n",
    "def create_l2r_model():\n",
    "    model = keras.Sequential()\n",
    "    model.add(keras.layers.Flatten(input_shape=(28,28)))\n",
    "    model.add(keras.layers.Dense(256, activation='relu',\n",
    "                                kernel_regularizer=keras.regularizers.l2(reg_weight),\n",
    "                                bias_regularizer=keras.regularizers.l2(reg_weight)))\n",
    "    model.add(keras.layers.Dense(256, activation='relu',\n",
    "                                kernel_regularizer=keras.regularizers.l2(reg_weight),\n",
    "                                bias_regularizer=keras.regularizers.l2(reg_weight)))\n",
    "    model.add(keras.layers.Dense(128, activation='relu',\n",
    "                                kernel_regularizer=keras.regularizers.l2(reg_weight),\n",
    "                                bias_regularizer=keras.regularizers.l2(reg_weight)))\n",
    "    model.add(keras.layers.Dense(128, activation='relu',\n",
    "                                kernel_regularizer=keras.regularizers.l2(reg_weight),\n",
    "                                bias_regularizer=keras.regularizers.l2(reg_weight)))\n",
    "    model.add(keras.layers.Dense(10, activation='softmax',\n",
    "                                kernel_regularizer=keras.regularizers.l2(reg_weight),\n",
    "                                bias_regularizer=keras.regularizers.l2(reg_weight)))\n",
    "    return model"
   ]
  },
  {
   "cell_type": "code",
   "execution_count": 69,
   "metadata": {
    "colab": {
     "base_uri": "https://localhost:8080/",
     "height": 401
    },
    "colab_type": "code",
    "id": "oaAVX1tKi684",
    "outputId": "334f12ac-8205-4919-c8b3-991d17fec071"
   },
   "outputs": [
    {
     "name": "stdout",
     "output_type": "stream",
     "text": [
      "Model: \"sequential_7\"\n",
      "_________________________________________________________________\n",
      "Layer (type)                 Output Shape              Param #   \n",
      "=================================================================\n",
      "flatten_6 (Flatten)          (None, 784)               0         \n",
      "_________________________________________________________________\n",
      "dense_20 (Dense)             (None, 256)               200960    \n",
      "_________________________________________________________________\n",
      "dense_21 (Dense)             (None, 256)               65792     \n",
      "_________________________________________________________________\n",
      "dense_22 (Dense)             (None, 128)               32896     \n",
      "_________________________________________________________________\n",
      "dense_23 (Dense)             (None, 128)               16512     \n",
      "_________________________________________________________________\n",
      "dense_24 (Dense)             (None, 10)                1290      \n",
      "=================================================================\n",
      "Total params: 317,450\n",
      "Trainable params: 317,450\n",
      "Non-trainable params: 0\n",
      "_________________________________________________________________\n"
     ]
    }
   ],
   "source": [
    "l2r_model = create_l2r_model()\n",
    "l2r_model.summary()"
   ]
  },
  {
   "cell_type": "code",
   "execution_count": 43,
   "metadata": {
    "colab": {},
    "colab_type": "code",
    "id": "aA44lA68i_Jr"
   },
   "outputs": [],
   "source": [
    "## 모델 컴파일\n",
    "l2r_model.compile(optimizer=keras.optimizers.Adam(learning_rate),\n",
    "                 loss = 'categorical_crossentropy',\n",
    "                 metrics=['accuracy'])"
   ]
  },
  {
   "cell_type": "code",
   "execution_count": 44,
   "metadata": {
    "colab": {
     "base_uri": "https://localhost:8080/",
     "height": 55
    },
    "colab_type": "code",
    "id": "vQiT1vyKOT0l",
    "outputId": "4c4fb79e-a92b-430e-942e-7ba0ea955eb8"
   },
   "outputs": [
    {
     "name": "stdout",
     "output_type": "stream",
     "text": [
      "100/100 [==============================] - 0s 3ms/step - loss: 2.3412 - accuracy: 0.0761\n"
     ]
    },
    {
     "data": {
      "text/plain": [
       "[2.341244697570801, 0.07609999924898148]"
      ]
     },
     "execution_count": 44,
     "metadata": {},
     "output_type": "execute_result"
    }
   ],
   "source": [
    "## traing 전에 loss 및 validation accuracy 확인\n",
    "l2r_model.evaluate(test_dataset, steps=validation_steps)"
   ]
  },
  {
   "cell_type": "code",
   "execution_count": 45,
   "metadata": {
    "colab": {
     "base_uri": "https://localhost:8080/",
     "height": 804
    },
    "colab_type": "code",
    "id": "z8WeyIGjjCDV",
    "outputId": "cf5aaacc-0e77-4627-d674-2655b791940b"
   },
   "outputs": [
    {
     "name": "stdout",
     "output_type": "stream",
     "text": [
      "Epoch 1/20\n",
      "600/600 [==============================] - 3s 5ms/step - loss: 0.2606 - accuracy: 0.9271 - val_loss: 0.1267 - val_accuracy: 0.9661\n",
      "Epoch 2/20\n",
      "600/600 [==============================] - 3s 5ms/step - loss: 0.1145 - accuracy: 0.9706 - val_loss: 0.1073 - val_accuracy: 0.9728\n",
      "Epoch 3/20\n",
      "600/600 [==============================] - 3s 5ms/step - loss: 0.0864 - accuracy: 0.9795 - val_loss: 0.1153 - val_accuracy: 0.9721\n",
      "Epoch 4/20\n",
      "600/600 [==============================] - 3s 6ms/step - loss: 0.0740 - accuracy: 0.9830 - val_loss: 0.1150 - val_accuracy: 0.9728\n",
      "Epoch 5/20\n",
      "600/600 [==============================] - 4s 6ms/step - loss: 0.0640 - accuracy: 0.9869 - val_loss: 0.1079 - val_accuracy: 0.9752\n",
      "Epoch 6/20\n",
      "600/600 [==============================] - 3s 6ms/step - loss: 0.0583 - accuracy: 0.9888 - val_loss: 0.0977 - val_accuracy: 0.9803\n",
      "Epoch 7/20\n",
      "600/600 [==============================] - 3s 6ms/step - loss: 0.0537 - accuracy: 0.9906 - val_loss: 0.1212 - val_accuracy: 0.9725\n",
      "Epoch 8/20\n",
      "600/600 [==============================] - 3s 5ms/step - loss: 0.0520 - accuracy: 0.9913 - val_loss: 0.1046 - val_accuracy: 0.9787\n",
      "Epoch 9/20\n",
      "600/600 [==============================] - 3s 6ms/step - loss: 0.0495 - accuracy: 0.9924 - val_loss: 0.1265 - val_accuracy: 0.9732\n",
      "Epoch 10/20\n",
      "600/600 [==============================] - 3s 6ms/step - loss: 0.0491 - accuracy: 0.9926 - val_loss: 0.1057 - val_accuracy: 0.9796\n",
      "Epoch 11/20\n",
      "600/600 [==============================] - 3s 5ms/step - loss: 0.0470 - accuracy: 0.9932 - val_loss: 0.1433 - val_accuracy: 0.9712\n",
      "Epoch 12/20\n",
      "600/600 [==============================] - 3s 5ms/step - loss: 0.0469 - accuracy: 0.9933 - val_loss: 0.1054 - val_accuracy: 0.9815\n",
      "Epoch 13/20\n",
      "600/600 [==============================] - 3s 5ms/step - loss: 0.0461 - accuracy: 0.9937 - val_loss: 0.1054 - val_accuracy: 0.9798\n",
      "Epoch 14/20\n",
      "600/600 [==============================] - 3s 5ms/step - loss: 0.0440 - accuracy: 0.9947 - val_loss: 0.0986 - val_accuracy: 0.9835\n",
      "Epoch 15/20\n",
      "600/600 [==============================] - 3s 6ms/step - loss: 0.0440 - accuracy: 0.9944 - val_loss: 0.1290 - val_accuracy: 0.9744\n",
      "Epoch 16/20\n",
      "600/600 [==============================] - 3s 6ms/step - loss: 0.0442 - accuracy: 0.9949 - val_loss: 0.0975 - val_accuracy: 0.9802\n",
      "Epoch 17/20\n",
      "600/600 [==============================] - 4s 6ms/step - loss: 0.0410 - accuracy: 0.9960 - val_loss: 0.0967 - val_accuracy: 0.9826\n",
      "Epoch 18/20\n",
      "600/600 [==============================] - 3s 6ms/step - loss: 0.0426 - accuracy: 0.9953 - val_loss: 0.1077 - val_accuracy: 0.9804\n",
      "Epoch 19/20\n",
      "600/600 [==============================] - 3s 6ms/step - loss: 0.0428 - accuracy: 0.9951 - val_loss: 0.0942 - val_accuracy: 0.9835\n",
      "Epoch 20/20\n",
      "600/600 [==============================] - 3s 5ms/step - loss: 0.0387 - accuracy: 0.9965 - val_loss: 0.1099 - val_accuracy: 0.9820\n"
     ]
    }
   ],
   "source": [
    "## 훈련\n",
    "history = l2r_model.fit(train_dataset, epochs=training_epochs, steps_per_epoch=steps_per_epoch, \n",
    "                    validation_data=test_dataset, validation_steps=validation_steps)"
   ]
  },
  {
   "cell_type": "markdown",
   "metadata": {
    "colab_type": "text",
    "id": "irML-8lUkkfG"
   },
   "source": [
    "## 배치 정규화 (Batch Normalization)를 추가해보자"
   ]
  },
  {
   "cell_type": "markdown",
   "metadata": {},
   "source": [
    "## 연습 11 배치 정규화 추가"
   ]
  },
  {
   "cell_type": "code",
   "execution_count": 77,
   "metadata": {
    "colab": {},
    "colab_type": "code",
    "id": "gNeYF10ejFGk"
   },
   "outputs": [],
   "source": [
    "# BatchNormalizatio()과 ReLu()를 이용해 5층 DNN을 완성하라.\n",
    "\n",
    "def create_bn_model():\n",
    "    model = keras.Sequential()\n",
    "    model.add(keras.layers.Flatten(input_shape=(28,28)))\n",
    "    model.add(keras.layers.Dense(256))\n",
    "    model.add(keras.layers.BatchNormalization())\n",
    "    model.add(keras.layers.ReLU())\n",
    "    model.add(keras.layers.Dense(256))\n",
    "    model.add(keras.layers.BatchNormalization())\n",
    "    model.add(keras.layers.ReLU())\n",
    "    model.add(keras.layers.Dense(128))\n",
    "    model.add(keras.layers.BatchNormalization())\n",
    "    model.add(keras.layers.ReLU())\n",
    "    model.add(keras.layers.Dense(128))\n",
    "    model.add(keras.layers.BatchNormalization())\n",
    "    model.add(keras.layers.ReLU())\n",
    "    model.add(keras.layers.Dense(10))\n",
    "    model.add(keras.layers.BatchNormalization())\n",
    "    model.add(keras.layers.Softmax())\n",
    "    return model"
   ]
  },
  {
   "cell_type": "code",
   "execution_count": 78,
   "metadata": {
    "colab": {
     "base_uri": "https://localhost:8080/",
     "height": 785
    },
    "colab_type": "code",
    "id": "yE7WPx0gjiCc",
    "outputId": "155b1f6e-cd2f-4b2f-c101-3d43fcb7eb2b"
   },
   "outputs": [
    {
     "name": "stdout",
     "output_type": "stream",
     "text": [
      "Model: \"sequential_11\"\n",
      "_________________________________________________________________\n",
      "Layer (type)                 Output Shape              Param #   \n",
      "=================================================================\n",
      "flatten_10 (Flatten)         (None, 784)               0         \n",
      "_________________________________________________________________\n",
      "dense_40 (Dense)             (None, 256)               200960    \n",
      "_________________________________________________________________\n",
      "batch_normalization_15 (Batc (None, 256)               1024      \n",
      "_________________________________________________________________\n",
      "re_lu_12 (ReLU)              (None, 256)               0         \n",
      "_________________________________________________________________\n",
      "dense_41 (Dense)             (None, 256)               65792     \n",
      "_________________________________________________________________\n",
      "batch_normalization_16 (Batc (None, 256)               1024      \n",
      "_________________________________________________________________\n",
      "re_lu_13 (ReLU)              (None, 256)               0         \n",
      "_________________________________________________________________\n",
      "dense_42 (Dense)             (None, 128)               32896     \n",
      "_________________________________________________________________\n",
      "batch_normalization_17 (Batc (None, 128)               512       \n",
      "_________________________________________________________________\n",
      "re_lu_14 (ReLU)              (None, 128)               0         \n",
      "_________________________________________________________________\n",
      "dense_43 (Dense)             (None, 128)               16512     \n",
      "_________________________________________________________________\n",
      "batch_normalization_18 (Batc (None, 128)               512       \n",
      "_________________________________________________________________\n",
      "re_lu_15 (ReLU)              (None, 128)               0         \n",
      "_________________________________________________________________\n",
      "dense_44 (Dense)             (None, 10)                1290      \n",
      "_________________________________________________________________\n",
      "batch_normalization_19 (Batc (None, 10)                40        \n",
      "_________________________________________________________________\n",
      "softmax_2 (Softmax)          (None, 10)                0         \n",
      "=================================================================\n",
      "Total params: 320,562\n",
      "Trainable params: 319,006\n",
      "Non-trainable params: 1,556\n",
      "_________________________________________________________________\n"
     ]
    }
   ],
   "source": [
    "bn_model = create_bn_model()\n",
    "bn_model.summary()"
   ]
  },
  {
   "cell_type": "code",
   "execution_count": 79,
   "metadata": {
    "colab": {},
    "colab_type": "code",
    "id": "vD-Oz2nhjmNS"
   },
   "outputs": [],
   "source": [
    "## 모델 컴파일\n",
    "bn_model.compile(optimizer=keras.optimizers.Adam(learning_rate),\n",
    "                 loss = 'categorical_crossentropy',\n",
    "                 metrics=['accuracy'])"
   ]
  },
  {
   "cell_type": "code",
   "execution_count": 80,
   "metadata": {
    "colab": {
     "base_uri": "https://localhost:8080/",
     "height": 55
    },
    "colab_type": "code",
    "id": "tGy89IteOiJT",
    "outputId": "869d3707-7f33-48be-c5ac-9e8d751024be"
   },
   "outputs": [
    {
     "name": "stdout",
     "output_type": "stream",
     "text": [
      "78/78 [==============================] - 0s 4ms/step - loss: 2.3027 - accuracy: 0.1198\n"
     ]
    },
    {
     "data": {
      "text/plain": [
       "[2.302701950073242, 0.1197916641831398]"
      ]
     },
     "execution_count": 80,
     "metadata": {},
     "output_type": "execute_result"
    }
   ],
   "source": [
    "## traing 전에 loss 및 validation accuracy 확인\n",
    "bn_model.evaluate(test_dataset, steps=validation_steps)"
   ]
  },
  {
   "cell_type": "code",
   "execution_count": 81,
   "metadata": {
    "colab": {
     "base_uri": "https://localhost:8080/",
     "height": 804
    },
    "colab_type": "code",
    "id": "35Y_1qiijomM",
    "outputId": "516911e4-5079-4aee-e59d-c43b18544c2c"
   },
   "outputs": [
    {
     "name": "stdout",
     "output_type": "stream",
     "text": [
      "Epoch 1/10\n",
      "468/468 [==============================] - 8s 17ms/step - loss: 0.4039 - accuracy: 0.9362 - val_loss: 0.2149 - val_accuracy: 0.9721\n",
      "Epoch 2/10\n",
      "468/468 [==============================] - 7s 15ms/step - loss: 0.1714 - accuracy: 0.9746 - val_loss: 0.1252 - val_accuracy: 0.9779\n",
      "Epoch 3/10\n",
      "468/468 [==============================] - 6s 13ms/step - loss: 0.1073 - accuracy: 0.9824 - val_loss: 0.1045 - val_accuracy: 0.9757\n",
      "Epoch 4/10\n",
      "468/468 [==============================] - 7s 14ms/step - loss: 0.0784 - accuracy: 0.9861 - val_loss: 0.0868 - val_accuracy: 0.9760\n",
      "Epoch 5/10\n",
      "468/468 [==============================] - 6s 13ms/step - loss: 0.0594 - accuracy: 0.9880 - val_loss: 0.0770 - val_accuracy: 0.9793\n",
      "Epoch 6/10\n",
      "468/468 [==============================] - 7s 15ms/step - loss: 0.0447 - accuracy: 0.9913 - val_loss: 0.0793 - val_accuracy: 0.9795\n",
      "Epoch 7/10\n",
      "468/468 [==============================] - 8s 17ms/step - loss: 0.0358 - accuracy: 0.9929 - val_loss: 0.0645 - val_accuracy: 0.9834\n",
      "Epoch 8/10\n",
      "468/468 [==============================] - 9s 19ms/step - loss: 0.0340 - accuracy: 0.9923 - val_loss: 0.0702 - val_accuracy: 0.9809\n",
      "Epoch 9/10\n",
      "468/468 [==============================] - 11s 23ms/step - loss: 0.0275 - accuracy: 0.9935 - val_loss: 0.0681 - val_accuracy: 0.9803\n",
      "Epoch 10/10\n",
      "468/468 [==============================] - 12s 26ms/step - loss: 0.0250 - accuracy: 0.9938 - val_loss: 0.0715 - val_accuracy: 0.9775\n"
     ]
    }
   ],
   "source": [
    "## 훈련\n",
    "history = bn_model.fit(train_dataset, epochs=training_epochs, steps_per_epoch=steps_per_epoch, \n",
    "                    validation_data=test_dataset, validation_steps=validation_steps)"
   ]
  },
  {
   "cell_type": "markdown",
   "metadata": {
    "colab_type": "text",
    "id": "8kxIPIPlkuz1"
   },
   "source": [
    "## 학습률을 조정해보자 (Learning Rate Decay라고도 부른다.)"
   ]
  },
  {
   "cell_type": "code",
   "execution_count": 51,
   "metadata": {
    "colab": {
     "base_uri": "https://localhost:8080/",
     "height": 401
    },
    "colab_type": "code",
    "id": "4fyYjZuajsS0",
    "outputId": "b97d28dd-0906-48db-bfb5-98ac76658ad6"
   },
   "outputs": [
    {
     "name": "stdout",
     "output_type": "stream",
     "text": [
      "Model: \"sequential_6\"\n",
      "_________________________________________________________________\n",
      "Layer (type)                 Output Shape              Param #   \n",
      "=================================================================\n",
      "flatten_6 (Flatten)          (None, 784)               0         \n",
      "_________________________________________________________________\n",
      "dense_24 (Dense)             (None, 256)               200960    \n",
      "_________________________________________________________________\n",
      "dense_25 (Dense)             (None, 256)               65792     \n",
      "_________________________________________________________________\n",
      "dense_26 (Dense)             (None, 128)               32896     \n",
      "_________________________________________________________________\n",
      "dense_27 (Dense)             (None, 128)               16512     \n",
      "_________________________________________________________________\n",
      "dense_28 (Dense)             (None, 10)                1290      \n",
      "=================================================================\n",
      "Total params: 317,450\n",
      "Trainable params: 317,450\n",
      "Non-trainable params: 0\n",
      "_________________________________________________________________\n"
     ]
    }
   ],
   "source": [
    "lr_decay_model = create_dmlp_model()\n",
    "lr_decay_model.summary()"
   ]
  },
  {
   "cell_type": "code",
   "execution_count": 52,
   "metadata": {
    "colab": {},
    "colab_type": "code",
    "id": "9NPkdj28j8NC"
   },
   "outputs": [],
   "source": [
    "### learning rate scheduler - exponential decay\n",
    "### initial learning rate: 초기 learning rate\n",
    "### decay_steps: 몇 step 후에 learning rate을 감소시킬 것인지\n",
    "### decay_rate: learning rate 감소 비율\n",
    "### staircase: 계단식 감소여부(False일 경우는 매 step마다 감소하여 decay steps에 도달하였을 때 decay_rate만큼 감소됨) \n",
    "lr_schedule = keras.optimizers.schedules.ExponentialDecay(initial_learning_rate=learning_rate,\n",
    "                                                          decay_steps=n_train//batch_size*10,\n",
    "                                                          decay_rate=0.3,\n",
    "                                                          staircase=True)"
   ]
  },
  {
   "cell_type": "code",
   "execution_count": 53,
   "metadata": {
    "colab": {},
    "colab_type": "code",
    "id": "M1j-pvySj-tv"
   },
   "outputs": [],
   "source": [
    "## 모델 컴파일\n",
    "lr_decay_model.compile(optimizer=keras.optimizers.Adam(lr_schedule),\n",
    "                 loss = 'categorical_crossentropy',\n",
    "                 metrics=['accuracy'])"
   ]
  },
  {
   "cell_type": "code",
   "execution_count": 54,
   "metadata": {
    "colab": {
     "base_uri": "https://localhost:8080/",
     "height": 55
    },
    "colab_type": "code",
    "id": "sxG441v6PP16",
    "outputId": "9392a898-0632-44c4-c931-02469e93d29f"
   },
   "outputs": [
    {
     "name": "stdout",
     "output_type": "stream",
     "text": [
      "100/100 [==============================] - 0s 2ms/step - loss: 2.3119 - accuracy: 0.1150\n"
     ]
    },
    {
     "data": {
      "text/plain": [
       "[2.3118736743927, 0.11500000208616257]"
      ]
     },
     "execution_count": 54,
     "metadata": {},
     "output_type": "execute_result"
    }
   ],
   "source": [
    "## traing 전에 loss 및 validation accuracy 확인\n",
    "lr_decay_model.evaluate(test_dataset, steps=validation_steps)"
   ]
  },
  {
   "cell_type": "code",
   "execution_count": 55,
   "metadata": {
    "colab": {
     "base_uri": "https://localhost:8080/",
     "height": 804
    },
    "colab_type": "code",
    "id": "fmJleaw4kEpP",
    "outputId": "d7e1eb95-5720-49fc-f444-3c199addc897"
   },
   "outputs": [
    {
     "name": "stdout",
     "output_type": "stream",
     "text": [
      "Epoch 1/20\n",
      "600/600 [==============================] - 3s 5ms/step - loss: 0.2459 - accuracy: 0.9272 - val_loss: 0.1224 - val_accuracy: 0.9637\n",
      "Epoch 2/20\n",
      "600/600 [==============================] - 4s 6ms/step - loss: 0.0959 - accuracy: 0.9706 - val_loss: 0.0829 - val_accuracy: 0.9714\n",
      "Epoch 3/20\n",
      "600/600 [==============================] - 4s 6ms/step - loss: 0.0659 - accuracy: 0.9795 - val_loss: 0.0818 - val_accuracy: 0.9750\n",
      "Epoch 4/20\n",
      "600/600 [==============================] - 3s 6ms/step - loss: 0.0475 - accuracy: 0.9845 - val_loss: 0.0691 - val_accuracy: 0.9793\n",
      "Epoch 5/20\n",
      "600/600 [==============================] - 3s 6ms/step - loss: 0.0390 - accuracy: 0.9880 - val_loss: 0.0812 - val_accuracy: 0.9763\n",
      "Epoch 6/20\n",
      "600/600 [==============================] - 4s 6ms/step - loss: 0.0308 - accuracy: 0.9901 - val_loss: 0.0795 - val_accuracy: 0.9785\n",
      "Epoch 7/20\n",
      "600/600 [==============================] - 3s 6ms/step - loss: 0.0300 - accuracy: 0.9903 - val_loss: 0.0791 - val_accuracy: 0.9793\n",
      "Epoch 8/20\n",
      "600/600 [==============================] - 3s 6ms/step - loss: 0.0272 - accuracy: 0.9911 - val_loss: 0.0866 - val_accuracy: 0.9776\n",
      "Epoch 9/20\n",
      "600/600 [==============================] - 3s 6ms/step - loss: 0.0237 - accuracy: 0.9920 - val_loss: 0.0811 - val_accuracy: 0.9794\n",
      "Epoch 10/20\n",
      "600/600 [==============================] - 3s 5ms/step - loss: 0.0200 - accuracy: 0.9938 - val_loss: 0.0894 - val_accuracy: 0.9767\n",
      "Epoch 11/20\n",
      "600/600 [==============================] - 4s 6ms/step - loss: 0.0043 - accuracy: 0.9987 - val_loss: 0.0700 - val_accuracy: 0.9838\n",
      "Epoch 12/20\n",
      "600/600 [==============================] - 4s 6ms/step - loss: 9.5188e-04 - accuracy: 0.9998 - val_loss: 0.0787 - val_accuracy: 0.9840\n",
      "Epoch 13/20\n",
      "600/600 [==============================] - 4s 6ms/step - loss: 4.1866e-04 - accuracy: 1.0000 - val_loss: 0.0807 - val_accuracy: 0.9840\n",
      "Epoch 14/20\n",
      "600/600 [==============================] - 3s 6ms/step - loss: 1.8559e-04 - accuracy: 1.0000 - val_loss: 0.0847 - val_accuracy: 0.9843\n",
      "Epoch 15/20\n",
      "600/600 [==============================] - 3s 6ms/step - loss: 1.0246e-04 - accuracy: 1.0000 - val_loss: 0.0884 - val_accuracy: 0.9841\n",
      "Epoch 16/20\n",
      "600/600 [==============================] - 3s 6ms/step - loss: 5.9735e-05 - accuracy: 1.0000 - val_loss: 0.0916 - val_accuracy: 0.9844\n",
      "Epoch 17/20\n",
      "600/600 [==============================] - 3s 6ms/step - loss: 3.8671e-05 - accuracy: 1.0000 - val_loss: 0.0954 - val_accuracy: 0.9845\n",
      "Epoch 18/20\n",
      "600/600 [==============================] - 4s 6ms/step - loss: 2.5934e-05 - accuracy: 1.0000 - val_loss: 0.0984 - val_accuracy: 0.9845\n",
      "Epoch 19/20\n",
      "600/600 [==============================] - 4s 6ms/step - loss: 1.7629e-05 - accuracy: 1.0000 - val_loss: 0.1011 - val_accuracy: 0.9844\n",
      "Epoch 20/20\n",
      "600/600 [==============================] - 4s 6ms/step - loss: 1.1988e-05 - accuracy: 1.0000 - val_loss: 0.1047 - val_accuracy: 0.9846\n"
     ]
    }
   ],
   "source": [
    "## 훈련\n",
    "history = lr_decay_model.fit(train_dataset, epochs=training_epochs, steps_per_epoch=steps_per_epoch, \n",
    "                    validation_data=test_dataset, validation_steps=validation_steps)"
   ]
  },
  {
   "cell_type": "markdown",
   "metadata": {
    "colab_type": "text",
    "id": "VqXaOUbi_ZTv"
   },
   "source": [
    "### 자 이제 각자의 모델을 한 번 만들어 보자"
   ]
  },
  {
   "cell_type": "code",
   "execution_count": 56,
   "metadata": {
    "colab": {},
    "colab_type": "code",
    "id": "-JuDsyAekH28"
   },
   "outputs": [],
   "source": [
    "def create_my_model():\n",
    "    model = keras.Sequential()\n",
    "    '''model.add를 이용해 각자의 model을 만들어 보라- 위에 나온 것보다 더 좋은 성능의 모델을 만들어 보라'''\n"
   ]
  },
  {
   "cell_type": "code",
   "execution_count": 57,
   "metadata": {
    "colab": {},
    "colab_type": "code",
    "id": "sl0SuHH--6JF"
   },
   "outputs": [
    {
     "ename": "AttributeError",
     "evalue": "'NoneType' object has no attribute 'summary'",
     "output_type": "error",
     "traceback": [
      "\u001b[1;31m---------------------------------------------------------------------------\u001b[0m",
      "\u001b[1;31mAttributeError\u001b[0m                            Traceback (most recent call last)",
      "\u001b[1;32m<ipython-input-57-49c51682ebb5>\u001b[0m in \u001b[0;36m<module>\u001b[1;34m\u001b[0m\n\u001b[0;32m      1\u001b[0m \u001b[0mmy_model\u001b[0m \u001b[1;33m=\u001b[0m \u001b[0mcreate_my_model\u001b[0m\u001b[1;33m(\u001b[0m\u001b[1;33m)\u001b[0m\u001b[1;33m\u001b[0m\u001b[1;33m\u001b[0m\u001b[0m\n\u001b[1;32m----> 2\u001b[1;33m \u001b[0mmy_model\u001b[0m\u001b[1;33m.\u001b[0m\u001b[0msummary\u001b[0m\u001b[1;33m(\u001b[0m\u001b[1;33m)\u001b[0m\u001b[1;33m\u001b[0m\u001b[1;33m\u001b[0m\u001b[0m\n\u001b[0m",
      "\u001b[1;31mAttributeError\u001b[0m: 'NoneType' object has no attribute 'summary'"
     ]
    }
   ],
   "source": [
    "my_model = create_my_model()\n",
    "my_model.summary()"
   ]
  },
  {
   "cell_type": "code",
   "execution_count": null,
   "metadata": {
    "colab": {},
    "colab_type": "code",
    "id": "G8JSYFkh-_YZ"
   },
   "outputs": [],
   "source": [
    "## model compile\n",
    "my_model.compile(optimizer=keras.optimizers.Adam(learning_rate),\n",
    "                 loss = 'categorical_crossentropy',\n",
    "                 metrics=['accuracy'])"
   ]
  },
  {
   "cell_type": "code",
   "execution_count": null,
   "metadata": {
    "colab": {},
    "colab_type": "code",
    "id": "ksOwMAMl_LUX"
   },
   "outputs": [],
   "source": [
    "## traing 전에 loss 및 validation accuracy 확인\n",
    "my_model.evaluate(test_dataset, steps=validation_steps)"
   ]
  },
  {
   "cell_type": "code",
   "execution_count": null,
   "metadata": {
    "colab": {},
    "colab_type": "code",
    "id": "g6Wbw9OE_vhS"
   },
   "outputs": [],
   "source": [
    "## training\n",
    "history = my_model.fit(train_dataset, epochs=training_epochs, steps_per_epoch=steps_per_epoch, \n",
    "                    validation_data=test_dataset, validation_steps=validation_steps)"
   ]
  },
  {
   "cell_type": "code",
   "execution_count": null,
   "metadata": {},
   "outputs": [],
   "source": []
  },
  {
   "cell_type": "code",
   "execution_count": null,
   "metadata": {},
   "outputs": [],
   "source": []
  }
 ],
 "metadata": {
  "accelerator": "GPU",
  "colab": {
   "collapsed_sections": [],
   "name": "4.Multi_Layer_Perceptron.ipynb",
   "provenance": []
  },
  "kernelspec": {
   "display_name": "Python 3",
   "language": "python",
   "name": "python3"
  },
  "language_info": {
   "codemirror_mode": {
    "name": "ipython",
    "version": 3
   },
   "file_extension": ".py",
   "mimetype": "text/x-python",
   "name": "python",
   "nbconvert_exporter": "python",
   "pygments_lexer": "ipython3",
   "version": "3.6.10"
  }
 },
 "nbformat": 4,
 "nbformat_minor": 1
}
