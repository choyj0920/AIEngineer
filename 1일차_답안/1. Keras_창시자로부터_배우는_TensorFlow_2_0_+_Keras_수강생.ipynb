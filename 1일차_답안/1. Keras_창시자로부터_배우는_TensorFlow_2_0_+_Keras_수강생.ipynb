{
 "cells": [
  {
   "cell_type": "code",
   "execution_count": 1,
   "metadata": {
    "colab": {
     "base_uri": "https://localhost:8080/",
     "height": 36
    },
    "id": "W15eefa2Q5hA",
    "outputId": "b26ae8e8-17ca-487e-fe98-96eff892149f"
   },
   "outputs": [
    {
     "name": "stdout",
     "output_type": "stream",
     "text": [
      "2.3.0\n"
     ]
    }
   ],
   "source": [
    "import tensorflow as tf\n",
    "print(tf.__version__)"
   ]
  },
  {
   "cell_type": "markdown",
   "metadata": {
    "id": "zoDjozMFREDU"
   },
   "source": [
    "# TensorFlow 2.0 + Keras, 딥러닝 연구자들을 위한 오버뷰\n",
    "\n",
    "*@fchollet, October 2019 (번역 @chansung)*\n",
    "- 원본은 [TensorFlow 2.0 + Keras Overview for Deep Learning Researchers](https://colab.research.google.com/drive/1UCJt8EYjlzCs1H1d1X0iDGYJsHKwu-NO?fbclid=IwAR269Y-3J1DuZL01L6GBCC4dg6RSAmJXHnRfztL454dZ5SqKLRxCAZcxzgY)입니다.\n",
    "---\n",
    "\n",
    "**이 문서는 입문, 특강, 그리고 TensorFlow 2.0의 API를 빠르게 참조하는 목적을 위해 제공됩니다.**\n",
    "\n",
    "---\n",
    "\n",
    "TensorFlow와 Keras는 모두 약 4년전쯤 릴리즈 되었습니다 (Keras는 2015년 3월, TensorFlow는 2015년 11월). 이는 딥러닝 세계의 관점에서 볼 때, 꽤 오랜시간이라고 볼 수 있습니다!\n",
    "\n",
    "과거에 TensorFlow 1.x + Keras는 여러가지 알려진 문제점을 가지고 있었습니다:\n",
    "- TensorFlow를 사용한다는것은 정적인 계산 그래프를 조작함을 의미하는것으로, Imperative 코딩 스타일을 사용하는 프로그래머로 하여금 어렵고, 불편한 느낌을 받게 했었습니다.\n",
    "- TensorFlow API가 매우 강력하면서도 유연하지만, 빠른 코드의 작성의 가능성이 결여되어 있었으며 종종 사용법은 어렵고 혼란스러웠습니다.\n",
    "- Keras는 매우 생산적이고 사용이 쉽지만, 연구에 사용된 사례에서 종종 유연성이 결여되었었습니다.\n",
    "\n",
    "---\n",
    "### TensorFlow 2.0은 TensorFlow와 Keras를 대대적으로 새로이 디자인한 것으로, 지난 4년간의 사용자 피드백과 기술의 진보가 모두 고려되었습니다. 위에서 언급된 문제점들을 대규모로 수정합니다.\n",
    "\n",
    "### 미래에서온 차세대 머신러닝 플랫폼입니다\n",
    "\n",
    "---\n",
    "\n",
    "TensorFlow 2.0은 아래와 같은 주요 아이디어에 기반하고 있습니다:\n",
    "\n",
    "- 사용자들이 계산을 eagerly하게 수행할 수 있게 해줍니다. 이는 Numpy를 사용하는법과 유사합니다. 이는 TensorFlow 2.0을 이용한 프로그래밍이 직관적이며 동시에 파이토닉할 수 있게끔 해 줍니다.\n",
    "- 컴파일된 그래프의 엄청난 이점을 그대로 보존하는데, 이는 성능, 분산, 그리고 배포를 위함입니다. 이 내용은 TensorFlow를 빠르고, 분산 구조에서의 확장 가능하며, 상용화에 준비될 수 있도록 해 줍니다.\n",
    "- Keras를 딥러닝의 고수준 API로 채택하여, TensorFlow를 이해하기 쉬우면서도 높은 생산성을 가질 수 있게 만들어 줍니다.\n",
    "- 매우 고수준(더 쉬운 사용성, 약간 부족한 유연성) 에서부터 매우 저수준(더 깊은 전문성, 매우 뛰어난 유연성)의 다양한 범위의 작업으로까지 Keras를 확장합니다.\n"
   ]
  },
  {
   "cell_type": "markdown",
   "metadata": {
    "id": "U71NYDeFkUhq"
   },
   "source": [
    "# 파트 1: TensorFlow의 기본"
   ]
  },
  {
   "cell_type": "markdown",
   "metadata": {
    "id": "l2e8-qrcl2kH"
   },
   "source": [
    "## Tensors (텐서)"
   ]
  },
  {
   "cell_type": "markdown",
   "metadata": {
    "id": "PX6JvH4h0zyY"
   },
   "source": [
    "다음은 [상수형](https://www.tensorflow.org/api_docs/python/tf/constant) 텐서 입니다:"
   ]
  },
  {
   "cell_type": "code",
   "execution_count": 2,
   "metadata": {
    "colab": {
     "base_uri": "https://localhost:8080/",
     "height": 73
    },
    "id": "pGB6GDsfRFJs",
    "outputId": "12be0b11-2979-467c-e59d-b94b2c32bb1c"
   },
   "outputs": [
    {
     "name": "stdout",
     "output_type": "stream",
     "text": [
      "tf.Tensor(\n",
      "[[5 2]\n",
      " [1 3]], shape=(2, 2), dtype=int32)\n"
     ]
    }
   ],
   "source": [
    "x = tf.constant([[5, 2], [1, 3]])\n",
    "print(x)"
   ]
  },
  {
   "cell_type": "markdown",
   "metadata": {
    "id": "RX2SB_2O1jx7"
   },
   "source": [
    "해당 텐서의 값을 Numpy 배열형태로 가져오고 싶다면 `.numpy()`를 호출하면 됩니다:"
   ]
  },
  {
   "cell_type": "code",
   "execution_count": 3,
   "metadata": {
    "colab": {
     "base_uri": "https://localhost:8080/",
     "height": 55
    },
    "id": "EwGyHOoq1oWn",
    "outputId": "42132234-b492-424c-c6f5-913eb8510005"
   },
   "outputs": [
    {
     "data": {
      "text/plain": [
       "array([[5, 2],\n",
       "       [1, 3]])"
      ]
     },
     "execution_count": 3,
     "metadata": {},
     "output_type": "execute_result"
    }
   ],
   "source": [
    "x.numpy()"
   ]
  },
  {
   "cell_type": "markdown",
   "metadata": {
    "id": "PNkno66r1xvg"
   },
   "source": [
    "Numpy 배열과 *꽤나* 유사한 점으로 `dtype`과 `shape`이라는 속성을 가집니다:"
   ]
  },
  {
   "cell_type": "code",
   "execution_count": 4,
   "metadata": {
    "colab": {
     "base_uri": "https://localhost:8080/",
     "height": 55
    },
    "id": "tSxtblSP13v2",
    "outputId": "43a0f40f-7b91-45ce-e410-7aab308fca6e"
   },
   "outputs": [
    {
     "name": "stdout",
     "output_type": "stream",
     "text": [
      "dtype: <dtype: 'int32'>\n",
      "shape: (2, 2)\n"
     ]
    }
   ],
   "source": [
    "print('dtype:', x.dtype)\n",
    "print('shape:', x.shape)"
   ]
  },
  {
   "cell_type": "markdown",
   "metadata": {
    "id": "Oogzv3--2EF2"
   },
   "source": [
    "상수형 텐서를 생성하는 보편적인 방법은 `tf.ones`과 `tf.zeros`를 사용하는 것입니다(이는 Numpy의 `np.ones` 및 `np.zeros`와 유사합니다):"
   ]
  },
  {
   "cell_type": "code",
   "execution_count": 6,
   "metadata": {
    "colab": {
     "base_uri": "https://localhost:8080/",
     "height": 129
    },
    "id": "9qDlfa8r2Lia",
    "outputId": "5392afec-2628-4a3c-bf88-dce630c91e4a"
   },
   "outputs": [
    {
     "name": "stdout",
     "output_type": "stream",
     "text": [
      "tf.Tensor(\n",
      "[[1.]\n",
      " [1.]], shape=(2, 1), dtype=float32)\n",
      "tf.Tensor(\n",
      "[[0.]\n",
      " [0.]], shape=(2, 1), dtype=float32)\n"
     ]
    }
   ],
   "source": [
    "print(tf.ones(shape=(2, 1)))\n",
    "print(tf.zeros(shape=(2, 1)))"
   ]
  },
  {
   "cell_type": "code",
   "execution_count": 5,
   "metadata": {},
   "outputs": [
    {
     "name": "stdout",
     "output_type": "stream",
     "text": [
      "tf.Tensor(\n",
      "[[4.]\n",
      " [4.]], shape=(2, 1), dtype=float32)\n"
     ]
    }
   ],
   "source": [
    "print(tf.ones(shape=(2, 1))*4)"
   ]
  },
  {
   "cell_type": "markdown",
   "metadata": {},
   "source": [
    "# 연습 1\n",
    "1. 3 + 5\n",
    "2. 3*5"
   ]
  },
  {
   "cell_type": "code",
   "execution_count": 6,
   "metadata": {},
   "outputs": [
    {
     "name": "stdout",
     "output_type": "stream",
     "text": [
      "tf.Tensor(8, shape=(), dtype=int32)\n",
      "8\n"
     ]
    }
   ],
   "source": [
    "a= tf.constant(3)\n",
    "b= tf.constant(5)\n",
    "c= tf.add(a, b)\n",
    "print(c)\n",
    "print(c.numpy())"
   ]
  },
  {
   "cell_type": "code",
   "execution_count": 7,
   "metadata": {},
   "outputs": [
    {
     "name": "stdout",
     "output_type": "stream",
     "text": [
      "tf.Tensor(15, shape=(), dtype=int32)\n",
      "15\n"
     ]
    }
   ],
   "source": [
    "d= tf.multiply(a, b)\n",
    "print(d)\n",
    "print(d.numpy())"
   ]
  },
  {
   "cell_type": "code",
   "execution_count": 11,
   "metadata": {},
   "outputs": [
    {
     "name": "stdout",
     "output_type": "stream",
     "text": [
      "tf.Tensor(8, shape=(), dtype=int32)\n",
      "tf.Tensor(15, shape=(), dtype=int32)\n"
     ]
    }
   ],
   "source": [
    "# + 와 *를 사용해도 됨\n",
    "c=a+b\n",
    "print(c)\n",
    "d=a*b\n",
    "print(d)"
   ]
  },
  {
   "cell_type": "markdown",
   "metadata": {},
   "source": [
    "# 연습 2\n",
    "1. [[1,2], [3,4]] 와   [[2, 0], [0 ,5]]를 곱하라 tf.matmul을 사용해라."
   ]
  },
  {
   "cell_type": "code",
   "execution_count": 13,
   "metadata": {},
   "outputs": [
    {
     "name": "stdout",
     "output_type": "stream",
     "text": [
      "tf.Tensor(\n",
      "[[2 4]\n",
      " [6 8]], shape=(2, 2), dtype=int32)\n",
      "[[2 4]\n",
      " [6 8]]\n"
     ]
    }
   ],
   "source": [
    "A=tf.constant([[1,2], [3,4]])\n",
    "B=tf.constant([[2,0],[0,2]])\n",
    "C=tf.matmul(A, B)\n",
    "print(C)\n",
    "print(C.numpy())"
   ]
  },
  {
   "cell_type": "code",
   "execution_count": null,
   "metadata": {},
   "outputs": [],
   "source": []
  },
  {
   "cell_type": "markdown",
   "metadata": {
    "id": "qzGYEkdcmYbe"
   },
   "source": [
    "## 랜덤한 상수형 텐서"
   ]
  },
  {
   "cell_type": "markdown",
   "metadata": {
    "id": "Fk94gREJ2r-e"
   },
   "source": [
    "다음은 랜덤한 [정규분포](https://www.tensorflow.org/api_docs/python/tf/random/normal)로부터 상수를 생성합니다:"
   ]
  },
  {
   "cell_type": "code",
   "execution_count": 17,
   "metadata": {
    "colab": {
     "base_uri": "https://localhost:8080/",
     "height": 73
    },
    "id": "jqRrO-Puma7-",
    "outputId": "9cb745dd-9437-4041-b1bf-0abd209b0a0f"
   },
   "outputs": [
    {
     "data": {
      "text/plain": [
       "<tf.Tensor: shape=(2, 2), dtype=float32, numpy=\n",
       "array([[-0.00406035,  1.3585895 ],\n",
       "       [-0.6819219 ,  1.6417288 ]], dtype=float32)>"
      ]
     },
     "execution_count": 17,
     "metadata": {},
     "output_type": "execute_result"
    }
   ],
   "source": [
    "tf.random.normal(shape=(2, 2), mean=0., stddev=1.)"
   ]
  },
  {
   "cell_type": "markdown",
   "metadata": {
    "id": "wL0EMPT93SEU"
   },
   "source": [
    "*그리고* 다음은 랜덤한 [균등분포](https://www.tensorflow.org/api_docs/python/tf/random/uniform)로부터 값이 채워지는 정수형 텐서를 보여줍니다:"
   ]
  },
  {
   "cell_type": "code",
   "execution_count": 16,
   "metadata": {
    "colab": {
     "base_uri": "https://localhost:8080/",
     "height": 73
    },
    "id": "9syARhtj2wbx",
    "outputId": "734440ae-2607-447f-f9d6-46372aedcd5a"
   },
   "outputs": [
    {
     "data": {
      "text/plain": [
       "<tf.Tensor: shape=(2, 2), dtype=int32, numpy=\n",
       "array([[6, 2],\n",
       "       [1, 3]])>"
      ]
     },
     "execution_count": 16,
     "metadata": {},
     "output_type": "execute_result"
    }
   ],
   "source": [
    "tf.random.uniform(shape=(2, 2), minval=0, maxval=10, dtype='int32')"
   ]
  },
  {
   "cell_type": "code",
   "execution_count": null,
   "metadata": {},
   "outputs": [],
   "source": []
  },
  {
   "cell_type": "markdown",
   "metadata": {
    "id": "I95066exmbDU"
   },
   "source": [
    "## Variables (변수)"
   ]
  },
  {
   "cell_type": "markdown",
   "metadata": {
    "id": "cMflzgPM3Mim"
   },
   "source": [
    "[Variables](https://www.tensorflow.org/guide/variable)는 변할 수 있는 상태(뉴럴넷의 가중치와 같은)를 저장하는데 사용되는 특별한 텐서 입니다. 초기값을 사용해서 Variable을 생성할 수 있습니다:"
   ]
  },
  {
   "cell_type": "code",
   "execution_count": 18,
   "metadata": {
    "colab": {
     "base_uri": "https://localhost:8080/",
     "height": 73
    },
    "id": "8FvENXmBmcyT",
    "outputId": "b06fd6d6-5d85-458b-b4b1-74c89e9e3679"
   },
   "outputs": [
    {
     "name": "stdout",
     "output_type": "stream",
     "text": [
      "<tf.Variable 'Variable:0' shape=(2, 2) dtype=float32, numpy=\n",
      "array([[ 0.8067673 ,  0.36557087],\n",
      "       [ 2.8590846 , -0.06913006]], dtype=float32)>\n"
     ]
    }
   ],
   "source": [
    "initial_value = tf.random.normal(shape=(2, 2))\n",
    "a = tf.Variable(initial_value)\n",
    "print(a)"
   ]
  },
  {
   "cell_type": "markdown",
   "metadata": {
    "id": "YRFwVySi3biu"
   },
   "source": [
    "`.assign(value)`, `.assign_add(increment)`, 또는 `.assign_sub(decrement)`와 같은 메소드를 사용해서 Variable의 값을 갱신합니다:"
   ]
  },
  {
   "cell_type": "code",
   "execution_count": 24,
   "metadata": {
    "id": "EOCsCNvc3mNR"
   },
   "outputs": [
    {
     "name": "stdout",
     "output_type": "stream",
     "text": [
      "<tf.Variable 'Variable:0' shape=(2, 2) dtype=float32, numpy=\n",
      "array([[0.96745825, 0.5592682 ],\n",
      "       [0.08252568, 0.3053885 ]], dtype=float32)>\n",
      "<tf.Variable 'Variable:0' shape=(2, 2) dtype=float32, numpy=\n",
      "array([[0.96745825, 0.5592682 ],\n",
      "       [0.08252568, 0.3053885 ]], dtype=float32)>\n"
     ]
    }
   ],
   "source": [
    "new_value = tf.random.normal(shape=(2, 2))\n",
    "a.assign(new_value)\n",
    "print(a)\n",
    "for i in range(2):\n",
    "  for j in range(2):\n",
    "    assert a[i, j] == new_value[i, j]\n",
    "print(a)"
   ]
  },
  {
   "cell_type": "code",
   "execution_count": 25,
   "metadata": {
    "id": "xrSjwl_056j8"
   },
   "outputs": [
    {
     "name": "stdout",
     "output_type": "stream",
     "text": [
      "<tf.Variable 'Variable:0' shape=(2, 2) dtype=float32, numpy=\n",
      "array([[0.96745825, 0.5592682 ],\n",
      "       [0.08252568, 0.3053885 ]], dtype=float32)>\n",
      "<tf.Variable 'Variable:0' shape=(2, 2) dtype=float32, numpy=\n",
      "array([[ 0.73024154, -0.9662244 ],\n",
      "       [-0.40356755,  1.9485717 ]], dtype=float32)>\n",
      "<tf.Variable 'Variable:0' shape=(2, 2) dtype=float32, numpy=\n",
      "array([[ 0.73024154, -0.9662244 ],\n",
      "       [-0.40356755,  1.9485717 ]], dtype=float32)>\n"
     ]
    }
   ],
   "source": [
    "added_value = tf.random.normal(shape=(2, 2))\n",
    "print(a)\n",
    "a.assign_add(added_value)\n",
    "print(a)\n",
    "for i in range(2):\n",
    "  for j in range(2):\n",
    "    assert a[i, j] == new_value[i, j] + added_value[i, j]\n",
    "print(a)"
   ]
  },
  {
   "cell_type": "markdown",
   "metadata": {},
   "source": [
    "# 연습 3\n",
    "가우시안 랜덤변수를 하나씩 생성하면서 1을 더하라. 이를 10번 반복하고 그 평균을 구하라.\n"
   ]
  },
  {
   "cell_type": "code",
   "execution_count": 29,
   "metadata": {},
   "outputs": [
    {
     "name": "stdout",
     "output_type": "stream",
     "text": [
      "1.5116286\n"
     ]
    }
   ],
   "source": [
    "n =10\n",
    "W=tf.Variable(tf.random.normal([n]))\n",
    "W_sum=0\n",
    "for i in range(n):\n",
    "    W_sum +=  1+ W[i]\n",
    "Wp1_AVG = W_sum/n\n",
    "print(Wp1_AVG.numpy())"
   ]
  },
  {
   "cell_type": "code",
   "execution_count": null,
   "metadata": {},
   "outputs": [],
   "source": []
  },
  {
   "cell_type": "markdown",
   "metadata": {
    "id": "rAIqYQmOl_wR"
   },
   "source": [
    "## TensorFlow에서 수학을 하는것"
   ]
  },
  {
   "cell_type": "markdown",
   "metadata": {
    "id": "5bmtTepn6SvG"
   },
   "source": [
    "TensorFlow는 Numpy를 사용하는것과 정확히 똑같은 방법으로 사용할 수 있습니다. 이 둘의 주요 다른점은 작성한 TensorFlow의 코드는 GPU와 TPU 상에서 실행될 수 있다는 점입니다:"
   ]
  },
  {
   "cell_type": "code",
   "execution_count": 30,
   "metadata": {
    "id": "pCZGHQ_XmHuZ"
   },
   "outputs": [],
   "source": [
    "a = tf.random.normal(shape=(2, 2))\n",
    "b = tf.random.normal(shape=(2, 2))\n",
    "\n",
    "c = a + b\n",
    "d = tf.square(c)\n",
    "e = tf.exp(d)\n"
   ]
  },
  {
   "cell_type": "code",
   "execution_count": 34,
   "metadata": {},
   "outputs": [
    {
     "name": "stdout",
     "output_type": "stream",
     "text": [
      "tf.Tensor(\n",
      "[[ 1.3786193 -2.012887 ]\n",
      " [-0.7240695  1.2639662]], shape=(2, 2), dtype=float32)\n",
      "tf.Tensor(\n",
      "[[1.9005913 4.051714 ]\n",
      " [0.5242766 1.5976106]], shape=(2, 2), dtype=float32)\n"
     ]
    }
   ],
   "source": [
    "print(c)\n",
    "print(d)"
   ]
  },
  {
   "cell_type": "code",
   "execution_count": 31,
   "metadata": {},
   "outputs": [
    {
     "name": "stdout",
     "output_type": "stream",
     "text": [
      "tf.Tensor(\n",
      "[[1.9005913 4.051714 ]\n",
      " [0.5242766 1.5976106]], shape=(2, 2), dtype=float32)\n",
      "tf.Tensor(\n",
      "[[ 6.689849  57.49592  ]\n",
      " [ 1.6892364  4.9412117]], shape=(2, 2), dtype=float32)\n"
     ]
    }
   ],
   "source": [
    "print(d)\n",
    "print(e)"
   ]
  },
  {
   "cell_type": "markdown",
   "metadata": {
    "id": "5Feq3qWoBVQW"
   },
   "source": [
    "## `GradientTape`을 사용해서 경사도를 계산하는것"
   ]
  },
  {
   "cell_type": "markdown",
   "metadata": {
    "id": "JdsmOcrJBWXe"
   },
   "source": [
    "한 가지 더 Numpy와의 큰 차이점이 있습니다: 모든 미분가능한 표현에 대해서, 자동으로 경사도를 구하는 것이 가능합니다.\n",
    "\n",
    "단순히 [`GradientTape`](https://www.tensorflow.org/api_docs/python/tf/GradientTape)를 열게되면, 그때부턴 `tape.watch()`를 통해 텐서를 확인하고, 이 텐서를 입력으로써 사용하는 미분가능한 표현을 구성하는것이 가능합니다:"
   ]
  },
  {
   "cell_type": "code",
   "execution_count": 36,
   "metadata": {
    "colab": {
     "base_uri": "https://localhost:8080/",
     "height": 73
    },
    "id": "FkEAY45IBjPv",
    "outputId": "a012f34e-a876-42b7-9f5e-0a81f6223f91"
   },
   "outputs": [
    {
     "name": "stdout",
     "output_type": "stream",
     "text": [
      "tf.Tensor(\n",
      "[[ 0.25407806 -0.8225639 ]\n",
      " [-0.48538905  0.4250667 ]], shape=(2, 2), dtype=float32)\n"
     ]
    }
   ],
   "source": [
    "a = tf.random.normal(shape=(2, 2))\n",
    "b = tf.random.normal(shape=(2, 2))\n",
    "\n",
    "with tf.GradientTape() as tape:\n",
    "  tape.watch(a)  # `a`에 적용되는 연산의 히스토리에 대한 기록을 시작\n",
    "  c = tf.sqrt(tf.square(a) + tf.square(b))  # `a`를 사용하여 몇 가지 수학을 수행\n",
    "  # `a`에 대한 `c`의 경사도는 무엇인가?\n",
    "  dc_da = tape.gradient(c, a)\n",
    "  print(dc_da)"
   ]
  },
  {
   "cell_type": "markdown",
   "metadata": {},
   "source": [
    "# 연습 4\n",
    "\n",
    "f(x) = x^2의 미분을 GradientTape를 이용해서 구하라\n"
   ]
  },
  {
   "cell_type": "code",
   "execution_count": 45,
   "metadata": {},
   "outputs": [
    {
     "name": "stdout",
     "output_type": "stream",
     "text": [
      "tf.Tensor(4.0, shape=(), dtype=float32)\n"
     ]
    }
   ],
   "source": [
    "# x=2일때의 미분값을 구하라\n",
    "a=tf.constant(2.0)\n",
    "with tf.GradientTape() as tape:\n",
    "    tape.watch(a)\n",
    "    c=tf.square(a)\n",
    "    dc_da = tape.gradient(c,a)\n",
    "    print(dc_da)"
   ]
  },
  {
   "cell_type": "code",
   "execution_count": 46,
   "metadata": {},
   "outputs": [
    {
     "name": "stdout",
     "output_type": "stream",
     "text": [
      "tf.Tensor(4.0, shape=(), dtype=float32)\n"
     ]
    }
   ],
   "source": []
  },
  {
   "cell_type": "markdown",
   "metadata": {
    "id": "W8UpqFx_DDbV"
   },
   "source": [
    "디폴트로는 Variable들은 자동으로 watch가 적용되어 있기 때문에, 수동으로 `watch`를 해 줄 필요는 없습니다:"
   ]
  },
  {
   "cell_type": "code",
   "execution_count": 47,
   "metadata": {
    "colab": {
     "base_uri": "https://localhost:8080/",
     "height": 73
    },
    "id": "OtH3FuvDDOAY",
    "outputId": "1d60932a-cedb-4ea9-bec6-5560213165b0"
   },
   "outputs": [
    {
     "name": "stdout",
     "output_type": "stream",
     "text": [
      "tf.Tensor(\n",
      "[[-0.9891303   0.9883227 ]\n",
      " [-0.46360838  0.58717465]], shape=(2, 2), dtype=float32)\n"
     ]
    }
   ],
   "source": [
    "a = tf.random.normal(shape=(2, 2))\n",
    "b = tf.random.normal(shape=(2, 2))\n",
    "\n",
    "a = tf.Variable(a)\n",
    "\n",
    "with tf.GradientTape() as tape:\n",
    "  c = tf.sqrt(tf.square(a) + tf.square(b))\n",
    "  dc_da = tape.gradient(c, a)\n",
    "  print(dc_da)"
   ]
  },
  {
   "cell_type": "markdown",
   "metadata": {},
   "source": [
    "# 연습 5\n",
    "\n",
    "f(x) = 2^x의 미분을 GradientTape를 이용해서 구하라. 이번엔 tf.Variable을 이용하라."
   ]
  },
  {
   "cell_type": "code",
   "execution_count": 48,
   "metadata": {},
   "outputs": [
    {
     "name": "stdout",
     "output_type": "stream",
     "text": [
      "tf.Tensor(4.0, shape=(), dtype=float32)\n"
     ]
    }
   ],
   "source": [
    "# x=2일때의 미분값을 구하라\n",
    "a=tf.Variable(2.0)\n",
    "with tf.GradientTape() as tape:\n",
    "    #tape.watch(a)\n",
    "    c=tf.square(a)\n",
    "    dc_da = tape.gradient(c,a)\n",
    "    print(dc_da)"
   ]
  },
  {
   "cell_type": "code",
   "execution_count": null,
   "metadata": {},
   "outputs": [],
   "source": []
  },
  {
   "cell_type": "markdown",
   "metadata": {
    "id": "dFlBGjuEDbt-"
   },
   "source": [
    "GradientTape을 중첩시켜서 고차원의 미분을 계산할 수도 있습니다:"
   ]
  },
  {
   "cell_type": "code",
   "execution_count": 49,
   "metadata": {
    "colab": {
     "base_uri": "https://localhost:8080/",
     "height": 73
    },
    "id": "cjPcY0OIDhEA",
    "outputId": "fa3c9e2a-6db4-4aa0-88bd-d186feec605a"
   },
   "outputs": [
    {
     "name": "stdout",
     "output_type": "stream",
     "text": [
      "tf.Tensor(0.30816603, shape=(), dtype=float32)\n"
     ]
    }
   ],
   "source": [
    "with tf.GradientTape() as outer_tape:\n",
    "  with tf.GradientTape() as tape:\n",
    "    c = tf.sqrt(tf.square(a) + tf.square(b))\n",
    "    dc_da = tape.gradient(c, a)\n",
    "  d2c_da2 = outer_tape.gradient(dc_da, a)\n",
    "  print(d2c_da2)"
   ]
  },
  {
   "cell_type": "markdown",
   "metadata": {
    "id": "KC5RgwGeBP-9"
   },
   "source": [
    "## end-to-end 예제: 선형 회귀"
   ]
  },
  {
   "cell_type": "markdown",
   "metadata": {
    "id": "Owbx4mlEErNN"
   },
   "source": [
    "지금까지 TensorFlow는 Numpy와 비슷한 라이브러리인데, 추가적으로 GPU 또는 TPU를 통해 가속될 수 있고, 자동으로 미분이 계산된다는 내용을 배웠습니다. 그러면 이제는 end-to-end 예제를 알아볼 시간입니다: 머신러닝의 피즈버즈인, 선형 회귀를 구현해 봅시다. \n",
    "\n",
    "이를 보여주기 위해서, `Layer` 또는 `MeanSquaredError`와 같은 Keras의 고수준 컴포넌트를 사용하지 않을 것입니다. 단지 기본적인 연산자만을 사용합니다."
   ]
  },
  {
   "cell_type": "code",
   "execution_count": 53,
   "metadata": {
    "id": "Uhitqoj2FH8U"
   },
   "outputs": [],
   "source": [
    "input_dim = 2\n",
    "output_dim = 1\n",
    "learning_rate = 0.01\n",
    "\n",
    "# 가중치 행렬입니다\n",
    "w = tf.Variable(tf.random.uniform(shape=(input_dim, output_dim)))\n",
    "# 편향 벡터입니다\n",
    "b = tf.Variable(tf.zeros(shape=(output_dim,)))\n",
    "\n",
    "def compute_predictions(features):\n",
    "  return tf.matmul(features, w) + b\n",
    "\n",
    "def compute_loss(labels, predictions):\n",
    "  return tf.reduce_mean(tf.square(labels - predictions))\n",
    "\n",
    "def train_on_batch(x, y):\n",
    "  with tf.GradientTape() as tape:\n",
    "    predictions = compute_predictions(x)\n",
    "    loss = compute_loss(y, predictions)\n",
    "    dloss_dw, dloss_db = tape.gradient(loss, [w, b])\n",
    "  w.assign_sub(learning_rate * dloss_dw)\n",
    "  b.assign_sub(learning_rate * dloss_db)\n",
    "  return loss"
   ]
  },
  {
   "cell_type": "markdown",
   "metadata": {
    "id": "qC1fp3BYJeXo"
   },
   "source": [
    "작성한 모델을 검증하기 위한, 인공적인 데이터를 생성해 보겠습니다:"
   ]
  },
  {
   "cell_type": "code",
   "execution_count": 54,
   "metadata": {
    "colab": {
     "base_uri": "https://localhost:8080/",
     "height": 288
    },
    "id": "6ocAkrliMVAQ",
    "outputId": "60541e74-a30e-4e98-c713-95aa2c011cd9"
   },
   "outputs": [
    {
     "data": {
      "text/plain": [
       "<matplotlib.collections.PathCollection at 0x21ec3193978>"
      ]
     },
     "execution_count": 54,
     "metadata": {},
     "output_type": "execute_result"
    },
    {
     "data": {
      "image/png": "[encoded data removed]",
      "text/plain": [
       "<Figure size 432x288 with 1 Axes>"
      ]
     },
     "metadata": {
      "needs_background": "light"
     },
     "output_type": "display_data"
    }
   ],
   "source": [
    "import numpy as np\n",
    "import random\n",
    "import matplotlib.pyplot as plt\n",
    "%matplotlib inline\n",
    "\n",
    "# 데이터셋을 준비합니다  # features(x) = [1000 x 2]\n",
    "num_samples = 10000   \n",
    "negative_samples = np.random.multivariate_normal(\n",
    "    mean=[0, 3], cov=[[1, 0.5],[0.5, 1]], size=num_samples)\n",
    "positive_samples = np.random.multivariate_normal(\n",
    "    mean=[3, 0], cov=[[1, 0.5],[0.5, 1]], size=num_samples)\n",
    "features = np.vstack((negative_samples, positive_samples)).astype(np.float32)\n",
    "labels = np.vstack((np.zeros((num_samples, 1), dtype='float32'),\n",
    "                    np.ones((num_samples, 1), dtype='float32')))\n",
    "\n",
    "plt.scatter(features[:, 0], features[:, 1], c=labels[:, 0])"
   ]
  },
  {
   "cell_type": "markdown",
   "metadata": {
    "id": "ZCdZTpjlJlGo"
   },
   "source": [
    "그러면, 데이터의 배치크기 단위로 돌면서, `train_on_batch` 함수를 반복적으로 호출하여 선형 회귀 모델을 학습시켜 봅시다:"
   ]
  },
  {
   "cell_type": "code",
   "execution_count": 61,
   "metadata": {
    "colab": {
     "base_uri": "https://localhost:8080/",
     "height": 204
    },
    "id": "YsHszjjaJDQZ",
    "outputId": "7d8b1e4d-72b7-4c79-b461-92c5d2952929"
   },
   "outputs": [
    {
     "name": "stdout",
     "output_type": "stream",
     "text": [
      "Epoch 0: 마지막 배치의 손실값 = 0.0153\n",
      "Epoch 1: 마지막 배치의 손실값 = 0.0216\n",
      "Epoch 2: 마지막 배치의 손실값 = 0.0174\n",
      "Epoch 3: 마지막 배치의 손실값 = 0.0198\n",
      "Epoch 4: 마지막 배치의 손실값 = 0.0215\n",
      "Epoch 5: 마지막 배치의 손실값 = 0.0259\n",
      "Epoch 6: 마지막 배치의 손실값 = 0.0300\n",
      "Epoch 7: 마지막 배치의 손실값 = 0.0428\n",
      "Epoch 8: 마지막 배치의 손실값 = 0.0290\n",
      "Epoch 9: 마지막 배치의 손실값 = 0.0278\n"
     ]
    }
   ],
   "source": [
    "# 데이터를 무작위로 섞습니다\n",
    "random.Random(1337).shuffle(features)  # 1337 시드\n",
    "random.Random(1337).shuffle(labels)   # 똑같은 시드를 사용\n",
    "\n",
    "# 손쉽게 배치화된 반복을 위해, tf.data.Dataset 객체를 생성합니다\n",
    "dataset = tf.data.Dataset.from_tensor_slices((features, labels))\n",
    "dataset = dataset.shuffle(buffer_size=1024).batch(256)\n",
    "\n",
    "for epoch in range(10):\n",
    "  for step, (x, y) in enumerate(dataset):\n",
    "    loss = train_on_batch(x, y)\n",
    "  print('Epoch %d: 마지막 배치의 손실값 = %.4f' % (epoch, float(loss)))"
   ]
  },
  {
   "cell_type": "code",
   "execution_count": 62,
   "metadata": {},
   "outputs": [
    {
     "name": "stdout",
     "output_type": "stream",
     "text": [
      "[[ 0.11033665]\n",
      " [-0.09946486]]\n"
     ]
    }
   ],
   "source": [
    "print(w.numpy())"
   ]
  },
  {
   "cell_type": "code",
   "execution_count": 63,
   "metadata": {},
   "outputs": [
    {
     "name": "stdout",
     "output_type": "stream",
     "text": [
      "[0.31440634]\n"
     ]
    }
   ],
   "source": [
    "print(b.numpy())"
   ]
  },
  {
   "cell_type": "code",
   "execution_count": 65,
   "metadata": {},
   "outputs": [
    {
     "name": "stdout",
     "output_type": "stream",
     "text": [
      "0.027758222\n"
     ]
    }
   ],
   "source": [
    "print(loss.numpy())"
   ]
  },
  {
   "cell_type": "markdown",
   "metadata": {
    "id": "zIDDhTcyJwSM"
   },
   "source": [
    "아래는 우리가 만든 모델이 얼마나 잘 동작하는지를 보여줍니다:"
   ]
  },
  {
   "cell_type": "code",
   "execution_count": 66,
   "metadata": {
    "colab": {
     "base_uri": "https://localhost:8080/",
     "height": 288
    },
    "id": "oBPYQpskJxxT",
    "outputId": "40e15832-4069-46d0-a8a9-2d92bf94d5f3"
   },
   "outputs": [
    {
     "data": {
      "text/plain": [
       "<matplotlib.collections.PathCollection at 0x21ec32629e8>"
      ]
     },
     "execution_count": 66,
     "metadata": {},
     "output_type": "execute_result"
    },
    {
     "data": {
      "image/png": "[encoded data removed]",
      "text/plain": [
       "<Figure size 432x288 with 1 Axes>"
      ]
     },
     "metadata": {
      "needs_background": "light"
     },
     "output_type": "display_data"
    }
   ],
   "source": [
    "predictions = compute_predictions(features)\n",
    "plt.scatter(features[:, 0], features[:, 1], c=predictions[:, 0] > 0.5)"
   ]
  },
  {
   "cell_type": "code",
   "execution_count": null,
   "metadata": {},
   "outputs": [],
   "source": []
  },
  {
   "cell_type": "markdown",
   "metadata": {},
   "source": [
    "# 연습 6 다음 데이터셋에 대해 회귀 분석을 반복해보라\n",
    "### 가중치(w) 편향(b) 그리고 손실(loss)를 구하라,"
   ]
  },
  {
   "cell_type": "code",
   "execution_count": 67,
   "metadata": {},
   "outputs": [
    {
     "data": {
      "text/plain": [
       "<matplotlib.collections.PathCollection at 0x21ec32c1d68>"
      ]
     },
     "execution_count": 67,
     "metadata": {},
     "output_type": "execute_result"
    },
    {
     "data": {
      "image/png": "[encoded data removed]",
      "text/plain": [
       "<Figure size 432x288 with 1 Axes>"
      ]
     },
     "metadata": {
      "needs_background": "light"
     },
     "output_type": "display_data"
    }
   ],
   "source": [
    "import numpy as np\n",
    "import random\n",
    "import matplotlib.pyplot as plt\n",
    "\n",
    "# 데이터셋을 준비합니다\n",
    "num_samples = 10000\n",
    "negative_samples = np.random.multivariate_normal(\n",
    "    mean=[1, 4], cov=[[1, 0.3],[0.3, 1]], size=num_samples)\n",
    "positive_samples = np.random.multivariate_normal(\n",
    "    mean=[4, 1], cov=[[1, 0.7],[0.7, 1]], size=num_samples)\n",
    "features = np.vstack((negative_samples, positive_samples)).astype(np.float32)\n",
    "labels = np.vstack((np.zeros((num_samples, 1), dtype='float32'),\n",
    "                    np.ones((num_samples, 1), dtype='float32')))\n",
    "\n",
    "plt.scatter(features[:, 0], features[:, 1], c=labels[:, 0])"
   ]
  },
  {
   "cell_type": "code",
   "execution_count": null,
   "metadata": {},
   "outputs": [],
   "source": []
  },
  {
   "cell_type": "code",
   "execution_count": null,
   "metadata": {},
   "outputs": [],
   "source": []
  },
  {
   "cell_type": "code",
   "execution_count": null,
   "metadata": {},
   "outputs": [],
   "source": []
  },
  {
   "cell_type": "code",
   "execution_count": null,
   "metadata": {},
   "outputs": [],
   "source": []
  },
  {
   "cell_type": "code",
   "execution_count": null,
   "metadata": {},
   "outputs": [],
   "source": []
  },
  {
   "cell_type": "code",
   "execution_count": null,
   "metadata": {},
   "outputs": [],
   "source": []
  },
  {
   "cell_type": "code",
   "execution_count": null,
   "metadata": {},
   "outputs": [],
   "source": []
  },
  {
   "cell_type": "markdown",
   "metadata": {
    "id": "lBcqiop7mH7x"
   },
   "source": [
    "## `tf.function`를 이용해서 속도를 빠르게 하기"
   ]
  },
  {
   "cell_type": "markdown",
   "metadata": {
    "id": "kjZ8kuruNdj6"
   },
   "source": [
    "현재의 코드는 얼마나 빨리 수행될까요?"
   ]
  },
  {
   "cell_type": "code",
   "execution_count": 72,
   "metadata": {
    "colab": {
     "base_uri": "https://localhost:8080/",
     "height": 36
    },
    "id": "NXoe7S5RmStB",
    "outputId": "0df98598-fc95-4b47-abb8-0eb70d06fe4a"
   },
   "outputs": [
    {
     "name": "stdout",
     "output_type": "stream",
     "text": [
      "epoch당 걸린 시간: 0.096 초\n"
     ]
    }
   ],
   "source": [
    "import time\n",
    "\n",
    "t0 = time.time()\n",
    "for epoch in range(20):\n",
    "  for step, (x, y) in enumerate(dataset):\n",
    "    loss = train_on_batch(x, y)\n",
    "t_end = time.time() - t0\n",
    "print('epoch당 걸린 시간: %.3f 초' % (t_end / 20,))\n"
   ]
  },
  {
   "cell_type": "markdown",
   "metadata": {
    "id": "kHsvPqyRN_E3"
   },
   "source": [
    "학습 함수를 정적 그래프로 컴파일 해 봅시다. 이를 위해서 해야할 것은 문자 그대로, `tf.function`이라는 데코레이터를 위에 넣어주는것 뿐입니다:"
   ]
  },
  {
   "cell_type": "code",
   "execution_count": 73,
   "metadata": {
    "id": "oEYFkThcOGcg"
   },
   "outputs": [],
   "source": [
    "@tf.function\n",
    "def train_on_batch(x, y):\n",
    "  with tf.GradientTape() as tape:\n",
    "    predictions = compute_predictions(x)\n",
    "    loss = compute_loss(y, predictions)\n",
    "    dloss_dw, dloss_db = tape.gradient(loss, [w, b])\n",
    "  w.assign_sub(learning_rate * dloss_dw)\n",
    "  b.assign_sub(learning_rate * dloss_db)\n",
    "  return loss"
   ]
  },
  {
   "cell_type": "markdown",
   "metadata": {
    "id": "ocOuskvoOKsx"
   },
   "source": [
    "다시한번 시간을 측정해 봅시다:"
   ]
  },
  {
   "cell_type": "code",
   "execution_count": 74,
   "metadata": {
    "colab": {
     "base_uri": "https://localhost:8080/",
     "height": 36
    },
    "id": "KT2w6DVmONB5",
    "outputId": "23b2b44b-624f-4484-bf12-dc82940c49b8"
   },
   "outputs": [
    {
     "name": "stdout",
     "output_type": "stream",
     "text": [
      "epoch당 걸린 시간: 0.118 초\n"
     ]
    }
   ],
   "source": [
    "t0 = time.time()\n",
    "for epoch in range(20):\n",
    "  for step, (x, y) in enumerate(dataset):\n",
    "    loss = train_on_batch(x, y)\n",
    "t_end = time.time() - t0\n",
    "print('epoch당 걸린 시간: %.3f 초' % (t_end / 20,))"
   ]
  },
  {
   "cell_type": "markdown",
   "metadata": {
    "id": "YYPWZaSqOfEL"
   },
   "source": [
    "걸린 시간이 약 40% 감소했습니다. 이 경우, 매우 간단한 모델을 사용했습니다; 일반적으로 모델이 크면 클 수록, 정적 그래프를 활용한 속도 개선은 더 많이 이뤄집니다.\n",
    "\n",
    "기억해야할 것이 있습니다: eager 실행모드는 디버깅과 코드 라인별 결과를 출력하는데 매우 유용하지만, 크기를 키워야할 시기가 오면, 정적 그래프가 연구자들에게 최고의 친구가 될 것입니다."
   ]
  },
  {
   "cell_type": "markdown",
   "metadata": {
    "id": "B3I3v_FqjFty"
   },
   "source": [
    "# 파트 2: Keras API"
   ]
  },
  {
   "cell_type": "markdown",
   "metadata": {
    "id": "FjLI719fPfJi"
   },
   "source": [
    "Keras는 딥러닝을 위한 파이썬 API 입니다. 모두가 사용할만한 내용을 가지고 있습니다:\n",
    "\n",
    "- 엔지니어의 경우, Keras는 계층, 평가지표(metrics), 학습 반복문과 같은 재사용 가능한 블록을 제공하여 일반적은 사용 사례를 지원합니다. 고수준의 사용자 경험을 제공하여 접근이 용이하고, 생산성이 좋습니다.\n",
    "\n",
    "- 연구자의 경우, 계층이나 학습 반목문과 같은 이미 제공되는 블록의 사용을 선호하지 않고, 스스로 만든 것을 대신 사용할 지도 모릅니다. 물론, Keras는 이를 가능하게 해 줍니다. 이 경우, Keras는 여러분이 작성하게될 블록에 대한 템플릿을 Layers 및 Metrics와 같은 표준적인 API와 함께 제공합니다. 이러한 구조는 다른 사람과 코드를 쉽게 공유하고, 상용의 작업 흐름에도 통합될 수 있게끔 해 줍니다.\n",
    "\n",
    "- 이 같은 내용은 라이브러리를 개발하는 분들에게도 적용되는 사실입니다. TensorFlow는 거대한 생태계죠. 수 많은 라이브러리가 존재합니다. 서로다른 라이브러리가 상호작용하고, 이들의 컴포넌트를 공유할 수 있게하기 위해선 API 표준을 따라야만 합니다. API 표준이 곧 Keras가 제공하는 핵심입니다.\n",
    "\n",
    "\n",
    "Keras는 결정적으로 고수준의 UX와 저수준의 유연성을 모두 함께 완만히 도입합니다. 이는 더이상 한편으론 사용성이 뛰어나지만 유연치는 못한 고수준 API를, 다른 한편으론 매우 유연하지만 전문가만이 사용가능한 저수준 API를 가져야만 하는 상황에서 벗어나게 해 줍니다. 그 대신, 매우 고수준에서부터 매우 저수준 까지의 다양한 작업 흐름의 범위를 가질 수 있게 됩니다. 이 작업흐름이란, 동일한 컨셉과 객체에 기반해서 만들어졌기 때문에 모든것이 상호 호환 가능한 것을 의미합니다.\n",
    "\n",
    "![Keras 작업 흐름의 범위](https://drive.google.com/uc?export=view&id=1bE0FiQY2XF5QzBLRHfe7-SdxvwGIO0GK)"
   ]
  },
  {
   "cell_type": "markdown",
   "metadata": {
    "id": "o9DSVjdHPkOw"
   },
   "source": [
    "## `Layer` 기본 클래스\n",
    "\n",
    "가장 첫 번째로 알아야할 클래스는 [`Layer`](https://www.tensorflow.org/api_docs/python/tf/keras/layers/Layer) 입니다. Keras의 거의 모든것은 이 클래스로부터 파생됩니다.\n",
    "\n",
    "Layer는 상태(가중치, weights)와 몇 (`call` 메소드에 정의된)계산을 캡슐화 합니다."
   ]
  },
  {
   "cell_type": "code",
   "execution_count": 27,
   "metadata": {
    "id": "Io3dUQzaPnPc"
   },
   "outputs": [],
   "source": [
    "from tensorflow.keras.layers import Layer\n",
    "\n",
    "class Linear(Layer):\n",
    "  \"\"\"y = w.x + b\"\"\"\n",
    "\n",
    "  def __init__(self, units=32, input_dim=32):\n",
    "      super(Linear, self).__init__()\n",
    "      w_init = tf.random_normal_initializer()\n",
    "      self.w = tf.Variable(\n",
    "          initial_value=w_init(shape=(input_dim, units), dtype='float32'),\n",
    "          trainable=True)\n",
    "      b_init = tf.zeros_initializer()\n",
    "      self.b = tf.Variable(\n",
    "          initial_value=b_init(shape=(units,), dtype='float32'),\n",
    "          trainable=True)\n",
    "\n",
    "  def call(self, inputs):\n",
    "      return tf.matmul(inputs, self.w) + self.b\n",
    "\n",
    "# 우리가 만든 Layer객체를 인스턴스화 합니다\n",
    "linear_layer = Linear(4, 2)"
   ]
  },
  {
   "cell_type": "markdown",
   "metadata": {
    "id": "Vo3etyK8BO4a"
   },
   "source": [
    "Layer 인스턴스는 마치 함수처럼 동작합니다. 몇 데이터에 대해서 이를 호출해 봅시다:"
   ]
  },
  {
   "cell_type": "code",
   "execution_count": 28,
   "metadata": {
    "id": "hBUCLfHVBQLF"
   },
   "outputs": [],
   "source": [
    "y = linear_layer(tf.ones((2, 2)))\n",
    "assert y.shape == (2, 4)"
   ]
  },
  {
   "cell_type": "markdown",
   "metadata": {
    "id": "MXqpznsxBaCC"
   },
   "source": [
    "`Layer` 클래스는 속성으로써 부여된 weights를 통해서, 가중치들을 추적합니다 "
   ]
  },
  {
   "cell_type": "code",
   "execution_count": 29,
   "metadata": {
    "id": "j_FaUtEYBeJw"
   },
   "outputs": [],
   "source": [
    "# 가중치는 자동으로 `weights`라는 속성으로써 추적됩니다.\n",
    "assert linear_layer.weights == [linear_layer.w, linear_layer.b]"
   ]
  },
  {
   "cell_type": "markdown",
   "metadata": {
    "id": "b6PZ6QXUHdxA"
   },
   "source": [
    "`add_weight`를 이용하여 간단히 가중치를 생성하는 방법이 있는것도 알아두세요. 이렇게 코드를 작성하는것 대신:\n",
    "\n",
    "```python\n",
    "w_init = tf.random_normal_initializer()\n",
    "self.w = tf.Variable(initial_value=w_init(shape=shape, dtype='float32'))\n",
    "```\n",
    "\n",
    "일반적으로 아래와 같이 작성합니다:\n",
    "\n",
    "```python\n",
    "self.w = self.add_weight(shape=shape, initializer='random_normal')\n",
    "```"
   ]
  },
  {
   "cell_type": "markdown",
   "metadata": {
    "id": "lphpMGIiHRUP"
   },
   "source": [
    "`build`라는 별도의 메소드에서 가중치를 생성하는것이 좋은 관례입니다. 이 `build`는 Layer에 의해 첫 번째 입력의 Shape이 확인되는 순간 호출되는 lazy한 메소드 입니다. 이러한 패턴은 입력 차원(input_dim)을 생성자에 명시하지 않아도 되게 해 줍니다:"
   ]
  },
  {
   "cell_type": "code",
   "execution_count": 30,
   "metadata": {
    "id": "BpPjScZKHXhS"
   },
   "outputs": [],
   "source": [
    "class Linear(Layer):\n",
    "  \"\"\"y = w.x + b\"\"\"\n",
    "\n",
    "  def __init__(self, units=32):\n",
    "      super(Linear, self).__init__()\n",
    "      self.units = units\n",
    "\n",
    "  def build(self, input_shape):\n",
    "      self.w = self.add_weight(shape=(input_shape[-1], self.units),\n",
    "                               initializer='random_normal',\n",
    "                               trainable=True)\n",
    "      self.b = self.add_weight(shape=(self.units,),\n",
    "                               initializer='random_normal',\n",
    "                               trainable=True)\n",
    "\n",
    "  def call(self, inputs):\n",
    "      return tf.matmul(inputs, self.w) + self.b\n",
    "\n",
    "\n",
    "# Lazy한 Layer의 인스턴스를 만듭니다.\n",
    "linear_layer = Linear(4)\n",
    "\n",
    "# 이렇게 하면, `build(input_shape)`이 호출되어 가중치를 생성하게 됩니다.\n",
    "y = linear_layer(tf.ones((2, 2)))\n",
    "assert len(linear_layer.weights) == 2"
   ]
  },
  {
   "cell_type": "markdown",
   "metadata": {
    "id": "86khdsF3Pnr0"
   },
   "source": [
    "## 학습 가능한, 그리고 학습 불가능한 가중치"
   ]
  },
  {
   "cell_type": "markdown",
   "metadata": {
    "id": "32zvCEKLICr5"
   },
   "source": [
    "Layer에 의해 생성된 가중치는 학습이 가능할 수도, 학습이 불가능할 수도 있습니다. 이 두 경우는 각각 \n",
    "`trainable_weights` 및 `non_trainable_weights`로써 노출되어 외부에서 접근 가능합니다. 다음은 학습 불가능한 가중치를 가지는 Layer를 보여줍니다:"
   ]
  },
  {
   "cell_type": "code",
   "execution_count": 31,
   "metadata": {
    "colab": {
     "base_uri": "https://localhost:8080/",
     "height": 55
    },
    "id": "LZ8s28NnX20u",
    "outputId": "b8f608dc-e3ee-4655-8035-4b2d2ce3be2b"
   },
   "outputs": [
    {
     "name": "stdout",
     "output_type": "stream",
     "text": [
      "[2. 2.]\n",
      "[4. 4.]\n"
     ]
    }
   ],
   "source": [
    "class ComputeSum(Layer):\n",
    "  \"\"\"입력의 합산 결과를 반환하는 Layer\"\"\"\n",
    "\n",
    "  def __init__(self, input_dim):\n",
    "      super(ComputeSum, self).__init__()\n",
    "      # 학습 불가능한 가중치를 생성합니다.\n",
    "      self.total = tf.Variable(initial_value=tf.zeros((input_dim,)),\n",
    "                               trainable=False)\n",
    "\n",
    "  def call(self, inputs):\n",
    "      self.total.assign_add(tf.reduce_sum(inputs, axis=0))\n",
    "      return self.total  \n",
    "\n",
    "my_sum = ComputeSum(2)\n",
    "x = tf.ones((2, 2))\n",
    "\n",
    "y = my_sum(x)\n",
    "print(y.numpy())  # [2. 2.]\n",
    "\n",
    "y = my_sum(x)\n",
    "print(y.numpy())  # [4. 4.]\n",
    "\n",
    "assert my_sum.weights == [my_sum.total]\n",
    "assert my_sum.non_trainable_weights == [my_sum.total]\n",
    "assert my_sum.trainable_weights == []"
   ]
  },
  {
   "cell_type": "markdown",
   "metadata": {
    "id": "6oBkX6ZfYO8j"
   },
   "source": [
    "## 재귀적으로 Layer를 조합하는것"
   ]
  },
  {
   "cell_type": "markdown",
   "metadata": {
    "id": "YeLDL9MJI2dK"
   },
   "source": [
    "Layer들은 더 큰 계산을 위한 블록을 생성하기 위해 재귀적으로 중첩될 수 있습니다. 각각의 Layer는 각각의 (학습 가능한것과 학습 불가능한)가중치를 추적할 수 있습니다."
   ]
  },
  {
   "cell_type": "code",
   "execution_count": 32,
   "metadata": {
    "id": "N5HBH-dtYQuk"
   },
   "outputs": [],
   "source": [
    "# `build` 메소드와 함께 앞서 정의된\n",
    "# Linear 클래스를 재사용 해봅시다\n",
    "\n",
    "class MLP(Layer):\n",
    "    \"\"\"Linear Layer의 간단한 층을 쌓는 Layer 입니다.\"\"\"\n",
    "\n",
    "    def __init__(self):\n",
    "        super(MLP, self).__init__()\n",
    "        self.linear_1 = Linear(32)\n",
    "        self.linear_2 = Linear(32)\n",
    "        self.linear_3 = Linear(10)\n",
    "\n",
    "    def call(self, inputs):\n",
    "        x = self.linear_1(inputs)\n",
    "        x = tf.nn.relu(x)\n",
    "        x = self.linear_2(x)\n",
    "        x = tf.nn.relu(x)\n",
    "        return self.linear_3(x)\n",
    "\n",
    "mlp = MLP()\n",
    "\n",
    "# `mlp` 객체에 대한 첫 번째 호출은 가중치를 생성하게 됩니다.\n",
    "y = mlp(tf.ones(shape=(3, 64)))\n",
    "\n",
    "# 가중치들은 재귀적으로 추적됩니다.\n",
    "assert len(mlp.weights) == 6"
   ]
  },
  {
   "cell_type": "markdown",
   "metadata": {
    "id": "WavMVtXGQk-z"
   },
   "source": [
    "## 미리 정의된 Layer의 종류\n",
    "\n",
    "Keras는 [넓은 범위의 미리 정의된 Layer의 종류](https://www.tensorflow.org/api_docs/python/tf/keras/layers/)를 제공하여 항상 여러분 스스로가 모든것을 구현하지 않아도 되도록끔 해 줍니다.\n",
    "\n",
    "- Convolution layers\n",
    "- Transposed convolutions\n",
    "- Separateable convolutions\n",
    "- Average and max pooling\n",
    "- Global average and max pooling\n",
    "- LSTM, GRU (with built-in cuDNN acceleration)\n",
    "- BatchNormalization\n",
    "- Dropout\n",
    "- Attention\n",
    "- ConvLSTM2D\n",
    "- etc.\n",
    "\n",
    "\n"
   ]
  },
  {
   "cell_type": "markdown",
   "metadata": {
    "id": "pdrw7OppQ6At"
   },
   "source": [
    "Keras는 디폴트로 좋은 설정값을 노출시키는 원칙을 따릅니다. 이렇게 해서, 필요한 인자값을 디폴트값으로 내버려두어도 대부분의 경우에서 잘 동작할 수 있게끔 해 줍니다. 예를 들어서, `LSTM` Layer는 디폴트로 직교 순환 행렬 초기화자(orthogonal recurrent matrix intializer)를 사용하고, 이는 forget 게이트의 편향값을 1로써 초기화 합니다."
   ]
  },
  {
   "cell_type": "markdown",
   "metadata": {
    "id": "_oq88tadFz8Z"
   },
   "source": [
    "## `call` 메소드의 `training` 인자\n"
   ]
  },
  {
   "cell_type": "markdown",
   "metadata": {
    "id": "A2NkTT0AQV8j"
   },
   "source": [
    "몇 Layer, 특히 `BatchNormalization`과 `Dropout` Layer,는 학습과 추론단계에서 서로다른 동작방식을 가집니다. 이러한 종류의 Layer에 대해선, `call` 메소으의 (부울 형식인)`training` 인자를 노출시키는 것이 표준적인 관례입니다.\n",
    "\n",
    "`call` 메소드의 이 인자를 노출시킴으로써, 미리 제공되는 학습과 평가 반복문(예를 들어서 `fit` 메소드)이 해당 Layer를 학습과 추론에 대해서 옳바르게 사용할 수 있게 됩니다."
   ]
  },
  {
   "cell_type": "code",
   "execution_count": 33,
   "metadata": {
    "id": "ysXzHB5KJiLt"
   },
   "outputs": [],
   "source": [
    "class Dropout(Layer):\n",
    "  \n",
    "  def __init__(self, rate):\n",
    "    super(Dropout, self).__init__()\n",
    "    self.rate = rate\n",
    "\n",
    "  def call(self, inputs, training=None):\n",
    "    if training:\n",
    "      return tf.nn.dropout(inputs, rate=self.rate)\n",
    "    return inputs\n",
    "\n",
    "class MLPWithDropout(Layer):\n",
    "\n",
    "  def __init__(self):\n",
    "      super(MLPWithDropout, self).__init__()\n",
    "      self.linear_1 = Linear(32)\n",
    "      self.dropout = Dropout(0.5)\n",
    "      self.linear_3 = Linear(10)\n",
    "\n",
    "  def call(self, inputs, training=None):\n",
    "      x = self.linear_1(inputs)\n",
    "      x = tf.nn.relu(x)\n",
    "      x = self.dropout(x, training=training)\n",
    "      return self.linear_3(x)\n",
    "    \n",
    "mlp = MLPWithDropout()\n",
    "y_train = mlp(tf.ones((2, 2)), training=True)\n",
    "y_test = mlp(tf.ones((2, 2)), training=False)"
   ]
  },
  {
   "cell_type": "markdown",
   "metadata": {
    "id": "SyC7KfV-YcYS"
   },
   "source": [
    "## 좀 더 함수형적으로 모델을 정의하기 위한 방법"
   ]
  },
  {
   "cell_type": "markdown",
   "metadata": {
    "id": "CxbEQANKQB6F"
   },
   "source": [
    "딥 러닝 모델을 만들기 위해서, 항상 객체지향적 프로그래밍 방법을 사용할 필요는 없습니다. 아래의 예시처럼 Layer들은 함수형적으로도 조합이 가능합니다 (\"함수형 API\" 라고 부릅니다):"
   ]
  },
  {
   "cell_type": "code",
   "execution_count": 34,
   "metadata": {
    "id": "jiL-0N7sYc6X"
   },
   "outputs": [],
   "source": [
    "# `Input` 객체를 사용해서, 입력의 shape(모양)과 dtype(데이터형)을 묘사합니다.\n",
    "# 딥러닝에서 이는 데이터형을 선언하는 방식입니다.\n",
    "# shape 인자는 샘플당 으로, 배치 크기를 포함하지 않습니다. \n",
    "# 함수형 API는 샘플당 변형을 정의하는데 집중합니다.\n",
    "# 생성하는 모델은 자동으로 샘플당 변형에 대한 배치를 고려합니다.\n",
    "# 따라서, 모델은 데이터의 배치마다 호출됩니다.\n",
    "inputs = tf.keras.Input(shape=(16,))\n",
    "\n",
    "# 이러한 \"데이터형\"의 객체에 대해서 Layer를 호출하고,\n",
    "# 호출 결과로 갱신된 (새로운 shape과 dtype을 가지는)\"데이터형\"을 반환합니다.\n",
    "x = Linear(32)(inputs) # 앞서 정의된 Linear Layer를 재사용 합니다.\n",
    "x = Dropout(0.5)(x)    # 앞서 정의된 Droptout Layer를 재사용 합니다.\n",
    "outputs = Linear(10)(x)\n",
    "\n",
    "# 함수형 `모델(Model)`은 입력과 출력을 명시하여 정의될 수 있습니다.\n",
    "# 모델은 다른것과 마찬가지로 스스로가 또 하나의 Layer가 됩니다.\n",
    "model = tf.keras.Model(inputs, outputs)\n",
    "\n",
    "# 함수형 모델은 호출되기전, 이미 가중치를 가집니다.\n",
    "# 그 이유는 입력에 대한 shape을 `input`에서 사전에 정의했기 때문입니다.\n",
    "assert len(model.weights) == 4\n",
    "\n",
    "# 똑같은 데이터에 대해서, 모델을 다시 호출해 봅시다.\n",
    "y = model(tf.ones((2, 16)))\n",
    "assert y.shape == (2, 10)"
   ]
  },
  {
   "cell_type": "markdown",
   "metadata": {
    "id": "vK5HqnT3Xgcz"
   },
   "source": [
    "함수형 API는 하위 클래스를 만드는것 보다 더 간결하고, 여기엔 몇몇 부가적인 이점(일반적으로 함수형, 형 선언적 언어가 형 선언적이지 않은 객체지향 개발에 비해 가지는 이점과 동일)이 존재합니다. 하지만, 이는 Layer들의 DAGs를 정의하는데에만 사용될 수 있습니다. 재귀적인 네트워크는 `Layer`의 하위 클래스를 통해서 정의되어야 합니다.\n",
    "\n",
    "함수형 모델과 하위 클래스를 통해 정의된 모델의 주요 다른점은 [이곳](https://medium.com/tensorflow/what-are-symbolic-and-imperative-apis-in-tensorflow-2-0-dfccecb01021)에 설명되어 있습니다.\n",
    "\n",
    "[이곳](https://www.tensorflow.org/alpha/guide/keras/functional)을 방문해서, 함수형 API에 대해 좀 더 배워볼 수 있습니다.\n",
    "\n",
    "연구의 작업 흐름에서, 객체지향 모델과 함수형 모델을 섞어쓰는 자신을 종종 발견하게 될지도 모릅니다."
   ]
  },
  {
   "cell_type": "markdown",
   "metadata": {
    "id": "6p0KngmPTScu"
   },
   "source": [
    "단일 입력과 출력을 가지는 Layer을 이용해서, 여러 층으로 구성된 모델에 대하여 `Sequential` 클래스를 사용할 수도 있습니다. 이 클래스는 Layer의 목록을 `Model`로 변환해 줍니다:"
   ]
  },
  {
   "cell_type": "code",
   "execution_count": 35,
   "metadata": {
    "id": "QNhTY6frTaP2"
   },
   "outputs": [],
   "source": [
    "from tensorflow.keras import Sequential\n",
    "\n",
    "model = Sequential([Linear(32), Dropout(0.5), Linear(10)])\n",
    "\n",
    "y = model(tf.ones((2, 16)))\n",
    "assert y.shape == (2, 10)"
   ]
  },
  {
   "cell_type": "markdown",
   "metadata": {
    "id": "cydf3i_FFXlh"
   },
   "source": [
    "## Loss 클래스\n",
    "\n",
    "Keras는 넓은 범위의 미리 정의된 손실함수에 대한 Loss 클래스를 제공합니다. 이는 `BinaryCrossentropy`, `CategoricalCrossentropy`, `KLDivergence`등과 같은 것이 포함되며 다음과 같이 작동합니다:"
   ]
  },
  {
   "cell_type": "code",
   "execution_count": 36,
   "metadata": {
    "colab": {
     "base_uri": "https://localhost:8080/",
     "height": 36
    },
    "id": "019Nm1eWFaUO",
    "outputId": "6eae11c7-ce23-4266-d13d-cc24a2790ee9"
   },
   "outputs": [
    {
     "name": "stdout",
     "output_type": "stream",
     "text": [
      "손실: 11.522857\n"
     ]
    }
   ],
   "source": [
    "bce = tf.keras.losses.BinaryCrossentropy()\n",
    "y_true = [0., 0., 1., 1.]  # 목표 (레이블)\n",
    "y_pred = [1., 1., 1., 0.]  # 예측 결과\n",
    "loss = bce(y_true, y_pred)\n",
    "print('손실:', loss.numpy())"
   ]
  },
  {
   "cell_type": "markdown",
   "metadata": {
    "id": "smbxFMGXY83U"
   },
   "source": [
    "Loss 클래스는 상태를 가지지 않습니다. 즉, `__call__`의 출력은 입력에 대한 함수일 뿐입니다."
   ]
  },
  {
   "cell_type": "markdown",
   "metadata": {
    "id": "RNLZsnswFbE_"
   },
   "source": [
    "## Metric 클래스\n",
    "\n",
    "또한, Keras는 넓은 범위의 미리 정의된 평가지표 함수에 대한 Metric 클래스를 제공합니다. 이는 `BinaryAccuracy`, `AUC`, `FalsePositives`등과 같은것을 포함합니다.\n",
    "\n",
    "Loss와는 다르게, Metric은 상태를 가집니다. `update_state` 메소드를 사용해서 상태를 갱신하고, `result`를 사용해서 스칼라형태의 결과값을 요청할 수 있습니다:"
   ]
  },
  {
   "cell_type": "code",
   "execution_count": 37,
   "metadata": {
    "colab": {
     "base_uri": "https://localhost:8080/",
     "height": 55
    },
    "id": "4dUZkMWATKMC",
    "outputId": "f2778aff-dd25-4322-d9f8-8242b5705160"
   },
   "outputs": [
    {
     "name": "stdout",
     "output_type": "stream",
     "text": [
      "중간 결과:  0.6666667\n",
      "최종 결과:  0.71428573\n"
     ]
    }
   ],
   "source": [
    "m = tf.keras.metrics.AUC()\n",
    "m.update_state([0, 1, 1, 1], [0, 1, 0, 0])\n",
    "print('중간 결과: ', m.result().numpy())\n",
    "\n",
    "m.update_state([1, 1, 1, 1], [0, 1, 1, 0])\n",
    "print('최종 결과: ', m.result().numpy())"
   ]
  },
  {
   "cell_type": "markdown",
   "metadata": {
    "id": "doUSrciie2Px"
   },
   "source": [
    "내부 상태는 `metric.reset_states`에 의해 초기화될 수 있습니다."
   ]
  },
  {
   "cell_type": "markdown",
   "metadata": {
    "id": "uwx7DjFBZ-C-"
   },
   "source": [
    "`Metric` 클래스의 하위 클래스를 만들어서, 여러분만의 평가지표 함수를 손쉽게 만들수도 있습니다:\n",
    "\n",
    "- `__init__`내의 상태 변수를 생성합니다\n",
    "- `update_state`내에서 인자로써 주어진 `y_true`와 `y_pred`를 이용해서 변수를 갱신합니다\n",
    "- `result`내에서 평가지표의 결과를 반환합니다\n",
    "- `reset_states`내에서 상태를 초기화 합니다\n",
    "\n",
    "다음은 이 방법을 보여주기 위한 목적으로, `BinaryTruePositive` 평가지표에 대한 구현하고 있습니다:"
   ]
  },
  {
   "cell_type": "code",
   "execution_count": 38,
   "metadata": {
    "id": "vVByLrJyaBx_"
   },
   "outputs": [],
   "source": [
    "class BinaryTruePositives(tf.keras.metrics.Metric):\n",
    "\n",
    "  def __init__(self, name='binary_true_positives', **kwargs):\n",
    "    super(BinaryTruePositives, self).__init__(name=name, **kwargs)\n",
    "    self.true_positives = self.add_weight(name='tp', initializer='zeros')\n",
    "\n",
    "  def update_state(self, y_true, y_pred, sample_weight=None):\n",
    "    y_true = tf.cast(y_true, tf.bool)\n",
    "    y_pred = tf.cast(y_pred, tf.bool)\n",
    "\n",
    "    values = tf.logical_and(tf.equal(y_true, True), tf.equal(y_pred, True))\n",
    "    values = tf.cast(values, self.dtype)\n",
    "    if sample_weight is not None:\n",
    "      sample_weight = tf.cast(sample_weight, self.dtype)\n",
    "      sample_weight = tf.broadcast_weights(sample_weight, values)\n",
    "      values = tf.multiply(values, sample_weight)\n",
    "    self.true_positives.assign_add(tf.reduce_sum(values))\n",
    "\n",
    "  def result(self):\n",
    "    return self.true_positives\n",
    "\n",
    "  def reset_states(self):\n",
    "    self.true_positive.assign(0)"
   ]
  },
  {
   "cell_type": "markdown",
   "metadata": {
    "id": "i0PdvHdAdQl0"
   },
   "source": [
    "## Optimizer 클래스 & 빠른 end-to-end 학습 반복문\n",
    "\n",
    "앞서 보여진 선형회귀 예제에서 작성한, 경사하강시 변수값을 직접 갱신하는 방법은 일반적으로 하지 않아도 됩니다. 보통은 `SGD`, `RMSprop`, 또는 `Adam`등과 같이 Keras에서 미리 제공되는 Optimizer 중 하나를 사용하면 됩니다.\n",
    "\n",
    "아래는 MNIST 데이터에 대해서, Loss, Metric 클래스와 Optimizer가 모두 함께 사용되는 예를 보여줍니다."
   ]
  },
  {
   "cell_type": "code",
   "execution_count": 39,
   "metadata": {
    "colab": {
     "base_uri": "https://localhost:8080/",
     "height": 577
    },
    "id": "4jNl1ykEdkj8",
    "outputId": "f35594d0-3da4-44e6-d5ec-659d0ef86137"
   },
   "outputs": [
    {
     "name": "stdout",
     "output_type": "stream",
     "text": [
      "단계(Step): 0\n",
      "마지막 단계(Step)의 손실: 2.34916353225708\n",
      "지금까지 수행된 전체에 대한 정확도: 0.109375\n",
      "단계(Step): 100\n",
      "마지막 단계(Step)의 손실: 0.3692200481891632\n",
      "지금까지 수행된 전체에 대한 정확도: 0.8282796740531921\n",
      "단계(Step): 200\n",
      "마지막 단계(Step)의 손실: 0.22621870040893555\n",
      "지금까지 수행된 전체에 대한 정확도: 0.8709577322006226\n",
      "단계(Step): 300\n",
      "마지막 단계(Step)의 손실: 0.21029262244701385\n",
      "지금까지 수행된 전체에 대한 정확도: 0.8910402655601501\n",
      "단계(Step): 400\n",
      "마지막 단계(Step)의 손실: 0.07564054429531097\n",
      "지금까지 수행된 전체에 대한 정확도: 0.9052758812904358\n",
      "단계(Step): 500\n",
      "마지막 단계(Step)의 손실: 0.25329160690307617\n",
      "지금까지 수행된 전체에 대한 정확도: 0.9139533638954163\n",
      "단계(Step): 600\n",
      "마지막 단계(Step)의 손실: 0.0700250044465065\n",
      "지금까지 수행된 전체에 대한 정확도: 0.9207050800323486\n",
      "단계(Step): 700\n",
      "마지막 단계(Step)의 손실: 0.21970020234584808\n",
      "지금까지 수행된 전체에 대한 정확도: 0.9256419539451599\n",
      "단계(Step): 800\n",
      "마지막 단계(Step)의 손실: 0.18910689651966095\n",
      "지금까지 수행된 전체에 대한 정확도: 0.9295997023582458\n",
      "단계(Step): 900\n",
      "마지막 단계(Step)의 손실: 0.022234756499528885\n",
      "지금까지 수행된 전체에 대한 정확도: 0.9334593415260315\n"
     ]
    }
   ],
   "source": [
    "from tensorflow.keras import layers\n",
    "\n",
    "# 데이터셋를 준비합니다\n",
    "(x_train, y_train), (x_test, y_test) = tf.keras.datasets.mnist.load_data()\n",
    "x_train = x_train[:].reshape(60000, 784).astype('float32') / 255\n",
    "dataset = tf.data.Dataset.from_tensor_slices((x_train, y_train))\n",
    "dataset = dataset.shuffle(buffer_size=1024).batch(64)\n",
    "\n",
    "# 간단한 분류를 위한 모델의 인스턴스를 만듭니다\n",
    "model = tf.keras.Sequential([\n",
    "  layers.Dense(256, activation=tf.nn.relu),\n",
    "  layers.Dense(256, activation=tf.nn.relu),\n",
    "  layers.Dense(10)\n",
    "])\n",
    "\n",
    "# 정수형 레이블을 인자로 받아들이는, 로지스틱 Loss의 인스턴스를 만듭니다\n",
    "loss = tf.keras.losses.SparseCategoricalCrossentropy(from_logits=True)\n",
    "\n",
    "# 정확도에 대한 Metric의 인스턴스를 만듭니다\n",
    "accuracy = tf.keras.metrics.SparseCategoricalAccuracy()\n",
    "\n",
    "# Optimizer의 인스턴스를 만듭니다\n",
    "optimizer = tf.keras.optimizers.Adam()\n",
    "\n",
    "# 데이터셋의 데이터 배치를 순회합니다\n",
    "for step, (x, y) in enumerate(dataset):\n",
    "  \n",
    "  # GradientTape 열어줍니다\n",
    "  with tf.GradientTape() as tape:\n",
    "\n",
    "    # 순방향 전파(forward)를 수행합니다\n",
    "    logits = model(x)\n",
    "\n",
    "    # 현재 배치에 대한 손실값을 측정합니다\n",
    "    loss_value = loss(y, logits)\n",
    "     \n",
    "  # 손실에 대한 가중치의 경사도를 계산합니다\n",
    "  gradients = tape.gradient(loss_value, model.trainable_weights)\n",
    "  \n",
    "  # 모델의 가중치를 갱신합니다\n",
    "  optimizer.apply_gradients(zip(gradients, model.trainable_weights))\n",
    "\n",
    "  # 현재까지 수행된 전체에 대한 모델의 정확도를 갱신합니다\n",
    "  accuracy.update_state(y, logits)\n",
    "  \n",
    "  # 로그를 출력합니다\n",
    "  if step % 100 == 0:\n",
    "    print('단계(Step):', step)\n",
    "    print('마지막 단계(Step)의 손실:', float(loss_value))\n",
    "    print('지금까지 수행된 전체에 대한 정확도:', float(accuracy.result()))"
   ]
  },
  {
   "cell_type": "markdown",
   "metadata": {
    "id": "MIJYBrXoekXD"
   },
   "source": [
    "`SparseCategoricalAccuracy` Metric 인스턴스를 재사용해서 테스트 반복문을 구현할 수 있습니다:"
   ]
  },
  {
   "cell_type": "code",
   "execution_count": 40,
   "metadata": {
    "colab": {
     "base_uri": "https://localhost:8080/",
     "height": 36
    },
    "id": "sl6FKvqbeqX9",
    "outputId": "f02f8dd6-3f1e-4d3d-a70a-b0befe329f0a"
   },
   "outputs": [
    {
     "name": "stdout",
     "output_type": "stream",
     "text": [
      "최종 테스트 정확도: 0.9668999910354614\n"
     ]
    }
   ],
   "source": [
    "x_test = x_test[:].reshape(10000, 784).astype('float32') / 255\n",
    "test_dataset = tf.data.Dataset.from_tensor_slices((x_test, y_test))\n",
    "test_dataset = test_dataset.batch(128)\n",
    "\n",
    "accuracy.reset_states()  # 이 코드는 Metric의 내부 상태를 초기화 합니다\n",
    "\n",
    "for step, (x, y) in enumerate(test_dataset):\n",
    "  logits = model(x)\n",
    "  accuracy.update_state(y, logits)\n",
    "\n",
    "print('최종 테스트 정확도:', float(accuracy.result()))"
   ]
  },
  {
   "cell_type": "markdown",
   "metadata": {
    "id": "CEP7jzC8YVWy"
   },
   "source": [
    "## `add_loss` 메소드\n",
    "\n",
    "때로는 순방향 전파(forward) 수행 중 손실값을 계산해 보고 싶을 수 있습니다 (특히, 정규화(regularization) 손실에 대해서). Keras는 어느시점에서든지 손실값을 계산할 수 있게 해 주고, `add_loss` 메소드를 통해 이 손실값을 재귀적으로 계속 추적할 수 있게 해 줍니다.\n",
    "\n",
    "다음은 입력에 대한 L2 노름에 기반한 희소 정규화(regularization) 손실을 추가하는 Layer의 예를 보여줍니다:"
   ]
  },
  {
   "cell_type": "code",
   "execution_count": 41,
   "metadata": {
    "id": "LbBVP--jYgHg"
   },
   "outputs": [],
   "source": [
    "class ActivityRegularization(Layer):\n",
    "  \"\"\"활성 희소 정규화 손실(activity sparsity regularization loss)을 생성하는 Layer 입니다\"\"\"\n",
    "  \n",
    "  def __init__(self, rate=1e-2):\n",
    "    super(ActivityRegularization, self).__init__()\n",
    "    self.rate = rate\n",
    "  \n",
    "  def call(self, inputs):\n",
    "    # 입력값에 기반하는\n",
    "    # `add_loss`를 사용해서 정규화 손실을 생성합니다\n",
    "    self.add_loss(self.rate * tf.reduce_sum(tf.square(inputs)))\n",
    "    return inputs"
   ]
  },
  {
   "cell_type": "markdown",
   "metadata": {
    "id": "m4qoQk7abK5v"
   },
   "source": [
    "`add_loss`를 이용해서 추가된 손실값은 `Layer` 또는 `Model`의 리스트형 속성인 `.losses`를 통해서 접근이 가능합니다:"
   ]
  },
  {
   "cell_type": "code",
   "execution_count": 42,
   "metadata": {
    "colab": {
     "base_uri": "https://localhost:8080/",
     "height": 36
    },
    "id": "VlJc_4pbbQ2N",
    "outputId": "a9501d61-49c2-4069-f0ac-43951c3b6fe7"
   },
   "outputs": [
    {
     "name": "stdout",
     "output_type": "stream",
     "text": [
      "[<tf.Tensor: shape=(), dtype=float32, numpy=0.7045703>]\n"
     ]
    }
   ],
   "source": [
    "from tensorflow.keras import layers\n",
    "\n",
    "class SparseMLP(Layer):\n",
    "  \"\"\"희소 정규화 손실을 가지는 선형 계층을 쌓아올린 Layer 입니다\"\"\"\n",
    "\n",
    "  def __init__(self, output_dim):\n",
    "      super(SparseMLP, self).__init__()\n",
    "      self.dense_1 = layers.Dense(32, activation=tf.nn.relu)\n",
    "      self.regularization = ActivityRegularization(1e-2)\n",
    "      self.dense_2 = layers.Dense(output_dim)\n",
    "\n",
    "  def call(self, inputs):\n",
    "      x = self.dense_1(inputs)\n",
    "      x = self.regularization(x)\n",
    "      return self.dense_2(x)\n",
    "    \n",
    "\n",
    "mlp = SparseMLP(1)\n",
    "y = mlp(tf.ones((10, 10)))\n",
    "\n",
    "print(mlp.losses)  # float32 자료형의 단일 스칼라값을 가지는 리스트 입니다"
   ]
  },
  {
   "cell_type": "markdown",
   "metadata": {
    "id": "jkI3GA2TbWvY"
   },
   "source": [
    "이 손실값들은 순방향 전파(forward)의 시작점에 있는 최상위 Layer로부터 초기화되며 축적되지 않습니다. 따라서 `layer.losses`는 항상 마지막 순방향 전파동안 생성된 손실값만을 가지게 됩니다. 학습 반복문을 작성할 때, 일반적으로 경사도 계산 이전에 이 손실값들에 대한 합산을 수행합니다."
   ]
  },
  {
   "cell_type": "code",
   "execution_count": 43,
   "metadata": {
    "colab": {
     "base_uri": "https://localhost:8080/",
     "height": 204
    },
    "id": "2m0xNYGEbZe2",
    "outputId": "9a1c60f7-8f79-4d27-8cb2-1a592736917f"
   },
   "outputs": [
    {
     "name": "stdout",
     "output_type": "stream",
     "text": [
      "0 3.9010074138641357\n",
      "100 2.296185255050659\n",
      "200 2.2684364318847656\n",
      "300 2.2214407920837402\n",
      "400 2.224715232849121\n",
      "500 2.090916156768799\n",
      "600 1.975875735282898\n",
      "700 1.9317196607589722\n",
      "800 1.996838927268982\n",
      "900 1.7618037462234497\n"
     ]
    }
   ],
   "source": [
    "# *마지막* 순방향 전파에 해당하는 손실값들 입니다\n",
    "mlp = SparseMLP(1)\n",
    "mlp(tf.ones((10, 10)))\n",
    "assert len(mlp.losses) == 1\n",
    "mlp(tf.ones((10, 10)))\n",
    "assert len(mlp.losses) == 1  # 축적되지 않습니다\n",
    "\n",
    "# 이 손실값들을 학습 반복문에서 사용하는법을 보여줍니다\n",
    "\n",
    "# 데이터셋을 준비합니다\n",
    "(x_train, y_train), _ = tf.keras.datasets.mnist.load_data()\n",
    "dataset = tf.data.Dataset.from_tensor_slices(\n",
    "    (x_train.reshape(60000, 784).astype('float32') / 255, y_train))\n",
    "dataset = dataset.shuffle(buffer_size=1024).batch(64)\n",
    "\n",
    "# 새로운 MLP를 만듭니다\n",
    "mlp = SparseMLP(10)\n",
    "\n",
    "# Loss와 Optimizer를 만듭니다\n",
    "loss_fn = tf.keras.losses.SparseCategoricalCrossentropy(from_logits=True)\n",
    "optimizer = tf.keras.optimizers.SGD(learning_rate=0.1)\n",
    "\n",
    "for step, (x, y) in enumerate(dataset):\n",
    "  with tf.GradientTape() as tape:\n",
    "\n",
    "    # 순방향 전파를 수행합니다\n",
    "    logits = mlp(x)\n",
    "\n",
    "    # 현재 배치에 대한 외부의 손실값을 계산합니다\n",
    "    loss = loss_fn(y, logits)\n",
    "    \n",
    "    # 순방향 전파시 생성된 손실값을 더해줍니다 \n",
    "    loss += sum(mlp.losses)\n",
    "     \n",
    "    # 해당 손실에 대한 가중치의 경사도를 계산합니다\n",
    "    gradients = tape.gradient(loss, mlp.trainable_weights)\n",
    "  \n",
    "  # 모델의 가중치를 갱신합니다\n",
    "  optimizer.apply_gradients(zip(gradients, mlp.trainable_weights))\n",
    "  \n",
    "  # 로그를 출력합니다\n",
    "  if step % 100 == 0:\n",
    "    print(step, float(loss))"
   ]
  },
  {
   "cell_type": "markdown",
   "metadata": {
    "id": "zecO65f2Ph7O"
   },
   "source": [
    "## 자세한 end-to-end 예제: Variational AutoEncoder (VAE)\n",
    "\n",
    "기초적인 내용의 공부를 잠시 미뤄두고, 약간 더 어려운 예제를 살펴보고 싶다면, [여기에 소개된 VAE](https://www.tensorflow.org/guide/keras/custom_layers_and_models#putting_it_all_together_an_end-to-end_example)에 대한 구현의 예제를 확인해 보시기 바랍니다. 이는 여러분이 지금까지 배워왔던 모든것의 내용을 담고 있습니다:\n",
    "\n",
    "- `Layer`의 하위 클래스를 만드는것\n",
    "- 재귀적으로 Layer를 구성하는것\n",
    "- Loss 및 Metric 클래스에 대한것\n",
    "- `add_loss`\n",
    "- `GradientTape`"
   ]
  },
  {
   "cell_type": "markdown",
   "metadata": {
    "id": "7V0yRrfYFuVT"
   },
   "source": [
    "## 미리 정의된 학습 반복문을 사용하는것"
   ]
  },
  {
   "cell_type": "markdown",
   "metadata": {
    "id": "BNwAjgEXPpnP"
   },
   "source": [
    "간단한 케이스에 대해서 조차 여러분이 스스로 저수준의 학습 반복문을 매번 작성해야 한다면, 이는 어리석은 일일지도 모릅니다. Keras는 미리 정의된 학습 반복문을 `Model` 클래스에서 제공합니다. 사용하고자 한다면, `Model`의 하위 클래스를 만들거나 `Functional(함수형)` 또는 `Sequential(순차형)` 모델을 생성하면 됩니다.\n",
    "\n",
    "이를 보여주기 위해서, 앞서 만들어둔 MNIST의 예를 재사용 해 보겠습니다:"
   ]
  },
  {
   "cell_type": "code",
   "execution_count": 44,
   "metadata": {
    "id": "omdNf2x4jovv"
   },
   "outputs": [],
   "source": [
    "# 데이터셋을 준비합니다\n",
    "(x_train, y_train), (x_test, y_test) = tf.keras.datasets.mnist.load_data()\n",
    "x_train = x_train.reshape(60000, 784).astype('float32') / 255\n",
    "dataset = tf.data.Dataset.from_tensor_slices((x_train, y_train))\n",
    "dataset = dataset.shuffle(buffer_size=1024).batch(64)\n",
    "\n",
    "# 간단한 분류모델의 인스턴스를 만듭니다\n",
    "model = tf.keras.Sequential([\n",
    "  layers.Dense(256, activation=tf.nn.relu),\n",
    "  layers.Dense(256, activation=tf.nn.relu),\n",
    "  layers.Dense(10)\n",
    "])\n",
    "\n",
    "# 정수형 레이블을 인자로 받아들이는, 로지스틱 Loss의 인스턴스를 만듭니다\n",
    "loss = tf.keras.losses.SparseCategoricalCrossentropy(from_logits=True)\n",
    "\n",
    "# 정확도에 대한 Metric의 인스턴스를 만듭니다\n",
    "accuracy = tf.keras.metrics.SparseCategoricalAccuracy()\n",
    "\n",
    "# Optimizer의 인스턴스를 만듭니다\n",
    "optimizer = tf.keras.optimizers.Adam()"
   ]
  },
  {
   "cell_type": "markdown",
   "metadata": {
    "id": "MYU5PkaLiriO"
   },
   "source": [
    "가장 첫 번째로, `compile` 메소드를 호출하여 Optimizer, Loss, 모니터링하기 위한 Metric을 설정합니다."
   ]
  },
  {
   "cell_type": "code",
   "execution_count": 45,
   "metadata": {
    "id": "Eo6GhvzjJjdb"
   },
   "outputs": [],
   "source": [
    "model.compile(optimizer=optimizer, loss=loss, metrics=[accuracy])"
   ]
  },
  {
   "cell_type": "markdown",
   "metadata": {
    "id": "98zDjMPej06U"
   },
   "source": [
    "그리고 나선 `fit` 메소드를 호출하고, 이 때 데이터를 전달해 줍니다:"
   ]
  },
  {
   "cell_type": "code",
   "execution_count": 46,
   "metadata": {
    "colab": {
     "base_uri": "https://localhost:8080/",
     "height": 148
    },
    "id": "-OdztL4nj4ed",
    "outputId": "6fc4eb46-6dd9-475c-ef60-343f1e6c5937"
   },
   "outputs": [
    {
     "name": "stdout",
     "output_type": "stream",
     "text": [
      "Epoch 1/3\n",
      "938/938 [==============================] - 2s 3ms/step - loss: 0.2186 - sparse_categorical_accuracy: 0.9358\n",
      "Epoch 2/3\n",
      "938/938 [==============================] - 2s 3ms/step - loss: 0.0860 - sparse_categorical_accuracy: 0.9736\n",
      "Epoch 3/3\n",
      "938/938 [==============================] - 2s 3ms/step - loss: 0.0563 - sparse_categorical_accuracy: 0.9821\n"
     ]
    },
    {
     "data": {
      "text/plain": [
       "<tensorflow.python.keras.callbacks.History at 0x14f24536470>"
      ]
     },
     "execution_count": 46,
     "metadata": {},
     "output_type": "execute_result"
    }
   ],
   "source": [
    "model.fit(dataset, epochs=3)"
   ]
  },
  {
   "cell_type": "markdown",
   "metadata": {
    "id": "bZc2ss8qln1p"
   },
   "source": [
    "이게 끝입니다! 이제는 테스트를 해 봅시다:"
   ]
  },
  {
   "cell_type": "code",
   "execution_count": 47,
   "metadata": {
    "colab": {
     "base_uri": "https://localhost:8080/",
     "height": 55
    },
    "id": "d0-XQbxOlqB3",
    "outputId": "c0ec4ea4-74bc-454c-ad2f-a0fc1f3394c4"
   },
   "outputs": [
    {
     "name": "stdout",
     "output_type": "stream",
     "text": [
      "79/79 [==============================] - 0s 2ms/step - loss: 0.0845 - sparse_categorical_accuracy: 0.9755\n",
      "손실: 0.08448509871959686 정확도: 0.9754999876022339\n"
     ]
    }
   ],
   "source": [
    "x_test = x_test[:].reshape(10000, 784).astype('float32') / 255\n",
    "test_dataset = tf.data.Dataset.from_tensor_slices((x_test, y_test))\n",
    "test_dataset = test_dataset.batch(128)\n",
    "\n",
    "loss, acc = model.evaluate(test_dataset)\n",
    "print('손실:', loss, '정확도:', acc)"
   ]
  },
  {
   "cell_type": "markdown",
   "metadata": {
    "id": "DkmbEn55nV7y"
   },
   "source": [
    "`fit`이 수행되는 동안 검증용 데이터셋에 대한 Loss와 Metric을 모니터링 하는것 또한 가능합니다.\n",
    "\n",
    "또한, Numpy형의 배열에 대해서도 직접적으로 `fit`을 호출할 수 있습니다. 따라서 데이터셋에 대한 변환이 필요 없습니다:"
   ]
  },
  {
   "cell_type": "code",
   "execution_count": 48,
   "metadata": {
    "colab": {
     "base_uri": "https://localhost:8080/",
     "height": 167
    },
    "id": "7q8UuNivngVe",
    "outputId": "83f2ff29-cd0d-4218-e4d2-30351b792c9b"
   },
   "outputs": [
    {
     "name": "stdout",
     "output_type": "stream",
     "text": [
      "Epoch 1/3\n",
      "782/782 [==============================] - 2s 3ms/step - loss: 0.2464 - sparse_categorical_accuracy: 0.9270 - val_loss: 0.1139 - val_sparse_categorical_accuracy: 0.9658\n",
      "Epoch 2/3\n",
      "782/782 [==============================] - 2s 3ms/step - loss: 0.0939 - sparse_categorical_accuracy: 0.9713 - val_loss: 0.1102 - val_sparse_categorical_accuracy: 0.9659\n",
      "Epoch 3/3\n",
      "782/782 [==============================] - 2s 3ms/step - loss: 0.0611 - sparse_categorical_accuracy: 0.9805 - val_loss: 0.0907 - val_sparse_categorical_accuracy: 0.9741\n"
     ]
    },
    {
     "data": {
      "text/plain": [
       "<tensorflow.python.keras.callbacks.History at 0x14f3105e5f8>"
      ]
     },
     "execution_count": 48,
     "metadata": {},
     "output_type": "execute_result"
    }
   ],
   "source": [
    "(x_train, y_train), (x_test, y_test) = tf.keras.datasets.mnist.load_data()\n",
    "x_train = x_train.reshape(60000, 784).astype('float32') / 255\n",
    "\n",
    "num_val_samples = 10000\n",
    "x_val = x_train[-num_val_samples:]\n",
    "y_val = y_train[-num_val_samples:]\n",
    "x_train = x_train[:-num_val_samples]\n",
    "y_train = y_train[:-num_val_samples]\n",
    "\n",
    "# 간단한 분류모델의 인스턴스를 만듭니다\n",
    "model = tf.keras.Sequential([\n",
    "  layers.Dense(256, activation=tf.nn.relu),\n",
    "  layers.Dense(256, activation=tf.nn.relu),\n",
    "  layers.Dense(10)\n",
    "])\n",
    "\n",
    "# 정수형 레이블을 인자로 받아들이는, 로지스틱 Loss의 인스턴스를 만듭니다\n",
    "loss = tf.keras.losses.SparseCategoricalCrossentropy(from_logits=True)\n",
    "\n",
    "# 정확도에 대한 Metric의 인스턴스를 만듭니다\n",
    "accuracy = tf.keras.metrics.SparseCategoricalAccuracy()\n",
    "\n",
    "# Optimizer의 인스턴스를 만듭니다\n",
    "optimizer = tf.keras.optimizers.Adam()\n",
    "\n",
    "model.compile(optimizer=optimizer,\n",
    "              loss=loss,\n",
    "              metrics=[accuracy])\n",
    "model.fit(x_train, y_train,\n",
    "          validation_data=(x_val, y_val),\n",
    "          epochs=3,\n",
    "          batch_size=64)"
   ]
  },
  {
   "cell_type": "markdown",
   "metadata": {
    "id": "88ExjKfCo7aP"
   },
   "source": [
    "## Callbacks\n",
    "\n",
    "`fit`이 가지는 간단하지만 훌륭한 기능 중 하나로, [callbacks](https://www.tensorflow.org/api_docs/python/tf/keras/callbacks/)을 사용해서 학습과 평가 도중 일어나는 일에 대한 사용자 정의화가 가능합니다.\n",
    "\n",
    "Callback은 객체의 한 종류로, 학습 중간 중간에 호출(예를들어, 매 배치마다 또는 매 epoch마다) 되며 어떤 작업을 수행합니다.\n",
    "\n",
    "미리 정의된 여러가지 Callback이 존재합니다. `ModelCheckpoint`는 학습도중 매 epoch마다 모델을 저장하고, `EarlyStopping`은 검증용 평가지표(metrics)가 향상되지 않을 때 학습을 중단시킵니다.\n",
    "\n",
    "물론, 손쉽게 [여러분만의 callback을 작성할 수도 있습니다](https://www.tensorflow.org/guide/keras/custom_callback).\n"
   ]
  },
  {
   "cell_type": "code",
   "execution_count": 49,
   "metadata": {
    "colab": {
     "base_uri": "https://localhost:8080/",
     "height": 241
    },
    "id": "oAylVdYJqcZ3",
    "outputId": "e33395c0-832c-4f39-9d05-c3c74f8f3dad"
   },
   "outputs": [
    {
     "name": "stdout",
     "output_type": "stream",
     "text": [
      "Epoch 1/30\n",
      "782/782 [==============================] - 2s 3ms/step - loss: 0.2429 - sparse_categorical_accuracy: 0.9273 - val_loss: 0.1099 - val_sparse_categorical_accuracy: 0.9663\n",
      "Epoch 2/30\n",
      "782/782 [==============================] - 2s 3ms/step - loss: 0.0948 - sparse_categorical_accuracy: 0.9714 - val_loss: 0.0961 - val_sparse_categorical_accuracy: 0.9708\n",
      "Epoch 3/30\n",
      "782/782 [==============================] - 2s 3ms/step - loss: 0.0609 - sparse_categorical_accuracy: 0.9809 - val_loss: 0.0882 - val_sparse_categorical_accuracy: 0.9736\n",
      "Epoch 4/30\n",
      "782/782 [==============================] - 2s 3ms/step - loss: 0.0445 - sparse_categorical_accuracy: 0.9862 - val_loss: 0.0837 - val_sparse_categorical_accuracy: 0.9758\n",
      "Epoch 5/30\n",
      "782/782 [==============================] - 2s 3ms/step - loss: 0.0344 - sparse_categorical_accuracy: 0.9887 - val_loss: 0.0907 - val_sparse_categorical_accuracy: 0.9742\n"
     ]
    },
    {
     "data": {
      "text/plain": [
       "<tensorflow.python.keras.callbacks.History at 0x14f3145b3c8>"
      ]
     },
     "execution_count": 49,
     "metadata": {},
     "output_type": "execute_result"
    }
   ],
   "source": [
    "# 간단한 분류모델의 인스턴스를 만듭니다\n",
    "model = tf.keras.Sequential([\n",
    "  layers.Dense(256, activation=tf.nn.relu),\n",
    "  layers.Dense(256, activation=tf.nn.relu),\n",
    "  layers.Dense(10)\n",
    "])\n",
    "\n",
    "# 정수형 레이블을 인자로 받아들이는, 로지스틱 Loss의 인스턴스를 만듭니다\n",
    "loss = tf.keras.losses.SparseCategoricalCrossentropy(from_logits=True)\n",
    "\n",
    "# 정확도에 대한 Metric의 인스턴스를 만듭니다\n",
    "accuracy = tf.keras.metrics.SparseCategoricalAccuracy()\n",
    "\n",
    "# Optimizer의 인스턴스를 만듭니다\n",
    "optimizer = tf.keras.optimizers.Adam()\n",
    "\n",
    "model.compile(optimizer=optimizer,\n",
    "              loss=loss,\n",
    "              metrics=[accuracy])\n",
    "\n",
    "# 몇가지 Callback의 인스턴스를 만듭니다\n",
    "callbacks = [tf.keras.callbacks.EarlyStopping(),\n",
    "             tf.keras.callbacks.ModelCheckpoint(filepath='my_model.keras',\n",
    "                                                save_best_only=True)]\n",
    "\n",
    "model.fit(x_train, y_train,\n",
    "          validation_data=(x_val, y_val),\n",
    "          epochs=30,\n",
    "          batch_size=64,\n",
    "          callbacks=callbacks)"
   ]
  },
  {
   "cell_type": "markdown",
   "metadata": {
    "id": "fxINLLGitX_n"
   },
   "source": [
    "# 마침글\n",
    "\n",
    "저는 이 가이드가 여러분에게 TensorFlow2.0과 Keras로 무엇을 할 수 있는지 알려주는 좋은 오버뷰가 되길 희망합니다!\n",
    "\n",
    "TensorFlow와 Keras는 단일 작업 흐름만을 대변하는게 아니라는 것을 기억하세요. 사용성과 유연성이라는 트레이드오프를 가지는 여러 범위의 작업흐름을 지원합니다. 예를 들어서, `fit` 메소드를 사용하는것이 사용자정의 학습 반복문을 작성하는것보다 훨씬 쉽지만, `fit`은 연구에서 필요한 미세한 조절이 가능한 수준까지를 제공하진 못합니다.\n",
    "\n",
    "따라서, 여러분의 일에 맞는 알맞은 툴을 사용하세요!\n",
    "\n",
    "Keras의 중심이 되는 원칙은 \"복잡도의 점진적인 공개\" 입니다. 매우 쉽게 시작할 수 있고, 점점 더 많은 부분을 밑바닥에서 부터 구현해야 하는 작업흐름에 대해서 점진적으로 좀 더 깊이 들여다보고, 그렇게함으로써 완전한 제어를 할 수 있게 됩니다.\n",
    "\n",
    "\n",
    "이 사실은 모델의 정의와 모델의 학습 모두에 적용되는 것입니다.\n",
    "\n",
    "![모델의 정의: 작업 흐름의 범위](https://drive.google.com/uc?export=view&id=1bTHrw-OXaKqnJI-DVGG04suWHVOl8UVj)\n",
    "\n",
    "![모델의 학습: 작업 흐름의 범위](https://drive.google.com/uc?export=view&id=1a6oMJ9IKyMg19JX7NkihyOfzdiJo5Mpq)"
   ]
  },
  {
   "cell_type": "code",
   "execution_count": null,
   "metadata": {
    "id": "FelcNL4gO4mP"
   },
   "outputs": [],
   "source": []
  }
 ],
 "metadata": {
  "accelerator": "GPU",
  "colab": {
   "collapsed_sections": [],
   "name": "Keras 창시자로부터 배우는 TensorFlow 2.0 + Keras 특강.ipynb의 사본",
   "provenance": []
  },
  "kernelspec": {
   "display_name": "Python 3",
   "language": "python",
   "name": "python3"
  },
  "language_info": {
   "codemirror_mode": {
    "name": "ipython",
    "version": 3
   },
   "file_extension": ".py",
   "mimetype": "text/x-python",
   "name": "python",
   "nbconvert_exporter": "python",
   "pygments_lexer": "ipython3",
   "version": "3.6.10"
  }
 },
 "nbformat": 4,
 "nbformat_minor": 1
}
