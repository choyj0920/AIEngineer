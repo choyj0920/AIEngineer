{
 "cells": [
  {
   "cell_type": "markdown",
   "metadata": {
    "colab_type": "text",
    "id": "a9hDarKCdK6Z"
   },
   "source": [
    "# 순환신경망(RNN) 기초\n",
    "\n",
    "RNN의 API의 사용법과, input shape, output shape 등의 기본적인 것들에 대해서 알아봅니다."
   ]
  },
  {
   "cell_type": "code",
   "execution_count": 1,
   "metadata": {
    "colab": {
     "base_uri": "https://localhost:8080/",
     "height": 55
    },
    "colab_type": "code",
    "id": "1WkIwB7ldK6a",
    "outputId": "902baf2c-ee03-4ee8-9ffd-661cb23755bb"
   },
   "outputs": [
    {
     "name": "stderr",
     "output_type": "stream",
     "text": [
      "In C:\\ProgramData\\Anaconda3\\lib\\site-packages\\matplotlib\\mpl-data\\stylelib\\_classic_test.mplstyle: \n",
      "The text.latex.preview rcparam was deprecated in Matplotlib 3.3 and will be removed two minor releases later.\n",
      "In C:\\ProgramData\\Anaconda3\\lib\\site-packages\\matplotlib\\mpl-data\\stylelib\\_classic_test.mplstyle: \n",
      "The mathtext.fallback_to_cm rcparam was deprecated in Matplotlib 3.3 and will be removed two minor releases later.\n",
      "In C:\\ProgramData\\Anaconda3\\lib\\site-packages\\matplotlib\\mpl-data\\stylelib\\_classic_test.mplstyle: Support for setting the 'mathtext.fallback_to_cm' rcParam is deprecated since 3.3 and will be removed two minor releases later; use 'mathtext.fallback : 'cm' instead.\n",
      "In C:\\ProgramData\\Anaconda3\\lib\\site-packages\\matplotlib\\mpl-data\\stylelib\\_classic_test.mplstyle: \n",
      "The validate_bool_maybe_none function was deprecated in Matplotlib 3.3 and will be removed two minor releases later.\n",
      "In C:\\ProgramData\\Anaconda3\\lib\\site-packages\\matplotlib\\mpl-data\\stylelib\\_classic_test.mplstyle: \n",
      "The savefig.jpeg_quality rcparam was deprecated in Matplotlib 3.3 and will be removed two minor releases later.\n",
      "In C:\\ProgramData\\Anaconda3\\lib\\site-packages\\matplotlib\\mpl-data\\stylelib\\_classic_test.mplstyle: \n",
      "The keymap.all_axes rcparam was deprecated in Matplotlib 3.3 and will be removed two minor releases later.\n",
      "In C:\\ProgramData\\Anaconda3\\lib\\site-packages\\matplotlib\\mpl-data\\stylelib\\_classic_test.mplstyle: \n",
      "The animation.avconv_path rcparam was deprecated in Matplotlib 3.3 and will be removed two minor releases later.\n",
      "In C:\\ProgramData\\Anaconda3\\lib\\site-packages\\matplotlib\\mpl-data\\stylelib\\_classic_test.mplstyle: \n",
      "The animation.avconv_args rcparam was deprecated in Matplotlib 3.3 and will be removed two minor releases later.\n"
     ]
    },
    {
     "name": "stdout",
     "output_type": "stream",
     "text": [
      "2.3.0\n",
      "2.4.0\n"
     ]
    }
   ],
   "source": [
    "## 라이브러리 임포트\n",
    "import tensorflow as tf\n",
    "from tensorflow import keras\n",
    "from tensorflow.keras import layers\n",
    "from tensorflow.keras.utils import to_categorical\n",
    "import numpy as np\n",
    "import matplotlib.pyplot as plt\n",
    "import os\n",
    "\n",
    "print(tf.__version__)\n",
    "print(keras.__version__)"
   ]
  },
  {
   "cell_type": "markdown",
   "metadata": {
    "colab_type": "text",
    "id": "GmM3bHbzdK6e"
   },
   "source": [
    "## 단순 데이터 준비"
   ]
  },
  {
   "cell_type": "code",
   "execution_count": 2,
   "metadata": {
    "colab": {},
    "colab_type": "code",
    "id": "iKIImjvIdK6e"
   },
   "outputs": [],
   "source": [
    "# 'hello'의 각 문자를 원핫인코딩한다.\n",
    "h = [1, 0, 0, 0]\n",
    "e = [0, 1, 0, 0]\n",
    "l = [0, 0, 1, 0]\n",
    "o = [0, 0, 0, 1]"
   ]
  },
  {
   "cell_type": "markdown",
   "metadata": {},
   "source": [
    "# 1. 일대일 RNN의 구현"
   ]
  },
  {
   "cell_type": "markdown",
   "metadata": {
    "colab_type": "text",
    "id": "Htcr7NjPdK6g"
   },
   "source": [
    "![image](https://cloud.githubusercontent.com/assets/901975/23348727/cc981856-fce7-11e6-83ea-4b187473466b.png)"
   ]
  },
  {
   "cell_type": "markdown",
   "metadata": {},
   "source": [
    "##  문제1: 은닉층 유닛을 2로 해서 위의 그래프를 구현해보라. \n"
   ]
  },
  {
   "cell_type": "code",
   "execution_count": 3,
   "metadata": {
    "colab": {
     "base_uri": "https://localhost:8080/",
     "height": 74
    },
    "colab_type": "code",
    "id": "bFedYb4ndK6g",
    "outputId": "eedb1add-b9ce-4588-b322-195a007efab5"
   },
   "outputs": [
    {
     "name": "stdout",
     "output_type": "stream",
     "text": [
      "x_data: [[[1. 0. 0. 0.]]], shape: (1, 1, 4)\n",
      "outputs: [[[ 0.6257889 -0.7274273]]], shape: (1, 1, 2)\n",
      "states: [[ 0.6257889 -0.7274273]], shape: (1, 2)\n"
     ]
    }
   ],
   "source": [
    "### 힌트: SimpleRNN을 사용하고, units= hidden_size, return_sequences=True, return_state=True)로 설정해보라.\n",
    "\n",
    "x_data = np.array([[h]], dtype=np.float32)\n",
    "hidden_size = 2\n",
    "\n",
    "###################################\n",
    "\n",
    "                                              #타임스텝마다 출력 (만약 False이면 마지막스텝에서만 출력)\n",
    "                                              #배치끝의 state가 다음 배치의 초기값이 된다.(연결된다.)\n",
    "##################################\n",
    "\n",
    "outputs, states = rnn(x_data)\n",
    "\n",
    "print('x_data: {}, shape: {}'.format(x_data, x_data.shape))\n",
    "print('outputs: {}, shape: {}'.format(outputs, outputs.shape))\n",
    "print('states: {}, shape: {}'.format(states, states.shape))"
   ]
  },
  {
   "cell_type": "markdown",
   "metadata": {
    "colab_type": "text",
    "id": "UIw7AdaWdK6i"
   },
   "source": [
    "## 2. 위의 RNN을 n 시퀀스로 펼쳐보자."
   ]
  },
  {
   "cell_type": "markdown",
   "metadata": {
    "colab_type": "text",
    "id": "PKneEmxBdK6i"
   },
   "source": [
    "![image](https://cloud.githubusercontent.com/assets/901975/23383634/649efd0a-fd82-11e6-925d-8041242743b0.png)"
   ]
  },
  {
   "cell_type": "markdown",
   "metadata": {},
   "source": [
    "# 문제2: 위의 그래프를 구현해보라."
   ]
  },
  {
   "cell_type": "code",
   "execution_count": 4,
   "metadata": {
    "colab": {
     "base_uri": "https://localhost:8080/",
     "height": 188
    },
    "colab_type": "code",
    "id": "3g9F6Pm1dK6j",
    "outputId": "2e1a6642-50e7-4b63-f8f0-00155981ca9f"
   },
   "outputs": [
    {
     "name": "stdout",
     "output_type": "stream",
     "text": [
      "x_data: [[[1. 0. 0. 0.]\n",
      "  [0. 1. 0. 0.]\n",
      "  [0. 0. 1. 0.]\n",
      "  [0. 0. 1. 0.]\n",
      "  [0. 0. 0. 1.]]], shape: (1, 5, 4) \n",
      "\n",
      "outputs: [[[-0.2097184   0.24345548]\n",
      "  [ 0.5169038  -0.5665519 ]\n",
      "  [ 0.8769983   0.23713498]\n",
      "  [ 0.92523515 -0.53646564]\n",
      "  [ 0.5688113  -0.47777387]]], shape: (1, 5, 2) \n",
      "\n",
      "states: [[ 0.5688113  -0.47777387]], shape: (1, 2)\n"
     ]
    }
   ],
   "source": [
    "# 여전히 One cell RNN을 사용한다. 단 sequence가 5가 된다. \n",
    "# input_dim (4) -> output_dim (2) \n",
    "\n",
    "x_data = np.array([[h, e, l, l, o]], dtype=np.float32)\n",
    "\n",
    "hidden_size = 2\n",
    "\n",
    "###################################\n",
    "\n",
    "                                          ,  #타임스텝마다 출력 (만약 False이면 마지막스텝에서만 출력)\n",
    "                                            #배치끝의 state가 다음 배치의 초기값이 된다.(연결된다.)\n",
    "\n",
    "##################################\n",
    "\n",
    "\n",
    "outputs, states = rnn(x_data)\n",
    "\n",
    "print('x_data: {}, shape: {} \\n'.format(x_data, x_data.shape))\n",
    "print('outputs: {}, shape: {} \\n'.format(outputs, outputs.shape))\n",
    "print('states: {}, shape: {}'.format(states, states.shape))"
   ]
  },
  {
   "cell_type": "markdown",
   "metadata": {
    "colab_type": "text",
    "id": "JKrFJ-v_dK6l"
   },
   "source": [
    "# 3.배치로 입력을 넣어보자."
   ]
  },
  {
   "cell_type": "markdown",
   "metadata": {
    "colab_type": "text",
    "id": "BB3GPvH0dK6l"
   },
   "source": [
    "![image](https://cloud.githubusercontent.com/assets/901975/23383681/9943a9fc-fd82-11e6-8121-bd187994e249.png)"
   ]
  },
  {
   "cell_type": "markdown",
   "metadata": {},
   "source": [
    "# 문제3: 위의 그래프를 구현해보라."
   ]
  },
  {
   "cell_type": "code",
   "execution_count": 5,
   "metadata": {
    "colab": {
     "base_uri": "https://localhost:8080/",
     "height": 758
    },
    "colab_type": "code",
    "id": "vugcwuridK6l",
    "outputId": "02aaa67a-945c-4799-81f7-fb783ff4b211"
   },
   "outputs": [
    {
     "name": "stdout",
     "output_type": "stream",
     "text": [
      "x_data: [[[1. 0. 0. 0.]\n",
      "  [0. 1. 0. 0.]\n",
      "  [0. 0. 1. 0.]\n",
      "  [0. 0. 1. 0.]\n",
      "  [0. 0. 0. 1.]]\n",
      "\n",
      " [[0. 1. 0. 0.]\n",
      "  [0. 0. 0. 1.]\n",
      "  [0. 0. 1. 0.]\n",
      "  [0. 0. 1. 0.]\n",
      "  [0. 0. 1. 0.]]\n",
      "\n",
      " [[0. 0. 1. 0.]\n",
      "  [0. 0. 1. 0.]\n",
      "  [0. 1. 0. 0.]\n",
      "  [0. 1. 0. 0.]\n",
      "  [0. 0. 1. 0.]]], shape: (3, 5, 4) \n",
      "\n",
      "outputs: [[[-0.2170225  -0.64617944]\n",
      "  [ 0.13833879  0.25395793]\n",
      "  [ 0.09835469 -0.45742628]\n",
      "  [ 0.63252413 -0.6598844 ]\n",
      "  [ 0.86949605  0.0510057 ]]\n",
      "\n",
      " [[-0.36445814  0.6036662 ]\n",
      "  [-0.20741378 -0.3901371 ]\n",
      "  [ 0.5158639  -0.7826869 ]\n",
      "  [ 0.83411795 -0.48063093]\n",
      "  [ 0.7769072  -0.11630232]]\n",
      "\n",
      " [[ 0.2766424  -0.61443895]\n",
      "  [ 0.7430021  -0.59442323]\n",
      "  [ 0.41680375  0.8247635 ]\n",
      "  [-0.75989157  0.8830771 ]\n",
      "  [-0.6731401  -0.79989284]]], shape: (3, 5, 2) \n",
      "\n",
      "states: [[ 0.86949605  0.0510057 ]\n",
      " [ 0.7769072  -0.11630232]\n",
      " [-0.6731401  -0.79989284]], shape: (3, 2)\n"
     ]
    }
   ],
   "source": [
    "# 여전히 One cell RNN을 사용한다. 이번에는 배치가 3이다. \n",
    "# input_dim (4) -> output_dim (2). sequence: 5, batch 3\n",
    "# 3 배치는 다음으로 하자 (임의)\n",
    "# 'hello', 'eolll', 'lleel'\n",
    "\n",
    "x_data = np.array([[h, e, l, l, o],\n",
    "                   [e, o, l, l, l],\n",
    "                   [l, l, e, e, l]], dtype=np.float32)\n",
    "\n",
    "hidden_size = 2\n",
    "\n",
    "###################################\n",
    "\n",
    "                                               #타임스텝마다 출력 (만약 False이면 마지막스텝에서만 출력)\n",
    "                                                #배치끝의 state가 다음 배치의 초기값이 된다.(연결된다.)\n",
    "\n",
    "##################################\n",
    "\n",
    "\n",
    "outputs, states = rnn(x_data)\n",
    "\n",
    "print('x_data: {}, shape: {} \\n'.format(x_data, x_data.shape))\n",
    "print('outputs: {}, shape: {} \\n'.format(outputs, outputs.shape))\n",
    "print('states: {}, shape: {}'.format(states, states.shape))"
   ]
  },
  {
   "cell_type": "markdown",
   "metadata": {
    "colab_type": "text",
    "id": "zYqgelI-dK6n"
   },
   "source": [
    "# 4. No return sequences"
   ]
  },
  {
   "cell_type": "markdown",
   "metadata": {},
   "source": [
    "### 문제4: return_sequences=False로 놓고 결과를 확인하라."
   ]
  },
  {
   "cell_type": "code",
   "execution_count": 6,
   "metadata": {
    "colab": {
     "base_uri": "https://localhost:8080/",
     "height": 492
    },
    "colab_type": "code",
    "id": "FrirRXvedK6n",
    "outputId": "5ea50b6b-e81d-4cf5-a0d3-afeb93814c4e"
   },
   "outputs": [
    {
     "name": "stdout",
     "output_type": "stream",
     "text": [
      "x_data: [[[1. 0. 0. 0.]\n",
      "  [0. 1. 0. 0.]\n",
      "  [0. 0. 1. 0.]\n",
      "  [0. 0. 1. 0.]\n",
      "  [0. 0. 0. 1.]]\n",
      "\n",
      " [[0. 1. 0. 0.]\n",
      "  [0. 0. 0. 1.]\n",
      "  [0. 0. 1. 0.]\n",
      "  [0. 0. 1. 0.]\n",
      "  [0. 0. 1. 0.]]\n",
      "\n",
      " [[0. 0. 1. 0.]\n",
      "  [0. 0. 1. 0.]\n",
      "  [0. 1. 0. 0.]\n",
      "  [0. 1. 0. 0.]\n",
      "  [0. 0. 1. 0.]]], shape: (3, 5, 4) \n",
      "\n",
      "outputs: [[ 0.6756506   0.28895774]\n",
      " [ 0.01089792 -0.3870209 ]\n",
      " [-0.73398936 -0.6838648 ]], shape: (3, 2) \n",
      "\n",
      "states: [[ 0.6756506   0.28895774]\n",
      " [ 0.01089792 -0.3870209 ]\n",
      " [-0.73398936 -0.6838648 ]], shape: (3, 2)\n"
     ]
    }
   ],
   "source": [
    "# return_sequences=False로 놓고 결과를 확인하라.\n",
    "\n",
    "###################################\n",
    "\n",
    "\n",
    "\n",
    "\n",
    "##################################\n",
    "\n",
    "\n",
    "outputs, states = rnn(x_data)\n",
    "\n",
    "print('x_data: {}, shape: {} \\n'.format(x_data, x_data.shape))\n",
    "print('outputs: {}, shape: {} \\n'.format(outputs, outputs.shape))\n",
    "print('states: {}, shape: {}'.format(states, states.shape))"
   ]
  },
  {
   "cell_type": "markdown",
   "metadata": {
    "colab_type": "text",
    "id": "zkKMcUR2dK6p"
   },
   "source": [
    "# 5. No return state\n",
    "### 문제5: return_state=False도 추가하고 결과를 살펴보자."
   ]
  },
  {
   "cell_type": "code",
   "execution_count": 7,
   "metadata": {
    "colab": {
     "base_uri": "https://localhost:8080/",
     "height": 435
    },
    "colab_type": "code",
    "id": "Af9Ijmy3dK6q",
    "outputId": "2d52d9d9-3118-4e07-e9f1-21f41743e45e"
   },
   "outputs": [
    {
     "name": "stdout",
     "output_type": "stream",
     "text": [
      "x_data: [[[1. 0. 0. 0.]\n",
      "  [0. 1. 0. 0.]\n",
      "  [0. 0. 1. 0.]\n",
      "  [0. 0. 1. 0.]\n",
      "  [0. 0. 0. 1.]]\n",
      "\n",
      " [[0. 1. 0. 0.]\n",
      "  [0. 0. 0. 1.]\n",
      "  [0. 0. 1. 0.]\n",
      "  [0. 0. 1. 0.]\n",
      "  [0. 0. 1. 0.]]\n",
      "\n",
      " [[0. 0. 1. 0.]\n",
      "  [0. 0. 1. 0.]\n",
      "  [0. 1. 0. 0.]\n",
      "  [0. 1. 0. 0.]\n",
      "  [0. 0. 1. 0.]]], shape: (3, 5, 4) \n",
      "\n",
      "outputs: [[ 0.8772149   0.30095142]\n",
      " [-0.26860473 -0.9272253 ]\n",
      " [-0.23153694 -0.8045113 ]], shape: (3, 2) \n",
      "\n"
     ]
    }
   ],
   "source": [
    "# return_state=False도 추가하고 결과를 살펴보자.\n",
    "###################################\n",
    "\n",
    "\n",
    "\n",
    "\n",
    "##################################\n",
    "\n",
    "outputs= rnn(x_data)  # state가 안 나온다.\n",
    "\n",
    "print('x_data: {}, shape: {} \\n'.format(x_data, x_data.shape))\n",
    "print('outputs: {}, shape: {} \\n'.format(outputs, outputs.shape))"
   ]
  },
  {
   "cell_type": "markdown",
   "metadata": {
    "colab_type": "text",
    "id": "MS4vutFIdK6t"
   },
   "source": [
    "# 6. LSTM을 사용해보자."
   ]
  },
  {
   "cell_type": "markdown",
   "metadata": {},
   "source": [
    "### 문제6: LSTM을 구축해보라. LSTM의 출력은 outputs(출력), h_states(은닉상태), 그리고 c_states(셀상태)가 나온다."
   ]
  },
  {
   "cell_type": "code",
   "execution_count": 8,
   "metadata": {},
   "outputs": [
    {
     "name": "stdout",
     "output_type": "stream",
     "text": [
      "x_data: [[[1. 0. 0. 0.]\n",
      "  [0. 1. 0. 0.]\n",
      "  [0. 0. 1. 0.]\n",
      "  [0. 0. 1. 0.]\n",
      "  [0. 0. 0. 1.]]\n",
      "\n",
      " [[0. 1. 0. 0.]\n",
      "  [0. 0. 0. 1.]\n",
      "  [0. 0. 1. 0.]\n",
      "  [0. 0. 1. 0.]\n",
      "  [0. 0. 1. 0.]]\n",
      "\n",
      " [[0. 0. 1. 0.]\n",
      "  [0. 0. 1. 0.]\n",
      "  [0. 1. 0. 0.]\n",
      "  [0. 1. 0. 0.]\n",
      "  [0. 0. 1. 0.]]], shape: (3, 5, 4) \n",
      "\n",
      "outputs: [[ 0.06109415 -0.08661051]\n",
      " [ 0.26523858 -0.13080338]\n",
      " [ 0.26747844 -0.09771931]], shape: (3, 2) \n",
      "\n",
      "hidden_states: [[ 0.06109415 -0.08661051]\n",
      " [ 0.26523858 -0.13080338]\n",
      " [ 0.26747844 -0.09771931]], shape: (3, 2)\n",
      "cell_states: [[ 0.10253483 -0.24091496]\n",
      " [ 0.590971   -0.3627542 ]\n",
      " [ 0.5913715  -0.26333365]], shape: (3, 2)\n"
     ]
    }
   ],
   "source": [
    "###################################\n",
    "\n",
    "\n",
    "\n",
    "\n",
    "##################################\n",
    "\n",
    "outputs, h_states, c_states = rnn(x_data)\n",
    "\n",
    "print('x_data: {}, shape: {} \\n'.format(x_data, x_data.shape))\n",
    "print('outputs: {}, shape: {} \\n'.format(outputs, outputs.shape))\n",
    "print('hidden_states: {}, shape: {}'.format(h_states, h_states.shape))\n",
    "print('cell_states: {}, shape: {}'.format(c_states, c_states.shape))"
   ]
  },
  {
   "cell_type": "markdown",
   "metadata": {
    "colab_type": "text",
    "id": "_-ZaJI9udK6v"
   },
   "source": [
    "## 7. GRU와 비교해보자\n"
   ]
  },
  {
   "cell_type": "markdown",
   "metadata": {},
   "source": [
    "### 문제7: GRU를 구축하라 GRU의 출력은 outputs(출력)과 state(은닉상태)이다. (굳이 cell state를 사용하지 않는다.)"
   ]
  },
  {
   "cell_type": "code",
   "execution_count": 9,
   "metadata": {
    "colab": {
     "base_uri": "https://localhost:8080/",
     "height": 492
    },
    "colab_type": "code",
    "id": "8rHmUryRdK6t",
    "outputId": "70e46ff2-9b6a-445b-b0e9-c45ecbc7f6be"
   },
   "outputs": [
    {
     "name": "stdout",
     "output_type": "stream",
     "text": [
      "x_data: [[[1. 0. 0. 0.]\n",
      "  [0. 1. 0. 0.]\n",
      "  [0. 0. 1. 0.]\n",
      "  [0. 0. 1. 0.]\n",
      "  [0. 0. 0. 1.]]\n",
      "\n",
      " [[0. 1. 0. 0.]\n",
      "  [0. 0. 0. 1.]\n",
      "  [0. 0. 1. 0.]\n",
      "  [0. 0. 1. 0.]\n",
      "  [0. 0. 1. 0.]]\n",
      "\n",
      " [[0. 0. 1. 0.]\n",
      "  [0. 0. 1. 0.]\n",
      "  [0. 1. 0. 0.]\n",
      "  [0. 1. 0. 0.]\n",
      "  [0. 0. 1. 0.]]], shape: (3, 5, 4) \n",
      "\n",
      "outputs: [[0.22373572 0.23668118]\n",
      " [0.28993392 0.02246661]\n",
      " [0.162048   0.19362955]], shape: (3, 2) \n",
      "\n",
      "states: [[0.22373572 0.23668118]\n",
      " [0.28993392 0.02246661]\n",
      " [0.162048   0.19362955]], shape: (3, 2)\n"
     ]
    }
   ],
   "source": [
    "###################################\n",
    "\n",
    "\n",
    "\n",
    "\n",
    "##################################\n",
    "\n",
    "outputs, states = rnn(x_data)\n",
    "\n",
    "print('x_data: {}, shape: {} \\n'.format(x_data, x_data.shape))\n",
    "print('outputs: {}, shape: {} \\n'.format(outputs, outputs.shape))\n",
    "print('states: {}, shape: {}'.format(states, states.shape))"
   ]
  },
  {
   "cell_type": "markdown",
   "metadata": {
    "colab_type": "text",
    "id": "V4U4nH9sdK6x"
   },
   "source": [
    "# 8.RNN을 적층으로 쌓아보자 (Stacked RNN)"
   ]
  },
  {
   "cell_type": "markdown",
   "metadata": {},
   "source": [
    "#### 문제8. LSTM을 3개층을 쌓아보라"
   ]
  },
  {
   "cell_type": "code",
   "execution_count": 15,
   "metadata": {
    "colab": {
     "base_uri": "https://localhost:8080/",
     "height": 283
    },
    "colab_type": "code",
    "id": "3vkkKPwadK6x",
    "outputId": "8429154e-1ae7-4a1a-b8f1-5b0395de8239"
   },
   "outputs": [
    {
     "name": "stdout",
     "output_type": "stream",
     "text": [
      "Model: \"sequential_3\"\n",
      "_________________________________________________________________\n",
      "Layer (type)                 Output Shape              Param #   \n",
      "=================================================================\n",
      "lstm_7 (LSTM)                (None, 5, 2)              56        \n",
      "_________________________________________________________________\n",
      "lstm_8 (LSTM)                (None, 5, 2)              40        \n",
      "_________________________________________________________________\n",
      "lstm_9 (LSTM)                (None, 5, 2)              40        \n",
      "=================================================================\n",
      "Total params: 136\n",
      "Trainable params: 136\n",
      "Non-trainable params: 0\n",
      "_________________________________________________________________\n"
     ]
    }
   ],
   "source": [
    "###################################\n",
    "\n",
    "\n",
    "\n",
    "\n",
    "##################################\n",
    "\n",
    "model.summary()"
   ]
  },
  {
   "cell_type": "markdown",
   "metadata": {
    "colab_type": "text",
    "id": "cDH9IFkvpexS"
   },
   "source": [
    "# [실습1] RNN을 이용하여 MNIST Classification 학습하기 \n",
    "  \n",
    "\n",
    "MNIST Image를 한 line씩 RNN에 입력하여 classification을 하는 실습을 해보겠습니다."
   ]
  },
  {
   "cell_type": "code",
   "execution_count": 16,
   "metadata": {
    "colab": {},
    "colab_type": "code",
    "id": "6aFxV5JNdK6z"
   },
   "outputs": [],
   "source": [
    "## 하이퍼 파라미터\n",
    "learning_rate = 0.001\n",
    "training_epochs = 15\n",
    "batch_size = 100\n",
    "n_class = 10"
   ]
  },
  {
   "cell_type": "code",
   "execution_count": 17,
   "metadata": {
    "colab": {},
    "colab_type": "code",
    "id": "miNAOFXNpl8T"
   },
   "outputs": [],
   "source": [
    "## Data 준비\n",
    "## MNIST Dataset #########################################################\n",
    "mnist = keras.datasets.mnist\n",
    "class_names = ['0', '1', '2', '3', '4', '5', '6', '7', '8', '9']\n",
    "##########################################################################\n",
    "\n",
    "## Fashion MNIST Dataset #################################################\n",
    "#mnist = keras.datasets.fashion_mnist\n",
    "#class_names = ['T-shirt/top', 'Trouser', 'Pullover', 'Dress', 'Coat', 'Sandal', 'Shirt', 'Sneaker', 'Bag', 'Ankle boot']\n",
    "##########################################################################"
   ]
  },
  {
   "cell_type": "code",
   "execution_count": 18,
   "metadata": {
    "colab": {
     "base_uri": "https://localhost:8080/",
     "height": 74
    },
    "colab_type": "code",
    "id": "MWXMlAvBprPr",
    "outputId": "5c4de209-3db9-4950-e2c8-078378e882f3"
   },
   "outputs": [
    {
     "name": "stdout",
     "output_type": "stream",
     "text": [
      "(60000, 28, 28) (10000, 28, 28)\n"
     ]
    }
   ],
   "source": [
    "## Dataset 만들기\n",
    "(train_images, train_labels), (test_images, test_labels) = mnist.load_data()\n",
    "\n",
    "n_train = train_images.shape[0]\n",
    "n_test = test_images.shape[0]\n",
    "print(train_images.shape, test_images.shape)"
   ]
  },
  {
   "cell_type": "code",
   "execution_count": 19,
   "metadata": {
    "colab": {},
    "colab_type": "code",
    "id": "RddODKrhpypG"
   },
   "outputs": [],
   "source": [
    "# pixel값을 0~1사이 범위로 조정\n",
    "train_images = train_images.astype(np.float32) / 255.\n",
    "test_images = test_images.astype(np.float32) / 255.\n",
    "\n",
    "# label을 onehot-encoding\n",
    "train_labels = to_categorical(train_labels, 10)\n",
    "test_labels = to_categorical(test_labels, 10)    \n",
    "\n",
    "# Dataset 구성\n",
    "train_dataset = tf.data.Dataset.from_tensor_slices((train_images, train_labels)).shuffle(\n",
    "                buffer_size=100000).batch(batch_size).repeat()\n",
    "test_dataset = tf.data.Dataset.from_tensor_slices((test_images, test_labels)).batch(batch_size).repeat()"
   ]
  },
  {
   "cell_type": "markdown",
   "metadata": {},
   "source": [
    "### 문제9: LSTM 모델을 구축해보라. (LSTM -> Dense를 쌓고 softmax를 사용해보라.)"
   ]
  },
  {
   "cell_type": "code",
   "execution_count": 24,
   "metadata": {
    "colab": {},
    "colab_type": "code",
    "id": "yTG07duup1hk"
   },
   "outputs": [],
   "source": [
    "## Model 만들기 (아리 서머리 참조)\n",
    "def create_model():\n",
    "    \n",
    "    ###################################\n",
    "\n",
    "    \n",
    "    \n",
    "    ##################################\n",
    "\n",
    "    return model"
   ]
  },
  {
   "cell_type": "code",
   "execution_count": 25,
   "metadata": {
    "colab": {
     "base_uri": "https://localhost:8080/",
     "height": 245
    },
    "colab_type": "code",
    "id": "cDs9Ff3nqOgQ",
    "outputId": "3393b228-444f-482c-feea-06a5d24476ee"
   },
   "outputs": [
    {
     "name": "stdout",
     "output_type": "stream",
     "text": [
      "Model: \"sequential_6\"\n",
      "_________________________________________________________________\n",
      "Layer (type)                 Output Shape              Param #   \n",
      "=================================================================\n",
      "lstm_10 (LSTM)               (None, 128)               80384     \n",
      "_________________________________________________________________\n",
      "dense (Dense)                (None, 10)                1290      \n",
      "=================================================================\n",
      "Total params: 81,674\n",
      "Trainable params: 81,674\n",
      "Non-trainable params: 0\n",
      "_________________________________________________________________\n"
     ]
    }
   ],
   "source": [
    "model = create_model()\n",
    "model.summary()"
   ]
  },
  {
   "cell_type": "code",
   "execution_count": 26,
   "metadata": {
    "colab": {},
    "colab_type": "code",
    "id": "j5OAYI4CqQs4"
   },
   "outputs": [],
   "source": [
    "## 모델 컴파일\n",
    "model.compile(optimizer=keras.optimizers.Adam(learning_rate),\n",
    "              loss='categorical_crossentropy',\n",
    "              metrics=['accuracy'])"
   ]
  },
  {
   "cell_type": "code",
   "execution_count": 27,
   "metadata": {
    "colab": {},
    "colab_type": "code",
    "id": "x-6dXUpOrZOS"
   },
   "outputs": [],
   "source": [
    "## 적합화를 위한 준비\n",
    "steps_per_epoch = n_train/batch_size\n",
    "validation_steps = n_test/batch_size"
   ]
  },
  {
   "cell_type": "code",
   "execution_count": 28,
   "metadata": {
    "colab": {
     "base_uri": "https://localhost:8080/",
     "height": 606
    },
    "colab_type": "code",
    "id": "bAL4CxnLrb0i",
    "outputId": "3a051aa4-bf67-49a5-ad40-635a832f3489"
   },
   "outputs": [
    {
     "name": "stdout",
     "output_type": "stream",
     "text": [
      "Epoch 1/15\n",
      "600/600 [==============================] - 34s 57ms/step - loss: 0.4771 - accuracy: 0.8441 - val_loss: 0.1715 - val_accuracy: 0.9471\n",
      "Epoch 2/15\n",
      "600/600 [==============================] - 29s 48ms/step - loss: 0.1407 - accuracy: 0.9565 - val_loss: 0.1020 - val_accuracy: 0.9680\n",
      "Epoch 3/15\n",
      "600/600 [==============================] - 30s 50ms/step - loss: 0.0967 - accuracy: 0.9705 - val_loss: 0.0763 - val_accuracy: 0.9752\n",
      "Epoch 4/15\n",
      "600/600 [==============================] - 29s 48ms/step - loss: 0.0709 - accuracy: 0.9787 - val_loss: 0.0767 - val_accuracy: 0.9771\n",
      "Epoch 5/15\n",
      "600/600 [==============================] - 28s 47ms/step - loss: 0.0595 - accuracy: 0.9821 - val_loss: 0.0643 - val_accuracy: 0.9794\n",
      "Epoch 6/15\n",
      "600/600 [==============================] - 28s 47ms/step - loss: 0.0482 - accuracy: 0.9847 - val_loss: 0.0556 - val_accuracy: 0.9814\n",
      "Epoch 7/15\n",
      "600/600 [==============================] - 29s 48ms/step - loss: 0.0423 - accuracy: 0.9871 - val_loss: 0.0536 - val_accuracy: 0.9836\n",
      "Epoch 8/15\n",
      "600/600 [==============================] - 29s 49ms/step - loss: 0.0359 - accuracy: 0.9889 - val_loss: 0.0493 - val_accuracy: 0.9856\n",
      "Epoch 9/15\n",
      "600/600 [==============================] - 29s 48ms/step - loss: 0.0328 - accuracy: 0.9898 - val_loss: 0.0497 - val_accuracy: 0.9842\n",
      "Epoch 10/15\n",
      "600/600 [==============================] - 30s 50ms/step - loss: 0.0284 - accuracy: 0.9912 - val_loss: 0.0455 - val_accuracy: 0.9845\n",
      "Epoch 11/15\n",
      "600/600 [==============================] - 27s 45ms/step - loss: 0.0269 - accuracy: 0.9918 - val_loss: 0.0548 - val_accuracy: 0.9836\n",
      "Epoch 12/15\n",
      "600/600 [==============================] - 26s 43ms/step - loss: 0.0238 - accuracy: 0.9923 - val_loss: 0.0463 - val_accuracy: 0.9867\n",
      "Epoch 13/15\n",
      "600/600 [==============================] - 27s 45ms/step - loss: 0.0224 - accuracy: 0.9931 - val_loss: 0.0458 - val_accuracy: 0.9863\n",
      "Epoch 14/15\n",
      "600/600 [==============================] - 29s 48ms/step - loss: 0.0209 - accuracy: 0.9935 - val_loss: 0.0456 - val_accuracy: 0.9871\n",
      "Epoch 15/15\n",
      "600/600 [==============================] - 28s 47ms/step - loss: 0.0177 - accuracy: 0.9941 - val_loss: 0.0564 - val_accuracy: 0.9844\n"
     ]
    }
   ],
   "source": [
    "## 모델 적합화\n",
    "history = model.fit(train_dataset, epochs=training_epochs, steps_per_epoch=steps_per_epoch, \n",
    "                    validation_data=test_dataset, validation_steps=validation_steps)"
   ]
  },
  {
   "cell_type": "code",
   "execution_count": 29,
   "metadata": {
    "colab": {},
    "colab_type": "code",
    "id": "DktblJMwreQ5"
   },
   "outputs": [],
   "source": [
    "def plot_image(i, predictions_array, true_label, img):\n",
    "    predictions_array, true_label, img = predictions_array[i], true_label[i], img[i]\n",
    "    plt.grid(False)\n",
    "    plt.xticks([])\n",
    "    plt.yticks([])\n",
    "\n",
    "    plt.imshow(img,cmap=plt.cm.binary)\n",
    "\n",
    "    predicted_label = np.argmax(predictions_array)\n",
    "    if predicted_label == true_label:\n",
    "        color = 'blue'\n",
    "    else:\n",
    "        color = 'red'\n",
    "\n",
    "    plt.xlabel(\"{} {:2.0f}% ({})\".format(class_names[predicted_label],\n",
    "                                100*np.max(predictions_array),\n",
    "                                class_names[true_label]),\n",
    "                                color=color)\n",
    "\n",
    "def plot_value_array(i, predictions_array, true_label):\n",
    "    predictions_array, true_label = predictions_array[i], true_label[i]\n",
    "    plt.grid(False)\n",
    "    #plt.xticks([])\n",
    "    plt.xticks(range(n_class), class_names, rotation=90)\n",
    "    plt.yticks([])\n",
    "    thisplot = plt.bar(range(n_class), predictions_array, color=\"#777777\")\n",
    "    plt.ylim([0, 1]) \n",
    "    predicted_label = np.argmax(predictions_array)\n",
    " \n",
    "    thisplot[predicted_label].set_color('red')\n",
    "    thisplot[true_label].set_color('blue')"
   ]
  },
  {
   "cell_type": "code",
   "execution_count": 30,
   "metadata": {
    "colab": {
     "base_uri": "https://localhost:8080/",
     "height": 1000
    },
    "colab_type": "code",
    "id": "d8o6MGhtryj7",
    "outputId": "8c10e919-1f1a-4b43-d09c-a3c6cb7b4d2d"
   },
   "outputs": [
    {
     "data": {
      "image/png": "[encoded data removed]",
      "text/plain": [
       "<Figure size 1296x1440 with 30 Axes>"
      ]
     },
     "metadata": {
      "needs_background": "light"
     },
     "output_type": "display_data"
    }
   ],
   "source": [
    "rnd_idx = np.random.randint(1, n_test//batch_size)\n",
    "img_cnt = 0\n",
    "for images, labels in test_dataset:\n",
    "    img_cnt += 1\n",
    "    if img_cnt != rnd_idx:\n",
    "        continue\n",
    "    predictions = model(images, training=False)\n",
    "    num_rows = 5\n",
    "    num_cols = 3\n",
    "    num_images = num_rows*num_cols\n",
    "    labels = tf.argmax(labels, axis=-1)\n",
    "    plt.figure(figsize=(3*2*num_cols, 4*num_rows))\n",
    "    plt.subplots_adjust(hspace=1.0)\n",
    "    for i in range(num_images):\n",
    "        plt.subplot(num_rows, 2*num_cols, 2*i+1)\n",
    "        plot_image(i, predictions.numpy(), labels.numpy(), images.numpy())\n",
    "        plt.subplot(num_rows, 2*num_cols, 2*i+2)\n",
    "        plot_value_array(i, predictions.numpy(), labels.numpy())        \n",
    "    break"
   ]
  },
  {
   "cell_type": "markdown",
   "metadata": {
    "colab_type": "text",
    "id": "wk1jIlSw-2x4"
   },
   "source": [
    "# [실습2] Stock Prediction with RNN  \n",
    "### RNN을 이용한 간단한 주식 예측 모델을 학습해보겠습니다."
   ]
  },
  {
   "cell_type": "code",
   "execution_count": 31,
   "metadata": {
    "colab": {},
    "colab_type": "code",
    "id": "3bNqqzQd6Whr"
   },
   "outputs": [],
   "source": [
    "## 하이퍼 파라미터\n",
    "seq_length = 7\n",
    "data_dim = 5\n",
    "hidden_size = 10\n",
    "output_dim = 1\n",
    "learning_rate = 0.001\n",
    "training_epochs = 500\n",
    "batch_size = 25"
   ]
  },
  {
   "cell_type": "code",
   "execution_count": 32,
   "metadata": {
    "colab": {},
    "colab_type": "code",
    "id": "K3Ag022e-zKG"
   },
   "outputs": [],
   "source": [
    "## 데이터 전처리\n",
    "def MinMaxScaler(data):\n",
    "    numerator = data - np.min(data, 0)\n",
    "    denominator = np.max(data, 0) - np.min(data, 0)\n",
    "    # noise term prevents the zero division\n",
    "    return numerator / (denominator + 1e-7)"
   ]
  },
  {
   "cell_type": "code",
   "execution_count": 33,
   "metadata": {
    "colab": {
     "base_uri": "https://localhost:8080/",
     "height": 132
    },
    "colab_type": "code",
    "id": "ms14m9ou-zM9",
    "outputId": "fbb07834-82a4-4dc1-e4f2-18b9202bcf6b"
   },
   "outputs": [],
   "source": [
    "# ## Google Drive 동기화\n",
    "# from google.colab import drive\n",
    "# drive.mount('/content/drive')"
   ]
  },
  {
   "cell_type": "code",
   "execution_count": 36,
   "metadata": {
    "colab": {},
    "colab_type": "code",
    "id": "MKwGwZEk-zQU"
   },
   "outputs": [],
   "source": [
    "## 데이타 로딩\n",
    "# 시가, 고가, 저가, 거래량, 종가의 순으로 데이터가 저장돼있다.\n",
    "xy = np.loadtxt('data_in/data/data-02-stock_daily.csv', delimiter=',')\n",
    "xy = xy[::-1]  # 데이터를 보면 날짜 순서가 거꾸로 돼있어 바로 잡는다.\n",
    "xy = MinMaxScaler(xy).astype(np.float32) # 정규화하고,\n",
    "x = xy           # 일단 모든 데이터를 다 사용하는데.\n",
    "y = xy[:, [-1]]  # 종가를 레이블로 만든다."
   ]
  },
  {
   "cell_type": "code",
   "execution_count": 37,
   "metadata": {
    "colab": {
     "base_uri": "https://localhost:8080/",
     "height": 1000
    },
    "colab_type": "code",
    "id": "QnnVDttb-zSx",
    "outputId": "a5711233-332d-46d9-e367-7c598a603935"
   },
   "outputs": [],
   "source": [
    "# 데이터 구축  (LSTM에서가장 중요한 부분 중 하나)\n",
    "dataX = []\n",
    "dataY = []\n",
    "for i in range(0, len(y) - seq_length):\n",
    "    _x = x[i:i + seq_length]\n",
    "    _y = y[i + seq_length]  # 다음날의 종가\n",
    "    dataX.append(_x)\n",
    "    dataY.append(_y)"
   ]
  },
  {
   "cell_type": "code",
   "execution_count": 39,
   "metadata": {},
   "outputs": [
    {
     "name": "stdout",
     "output_type": "stream",
     "text": [
      "(725, 7, 5)\n",
      "(725, 1)\n"
     ]
    }
   ],
   "source": [
    "print(np.array(dataX).shape)  #(배치크기, 타임스텝크기 특성수) 여기서 타임스텝은 7이고, 특성수는 시/고저/거래량/종가의 5개다.\n",
    "print(np.array(dataY).shape)"
   ]
  },
  {
   "cell_type": "code",
   "execution_count": 40,
   "metadata": {
    "colab": {
     "base_uri": "https://localhost:8080/",
     "height": 55
    },
    "colab_type": "code",
    "id": "UnxPgxBa-zYa",
    "outputId": "a101f516-18eb-47b7-9545-86e81d80ab0e"
   },
   "outputs": [
    {
     "name": "stdout",
     "output_type": "stream",
     "text": [
      "(525, 7, 5) (525, 1)\n",
      "(200, 7, 5) (200, 1)\n"
     ]
    }
   ],
   "source": [
    "## 훈련/테스트셋 분리\n",
    "train_size = int(len(dataY) * 0.7 + 18)\n",
    "test_size = len(dataY) - train_size\n",
    "trainX, testX = np.array(dataX[0:train_size]), np.array(\n",
    "    dataX[train_size:len(dataX)])\n",
    "trainY, testY = np.array(dataY[0:train_size]), np.array(\n",
    "    dataY[train_size:len(dataY)])\n",
    "print(trainX.shape, trainY.shape)\n",
    "print(testX.shape, testY.shape)"
   ]
  },
  {
   "cell_type": "code",
   "execution_count": 41,
   "metadata": {
    "colab": {},
    "colab_type": "code",
    "id": "3JcRI8SB-zbX"
   },
   "outputs": [],
   "source": [
    "## 데이터셋을 만들자\n",
    "train_dataset = tf.data.Dataset.from_tensor_slices((trainX, trainY)).shuffle(\n",
    "                buffer_size=1000).prefetch(buffer_size=batch_size).batch(batch_size).repeat()\n",
    "test_dataset = tf.data.Dataset.from_tensor_slices((testX, testY)).prefetch(\n",
    "                buffer_size=batch_size).batch(batch_size)"
   ]
  },
  {
   "cell_type": "markdown",
   "metadata": {},
   "source": [
    "# 문제10: 2층 LSTM 모델을 만들어보자  2층 LSTM -> Dense로 구축해보자."
   ]
  },
  {
   "cell_type": "code",
   "execution_count": 47,
   "metadata": {
    "colab": {},
    "colab_type": "code",
    "id": "FoHYZ-6a-zhG"
   },
   "outputs": [],
   "source": [
    "## 모델을 만들자.\n",
    "## 상기: hidden_size = 10, output_dim = 1\n",
    "## trainX.shape = (525, 7, 5)\n",
    "\n",
    "def create_model():\n",
    "    \n",
    "    ###################################\n",
    "\n",
    "    \n",
    "    \n",
    "    \n",
    "    ##################################\n",
    "    \n",
    "    return model"
   ]
  },
  {
   "cell_type": "code",
   "execution_count": 48,
   "metadata": {
    "colab": {
     "base_uri": "https://localhost:8080/",
     "height": 283
    },
    "colab_type": "code",
    "id": "_ERJSNmr-zkt",
    "outputId": "3e25e58f-92a3-418f-8efa-b9d2e2abcc3e"
   },
   "outputs": [
    {
     "name": "stdout",
     "output_type": "stream",
     "text": [
      "Model: \"sequential_9\"\n",
      "_________________________________________________________________\n",
      "Layer (type)                 Output Shape              Param #   \n",
      "=================================================================\n",
      "lstm_14 (LSTM)               (None, 7, 10)             640       \n",
      "_________________________________________________________________\n",
      "lstm_15 (LSTM)               (None, 10)                840       \n",
      "_________________________________________________________________\n",
      "dense_1 (Dense)              (None, 1)                 11        \n",
      "=================================================================\n",
      "Total params: 1,491\n",
      "Trainable params: 1,491\n",
      "Non-trainable params: 0\n",
      "_________________________________________________________________\n"
     ]
    }
   ],
   "source": [
    "model = create_model()\n",
    "model.summary()"
   ]
  },
  {
   "cell_type": "code",
   "execution_count": 50,
   "metadata": {
    "colab": {},
    "colab_type": "code",
    "id": "0I3RI54B-zpi"
   },
   "outputs": [],
   "source": [
    "## 손실함수와 최적화 정의\n",
    "def rmse_opt(learning_rate):\n",
    "    return keras.optimizers.RMSprop(learning_rate)\n",
    "\n",
    "model.compile(optimizer=rmse_opt(learning_rate),\n",
    "              loss='mse',\n",
    "              metrics=[keras.metrics.RootMeanSquaredError()])  "
   ]
  },
  {
   "cell_type": "code",
   "execution_count": 51,
   "metadata": {
    "colab": {
     "base_uri": "https://localhost:8080/",
     "height": 1000
    },
    "colab_type": "code",
    "id": "d7F4q7uC-znT",
    "outputId": "4109e987-e868-4f5d-9f72-260ddf88142c"
   },
   "outputs": [
    {
     "name": "stdout",
     "output_type": "stream",
     "text": [
      "Epoch 1/500\n",
      "21/21 [==============================] - 2s 96ms/step - loss: 0.0821 - root_mean_squared_error: 0.2866 - val_loss: 0.1658 - val_root_mean_squared_error: 0.4072\n",
      "Epoch 2/500\n",
      "21/21 [==============================] - 0s 10ms/step - loss: 0.0197 - root_mean_squared_error: 0.1402 - val_loss: 0.0446 - val_root_mean_squared_error: 0.2112\n",
      "Epoch 3/500\n",
      "21/21 [==============================] - 0s 10ms/step - loss: 0.0073 - root_mean_squared_error: 0.0857 - val_loss: 0.0095 - val_root_mean_squared_error: 0.0973\n",
      "Epoch 4/500\n",
      "21/21 [==============================] - 0s 11ms/step - loss: 0.0035 - root_mean_squared_error: 0.0593 - val_loss: 0.0097 - val_root_mean_squared_error: 0.0986\n",
      "Epoch 5/500\n",
      "21/21 [==============================] - 0s 10ms/step - loss: 0.0034 - root_mean_squared_error: 0.0583 - val_loss: 0.0036 - val_root_mean_squared_error: 0.0601\n",
      "Epoch 6/500\n",
      "21/21 [==============================] - 0s 10ms/step - loss: 0.0032 - root_mean_squared_error: 0.0567 - val_loss: 0.0047 - val_root_mean_squared_error: 0.0686\n",
      "Epoch 7/500\n",
      "21/21 [==============================] - 0s 10ms/step - loss: 0.0029 - root_mean_squared_error: 0.0543 - val_loss: 0.0028 - val_root_mean_squared_error: 0.0532\n",
      "Epoch 8/500\n",
      "21/21 [==============================] - 0s 11ms/step - loss: 0.0031 - root_mean_squared_error: 0.0557 - val_loss: 0.0029 - val_root_mean_squared_error: 0.0542\n",
      "Epoch 9/500\n",
      "21/21 [==============================] - 0s 11ms/step - loss: 0.0031 - root_mean_squared_error: 0.0554 - val_loss: 0.0043 - val_root_mean_squared_error: 0.0656\n",
      "Epoch 10/500\n",
      "21/21 [==============================] - 0s 11ms/step - loss: 0.0029 - root_mean_squared_error: 0.0534 - val_loss: 0.0030 - val_root_mean_squared_error: 0.0551\n",
      "Epoch 11/500\n",
      "21/21 [==============================] - 0s 10ms/step - loss: 0.0029 - root_mean_squared_error: 0.0540 - val_loss: 0.0029 - val_root_mean_squared_error: 0.0539\n",
      "Epoch 12/500\n",
      "21/21 [==============================] - 0s 10ms/step - loss: 0.0028 - root_mean_squared_error: 0.0534 - val_loss: 0.0021 - val_root_mean_squared_error: 0.0462\n",
      "Epoch 13/500\n",
      "21/21 [==============================] - 0s 10ms/step - loss: 0.0028 - root_mean_squared_error: 0.0528 - val_loss: 0.0027 - val_root_mean_squared_error: 0.0516\n",
      "Epoch 14/500\n",
      "21/21 [==============================] - 0s 10ms/step - loss: 0.0027 - root_mean_squared_error: 0.0518 - val_loss: 0.0016 - val_root_mean_squared_error: 0.0401\n",
      "Epoch 15/500\n",
      "21/21 [==============================] - 0s 10ms/step - loss: 0.0028 - root_mean_squared_error: 0.0529 - val_loss: 0.0033 - val_root_mean_squared_error: 0.0578\n",
      "Epoch 16/500\n",
      "21/21 [==============================] - 0s 10ms/step - loss: 0.0027 - root_mean_squared_error: 0.0517 - val_loss: 0.0032 - val_root_mean_squared_error: 0.0569\n",
      "Epoch 17/500\n",
      "21/21 [==============================] - 0s 11ms/step - loss: 0.0028 - root_mean_squared_error: 0.0526 - val_loss: 0.0016 - val_root_mean_squared_error: 0.0399\n",
      "Epoch 18/500\n",
      "21/21 [==============================] - 0s 12ms/step - loss: 0.0028 - root_mean_squared_error: 0.0525 - val_loss: 0.0023 - val_root_mean_squared_error: 0.0476\n",
      "Epoch 19/500\n",
      "21/21 [==============================] - 0s 11ms/step - loss: 0.0027 - root_mean_squared_error: 0.0522 - val_loss: 0.0023 - val_root_mean_squared_error: 0.0478\n",
      "Epoch 20/500\n",
      "21/21 [==============================] - 0s 10ms/step - loss: 0.0026 - root_mean_squared_error: 0.0513 - val_loss: 0.0018 - val_root_mean_squared_error: 0.0428\n",
      "Epoch 21/500\n",
      "21/21 [==============================] - 0s 10ms/step - loss: 0.0025 - root_mean_squared_error: 0.0505 - val_loss: 0.0037 - val_root_mean_squared_error: 0.0611\n",
      "Epoch 22/500\n",
      "21/21 [==============================] - 0s 11ms/step - loss: 0.0026 - root_mean_squared_error: 0.0512 - val_loss: 0.0037 - val_root_mean_squared_error: 0.0611\n",
      "Epoch 23/500\n",
      "21/21 [==============================] - 0s 11ms/step - loss: 0.0025 - root_mean_squared_error: 0.0504 - val_loss: 0.0016 - val_root_mean_squared_error: 0.0406\n",
      "Epoch 24/500\n",
      "21/21 [==============================] - 0s 13ms/step - loss: 0.0026 - root_mean_squared_error: 0.0509 - val_loss: 0.0020 - val_root_mean_squared_error: 0.0446\n",
      "Epoch 25/500\n",
      "21/21 [==============================] - 0s 12ms/step - loss: 0.0025 - root_mean_squared_error: 0.0503 - val_loss: 0.0016 - val_root_mean_squared_error: 0.0401\n",
      "Epoch 26/500\n",
      "21/21 [==============================] - 0s 10ms/step - loss: 0.0025 - root_mean_squared_error: 0.0504 - val_loss: 0.0038 - val_root_mean_squared_error: 0.0613\n",
      "Epoch 27/500\n",
      "21/21 [==============================] - 0s 10ms/step - loss: 0.0024 - root_mean_squared_error: 0.0491 - val_loss: 0.0015 - val_root_mean_squared_error: 0.0389\n",
      "Epoch 28/500\n",
      "21/21 [==============================] - 0s 10ms/step - loss: 0.0024 - root_mean_squared_error: 0.0494 - val_loss: 0.0016 - val_root_mean_squared_error: 0.0405\n",
      "Epoch 29/500\n",
      "21/21 [==============================] - 0s 10ms/step - loss: 0.0024 - root_mean_squared_error: 0.0493 - val_loss: 0.0026 - val_root_mean_squared_error: 0.0506\n",
      "Epoch 30/500\n",
      "21/21 [==============================] - 0s 10ms/step - loss: 0.0025 - root_mean_squared_error: 0.0497 - val_loss: 0.0016 - val_root_mean_squared_error: 0.0404\n",
      "Epoch 31/500\n",
      "21/21 [==============================] - 0s 10ms/step - loss: 0.0023 - root_mean_squared_error: 0.0481 - val_loss: 0.0037 - val_root_mean_squared_error: 0.0609\n",
      "Epoch 32/500\n",
      "21/21 [==============================] - 0s 10ms/step - loss: 0.0024 - root_mean_squared_error: 0.0490 - val_loss: 0.0018 - val_root_mean_squared_error: 0.0423\n",
      "Epoch 33/500\n",
      "21/21 [==============================] - 0s 10ms/step - loss: 0.0023 - root_mean_squared_error: 0.0478 - val_loss: 0.0035 - val_root_mean_squared_error: 0.0590\n",
      "Epoch 34/500\n",
      "21/21 [==============================] - 0s 10ms/step - loss: 0.0022 - root_mean_squared_error: 0.0474 - val_loss: 0.0046 - val_root_mean_squared_error: 0.0679\n",
      "Epoch 35/500\n",
      "21/21 [==============================] - 0s 10ms/step - loss: 0.0023 - root_mean_squared_error: 0.0484 - val_loss: 0.0015 - val_root_mean_squared_error: 0.0383\n",
      "Epoch 36/500\n",
      "21/21 [==============================] - 0s 10ms/step - loss: 0.0022 - root_mean_squared_error: 0.0472 - val_loss: 0.0019 - val_root_mean_squared_error: 0.0436\n",
      "Epoch 37/500\n",
      "21/21 [==============================] - 0s 9ms/step - loss: 0.0022 - root_mean_squared_error: 0.0469 - val_loss: 0.0018 - val_root_mean_squared_error: 0.0423\n",
      "Epoch 38/500\n",
      "21/21 [==============================] - 0s 9ms/step - loss: 0.0022 - root_mean_squared_error: 0.0471 - val_loss: 0.0022 - val_root_mean_squared_error: 0.0466\n",
      "Epoch 39/500\n",
      "21/21 [==============================] - 0s 10ms/step - loss: 0.0021 - root_mean_squared_error: 0.0462 - val_loss: 0.0059 - val_root_mean_squared_error: 0.0768\n",
      "Epoch 40/500\n",
      "21/21 [==============================] - 0s 10ms/step - loss: 0.0022 - root_mean_squared_error: 0.0472 - val_loss: 0.0017 - val_root_mean_squared_error: 0.0415\n",
      "Epoch 41/500\n",
      "21/21 [==============================] - 0s 9ms/step - loss: 0.0021 - root_mean_squared_error: 0.0460 - val_loss: 0.0022 - val_root_mean_squared_error: 0.0465\n",
      "Epoch 42/500\n",
      "21/21 [==============================] - 0s 9ms/step - loss: 0.0020 - root_mean_squared_error: 0.0450 - val_loss: 0.0015 - val_root_mean_squared_error: 0.0382\n",
      "Epoch 43/500\n",
      "21/21 [==============================] - 0s 9ms/step - loss: 0.0020 - root_mean_squared_error: 0.0444 - val_loss: 0.0032 - val_root_mean_squared_error: 0.0569\n",
      "Epoch 44/500\n",
      "21/21 [==============================] - 0s 9ms/step - loss: 0.0020 - root_mean_squared_error: 0.0453 - val_loss: 0.0019 - val_root_mean_squared_error: 0.0431\n",
      "Epoch 45/500\n",
      "21/21 [==============================] - 0s 9ms/step - loss: 0.0020 - root_mean_squared_error: 0.0445 - val_loss: 0.0026 - val_root_mean_squared_error: 0.0508\n",
      "Epoch 46/500\n",
      "21/21 [==============================] - 0s 10ms/step - loss: 0.0020 - root_mean_squared_error: 0.0442 - val_loss: 0.0016 - val_root_mean_squared_error: 0.0396\n",
      "Epoch 47/500\n",
      "21/21 [==============================] - 0s 9ms/step - loss: 0.0019 - root_mean_squared_error: 0.0441 - val_loss: 0.0015 - val_root_mean_squared_error: 0.0381\n",
      "Epoch 48/500\n",
      "21/21 [==============================] - 0s 9ms/step - loss: 0.0019 - root_mean_squared_error: 0.0438 - val_loss: 0.0021 - val_root_mean_squared_error: 0.0463\n",
      "Epoch 49/500\n",
      "21/21 [==============================] - 0s 9ms/step - loss: 0.0018 - root_mean_squared_error: 0.0429 - val_loss: 0.0021 - val_root_mean_squared_error: 0.0463\n",
      "Epoch 50/500\n",
      "21/21 [==============================] - 0s 9ms/step - loss: 0.0019 - root_mean_squared_error: 0.0433 - val_loss: 0.0027 - val_root_mean_squared_error: 0.0523\n",
      "Epoch 51/500\n",
      "21/21 [==============================] - 0s 9ms/step - loss: 0.0019 - root_mean_squared_error: 0.0436 - val_loss: 0.0044 - val_root_mean_squared_error: 0.0666\n",
      "Epoch 52/500\n",
      "21/21 [==============================] - 0s 9ms/step - loss: 0.0018 - root_mean_squared_error: 0.0429 - val_loss: 0.0017 - val_root_mean_squared_error: 0.0417\n",
      "Epoch 53/500\n",
      "21/21 [==============================] - 0s 9ms/step - loss: 0.0018 - root_mean_squared_error: 0.0419 - val_loss: 0.0022 - val_root_mean_squared_error: 0.0464\n",
      "Epoch 54/500\n",
      "21/21 [==============================] - 0s 9ms/step - loss: 0.0017 - root_mean_squared_error: 0.0417 - val_loss: 0.0018 - val_root_mean_squared_error: 0.0421\n",
      "Epoch 55/500\n",
      "21/21 [==============================] - 0s 11ms/step - loss: 0.0018 - root_mean_squared_error: 0.0421 - val_loss: 0.0022 - val_root_mean_squared_error: 0.0470\n",
      "Epoch 56/500\n",
      "21/21 [==============================] - 0s 10ms/step - loss: 0.0018 - root_mean_squared_error: 0.0422 - val_loss: 0.0024 - val_root_mean_squared_error: 0.0488\n",
      "Epoch 57/500\n",
      "21/21 [==============================] - 0s 9ms/step - loss: 0.0017 - root_mean_squared_error: 0.0413 - val_loss: 0.0016 - val_root_mean_squared_error: 0.0395\n",
      "Epoch 58/500\n",
      "21/21 [==============================] - 0s 9ms/step - loss: 0.0016 - root_mean_squared_error: 0.0403 - val_loss: 0.0018 - val_root_mean_squared_error: 0.0425\n",
      "Epoch 59/500\n",
      "21/21 [==============================] - 0s 10ms/step - loss: 0.0017 - root_mean_squared_error: 0.0414 - val_loss: 0.0016 - val_root_mean_squared_error: 0.0397\n",
      "Epoch 60/500\n",
      "21/21 [==============================] - 0s 9ms/step - loss: 0.0016 - root_mean_squared_error: 0.0404 - val_loss: 0.0032 - val_root_mean_squared_error: 0.0569\n",
      "Epoch 61/500\n",
      "21/21 [==============================] - 0s 9ms/step - loss: 0.0016 - root_mean_squared_error: 0.0405 - val_loss: 0.0023 - val_root_mean_squared_error: 0.0483\n",
      "Epoch 62/500\n",
      "21/21 [==============================] - 0s 9ms/step - loss: 0.0016 - root_mean_squared_error: 0.0403 - val_loss: 0.0056 - val_root_mean_squared_error: 0.0749\n",
      "Epoch 63/500\n",
      "21/21 [==============================] - 0s 9ms/step - loss: 0.0017 - root_mean_squared_error: 0.0410 - val_loss: 0.0014 - val_root_mean_squared_error: 0.0368\n",
      "Epoch 64/500\n",
      "21/21 [==============================] - 0s 9ms/step - loss: 0.0015 - root_mean_squared_error: 0.0390 - val_loss: 0.0013 - val_root_mean_squared_error: 0.0362\n",
      "Epoch 65/500\n",
      "21/21 [==============================] - 0s 9ms/step - loss: 0.0016 - root_mean_squared_error: 0.0404 - val_loss: 0.0027 - val_root_mean_squared_error: 0.0515\n",
      "Epoch 66/500\n",
      "21/21 [==============================] - 0s 10ms/step - loss: 0.0015 - root_mean_squared_error: 0.0390 - val_loss: 0.0020 - val_root_mean_squared_error: 0.0450\n",
      "Epoch 67/500\n",
      "21/21 [==============================] - 0s 9ms/step - loss: 0.0016 - root_mean_squared_error: 0.0396 - val_loss: 0.0014 - val_root_mean_squared_error: 0.0379\n",
      "Epoch 68/500\n",
      "21/21 [==============================] - 0s 9ms/step - loss: 0.0015 - root_mean_squared_error: 0.0382 - val_loss: 0.0027 - val_root_mean_squared_error: 0.0519\n",
      "Epoch 69/500\n",
      "21/21 [==============================] - 0s 10ms/step - loss: 0.0015 - root_mean_squared_error: 0.0387 - val_loss: 0.0014 - val_root_mean_squared_error: 0.0380\n",
      "Epoch 70/500\n",
      "21/21 [==============================] - 0s 10ms/step - loss: 0.0014 - root_mean_squared_error: 0.0380 - val_loss: 0.0027 - val_root_mean_squared_error: 0.0516\n",
      "Epoch 71/500\n",
      "21/21 [==============================] - 0s 10ms/step - loss: 0.0015 - root_mean_squared_error: 0.0391 - val_loss: 0.0011 - val_root_mean_squared_error: 0.0338\n",
      "Epoch 72/500\n",
      "21/21 [==============================] - 0s 9ms/step - loss: 0.0015 - root_mean_squared_error: 0.0388 - val_loss: 0.0013 - val_root_mean_squared_error: 0.0359\n",
      "Epoch 73/500\n",
      "21/21 [==============================] - 0s 9ms/step - loss: 0.0015 - root_mean_squared_error: 0.0390 - val_loss: 0.0012 - val_root_mean_squared_error: 0.0345\n",
      "Epoch 74/500\n",
      "21/21 [==============================] - 0s 9ms/step - loss: 0.0014 - root_mean_squared_error: 0.0376 - val_loss: 0.0022 - val_root_mean_squared_error: 0.0472\n",
      "Epoch 75/500\n",
      "21/21 [==============================] - 0s 11ms/step - loss: 0.0015 - root_mean_squared_error: 0.0382 - val_loss: 0.0016 - val_root_mean_squared_error: 0.0400\n",
      "Epoch 76/500\n",
      "21/21 [==============================] - 0s 11ms/step - loss: 0.0014 - root_mean_squared_error: 0.0378 - val_loss: 0.0012 - val_root_mean_squared_error: 0.0349\n",
      "Epoch 77/500\n",
      "21/21 [==============================] - 0s 10ms/step - loss: 0.0014 - root_mean_squared_error: 0.0373 - val_loss: 0.0015 - val_root_mean_squared_error: 0.0385\n",
      "Epoch 78/500\n",
      "21/21 [==============================] - 0s 10ms/step - loss: 0.0013 - root_mean_squared_error: 0.0367 - val_loss: 0.0019 - val_root_mean_squared_error: 0.0433\n",
      "Epoch 79/500\n",
      "21/21 [==============================] - 0s 11ms/step - loss: 0.0014 - root_mean_squared_error: 0.0376 - val_loss: 0.0011 - val_root_mean_squared_error: 0.0330\n",
      "Epoch 80/500\n",
      "21/21 [==============================] - 0s 11ms/step - loss: 0.0014 - root_mean_squared_error: 0.0372 - val_loss: 0.0012 - val_root_mean_squared_error: 0.0343\n",
      "Epoch 81/500\n",
      "21/21 [==============================] - 0s 11ms/step - loss: 0.0014 - root_mean_squared_error: 0.0376 - val_loss: 0.0010 - val_root_mean_squared_error: 0.0323\n",
      "Epoch 82/500\n",
      "21/21 [==============================] - 0s 11ms/step - loss: 0.0015 - root_mean_squared_error: 0.0381 - val_loss: 0.0012 - val_root_mean_squared_error: 0.0343\n",
      "Epoch 83/500\n",
      "21/21 [==============================] - 0s 13ms/step - loss: 0.0013 - root_mean_squared_error: 0.0366 - val_loss: 0.0014 - val_root_mean_squared_error: 0.0368\n",
      "Epoch 84/500\n",
      "21/21 [==============================] - 0s 13ms/step - loss: 0.0014 - root_mean_squared_error: 0.0373 - val_loss: 0.0011 - val_root_mean_squared_error: 0.0336\n",
      "Epoch 85/500\n",
      "21/21 [==============================] - 0s 13ms/step - loss: 0.0013 - root_mean_squared_error: 0.0355 - val_loss: 0.0013 - val_root_mean_squared_error: 0.0367\n",
      "Epoch 86/500\n",
      "21/21 [==============================] - 0s 10ms/step - loss: 0.0015 - root_mean_squared_error: 0.0387 - val_loss: 0.0010 - val_root_mean_squared_error: 0.0321\n",
      "Epoch 87/500\n",
      "21/21 [==============================] - 0s 11ms/step - loss: 0.0014 - root_mean_squared_error: 0.0370 - val_loss: 0.0014 - val_root_mean_squared_error: 0.0373\n",
      "Epoch 88/500\n",
      "21/21 [==============================] - 0s 12ms/step - loss: 0.0013 - root_mean_squared_error: 0.0355 - val_loss: 0.0012 - val_root_mean_squared_error: 0.0351\n",
      "Epoch 89/500\n",
      "21/21 [==============================] - 0s 10ms/step - loss: 0.0013 - root_mean_squared_error: 0.0367 - val_loss: 0.0014 - val_root_mean_squared_error: 0.0371\n",
      "Epoch 90/500\n",
      "21/21 [==============================] - 0s 10ms/step - loss: 0.0013 - root_mean_squared_error: 0.0363 - val_loss: 0.0011 - val_root_mean_squared_error: 0.0338\n",
      "Epoch 91/500\n",
      "21/21 [==============================] - 0s 11ms/step - loss: 0.0013 - root_mean_squared_error: 0.0355 - val_loss: 0.0016 - val_root_mean_squared_error: 0.0394\n",
      "Epoch 92/500\n",
      "21/21 [==============================] - 0s 11ms/step - loss: 0.0013 - root_mean_squared_error: 0.0361 - val_loss: 0.0010 - val_root_mean_squared_error: 0.0323\n",
      "Epoch 93/500\n",
      "21/21 [==============================] - 0s 10ms/step - loss: 0.0012 - root_mean_squared_error: 0.0351 - val_loss: 0.0012 - val_root_mean_squared_error: 0.0343\n",
      "Epoch 94/500\n",
      "21/21 [==============================] - 0s 11ms/step - loss: 0.0013 - root_mean_squared_error: 0.0360 - val_loss: 0.0014 - val_root_mean_squared_error: 0.0370\n",
      "Epoch 95/500\n"
     ]
    },
    {
     "name": "stdout",
     "output_type": "stream",
     "text": [
      "21/21 [==============================] - 0s 10ms/step - loss: 0.0012 - root_mean_squared_error: 0.0350 - val_loss: 0.0018 - val_root_mean_squared_error: 0.0429\n",
      "Epoch 96/500\n",
      "21/21 [==============================] - 0s 10ms/step - loss: 0.0012 - root_mean_squared_error: 0.0351 - val_loss: 0.0013 - val_root_mean_squared_error: 0.0361\n",
      "Epoch 97/500\n",
      "21/21 [==============================] - 0s 10ms/step - loss: 0.0012 - root_mean_squared_error: 0.0345 - val_loss: 0.0011 - val_root_mean_squared_error: 0.0328\n",
      "Epoch 98/500\n",
      "21/21 [==============================] - 0s 11ms/step - loss: 0.0012 - root_mean_squared_error: 0.0342 - val_loss: 0.0010 - val_root_mean_squared_error: 0.0322\n",
      "Epoch 99/500\n",
      "21/21 [==============================] - 0s 11ms/step - loss: 0.0011 - root_mean_squared_error: 0.0335 - val_loss: 0.0038 - val_root_mean_squared_error: 0.0617\n",
      "Epoch 100/500\n",
      "21/21 [==============================] - 0s 11ms/step - loss: 0.0012 - root_mean_squared_error: 0.0340 - val_loss: 0.0010 - val_root_mean_squared_error: 0.0322\n",
      "Epoch 101/500\n",
      "21/21 [==============================] - 0s 11ms/step - loss: 0.0012 - root_mean_squared_error: 0.0340 - val_loss: 0.0029 - val_root_mean_squared_error: 0.0540\n",
      "Epoch 102/500\n",
      "21/21 [==============================] - 0s 10ms/step - loss: 0.0012 - root_mean_squared_error: 0.0342 - val_loss: 0.0025 - val_root_mean_squared_error: 0.0501\n",
      "Epoch 103/500\n",
      "21/21 [==============================] - 0s 11ms/step - loss: 0.0012 - root_mean_squared_error: 0.0353 - val_loss: 0.0010 - val_root_mean_squared_error: 0.0317\n",
      "Epoch 104/500\n",
      "21/21 [==============================] - 0s 11ms/step - loss: 0.0011 - root_mean_squared_error: 0.0330 - val_loss: 0.0036 - val_root_mean_squared_error: 0.0597\n",
      "Epoch 105/500\n",
      "21/21 [==============================] - 0s 10ms/step - loss: 0.0012 - root_mean_squared_error: 0.0345 - val_loss: 0.0017 - val_root_mean_squared_error: 0.0409\n",
      "Epoch 106/500\n",
      "21/21 [==============================] - 0s 10ms/step - loss: 0.0012 - root_mean_squared_error: 0.0342 - val_loss: 9.6679e-04 - val_root_mean_squared_error: 0.0311\n",
      "Epoch 107/500\n",
      "21/21 [==============================] - 0s 11ms/step - loss: 0.0011 - root_mean_squared_error: 0.0338 - val_loss: 0.0013 - val_root_mean_squared_error: 0.0355\n",
      "Epoch 108/500\n",
      "21/21 [==============================] - 0s 10ms/step - loss: 0.0011 - root_mean_squared_error: 0.0333 - val_loss: 0.0021 - val_root_mean_squared_error: 0.0456\n",
      "Epoch 109/500\n",
      "21/21 [==============================] - 0s 10ms/step - loss: 0.0011 - root_mean_squared_error: 0.0329 - val_loss: 9.2638e-04 - val_root_mean_squared_error: 0.0304\n",
      "Epoch 110/500\n",
      "21/21 [==============================] - 0s 12ms/step - loss: 0.0011 - root_mean_squared_error: 0.0332 - val_loss: 0.0022 - val_root_mean_squared_error: 0.0473\n",
      "Epoch 111/500\n",
      "21/21 [==============================] - 0s 11ms/step - loss: 0.0011 - root_mean_squared_error: 0.0330 - val_loss: 8.9608e-04 - val_root_mean_squared_error: 0.0299\n",
      "Epoch 112/500\n",
      "21/21 [==============================] - 0s 11ms/step - loss: 0.0011 - root_mean_squared_error: 0.0328 - val_loss: 8.3686e-04 - val_root_mean_squared_error: 0.0289\n",
      "Epoch 113/500\n",
      "21/21 [==============================] - 0s 11ms/step - loss: 0.0010 - root_mean_squared_error: 0.0320 - val_loss: 8.9871e-04 - val_root_mean_squared_error: 0.0300\n",
      "Epoch 114/500\n",
      "21/21 [==============================] - 0s 11ms/step - loss: 0.0011 - root_mean_squared_error: 0.0336 - val_loss: 8.0663e-04 - val_root_mean_squared_error: 0.0284\n",
      "Epoch 115/500\n",
      "21/21 [==============================] - 0s 10ms/step - loss: 0.0011 - root_mean_squared_error: 0.0327 - val_loss: 0.0014 - val_root_mean_squared_error: 0.0370\n",
      "Epoch 116/500\n",
      "21/21 [==============================] - 0s 10ms/step - loss: 0.0011 - root_mean_squared_error: 0.0328 - val_loss: 0.0010 - val_root_mean_squared_error: 0.0323\n",
      "Epoch 117/500\n",
      "21/21 [==============================] - 0s 10ms/step - loss: 0.0010 - root_mean_squared_error: 0.0322 - val_loss: 9.2016e-04 - val_root_mean_squared_error: 0.0303\n",
      "Epoch 118/500\n",
      "21/21 [==============================] - 0s 10ms/step - loss: 0.0011 - root_mean_squared_error: 0.0336 - val_loss: 0.0013 - val_root_mean_squared_error: 0.0356\n",
      "Epoch 119/500\n",
      "21/21 [==============================] - 0s 10ms/step - loss: 0.0010 - root_mean_squared_error: 0.0322 - val_loss: 0.0010 - val_root_mean_squared_error: 0.0323\n",
      "Epoch 120/500\n",
      "21/21 [==============================] - 0s 10ms/step - loss: 0.0011 - root_mean_squared_error: 0.0325 - val_loss: 8.5471e-04 - val_root_mean_squared_error: 0.0292\n",
      "Epoch 121/500\n",
      "21/21 [==============================] - 0s 10ms/step - loss: 0.0010 - root_mean_squared_error: 0.0322 - val_loss: 7.9746e-04 - val_root_mean_squared_error: 0.0282\n",
      "Epoch 122/500\n",
      "21/21 [==============================] - 0s 10ms/step - loss: 0.0011 - root_mean_squared_error: 0.0329 - val_loss: 9.6373e-04 - val_root_mean_squared_error: 0.0310\n",
      "Epoch 123/500\n",
      "21/21 [==============================] - 0s 10ms/step - loss: 0.0010 - root_mean_squared_error: 0.0320 - val_loss: 0.0011 - val_root_mean_squared_error: 0.0337\n",
      "Epoch 124/500\n",
      "21/21 [==============================] - 0s 10ms/step - loss: 0.0010 - root_mean_squared_error: 0.0322 - val_loss: 8.0507e-04 - val_root_mean_squared_error: 0.0284\n",
      "Epoch 125/500\n",
      "21/21 [==============================] - 0s 10ms/step - loss: 9.6984e-04 - root_mean_squared_error: 0.0311 - val_loss: 8.2167e-04 - val_root_mean_squared_error: 0.0287\n",
      "Epoch 126/500\n",
      "21/21 [==============================] - 0s 10ms/step - loss: 0.0011 - root_mean_squared_error: 0.0329 - val_loss: 9.0515e-04 - val_root_mean_squared_error: 0.0301\n",
      "Epoch 127/500\n",
      "21/21 [==============================] - 0s 11ms/step - loss: 0.0010 - root_mean_squared_error: 0.0320 - val_loss: 9.0312e-04 - val_root_mean_squared_error: 0.0301\n",
      "Epoch 128/500\n",
      "21/21 [==============================] - 0s 10ms/step - loss: 9.7585e-04 - root_mean_squared_error: 0.0312 - val_loss: 0.0022 - val_root_mean_squared_error: 0.0470\n",
      "Epoch 129/500\n",
      "21/21 [==============================] - 0s 10ms/step - loss: 9.8116e-04 - root_mean_squared_error: 0.0313 - val_loss: 0.0015 - val_root_mean_squared_error: 0.0392\n",
      "Epoch 130/500\n",
      "21/21 [==============================] - 0s 10ms/step - loss: 9.3399e-04 - root_mean_squared_error: 0.0306 - val_loss: 8.4910e-04 - val_root_mean_squared_error: 0.0291\n",
      "Epoch 131/500\n",
      "21/21 [==============================] - 0s 10ms/step - loss: 0.0011 - root_mean_squared_error: 0.0326 - val_loss: 9.4049e-04 - val_root_mean_squared_error: 0.0307\n",
      "Epoch 132/500\n",
      "21/21 [==============================] - 0s 10ms/step - loss: 0.0011 - root_mean_squared_error: 0.0326 - val_loss: 0.0015 - val_root_mean_squared_error: 0.0382\n",
      "Epoch 133/500\n",
      "21/21 [==============================] - 0s 11ms/step - loss: 9.7029e-04 - root_mean_squared_error: 0.0311 - val_loss: 8.0764e-04 - val_root_mean_squared_error: 0.0284\n",
      "Epoch 134/500\n",
      "21/21 [==============================] - 0s 10ms/step - loss: 0.0010 - root_mean_squared_error: 0.0324 - val_loss: 0.0013 - val_root_mean_squared_error: 0.0357\n",
      "Epoch 135/500\n",
      "21/21 [==============================] - 0s 10ms/step - loss: 9.5536e-04 - root_mean_squared_error: 0.0309 - val_loss: 0.0013 - val_root_mean_squared_error: 0.0364\n",
      "Epoch 136/500\n",
      "21/21 [==============================] - 0s 11ms/step - loss: 9.9144e-04 - root_mean_squared_error: 0.0315 - val_loss: 0.0030 - val_root_mean_squared_error: 0.0551\n",
      "Epoch 137/500\n",
      "21/21 [==============================] - 0s 13ms/step - loss: 0.0010 - root_mean_squared_error: 0.0321 - val_loss: 0.0011 - val_root_mean_squared_error: 0.0331\n",
      "Epoch 138/500\n",
      "21/21 [==============================] - 0s 10ms/step - loss: 0.0010 - root_mean_squared_error: 0.0321 - val_loss: 7.9204e-04 - val_root_mean_squared_error: 0.0281\n",
      "Epoch 139/500\n",
      "21/21 [==============================] - 0s 10ms/step - loss: 9.7586e-04 - root_mean_squared_error: 0.0312 - val_loss: 0.0012 - val_root_mean_squared_error: 0.0350\n",
      "Epoch 140/500\n",
      "21/21 [==============================] - 0s 10ms/step - loss: 0.0011 - root_mean_squared_error: 0.0329 - val_loss: 9.2777e-04 - val_root_mean_squared_error: 0.0305\n",
      "Epoch 141/500\n",
      "21/21 [==============================] - 0s 11ms/step - loss: 0.0010 - root_mean_squared_error: 0.0321 - val_loss: 8.4977e-04 - val_root_mean_squared_error: 0.0292\n",
      "Epoch 142/500\n",
      "21/21 [==============================] - 0s 11ms/step - loss: 0.0010 - root_mean_squared_error: 0.0317 - val_loss: 0.0014 - val_root_mean_squared_error: 0.0370\n",
      "Epoch 143/500\n",
      "21/21 [==============================] - 0s 10ms/step - loss: 9.6170e-04 - root_mean_squared_error: 0.0310 - val_loss: 0.0014 - val_root_mean_squared_error: 0.0374\n",
      "Epoch 144/500\n",
      "21/21 [==============================] - 0s 10ms/step - loss: 9.7435e-04 - root_mean_squared_error: 0.0312 - val_loss: 0.0013 - val_root_mean_squared_error: 0.0365\n",
      "Epoch 145/500\n",
      "21/21 [==============================] - 0s 10ms/step - loss: 0.0010 - root_mean_squared_error: 0.0318 - val_loss: 8.0765e-04 - val_root_mean_squared_error: 0.0284\n",
      "Epoch 146/500\n",
      "21/21 [==============================] - 0s 9ms/step - loss: 9.8620e-04 - root_mean_squared_error: 0.0314 - val_loss: 0.0010 - val_root_mean_squared_error: 0.0320\n",
      "Epoch 147/500\n",
      "21/21 [==============================] - 0s 10ms/step - loss: 9.6790e-04 - root_mean_squared_error: 0.0311 - val_loss: 0.0010 - val_root_mean_squared_error: 0.0324\n",
      "Epoch 148/500\n",
      "21/21 [==============================] - 0s 10ms/step - loss: 9.5205e-04 - root_mean_squared_error: 0.0309 - val_loss: 0.0014 - val_root_mean_squared_error: 0.0375\n",
      "Epoch 149/500\n",
      "21/21 [==============================] - 0s 11ms/step - loss: 0.0010 - root_mean_squared_error: 0.0322 - val_loss: 0.0015 - val_root_mean_squared_error: 0.0383\n",
      "Epoch 150/500\n",
      "21/21 [==============================] - 0s 11ms/step - loss: 9.3973e-04 - root_mean_squared_error: 0.0307 - val_loss: 8.4806e-04 - val_root_mean_squared_error: 0.0291\n",
      "Epoch 151/500\n",
      "21/21 [==============================] - 0s 11ms/step - loss: 8.9626e-04 - root_mean_squared_error: 0.0299 - val_loss: 7.9439e-04 - val_root_mean_squared_error: 0.0282\n",
      "Epoch 152/500\n",
      "21/21 [==============================] - 0s 10ms/step - loss: 9.6249e-04 - root_mean_squared_error: 0.0310 - val_loss: 0.0010 - val_root_mean_squared_error: 0.0321\n",
      "Epoch 153/500\n",
      "21/21 [==============================] - 0s 10ms/step - loss: 9.6254e-04 - root_mean_squared_error: 0.0310 - val_loss: 0.0012 - val_root_mean_squared_error: 0.0344\n",
      "Epoch 154/500\n",
      "21/21 [==============================] - 0s 10ms/step - loss: 0.0010 - root_mean_squared_error: 0.0317 - val_loss: 9.3394e-04 - val_root_mean_squared_error: 0.0306\n",
      "Epoch 155/500\n",
      "21/21 [==============================] - 0s 10ms/step - loss: 9.4437e-04 - root_mean_squared_error: 0.0307 - val_loss: 8.4134e-04 - val_root_mean_squared_error: 0.0290\n",
      "Epoch 156/500\n",
      "21/21 [==============================] - 0s 11ms/step - loss: 9.5034e-04 - root_mean_squared_error: 0.0308 - val_loss: 0.0011 - val_root_mean_squared_error: 0.0333\n",
      "Epoch 157/500\n",
      "21/21 [==============================] - 0s 10ms/step - loss: 0.0010 - root_mean_squared_error: 0.0317 - val_loss: 0.0014 - val_root_mean_squared_error: 0.0374\n",
      "Epoch 158/500\n",
      "21/21 [==============================] - 0s 10ms/step - loss: 0.0010 - root_mean_squared_error: 0.0317 - val_loss: 0.0012 - val_root_mean_squared_error: 0.0340\n",
      "Epoch 159/500\n",
      "21/21 [==============================] - 0s 10ms/step - loss: 9.5339e-04 - root_mean_squared_error: 0.0309 - val_loss: 0.0034 - val_root_mean_squared_error: 0.0584\n",
      "Epoch 160/500\n",
      "21/21 [==============================] - 0s 10ms/step - loss: 0.0010 - root_mean_squared_error: 0.0319 - val_loss: 8.7990e-04 - val_root_mean_squared_error: 0.0297\n",
      "Epoch 161/500\n",
      "21/21 [==============================] - 0s 10ms/step - loss: 9.8627e-04 - root_mean_squared_error: 0.0314 - val_loss: 8.1088e-04 - val_root_mean_squared_error: 0.0285\n",
      "Epoch 162/500\n",
      "21/21 [==============================] - 0s 10ms/step - loss: 9.3765e-04 - root_mean_squared_error: 0.0306 - val_loss: 0.0024 - val_root_mean_squared_error: 0.0489\n",
      "Epoch 163/500\n",
      "21/21 [==============================] - 0s 10ms/step - loss: 9.7138e-04 - root_mean_squared_error: 0.0312 - val_loss: 8.3494e-04 - val_root_mean_squared_error: 0.0289\n",
      "Epoch 164/500\n",
      "21/21 [==============================] - 0s 10ms/step - loss: 9.9758e-04 - root_mean_squared_error: 0.0316 - val_loss: 8.6518e-04 - val_root_mean_squared_error: 0.0294\n",
      "Epoch 165/500\n",
      "21/21 [==============================] - 0s 12ms/step - loss: 9.8896e-04 - root_mean_squared_error: 0.0314 - val_loss: 0.0010 - val_root_mean_squared_error: 0.0322\n",
      "Epoch 166/500\n",
      "21/21 [==============================] - 0s 10ms/step - loss: 9.7644e-04 - root_mean_squared_error: 0.0312 - val_loss: 8.9858e-04 - val_root_mean_squared_error: 0.0300\n",
      "Epoch 167/500\n",
      "21/21 [==============================] - 0s 10ms/step - loss: 9.4560e-04 - root_mean_squared_error: 0.0308 - val_loss: 0.0020 - val_root_mean_squared_error: 0.0452\n",
      "Epoch 168/500\n",
      "21/21 [==============================] - 0s 11ms/step - loss: 9.4578e-04 - root_mean_squared_error: 0.0308 - val_loss: 9.0102e-04 - val_root_mean_squared_error: 0.0300\n",
      "Epoch 169/500\n",
      "21/21 [==============================] - 0s 12ms/step - loss: 9.8367e-04 - root_mean_squared_error: 0.0314 - val_loss: 0.0012 - val_root_mean_squared_error: 0.0346\n",
      "Epoch 170/500\n",
      "21/21 [==============================] - 0s 14ms/step - loss: 9.3404e-04 - root_mean_squared_error: 0.0306 - val_loss: 9.4522e-04 - val_root_mean_squared_error: 0.0307\n",
      "Epoch 171/500\n",
      "21/21 [==============================] - 0s 14ms/step - loss: 9.9477e-04 - root_mean_squared_error: 0.0315 - val_loss: 8.3839e-04 - val_root_mean_squared_error: 0.0290\n",
      "Epoch 172/500\n",
      "21/21 [==============================] - 0s 13ms/step - loss: 9.4781e-04 - root_mean_squared_error: 0.0308 - val_loss: 0.0016 - val_root_mean_squared_error: 0.0398\n",
      "Epoch 173/500\n",
      "21/21 [==============================] - 0s 11ms/step - loss: 9.4590e-04 - root_mean_squared_error: 0.0308 - val_loss: 7.7781e-04 - val_root_mean_squared_error: 0.0279\n",
      "Epoch 174/500\n",
      "21/21 [==============================] - 0s 11ms/step - loss: 9.9210e-04 - root_mean_squared_error: 0.0315 - val_loss: 0.0015 - val_root_mean_squared_error: 0.0388\n",
      "Epoch 175/500\n",
      "21/21 [==============================] - 0s 11ms/step - loss: 9.6008e-04 - root_mean_squared_error: 0.0310 - val_loss: 0.0032 - val_root_mean_squared_error: 0.0568\n",
      "Epoch 176/500\n",
      "21/21 [==============================] - 0s 10ms/step - loss: 9.9014e-04 - root_mean_squared_error: 0.0315 - val_loss: 0.0013 - val_root_mean_squared_error: 0.0356\n",
      "Epoch 177/500\n",
      "21/21 [==============================] - 0s 11ms/step - loss: 9.7172e-04 - root_mean_squared_error: 0.0312 - val_loss: 7.9438e-04 - val_root_mean_squared_error: 0.0282\n",
      "Epoch 178/500\n",
      "21/21 [==============================] - 0s 11ms/step - loss: 9.2838e-04 - root_mean_squared_error: 0.0305 - val_loss: 8.0494e-04 - val_root_mean_squared_error: 0.0284\n",
      "Epoch 179/500\n",
      "21/21 [==============================] - 0s 12ms/step - loss: 9.7869e-04 - root_mean_squared_error: 0.0313 - val_loss: 0.0035 - val_root_mean_squared_error: 0.0589\n",
      "Epoch 180/500\n",
      "21/21 [==============================] - 0s 11ms/step - loss: 9.8077e-04 - root_mean_squared_error: 0.0313 - val_loss: 8.2681e-04 - val_root_mean_squared_error: 0.0288\n",
      "Epoch 181/500\n",
      "21/21 [==============================] - 0s 10ms/step - loss: 9.3583e-04 - root_mean_squared_error: 0.0306 - val_loss: 0.0017 - val_root_mean_squared_error: 0.0412\n",
      "Epoch 182/500\n",
      "21/21 [==============================] - 0s 10ms/step - loss: 9.1673e-04 - root_mean_squared_error: 0.0303 - val_loss: 0.0023 - val_root_mean_squared_error: 0.0483\n",
      "Epoch 183/500\n",
      "21/21 [==============================] - 0s 13ms/step - loss: 9.1442e-04 - root_mean_squared_error: 0.0302 - val_loss: 0.0016 - val_root_mean_squared_error: 0.0394\n",
      "Epoch 184/500\n",
      "21/21 [==============================] - 0s 13ms/step - loss: 9.1796e-04 - root_mean_squared_error: 0.0303 - val_loss: 0.0011 - val_root_mean_squared_error: 0.0332\n",
      "Epoch 185/500\n",
      "21/21 [==============================] - 0s 10ms/step - loss: 9.5652e-04 - root_mean_squared_error: 0.0309 - val_loss: 0.0027 - val_root_mean_squared_error: 0.0524\n",
      "Epoch 186/500\n"
     ]
    },
    {
     "name": "stdout",
     "output_type": "stream",
     "text": [
      "21/21 [==============================] - 0s 11ms/step - loss: 9.6087e-04 - root_mean_squared_error: 0.0310 - val_loss: 9.1091e-04 - val_root_mean_squared_error: 0.0302\n",
      "Epoch 187/500\n",
      "21/21 [==============================] - 0s 11ms/step - loss: 9.7134e-04 - root_mean_squared_error: 0.0312 - val_loss: 8.4553e-04 - val_root_mean_squared_error: 0.0291\n",
      "Epoch 188/500\n",
      "21/21 [==============================] - 0s 10ms/step - loss: 9.0523e-04 - root_mean_squared_error: 0.0301 - val_loss: 9.3098e-04 - val_root_mean_squared_error: 0.0305\n",
      "Epoch 189/500\n",
      "21/21 [==============================] - 0s 11ms/step - loss: 9.2220e-04 - root_mean_squared_error: 0.0304 - val_loss: 8.3934e-04 - val_root_mean_squared_error: 0.0290\n",
      "Epoch 190/500\n",
      "21/21 [==============================] - 0s 12ms/step - loss: 9.0149e-04 - root_mean_squared_error: 0.0300 - val_loss: 0.0010 - val_root_mean_squared_error: 0.0321\n",
      "Epoch 191/500\n",
      "21/21 [==============================] - 0s 12ms/step - loss: 9.2856e-04 - root_mean_squared_error: 0.0305 - val_loss: 7.7154e-04 - val_root_mean_squared_error: 0.0278\n",
      "Epoch 192/500\n",
      "21/21 [==============================] - 0s 11ms/step - loss: 9.3051e-04 - root_mean_squared_error: 0.0305 - val_loss: 0.0026 - val_root_mean_squared_error: 0.0508\n",
      "Epoch 193/500\n",
      "21/21 [==============================] - 0s 10ms/step - loss: 9.7009e-04 - root_mean_squared_error: 0.0311 - val_loss: 9.8288e-04 - val_root_mean_squared_error: 0.0314\n",
      "Epoch 194/500\n",
      "21/21 [==============================] - 0s 10ms/step - loss: 8.7327e-04 - root_mean_squared_error: 0.0296 - val_loss: 0.0029 - val_root_mean_squared_error: 0.0543\n",
      "Epoch 195/500\n",
      "21/21 [==============================] - 0s 10ms/step - loss: 9.4727e-04 - root_mean_squared_error: 0.0308 - val_loss: 0.0018 - val_root_mean_squared_error: 0.0421\n",
      "Epoch 196/500\n",
      "21/21 [==============================] - 0s 10ms/step - loss: 9.2132e-04 - root_mean_squared_error: 0.0304 - val_loss: 0.0021 - val_root_mean_squared_error: 0.0463\n",
      "Epoch 197/500\n",
      "21/21 [==============================] - 0s 13ms/step - loss: 9.3270e-04 - root_mean_squared_error: 0.0305 - val_loss: 7.9181e-04 - val_root_mean_squared_error: 0.0281\n",
      "Epoch 198/500\n",
      "21/21 [==============================] - 0s 13ms/step - loss: 8.8874e-04 - root_mean_squared_error: 0.0298 - val_loss: 8.1624e-04 - val_root_mean_squared_error: 0.0286\n",
      "Epoch 199/500\n",
      "21/21 [==============================] - 0s 13ms/step - loss: 9.8934e-04 - root_mean_squared_error: 0.0315 - val_loss: 0.0011 - val_root_mean_squared_error: 0.0331\n",
      "Epoch 200/500\n",
      "21/21 [==============================] - 0s 14ms/step - loss: 9.3571e-04 - root_mean_squared_error: 0.0306 - val_loss: 0.0016 - val_root_mean_squared_error: 0.0396\n",
      "Epoch 201/500\n",
      "21/21 [==============================] - 0s 14ms/step - loss: 9.1460e-04 - root_mean_squared_error: 0.0302 - val_loss: 9.1351e-04 - val_root_mean_squared_error: 0.0302\n",
      "Epoch 202/500\n",
      "21/21 [==============================] - 0s 14ms/step - loss: 9.5120e-04 - root_mean_squared_error: 0.0308 - val_loss: 8.6602e-04 - val_root_mean_squared_error: 0.0294\n",
      "Epoch 203/500\n",
      "21/21 [==============================] - 0s 14ms/step - loss: 9.2706e-04 - root_mean_squared_error: 0.0304 - val_loss: 0.0015 - val_root_mean_squared_error: 0.0387\n",
      "Epoch 204/500\n",
      "21/21 [==============================] - 0s 14ms/step - loss: 9.4290e-04 - root_mean_squared_error: 0.0307 - val_loss: 9.4062e-04 - val_root_mean_squared_error: 0.0307\n",
      "Epoch 205/500\n",
      "21/21 [==============================] - 0s 15ms/step - loss: 9.2312e-04 - root_mean_squared_error: 0.0304 - val_loss: 8.9470e-04 - val_root_mean_squared_error: 0.0299\n",
      "Epoch 206/500\n",
      "21/21 [==============================] - 0s 18ms/step - loss: 9.1043e-04 - root_mean_squared_error: 0.0302 - val_loss: 7.9475e-04 - val_root_mean_squared_error: 0.0282\n",
      "Epoch 207/500\n",
      "21/21 [==============================] - 0s 15ms/step - loss: 8.6445e-04 - root_mean_squared_error: 0.0294 - val_loss: 9.7755e-04 - val_root_mean_squared_error: 0.0313\n",
      "Epoch 208/500\n",
      "21/21 [==============================] - 0s 18ms/step - loss: 9.3054e-04 - root_mean_squared_error: 0.0305 - val_loss: 9.6466e-04 - val_root_mean_squared_error: 0.0311\n",
      "Epoch 209/500\n",
      "21/21 [==============================] - 0s 16ms/step - loss: 9.5826e-04 - root_mean_squared_error: 0.0310 - val_loss: 0.0017 - val_root_mean_squared_error: 0.0410\n",
      "Epoch 210/500\n",
      "21/21 [==============================] - 0s 16ms/step - loss: 9.2133e-04 - root_mean_squared_error: 0.0304 - val_loss: 0.0011 - val_root_mean_squared_error: 0.0324\n",
      "Epoch 211/500\n",
      "21/21 [==============================] - 0s 18ms/step - loss: 8.9420e-04 - root_mean_squared_error: 0.0299 - val_loss: 0.0014 - val_root_mean_squared_error: 0.0369\n",
      "Epoch 212/500\n",
      "21/21 [==============================] - 0s 13ms/step - loss: 9.5775e-04 - root_mean_squared_error: 0.0309 - val_loss: 0.0014 - val_root_mean_squared_error: 0.0372\n",
      "Epoch 213/500\n",
      "21/21 [==============================] - 0s 13ms/step - loss: 9.1534e-04 - root_mean_squared_error: 0.0303 - val_loss: 9.3366e-04 - val_root_mean_squared_error: 0.0306\n",
      "Epoch 214/500\n",
      "21/21 [==============================] - 0s 16ms/step - loss: 9.1278e-04 - root_mean_squared_error: 0.0302 - val_loss: 0.0014 - val_root_mean_squared_error: 0.0368\n",
      "Epoch 215/500\n",
      "21/21 [==============================] - 0s 14ms/step - loss: 9.4154e-04 - root_mean_squared_error: 0.0307 - val_loss: 0.0013 - val_root_mean_squared_error: 0.0365\n",
      "Epoch 216/500\n",
      "21/21 [==============================] - 0s 11ms/step - loss: 9.4250e-04 - root_mean_squared_error: 0.0307 - val_loss: 8.9487e-04 - val_root_mean_squared_error: 0.0299\n",
      "Epoch 217/500\n",
      "21/21 [==============================] - 0s 16ms/step - loss: 9.2382e-04 - root_mean_squared_error: 0.0304 - val_loss: 0.0021 - val_root_mean_squared_error: 0.0456\n",
      "Epoch 218/500\n",
      "21/21 [==============================] - 0s 16ms/step - loss: 9.4414e-04 - root_mean_squared_error: 0.0307 - val_loss: 0.0016 - val_root_mean_squared_error: 0.0405\n",
      "Epoch 219/500\n",
      "21/21 [==============================] - 0s 16ms/step - loss: 9.1470e-04 - root_mean_squared_error: 0.0302 - val_loss: 0.0016 - val_root_mean_squared_error: 0.0396\n",
      "Epoch 220/500\n",
      "21/21 [==============================] - 0s 14ms/step - loss: 9.1008e-04 - root_mean_squared_error: 0.0302 - val_loss: 8.7767e-04 - val_root_mean_squared_error: 0.0296\n",
      "Epoch 221/500\n",
      "21/21 [==============================] - 0s 14ms/step - loss: 9.5351e-04 - root_mean_squared_error: 0.0309 - val_loss: 0.0017 - val_root_mean_squared_error: 0.0417\n",
      "Epoch 222/500\n",
      "21/21 [==============================] - 0s 15ms/step - loss: 9.2289e-04 - root_mean_squared_error: 0.0304 - val_loss: 9.1013e-04 - val_root_mean_squared_error: 0.0302\n",
      "Epoch 223/500\n",
      "21/21 [==============================] - 0s 15ms/step - loss: 8.8933e-04 - root_mean_squared_error: 0.0298 - val_loss: 0.0016 - val_root_mean_squared_error: 0.0403\n",
      "Epoch 224/500\n",
      "21/21 [==============================] - 0s 15ms/step - loss: 9.4477e-04 - root_mean_squared_error: 0.0307 - val_loss: 9.5781e-04 - val_root_mean_squared_error: 0.0309\n",
      "Epoch 225/500\n",
      "21/21 [==============================] - 0s 15ms/step - loss: 8.5250e-04 - root_mean_squared_error: 0.0292 - val_loss: 0.0015 - val_root_mean_squared_error: 0.0390\n",
      "Epoch 226/500\n",
      "21/21 [==============================] - 0s 15ms/step - loss: 9.2720e-04 - root_mean_squared_error: 0.0305 - val_loss: 0.0018 - val_root_mean_squared_error: 0.0429\n",
      "Epoch 227/500\n",
      "21/21 [==============================] - 0s 16ms/step - loss: 9.1157e-04 - root_mean_squared_error: 0.0302 - val_loss: 7.9700e-04 - val_root_mean_squared_error: 0.0282\n",
      "Epoch 228/500\n",
      "21/21 [==============================] - 0s 20ms/step - loss: 9.1422e-04 - root_mean_squared_error: 0.0302 - val_loss: 8.7237e-04 - val_root_mean_squared_error: 0.0295\n",
      "Epoch 229/500\n",
      "21/21 [==============================] - 0s 20ms/step - loss: 9.0865e-04 - root_mean_squared_error: 0.0301 - val_loss: 9.5426e-04 - val_root_mean_squared_error: 0.0309\n",
      "Epoch 230/500\n",
      "21/21 [==============================] - 0s 20ms/step - loss: 9.1216e-04 - root_mean_squared_error: 0.0302 - val_loss: 0.0010 - val_root_mean_squared_error: 0.0319\n",
      "Epoch 231/500\n",
      "21/21 [==============================] - 0s 16ms/step - loss: 9.2125e-04 - root_mean_squared_error: 0.0304 - val_loss: 0.0018 - val_root_mean_squared_error: 0.0421\n",
      "Epoch 232/500\n",
      "21/21 [==============================] - 0s 18ms/step - loss: 9.1216e-04 - root_mean_squared_error: 0.0302 - val_loss: 0.0013 - val_root_mean_squared_error: 0.0361\n",
      "Epoch 233/500\n",
      "21/21 [==============================] - 0s 19ms/step - loss: 8.9545e-04 - root_mean_squared_error: 0.0299 - val_loss: 0.0017 - val_root_mean_squared_error: 0.0416\n",
      "Epoch 234/500\n",
      "21/21 [==============================] - 0s 17ms/step - loss: 8.9163e-04 - root_mean_squared_error: 0.0299 - val_loss: 0.0012 - val_root_mean_squared_error: 0.0339\n",
      "Epoch 235/500\n",
      "21/21 [==============================] - 0s 16ms/step - loss: 9.4691e-04 - root_mean_squared_error: 0.0308 - val_loss: 8.6582e-04 - val_root_mean_squared_error: 0.0294\n",
      "Epoch 236/500\n",
      "21/21 [==============================] - 0s 17ms/step - loss: 9.0307e-04 - root_mean_squared_error: 0.0301 - val_loss: 0.0013 - val_root_mean_squared_error: 0.0364\n",
      "Epoch 237/500\n",
      "21/21 [==============================] - 0s 18ms/step - loss: 8.8636e-04 - root_mean_squared_error: 0.0298 - val_loss: 0.0014 - val_root_mean_squared_error: 0.0374\n",
      "Epoch 238/500\n",
      "21/21 [==============================] - 0s 20ms/step - loss: 9.4922e-04 - root_mean_squared_error: 0.0308 - val_loss: 0.0012 - val_root_mean_squared_error: 0.0341\n",
      "Epoch 239/500\n",
      "21/21 [==============================] - 0s 19ms/step - loss: 8.7446e-04 - root_mean_squared_error: 0.0296 - val_loss: 0.0013 - val_root_mean_squared_error: 0.0357\n",
      "Epoch 240/500\n",
      "21/21 [==============================] - 0s 17ms/step - loss: 8.9922e-04 - root_mean_squared_error: 0.0300 - val_loss: 0.0028 - val_root_mean_squared_error: 0.0530\n",
      "Epoch 241/500\n",
      "21/21 [==============================] - 0s 18ms/step - loss: 8.7966e-04 - root_mean_squared_error: 0.0297 - val_loss: 9.8176e-04 - val_root_mean_squared_error: 0.0313\n",
      "Epoch 242/500\n",
      "21/21 [==============================] - 0s 18ms/step - loss: 8.8628e-04 - root_mean_squared_error: 0.0298 - val_loss: 0.0012 - val_root_mean_squared_error: 0.0344\n",
      "Epoch 243/500\n",
      "21/21 [==============================] - 0s 14ms/step - loss: 9.5731e-04 - root_mean_squared_error: 0.0309 - val_loss: 0.0016 - val_root_mean_squared_error: 0.0396\n",
      "Epoch 244/500\n",
      "21/21 [==============================] - 0s 15ms/step - loss: 9.2926e-04 - root_mean_squared_error: 0.0305 - val_loss: 0.0012 - val_root_mean_squared_error: 0.0351\n",
      "Epoch 245/500\n",
      "21/21 [==============================] - ETA: 0s - loss: 9.4029e-04 - root_mean_squared_error: 0.030 - 0s 14ms/step - loss: 9.1810e-04 - root_mean_squared_error: 0.0303 - val_loss: 8.6317e-04 - val_root_mean_squared_error: 0.0294\n",
      "Epoch 246/500\n",
      "21/21 [==============================] - 0s 14ms/step - loss: 9.1507e-04 - root_mean_squared_error: 0.0303 - val_loss: 0.0020 - val_root_mean_squared_error: 0.0445\n",
      "Epoch 247/500\n",
      "21/21 [==============================] - 0s 18ms/step - loss: 9.1392e-04 - root_mean_squared_error: 0.0302 - val_loss: 0.0010 - val_root_mean_squared_error: 0.0321\n",
      "Epoch 248/500\n",
      "21/21 [==============================] - 0s 16ms/step - loss: 9.3901e-04 - root_mean_squared_error: 0.0306 - val_loss: 0.0013 - val_root_mean_squared_error: 0.0365\n",
      "Epoch 249/500\n",
      "21/21 [==============================] - 0s 15ms/step - loss: 9.0797e-04 - root_mean_squared_error: 0.0301 - val_loss: 9.5572e-04 - val_root_mean_squared_error: 0.0309\n",
      "Epoch 250/500\n",
      "21/21 [==============================] - 0s 13ms/step - loss: 8.9369e-04 - root_mean_squared_error: 0.0299 - val_loss: 0.0011 - val_root_mean_squared_error: 0.0331\n",
      "Epoch 251/500\n",
      "21/21 [==============================] - 0s 12ms/step - loss: 8.9692e-04 - root_mean_squared_error: 0.0299 - val_loss: 9.3318e-04 - val_root_mean_squared_error: 0.0305\n",
      "Epoch 252/500\n",
      "21/21 [==============================] - 0s 13ms/step - loss: 8.5846e-04 - root_mean_squared_error: 0.0293 - val_loss: 0.0021 - val_root_mean_squared_error: 0.0456\n",
      "Epoch 253/500\n",
      "21/21 [==============================] - 0s 11ms/step - loss: 8.8834e-04 - root_mean_squared_error: 0.0298 - val_loss: 0.0016 - val_root_mean_squared_error: 0.0394\n",
      "Epoch 254/500\n",
      "21/21 [==============================] - 0s 11ms/step - loss: 8.9761e-04 - root_mean_squared_error: 0.0300 - val_loss: 0.0025 - val_root_mean_squared_error: 0.0499\n",
      "Epoch 255/500\n",
      "21/21 [==============================] - 0s 11ms/step - loss: 8.8816e-04 - root_mean_squared_error: 0.0298 - val_loss: 0.0019 - val_root_mean_squared_error: 0.0437\n",
      "Epoch 256/500\n",
      "21/21 [==============================] - 0s 11ms/step - loss: 8.7751e-04 - root_mean_squared_error: 0.0296 - val_loss: 8.1460e-04 - val_root_mean_squared_error: 0.0285\n",
      "Epoch 257/500\n",
      "21/21 [==============================] - 0s 11ms/step - loss: 9.0683e-04 - root_mean_squared_error: 0.0301 - val_loss: 0.0019 - val_root_mean_squared_error: 0.0438\n",
      "Epoch 258/500\n",
      "21/21 [==============================] - 0s 11ms/step - loss: 8.4599e-04 - root_mean_squared_error: 0.0291 - val_loss: 0.0010 - val_root_mean_squared_error: 0.0318\n",
      "Epoch 259/500\n",
      "21/21 [==============================] - 0s 11ms/step - loss: 9.2185e-04 - root_mean_squared_error: 0.0304 - val_loss: 0.0011 - val_root_mean_squared_error: 0.0332\n",
      "Epoch 260/500\n",
      "21/21 [==============================] - 0s 12ms/step - loss: 8.7611e-04 - root_mean_squared_error: 0.0296 - val_loss: 0.0016 - val_root_mean_squared_error: 0.0397\n",
      "Epoch 261/500\n",
      "21/21 [==============================] - 0s 10ms/step - loss: 9.1621e-04 - root_mean_squared_error: 0.0303 - val_loss: 8.4741e-04 - val_root_mean_squared_error: 0.0291\n",
      "Epoch 262/500\n",
      "21/21 [==============================] - 0s 10ms/step - loss: 8.9912e-04 - root_mean_squared_error: 0.0300 - val_loss: 0.0012 - val_root_mean_squared_error: 0.0348\n",
      "Epoch 263/500\n",
      "21/21 [==============================] - 0s 11ms/step - loss: 8.6400e-04 - root_mean_squared_error: 0.0294 - val_loss: 8.3140e-04 - val_root_mean_squared_error: 0.0288\n",
      "Epoch 264/500\n",
      "21/21 [==============================] - 0s 10ms/step - loss: 8.7179e-04 - root_mean_squared_error: 0.0295 - val_loss: 0.0038 - val_root_mean_squared_error: 0.0619\n",
      "Epoch 265/500\n",
      "21/21 [==============================] - 0s 10ms/step - loss: 9.0947e-04 - root_mean_squared_error: 0.0302 - val_loss: 0.0011 - val_root_mean_squared_error: 0.0327\n",
      "Epoch 266/500\n",
      "21/21 [==============================] - 0s 10ms/step - loss: 8.6399e-04 - root_mean_squared_error: 0.0294 - val_loss: 0.0013 - val_root_mean_squared_error: 0.0357\n",
      "Epoch 267/500\n",
      "21/21 [==============================] - 0s 10ms/step - loss: 9.3112e-04 - root_mean_squared_error: 0.0305 - val_loss: 0.0010 - val_root_mean_squared_error: 0.0318\n",
      "Epoch 268/500\n",
      "21/21 [==============================] - 0s 10ms/step - loss: 8.9059e-04 - root_mean_squared_error: 0.0298 - val_loss: 0.0014 - val_root_mean_squared_error: 0.0372\n",
      "Epoch 269/500\n",
      "21/21 [==============================] - 0s 10ms/step - loss: 8.6202e-04 - root_mean_squared_error: 0.0294 - val_loss: 9.0055e-04 - val_root_mean_squared_error: 0.0300\n",
      "Epoch 270/500\n",
      "21/21 [==============================] - 0s 10ms/step - loss: 8.6012e-04 - root_mean_squared_error: 0.0293 - val_loss: 8.6621e-04 - val_root_mean_squared_error: 0.0294\n",
      "Epoch 271/500\n",
      "21/21 [==============================] - 0s 10ms/step - loss: 9.0288e-04 - root_mean_squared_error: 0.0300 - val_loss: 0.0015 - val_root_mean_squared_error: 0.0389\n",
      "Epoch 272/500\n",
      "21/21 [==============================] - 0s 11ms/step - loss: 9.2070e-04 - root_mean_squared_error: 0.0303 - val_loss: 0.0012 - val_root_mean_squared_error: 0.0353\n",
      "Epoch 273/500\n",
      "21/21 [==============================] - 0s 11ms/step - loss: 8.6627e-04 - root_mean_squared_error: 0.0294 - val_loss: 8.8142e-04 - val_root_mean_squared_error: 0.0297\n",
      "Epoch 274/500\n",
      "21/21 [==============================] - 0s 12ms/step - loss: 8.7645e-04 - root_mean_squared_error: 0.0296 - val_loss: 9.5749e-04 - val_root_mean_squared_error: 0.0309\n",
      "Epoch 275/500\n",
      "21/21 [==============================] - 0s 11ms/step - loss: 8.6386e-04 - root_mean_squared_error: 0.0294 - val_loss: 7.8532e-04 - val_root_mean_squared_error: 0.0280\n",
      "Epoch 276/500\n"
     ]
    },
    {
     "name": "stdout",
     "output_type": "stream",
     "text": [
      "21/21 [==============================] - 0s 10ms/step - loss: 8.6959e-04 - root_mean_squared_error: 0.0295 - val_loss: 0.0015 - val_root_mean_squared_error: 0.0384\n",
      "Epoch 277/500\n",
      "21/21 [==============================] - 0s 10ms/step - loss: 8.8065e-04 - root_mean_squared_error: 0.0297 - val_loss: 0.0025 - val_root_mean_squared_error: 0.0505\n",
      "Epoch 278/500\n",
      "21/21 [==============================] - 0s 10ms/step - loss: 9.1601e-04 - root_mean_squared_error: 0.0303 - val_loss: 0.0010 - val_root_mean_squared_error: 0.0319\n",
      "Epoch 279/500\n",
      "21/21 [==============================] - 0s 10ms/step - loss: 8.6559e-04 - root_mean_squared_error: 0.0294 - val_loss: 0.0011 - val_root_mean_squared_error: 0.0324\n",
      "Epoch 280/500\n",
      "21/21 [==============================] - 0s 10ms/step - loss: 8.6234e-04 - root_mean_squared_error: 0.0294 - val_loss: 0.0013 - val_root_mean_squared_error: 0.0357\n",
      "Epoch 281/500\n",
      "21/21 [==============================] - 0s 10ms/step - loss: 8.7524e-04 - root_mean_squared_error: 0.0296 - val_loss: 0.0014 - val_root_mean_squared_error: 0.0379\n",
      "Epoch 282/500\n",
      "21/21 [==============================] - 0s 9ms/step - loss: 9.1248e-04 - root_mean_squared_error: 0.0302 - val_loss: 0.0024 - val_root_mean_squared_error: 0.0493\n",
      "Epoch 283/500\n",
      "21/21 [==============================] - 0s 9ms/step - loss: 8.7420e-04 - root_mean_squared_error: 0.0296 - val_loss: 0.0011 - val_root_mean_squared_error: 0.0325\n",
      "Epoch 284/500\n",
      "21/21 [==============================] - 0s 9ms/step - loss: 8.7373e-04 - root_mean_squared_error: 0.0296 - val_loss: 0.0012 - val_root_mean_squared_error: 0.0350\n",
      "Epoch 285/500\n",
      "21/21 [==============================] - 0s 9ms/step - loss: 8.9933e-04 - root_mean_squared_error: 0.0300 - val_loss: 0.0015 - val_root_mean_squared_error: 0.0389\n",
      "Epoch 286/500\n",
      "21/21 [==============================] - 0s 9ms/step - loss: 8.7396e-04 - root_mean_squared_error: 0.0296 - val_loss: 0.0028 - val_root_mean_squared_error: 0.0533\n",
      "Epoch 287/500\n",
      "21/21 [==============================] - 0s 10ms/step - loss: 9.2411e-04 - root_mean_squared_error: 0.0304 - val_loss: 9.6633e-04 - val_root_mean_squared_error: 0.0311\n",
      "Epoch 288/500\n",
      "21/21 [==============================] - 0s 9ms/step - loss: 8.5616e-04 - root_mean_squared_error: 0.0293 - val_loss: 8.1991e-04 - val_root_mean_squared_error: 0.0286\n",
      "Epoch 289/500\n",
      "21/21 [==============================] - 0s 11ms/step - loss: 8.9757e-04 - root_mean_squared_error: 0.0300 - val_loss: 0.0012 - val_root_mean_squared_error: 0.0353\n",
      "Epoch 290/500\n",
      "21/21 [==============================] - 0s 11ms/step - loss: 8.6465e-04 - root_mean_squared_error: 0.0294 - val_loss: 8.6081e-04 - val_root_mean_squared_error: 0.0293\n",
      "Epoch 291/500\n",
      "21/21 [==============================] - 0s 10ms/step - loss: 8.4025e-04 - root_mean_squared_error: 0.0290 - val_loss: 0.0015 - val_root_mean_squared_error: 0.0393\n",
      "Epoch 292/500\n",
      "21/21 [==============================] - 0s 9ms/step - loss: 8.6178e-04 - root_mean_squared_error: 0.0294 - val_loss: 0.0010 - val_root_mean_squared_error: 0.0317\n",
      "Epoch 293/500\n",
      "21/21 [==============================] - 0s 10ms/step - loss: 8.8868e-04 - root_mean_squared_error: 0.0298 - val_loss: 0.0012 - val_root_mean_squared_error: 0.0345\n",
      "Epoch 294/500\n",
      "21/21 [==============================] - 0s 9ms/step - loss: 8.3850e-04 - root_mean_squared_error: 0.0290 - val_loss: 8.2138e-04 - val_root_mean_squared_error: 0.0287\n",
      "Epoch 295/500\n",
      "21/21 [==============================] - 0s 9ms/step - loss: 8.5911e-04 - root_mean_squared_error: 0.0293 - val_loss: 0.0011 - val_root_mean_squared_error: 0.0326\n",
      "Epoch 296/500\n",
      "21/21 [==============================] - 0s 9ms/step - loss: 9.0055e-04 - root_mean_squared_error: 0.0300 - val_loss: 7.9681e-04 - val_root_mean_squared_error: 0.0282\n",
      "Epoch 297/500\n",
      "21/21 [==============================] - 0s 9ms/step - loss: 8.8314e-04 - root_mean_squared_error: 0.0297 - val_loss: 0.0015 - val_root_mean_squared_error: 0.0387\n",
      "Epoch 298/500\n",
      "21/21 [==============================] - 0s 9ms/step - loss: 8.7322e-04 - root_mean_squared_error: 0.0296 - val_loss: 7.9328e-04 - val_root_mean_squared_error: 0.0282\n",
      "Epoch 299/500\n",
      "21/21 [==============================] - 0s 9ms/step - loss: 8.6463e-04 - root_mean_squared_error: 0.0294 - val_loss: 9.4484e-04 - val_root_mean_squared_error: 0.0307\n",
      "Epoch 300/500\n",
      "21/21 [==============================] - 0s 10ms/step - loss: 8.4584e-04 - root_mean_squared_error: 0.0291 - val_loss: 7.7386e-04 - val_root_mean_squared_error: 0.0278\n",
      "Epoch 301/500\n",
      "21/21 [==============================] - 0s 10ms/step - loss: 8.7465e-04 - root_mean_squared_error: 0.0296 - val_loss: 8.8097e-04 - val_root_mean_squared_error: 0.0297\n",
      "Epoch 302/500\n",
      "21/21 [==============================] - 0s 10ms/step - loss: 8.7959e-04 - root_mean_squared_error: 0.0297 - val_loss: 0.0015 - val_root_mean_squared_error: 0.0390\n",
      "Epoch 303/500\n",
      "21/21 [==============================] - 0s 10ms/step - loss: 8.2649e-04 - root_mean_squared_error: 0.0287 - val_loss: 0.0016 - val_root_mean_squared_error: 0.0402\n",
      "Epoch 304/500\n",
      "21/21 [==============================] - 0s 10ms/step - loss: 8.4503e-04 - root_mean_squared_error: 0.0291 - val_loss: 8.5235e-04 - val_root_mean_squared_error: 0.0292\n",
      "Epoch 305/500\n",
      "21/21 [==============================] - 0s 11ms/step - loss: 9.1356e-04 - root_mean_squared_error: 0.0302 - val_loss: 7.7039e-04 - val_root_mean_squared_error: 0.0278\n",
      "Epoch 306/500\n",
      "21/21 [==============================] - 0s 10ms/step - loss: 8.7661e-04 - root_mean_squared_error: 0.0296 - val_loss: 0.0012 - val_root_mean_squared_error: 0.0340\n",
      "Epoch 307/500\n",
      "21/21 [==============================] - 0s 9ms/step - loss: 8.5627e-04 - root_mean_squared_error: 0.0293 - val_loss: 9.1290e-04 - val_root_mean_squared_error: 0.0302\n",
      "Epoch 308/500\n",
      "21/21 [==============================] - 0s 9ms/step - loss: 8.5509e-04 - root_mean_squared_error: 0.0292 - val_loss: 0.0012 - val_root_mean_squared_error: 0.0350\n",
      "Epoch 309/500\n",
      "21/21 [==============================] - 0s 10ms/step - loss: 8.3397e-04 - root_mean_squared_error: 0.0289 - val_loss: 0.0018 - val_root_mean_squared_error: 0.0428\n",
      "Epoch 310/500\n",
      "21/21 [==============================] - 0s 10ms/step - loss: 8.5057e-04 - root_mean_squared_error: 0.0292 - val_loss: 7.7561e-04 - val_root_mean_squared_error: 0.0278\n",
      "Epoch 311/500\n",
      "21/21 [==============================] - 0s 9ms/step - loss: 8.4720e-04 - root_mean_squared_error: 0.0291 - val_loss: 0.0014 - val_root_mean_squared_error: 0.0368\n",
      "Epoch 312/500\n",
      "21/21 [==============================] - 0s 10ms/step - loss: 8.9458e-04 - root_mean_squared_error: 0.0299 - val_loss: 8.1411e-04 - val_root_mean_squared_error: 0.0285\n",
      "Epoch 313/500\n",
      "21/21 [==============================] - 0s 10ms/step - loss: 8.6427e-04 - root_mean_squared_error: 0.0294 - val_loss: 0.0013 - val_root_mean_squared_error: 0.0363\n",
      "Epoch 314/500\n",
      "21/21 [==============================] - 0s 9ms/step - loss: 9.1872e-04 - root_mean_squared_error: 0.0303 - val_loss: 0.0014 - val_root_mean_squared_error: 0.0369\n",
      "Epoch 315/500\n",
      "21/21 [==============================] - 0s 9ms/step - loss: 8.7292e-04 - root_mean_squared_error: 0.0295 - val_loss: 0.0011 - val_root_mean_squared_error: 0.0329\n",
      "Epoch 316/500\n",
      "21/21 [==============================] - 0s 10ms/step - loss: 8.6891e-04 - root_mean_squared_error: 0.0295 - val_loss: 0.0014 - val_root_mean_squared_error: 0.0377\n",
      "Epoch 317/500\n",
      "21/21 [==============================] - 0s 9ms/step - loss: 8.9768e-04 - root_mean_squared_error: 0.0300 - val_loss: 0.0015 - val_root_mean_squared_error: 0.0383\n",
      "Epoch 318/500\n",
      "21/21 [==============================] - 0s 9ms/step - loss: 9.0294e-04 - root_mean_squared_error: 0.0300 - val_loss: 9.0398e-04 - val_root_mean_squared_error: 0.0301\n",
      "Epoch 319/500\n",
      "21/21 [==============================] - 0s 10ms/step - loss: 8.6885e-04 - root_mean_squared_error: 0.0295 - val_loss: 0.0012 - val_root_mean_squared_error: 0.0351\n",
      "Epoch 320/500\n",
      "21/21 [==============================] - 0s 11ms/step - loss: 8.8798e-04 - root_mean_squared_error: 0.0298 - val_loss: 9.5137e-04 - val_root_mean_squared_error: 0.0308\n",
      "Epoch 321/500\n",
      "21/21 [==============================] - 0s 10ms/step - loss: 8.4576e-04 - root_mean_squared_error: 0.0291 - val_loss: 9.9787e-04 - val_root_mean_squared_error: 0.0316\n"
     ]
    },
    {
     "name": "stdout",
     "output_type": "stream",
     "text": [
      "Epoch 322/500\n",
      "21/21 [==============================] - 0s 9ms/step - loss: 8.6678e-04 - root_mean_squared_error: 0.0294 - val_loss: 0.0014 - val_root_mean_squared_error: 0.0377\n",
      "Epoch 323/500\n",
      "21/21 [==============================] - 0s 9ms/step - loss: 8.4282e-04 - root_mean_squared_error: 0.0290 - val_loss: 0.0011 - val_root_mean_squared_error: 0.0325\n",
      "Epoch 324/500\n",
      "21/21 [==============================] - 0s 10ms/step - loss: 8.7970e-04 - root_mean_squared_error: 0.0297 - val_loss: 0.0019 - val_root_mean_squared_error: 0.0433\n",
      "Epoch 325/500\n",
      "21/21 [==============================] - 0s 9ms/step - loss: 8.7932e-04 - root_mean_squared_error: 0.0297 - val_loss: 8.8054e-04 - val_root_mean_squared_error: 0.0297\n",
      "Epoch 326/500\n",
      "21/21 [==============================] - 0s 10ms/step - loss: 8.7275e-04 - root_mean_squared_error: 0.0295 - val_loss: 0.0014 - val_root_mean_squared_error: 0.0377\n",
      "Epoch 327/500\n",
      "21/21 [==============================] - 0s 10ms/step - loss: 8.7838e-04 - root_mean_squared_error: 0.0296 - val_loss: 9.3995e-04 - val_root_mean_squared_error: 0.0307\n",
      "Epoch 328/500\n",
      "21/21 [==============================] - 0s 10ms/step - loss: 8.4811e-04 - root_mean_squared_error: 0.0291 - val_loss: 0.0011 - val_root_mean_squared_error: 0.0327\n",
      "Epoch 329/500\n",
      "21/21 [==============================] - 0s 10ms/step - loss: 8.7504e-04 - root_mean_squared_error: 0.0296 - val_loss: 0.0011 - val_root_mean_squared_error: 0.0335\n",
      "Epoch 330/500\n",
      "21/21 [==============================] - 0s 11ms/step - loss: 8.5371e-04 - root_mean_squared_error: 0.0292 - val_loss: 0.0014 - val_root_mean_squared_error: 0.0374\n",
      "Epoch 331/500\n",
      "21/21 [==============================] - 0s 10ms/step - loss: 8.5622e-04 - root_mean_squared_error: 0.0293 - val_loss: 0.0012 - val_root_mean_squared_error: 0.0352\n",
      "Epoch 332/500\n",
      "21/21 [==============================] - 0s 10ms/step - loss: 8.7539e-04 - root_mean_squared_error: 0.0296 - val_loss: 0.0014 - val_root_mean_squared_error: 0.0373\n",
      "Epoch 333/500\n",
      "21/21 [==============================] - 0s 9ms/step - loss: 8.5881e-04 - root_mean_squared_error: 0.0293 - val_loss: 9.6436e-04 - val_root_mean_squared_error: 0.0311\n",
      "Epoch 334/500\n",
      "21/21 [==============================] - 0s 10ms/step - loss: 8.6243e-04 - root_mean_squared_error: 0.0294 - val_loss: 0.0014 - val_root_mean_squared_error: 0.0372\n",
      "Epoch 335/500\n",
      "21/21 [==============================] - 0s 11ms/step - loss: 8.5761e-04 - root_mean_squared_error: 0.0293 - val_loss: 8.9426e-04 - val_root_mean_squared_error: 0.0299\n",
      "Epoch 336/500\n",
      "21/21 [==============================] - 0s 10ms/step - loss: 8.5701e-04 - root_mean_squared_error: 0.0293 - val_loss: 0.0023 - val_root_mean_squared_error: 0.0481\n",
      "Epoch 337/500\n",
      "21/21 [==============================] - 0s 10ms/step - loss: 8.7161e-04 - root_mean_squared_error: 0.0295 - val_loss: 9.4462e-04 - val_root_mean_squared_error: 0.0307\n",
      "Epoch 338/500\n",
      "21/21 [==============================] - 0s 10ms/step - loss: 8.4679e-04 - root_mean_squared_error: 0.0291 - val_loss: 0.0013 - val_root_mean_squared_error: 0.0366\n",
      "Epoch 339/500\n",
      "21/21 [==============================] - 0s 10ms/step - loss: 8.6957e-04 - root_mean_squared_error: 0.0295 - val_loss: 8.9136e-04 - val_root_mean_squared_error: 0.0299\n",
      "Epoch 340/500\n",
      "21/21 [==============================] - 0s 9ms/step - loss: 9.0483e-04 - root_mean_squared_error: 0.0301 - val_loss: 0.0013 - val_root_mean_squared_error: 0.0362\n",
      "Epoch 341/500\n",
      "21/21 [==============================] - 0s 10ms/step - loss: 8.3174e-04 - root_mean_squared_error: 0.0288 - val_loss: 0.0011 - val_root_mean_squared_error: 0.0326\n",
      "Epoch 342/500\n",
      "21/21 [==============================] - 0s 10ms/step - loss: 8.7225e-04 - root_mean_squared_error: 0.0295 - val_loss: 9.4881e-04 - val_root_mean_squared_error: 0.0308\n",
      "Epoch 343/500\n",
      "21/21 [==============================] - 0s 9ms/step - loss: 8.4893e-04 - root_mean_squared_error: 0.0291 - val_loss: 0.0011 - val_root_mean_squared_error: 0.0325\n",
      "Epoch 344/500\n",
      "21/21 [==============================] - 0s 10ms/step - loss: 8.6038e-04 - root_mean_squared_error: 0.0293 - val_loss: 0.0015 - val_root_mean_squared_error: 0.0392\n",
      "Epoch 345/500\n",
      "21/21 [==============================] - 0s 10ms/step - loss: 8.5091e-04 - root_mean_squared_error: 0.0292 - val_loss: 0.0013 - val_root_mean_squared_error: 0.0364\n",
      "Epoch 346/500\n",
      "21/21 [==============================] - 0s 10ms/step - loss: 8.5376e-04 - root_mean_squared_error: 0.0292 - val_loss: 0.0013 - val_root_mean_squared_error: 0.0358\n",
      "Epoch 347/500\n",
      "21/21 [==============================] - 0s 10ms/step - loss: 8.4433e-04 - root_mean_squared_error: 0.0291 - val_loss: 0.0013 - val_root_mean_squared_error: 0.0365\n",
      "Epoch 348/500\n",
      "21/21 [==============================] - 0s 10ms/step - loss: 8.5803e-04 - root_mean_squared_error: 0.0293 - val_loss: 0.0012 - val_root_mean_squared_error: 0.0341\n",
      "Epoch 349/500\n",
      "21/21 [==============================] - 0s 10ms/step - loss: 8.4947e-04 - root_mean_squared_error: 0.0291 - val_loss: 9.4303e-04 - val_root_mean_squared_error: 0.0307\n",
      "Epoch 350/500\n",
      "21/21 [==============================] - 0s 11ms/step - loss: 8.3620e-04 - root_mean_squared_error: 0.0289 - val_loss: 7.8531e-04 - val_root_mean_squared_error: 0.0280\n",
      "Epoch 351/500\n",
      "21/21 [==============================] - 0s 10ms/step - loss: 8.5735e-04 - root_mean_squared_error: 0.0293 - val_loss: 0.0025 - val_root_mean_squared_error: 0.0497\n",
      "Epoch 352/500\n",
      "21/21 [==============================] - 0s 10ms/step - loss: 8.4341e-04 - root_mean_squared_error: 0.0290 - val_loss: 8.4897e-04 - val_root_mean_squared_error: 0.0291\n",
      "Epoch 353/500\n",
      "21/21 [==============================] - 0s 10ms/step - loss: 8.5361e-04 - root_mean_squared_error: 0.0292 - val_loss: 0.0012 - val_root_mean_squared_error: 0.0341\n",
      "Epoch 354/500\n",
      "21/21 [==============================] - 0s 10ms/step - loss: 8.9535e-04 - root_mean_squared_error: 0.0299 - val_loss: 0.0010 - val_root_mean_squared_error: 0.0320\n",
      "Epoch 355/500\n",
      "21/21 [==============================] - 0s 10ms/step - loss: 8.4690e-04 - root_mean_squared_error: 0.0291 - val_loss: 7.8818e-04 - val_root_mean_squared_error: 0.0281\n",
      "Epoch 356/500\n",
      "21/21 [==============================] - 0s 10ms/step - loss: 8.5152e-04 - root_mean_squared_error: 0.0292 - val_loss: 0.0015 - val_root_mean_squared_error: 0.0381\n",
      "Epoch 357/500\n",
      "21/21 [==============================] - 0s 10ms/step - loss: 8.2496e-04 - root_mean_squared_error: 0.0287 - val_loss: 0.0016 - val_root_mean_squared_error: 0.0403\n",
      "Epoch 358/500\n",
      "21/21 [==============================] - 0s 10ms/step - loss: 8.6388e-04 - root_mean_squared_error: 0.0294 - val_loss: 8.5474e-04 - val_root_mean_squared_error: 0.0292\n",
      "Epoch 359/500\n",
      "21/21 [==============================] - 0s 11ms/step - loss: 8.6711e-04 - root_mean_squared_error: 0.0294 - val_loss: 0.0010 - val_root_mean_squared_error: 0.0321\n",
      "Epoch 360/500\n",
      "21/21 [==============================] - 0s 10ms/step - loss: 8.1576e-04 - root_mean_squared_error: 0.0286 - val_loss: 0.0013 - val_root_mean_squared_error: 0.0358\n",
      "Epoch 361/500\n",
      "21/21 [==============================] - 0s 10ms/step - loss: 8.4479e-04 - root_mean_squared_error: 0.0291 - val_loss: 7.9227e-04 - val_root_mean_squared_error: 0.0281\n",
      "Epoch 362/500\n",
      "21/21 [==============================] - 0s 10ms/step - loss: 8.5807e-04 - root_mean_squared_error: 0.0293 - val_loss: 0.0013 - val_root_mean_squared_error: 0.0355\n",
      "Epoch 363/500\n",
      "21/21 [==============================] - 0s 10ms/step - loss: 8.3403e-04 - root_mean_squared_error: 0.0289 - val_loss: 9.9543e-04 - val_root_mean_squared_error: 0.0316\n",
      "Epoch 364/500\n",
      "21/21 [==============================] - 0s 12ms/step - loss: 8.8694e-04 - root_mean_squared_error: 0.0298 - val_loss: 0.0024 - val_root_mean_squared_error: 0.0491\n",
      "Epoch 365/500\n",
      "21/21 [==============================] - 0s 12ms/step - loss: 8.6961e-04 - root_mean_squared_error: 0.0295 - val_loss: 0.0010 - val_root_mean_squared_error: 0.0320\n",
      "Epoch 366/500\n",
      "21/21 [==============================] - 0s 10ms/step - loss: 8.3606e-04 - root_mean_squared_error: 0.0289 - val_loss: 8.6331e-04 - val_root_mean_squared_error: 0.0294\n",
      "Epoch 367/500\n",
      "21/21 [==============================] - 0s 10ms/step - loss: 8.4984e-04 - root_mean_squared_error: 0.0292 - val_loss: 8.1360e-04 - val_root_mean_squared_error: 0.0285\n"
     ]
    },
    {
     "name": "stdout",
     "output_type": "stream",
     "text": [
      "Epoch 368/500\n",
      "21/21 [==============================] - 0s 10ms/step - loss: 8.4331e-04 - root_mean_squared_error: 0.0290 - val_loss: 9.0292e-04 - val_root_mean_squared_error: 0.0300\n",
      "Epoch 369/500\n",
      "21/21 [==============================] - 0s 11ms/step - loss: 8.3987e-04 - root_mean_squared_error: 0.0290 - val_loss: 0.0020 - val_root_mean_squared_error: 0.0446\n",
      "Epoch 370/500\n",
      "21/21 [==============================] - 0s 10ms/step - loss: 8.4643e-04 - root_mean_squared_error: 0.0291 - val_loss: 0.0013 - val_root_mean_squared_error: 0.0363\n",
      "Epoch 371/500\n",
      "21/21 [==============================] - 0s 10ms/step - loss: 8.6480e-04 - root_mean_squared_error: 0.0294 - val_loss: 0.0010 - val_root_mean_squared_error: 0.0318\n",
      "Epoch 372/500\n",
      "21/21 [==============================] - 0s 10ms/step - loss: 8.3410e-04 - root_mean_squared_error: 0.0289 - val_loss: 0.0024 - val_root_mean_squared_error: 0.0492\n",
      "Epoch 373/500\n",
      "21/21 [==============================] - 0s 10ms/step - loss: 8.1729e-04 - root_mean_squared_error: 0.0286 - val_loss: 7.6616e-04 - val_root_mean_squared_error: 0.0277\n",
      "Epoch 374/500\n",
      "21/21 [==============================] - 0s 10ms/step - loss: 8.4587e-04 - root_mean_squared_error: 0.0291 - val_loss: 9.1508e-04 - val_root_mean_squared_error: 0.0303\n",
      "Epoch 375/500\n",
      "21/21 [==============================] - 0s 10ms/step - loss: 8.7242e-04 - root_mean_squared_error: 0.0295 - val_loss: 7.7530e-04 - val_root_mean_squared_error: 0.0278\n",
      "Epoch 376/500\n",
      "21/21 [==============================] - 0s 10ms/step - loss: 8.1327e-04 - root_mean_squared_error: 0.0285 - val_loss: 0.0022 - val_root_mean_squared_error: 0.0465\n",
      "Epoch 377/500\n",
      "21/21 [==============================] - 0s 10ms/step - loss: 8.2467e-04 - root_mean_squared_error: 0.0287 - val_loss: 9.8459e-04 - val_root_mean_squared_error: 0.0314\n",
      "Epoch 378/500\n",
      "21/21 [==============================] - 0s 10ms/step - loss: 8.8130e-04 - root_mean_squared_error: 0.0297 - val_loss: 8.2238e-04 - val_root_mean_squared_error: 0.0287\n",
      "Epoch 379/500\n",
      "21/21 [==============================] - 0s 12ms/step - loss: 8.1702e-04 - root_mean_squared_error: 0.0286 - val_loss: 0.0016 - val_root_mean_squared_error: 0.0405\n",
      "Epoch 380/500\n",
      "21/21 [==============================] - 0s 11ms/step - loss: 8.5158e-04 - root_mean_squared_error: 0.0292 - val_loss: 7.7885e-04 - val_root_mean_squared_error: 0.0279\n",
      "Epoch 381/500\n",
      "21/21 [==============================] - 0s 10ms/step - loss: 8.3957e-04 - root_mean_squared_error: 0.0290 - val_loss: 0.0015 - val_root_mean_squared_error: 0.0385\n",
      "Epoch 382/500\n",
      "21/21 [==============================] - 0s 11ms/step - loss: 8.2409e-04 - root_mean_squared_error: 0.0287 - val_loss: 8.9458e-04 - val_root_mean_squared_error: 0.0299\n",
      "Epoch 383/500\n",
      "21/21 [==============================] - 0s 10ms/step - loss: 8.7660e-04 - root_mean_squared_error: 0.0296 - val_loss: 9.6484e-04 - val_root_mean_squared_error: 0.0311\n",
      "Epoch 384/500\n",
      "21/21 [==============================] - 0s 10ms/step - loss: 8.1895e-04 - root_mean_squared_error: 0.0286 - val_loss: 7.7137e-04 - val_root_mean_squared_error: 0.0278\n",
      "Epoch 385/500\n",
      "21/21 [==============================] - 0s 11ms/step - loss: 8.0244e-04 - root_mean_squared_error: 0.0283 - val_loss: 0.0016 - val_root_mean_squared_error: 0.0402\n",
      "Epoch 386/500\n",
      "21/21 [==============================] - 0s 11ms/step - loss: 8.5659e-04 - root_mean_squared_error: 0.0293 - val_loss: 9.0124e-04 - val_root_mean_squared_error: 0.0300\n",
      "Epoch 387/500\n",
      "21/21 [==============================] - 0s 10ms/step - loss: 8.4670e-04 - root_mean_squared_error: 0.0291 - val_loss: 0.0014 - val_root_mean_squared_error: 0.0378\n",
      "Epoch 388/500\n",
      "21/21 [==============================] - 0s 11ms/step - loss: 8.3086e-04 - root_mean_squared_error: 0.0288 - val_loss: 7.4931e-04 - val_root_mean_squared_error: 0.0274\n",
      "Epoch 389/500\n",
      "21/21 [==============================] - 0s 10ms/step - loss: 8.7121e-04 - root_mean_squared_error: 0.0295 - val_loss: 9.0979e-04 - val_root_mean_squared_error: 0.0302\n",
      "Epoch 390/500\n",
      "21/21 [==============================] - 0s 10ms/step - loss: 8.6806e-04 - root_mean_squared_error: 0.0295 - val_loss: 8.3860e-04 - val_root_mean_squared_error: 0.0290\n",
      "Epoch 391/500\n",
      "21/21 [==============================] - 0s 9ms/step - loss: 8.2255e-04 - root_mean_squared_error: 0.0287 - val_loss: 8.0517e-04 - val_root_mean_squared_error: 0.0284\n",
      "Epoch 392/500\n",
      "21/21 [==============================] - 0s 10ms/step - loss: 8.3000e-04 - root_mean_squared_error: 0.0288 - val_loss: 0.0011 - val_root_mean_squared_error: 0.0338\n",
      "Epoch 393/500\n",
      "21/21 [==============================] - 0s 11ms/step - loss: 8.1253e-04 - root_mean_squared_error: 0.0285 - val_loss: 0.0013 - val_root_mean_squared_error: 0.0364\n",
      "Epoch 394/500\n",
      "21/21 [==============================] - 0s 11ms/step - loss: 8.3888e-04 - root_mean_squared_error: 0.0290 - val_loss: 9.4272e-04 - val_root_mean_squared_error: 0.0307\n",
      "Epoch 395/500\n",
      "21/21 [==============================] - 0s 10ms/step - loss: 8.4325e-04 - root_mean_squared_error: 0.0290 - val_loss: 9.7329e-04 - val_root_mean_squared_error: 0.0312\n",
      "Epoch 396/500\n",
      "21/21 [==============================] - 0s 10ms/step - loss: 8.3390e-04 - root_mean_squared_error: 0.0289 - val_loss: 8.5079e-04 - val_root_mean_squared_error: 0.0292\n",
      "Epoch 397/500\n",
      "21/21 [==============================] - 0s 10ms/step - loss: 8.1484e-04 - root_mean_squared_error: 0.0285 - val_loss: 8.0832e-04 - val_root_mean_squared_error: 0.0284\n",
      "Epoch 398/500\n",
      "21/21 [==============================] - 0s 10ms/step - loss: 8.7413e-04 - root_mean_squared_error: 0.0296 - val_loss: 8.3241e-04 - val_root_mean_squared_error: 0.0289\n",
      "Epoch 399/500\n",
      "21/21 [==============================] - 0s 10ms/step - loss: 8.4058e-04 - root_mean_squared_error: 0.0290 - val_loss: 8.7351e-04 - val_root_mean_squared_error: 0.0296\n",
      "Epoch 400/500\n",
      "21/21 [==============================] - 0s 10ms/step - loss: 8.1678e-04 - root_mean_squared_error: 0.0286 - val_loss: 0.0011 - val_root_mean_squared_error: 0.0337\n",
      "Epoch 401/500\n",
      "21/21 [==============================] - 0s 11ms/step - loss: 8.3484e-04 - root_mean_squared_error: 0.0289 - val_loss: 0.0018 - val_root_mean_squared_error: 0.0419\n",
      "Epoch 402/500\n",
      "21/21 [==============================] - 0s 11ms/step - loss: 8.1056e-04 - root_mean_squared_error: 0.0285 - val_loss: 0.0012 - val_root_mean_squared_error: 0.0343\n",
      "Epoch 403/500\n",
      "21/21 [==============================] - 0s 11ms/step - loss: 8.8708e-04 - root_mean_squared_error: 0.0298 - val_loss: 9.0261e-04 - val_root_mean_squared_error: 0.0300\n",
      "Epoch 404/500\n",
      "21/21 [==============================] - 0s 11ms/step - loss: 8.1396e-04 - root_mean_squared_error: 0.0285 - val_loss: 0.0013 - val_root_mean_squared_error: 0.0367\n",
      "Epoch 405/500\n",
      "21/21 [==============================] - 0s 13ms/step - loss: 8.5314e-04 - root_mean_squared_error: 0.0292 - val_loss: 8.6188e-04 - val_root_mean_squared_error: 0.0294\n",
      "Epoch 406/500\n",
      "21/21 [==============================] - 0s 10ms/step - loss: 8.2377e-04 - root_mean_squared_error: 0.0287 - val_loss: 0.0012 - val_root_mean_squared_error: 0.0346\n",
      "Epoch 407/500\n",
      "21/21 [==============================] - 0s 12ms/step - loss: 8.5128e-04 - root_mean_squared_error: 0.0292 - val_loss: 9.9563e-04 - val_root_mean_squared_error: 0.0316\n",
      "Epoch 408/500\n",
      "21/21 [==============================] - 0s 10ms/step - loss: 8.1565e-04 - root_mean_squared_error: 0.0286 - val_loss: 7.5983e-04 - val_root_mean_squared_error: 0.0276\n",
      "Epoch 409/500\n",
      "21/21 [==============================] - 0s 10ms/step - loss: 8.0350e-04 - root_mean_squared_error: 0.0283 - val_loss: 0.0010 - val_root_mean_squared_error: 0.0321\n",
      "Epoch 410/500\n",
      "21/21 [==============================] - 0s 10ms/step - loss: 8.4564e-04 - root_mean_squared_error: 0.0291 - val_loss: 0.0014 - val_root_mean_squared_error: 0.0373\n",
      "Epoch 411/500\n",
      "21/21 [==============================] - 0s 10ms/step - loss: 8.3272e-04 - root_mean_squared_error: 0.0289 - val_loss: 0.0015 - val_root_mean_squared_error: 0.0390\n",
      "Epoch 412/500\n",
      "21/21 [==============================] - 0s 11ms/step - loss: 8.5400e-04 - root_mean_squared_error: 0.0292 - val_loss: 7.8657e-04 - val_root_mean_squared_error: 0.0280\n",
      "Epoch 413/500\n",
      "21/21 [==============================] - 0s 10ms/step - loss: 8.0715e-04 - root_mean_squared_error: 0.0284 - val_loss: 0.0015 - val_root_mean_squared_error: 0.0392\n",
      "Epoch 414/500\n",
      "21/21 [==============================] - 0s 10ms/step - loss: 8.7191e-04 - root_mean_squared_error: 0.0295 - val_loss: 0.0023 - val_root_mean_squared_error: 0.0477\n",
      "Epoch 415/500\n",
      "21/21 [==============================] - 0s 9ms/step - loss: 8.3698e-04 - root_mean_squared_error: 0.0289 - val_loss: 7.6813e-04 - val_root_mean_squared_error: 0.0277\n",
      "Epoch 416/500\n",
      "21/21 [==============================] - 0s 9ms/step - loss: 7.9151e-04 - root_mean_squared_error: 0.0281 - val_loss: 0.0012 - val_root_mean_squared_error: 0.0342\n",
      "Epoch 417/500\n",
      "21/21 [==============================] - 0s 10ms/step - loss: 8.3925e-04 - root_mean_squared_error: 0.0290 - val_loss: 9.8809e-04 - val_root_mean_squared_error: 0.0314\n",
      "Epoch 418/500\n",
      "21/21 [==============================] - 0s 10ms/step - loss: 8.5020e-04 - root_mean_squared_error: 0.0292 - val_loss: 9.2776e-04 - val_root_mean_squared_error: 0.0305\n",
      "Epoch 419/500\n",
      "21/21 [==============================] - 0s 10ms/step - loss: 8.2317e-04 - root_mean_squared_error: 0.0287 - val_loss: 9.4705e-04 - val_root_mean_squared_error: 0.0308\n",
      "Epoch 420/500\n",
      "21/21 [==============================] - 0s 10ms/step - loss: 8.5729e-04 - root_mean_squared_error: 0.0293 - val_loss: 0.0014 - val_root_mean_squared_error: 0.0380\n",
      "Epoch 421/500\n",
      "21/21 [==============================] - 0s 10ms/step - loss: 8.2504e-04 - root_mean_squared_error: 0.0287 - val_loss: 8.2758e-04 - val_root_mean_squared_error: 0.0288\n",
      "Epoch 422/500\n",
      "21/21 [==============================] - 0s 12ms/step - loss: 8.0786e-04 - root_mean_squared_error: 0.0284 - val_loss: 9.0143e-04 - val_root_mean_squared_error: 0.0300\n",
      "Epoch 423/500\n",
      "21/21 [==============================] - 0s 10ms/step - loss: 8.4494e-04 - root_mean_squared_error: 0.0291 - val_loss: 9.7494e-04 - val_root_mean_squared_error: 0.0312\n",
      "Epoch 424/500\n",
      "21/21 [==============================] - 0s 10ms/step - loss: 7.8172e-04 - root_mean_squared_error: 0.0280 - val_loss: 8.2200e-04 - val_root_mean_squared_error: 0.0287\n",
      "Epoch 425/500\n",
      "21/21 [==============================] - 0s 10ms/step - loss: 8.1712e-04 - root_mean_squared_error: 0.0286 - val_loss: 0.0011 - val_root_mean_squared_error: 0.0332\n",
      "Epoch 426/500\n",
      "21/21 [==============================] - 0s 10ms/step - loss: 8.2612e-04 - root_mean_squared_error: 0.0287 - val_loss: 0.0014 - val_root_mean_squared_error: 0.0369\n",
      "Epoch 427/500\n",
      "21/21 [==============================] - 0s 10ms/step - loss: 8.5357e-04 - root_mean_squared_error: 0.0292 - val_loss: 8.0646e-04 - val_root_mean_squared_error: 0.0284\n",
      "Epoch 428/500\n",
      "21/21 [==============================] - 0s 10ms/step - loss: 8.4940e-04 - root_mean_squared_error: 0.0291 - val_loss: 0.0019 - val_root_mean_squared_error: 0.0440\n",
      "Epoch 429/500\n",
      "21/21 [==============================] - 0s 10ms/step - loss: 8.2102e-04 - root_mean_squared_error: 0.0287 - val_loss: 0.0011 - val_root_mean_squared_error: 0.0338\n",
      "Epoch 430/500\n",
      "21/21 [==============================] - 0s 10ms/step - loss: 8.1145e-04 - root_mean_squared_error: 0.0285 - val_loss: 9.6238e-04 - val_root_mean_squared_error: 0.0310\n",
      "Epoch 431/500\n",
      "21/21 [==============================] - 0s 10ms/step - loss: 8.2466e-04 - root_mean_squared_error: 0.0287 - val_loss: 8.8557e-04 - val_root_mean_squared_error: 0.0298\n",
      "Epoch 432/500\n",
      "21/21 [==============================] - 0s 10ms/step - loss: 8.2672e-04 - root_mean_squared_error: 0.0288 - val_loss: 0.0012 - val_root_mean_squared_error: 0.0344\n",
      "Epoch 433/500\n",
      "21/21 [==============================] - 0s 10ms/step - loss: 7.7798e-04 - root_mean_squared_error: 0.0279 - val_loss: 9.3297e-04 - val_root_mean_squared_error: 0.0305\n",
      "Epoch 434/500\n",
      "21/21 [==============================] - 0s 10ms/step - loss: 8.4769e-04 - root_mean_squared_error: 0.0291 - val_loss: 0.0013 - val_root_mean_squared_error: 0.0355\n",
      "Epoch 435/500\n",
      "21/21 [==============================] - 0s 10ms/step - loss: 8.1927e-04 - root_mean_squared_error: 0.0286 - val_loss: 0.0012 - val_root_mean_squared_error: 0.0348\n",
      "Epoch 436/500\n",
      "21/21 [==============================] - 0s 10ms/step - loss: 8.2927e-04 - root_mean_squared_error: 0.0288 - val_loss: 7.7017e-04 - val_root_mean_squared_error: 0.0278\n",
      "Epoch 437/500\n",
      "21/21 [==============================] - 0s 12ms/step - loss: 8.1070e-04 - root_mean_squared_error: 0.0285 - val_loss: 0.0012 - val_root_mean_squared_error: 0.0351\n",
      "Epoch 438/500\n",
      "21/21 [==============================] - 0s 10ms/step - loss: 8.3220e-04 - root_mean_squared_error: 0.0288 - val_loss: 9.5023e-04 - val_root_mean_squared_error: 0.0308\n",
      "Epoch 439/500\n",
      "21/21 [==============================] - 0s 10ms/step - loss: 7.8410e-04 - root_mean_squared_error: 0.0280 - val_loss: 0.0013 - val_root_mean_squared_error: 0.0365\n",
      "Epoch 440/500\n",
      "21/21 [==============================] - 0s 10ms/step - loss: 8.3692e-04 - root_mean_squared_error: 0.0289 - val_loss: 9.6127e-04 - val_root_mean_squared_error: 0.0310\n",
      "Epoch 441/500\n",
      "21/21 [==============================] - 0s 10ms/step - loss: 7.9480e-04 - root_mean_squared_error: 0.0282 - val_loss: 0.0012 - val_root_mean_squared_error: 0.0350\n",
      "Epoch 442/500\n",
      "21/21 [==============================] - 0s 10ms/step - loss: 8.0133e-04 - root_mean_squared_error: 0.0283 - val_loss: 0.0022 - val_root_mean_squared_error: 0.0468\n",
      "Epoch 443/500\n",
      "21/21 [==============================] - 0s 10ms/step - loss: 8.3495e-04 - root_mean_squared_error: 0.0289 - val_loss: 0.0016 - val_root_mean_squared_error: 0.0397\n",
      "Epoch 444/500\n",
      "21/21 [==============================] - 0s 10ms/step - loss: 8.1380e-04 - root_mean_squared_error: 0.0285 - val_loss: 0.0011 - val_root_mean_squared_error: 0.0329\n",
      "Epoch 445/500\n",
      "21/21 [==============================] - 0s 10ms/step - loss: 8.1256e-04 - root_mean_squared_error: 0.0285 - val_loss: 9.3266e-04 - val_root_mean_squared_error: 0.0305\n",
      "Epoch 446/500\n",
      "21/21 [==============================] - 0s 11ms/step - loss: 8.3491e-04 - root_mean_squared_error: 0.0289 - val_loss: 0.0013 - val_root_mean_squared_error: 0.0357\n",
      "Epoch 447/500\n",
      "21/21 [==============================] - 0s 10ms/step - loss: 8.1145e-04 - root_mean_squared_error: 0.0285 - val_loss: 0.0012 - val_root_mean_squared_error: 0.0344\n",
      "Epoch 448/500\n",
      "21/21 [==============================] - 0s 10ms/step - loss: 7.9322e-04 - root_mean_squared_error: 0.0282 - val_loss: 0.0011 - val_root_mean_squared_error: 0.0337\n",
      "Epoch 449/500\n",
      "21/21 [==============================] - 0s 10ms/step - loss: 8.3040e-04 - root_mean_squared_error: 0.0288 - val_loss: 0.0010 - val_root_mean_squared_error: 0.0323\n",
      "Epoch 450/500\n",
      "21/21 [==============================] - 0s 10ms/step - loss: 8.4101e-04 - root_mean_squared_error: 0.0290 - val_loss: 9.9018e-04 - val_root_mean_squared_error: 0.0315\n",
      "Epoch 451/500\n",
      "21/21 [==============================] - 0s 13ms/step - loss: 7.8757e-04 - root_mean_squared_error: 0.0281 - val_loss: 8.3432e-04 - val_root_mean_squared_error: 0.0289\n",
      "Epoch 452/500\n",
      "21/21 [==============================] - 0s 11ms/step - loss: 7.8421e-04 - root_mean_squared_error: 0.0280 - val_loss: 0.0016 - val_root_mean_squared_error: 0.0403\n",
      "Epoch 453/500\n",
      "21/21 [==============================] - 0s 10ms/step - loss: 7.9789e-04 - root_mean_squared_error: 0.0282 - val_loss: 9.4143e-04 - val_root_mean_squared_error: 0.0307\n",
      "Epoch 454/500\n",
      "21/21 [==============================] - 0s 10ms/step - loss: 8.2482e-04 - root_mean_squared_error: 0.0287 - val_loss: 9.2610e-04 - val_root_mean_squared_error: 0.0304\n",
      "Epoch 455/500\n",
      "21/21 [==============================] - 0s 10ms/step - loss: 8.1436e-04 - root_mean_squared_error: 0.0285 - val_loss: 0.0013 - val_root_mean_squared_error: 0.0356\n",
      "Epoch 456/500\n",
      "21/21 [==============================] - 0s 10ms/step - loss: 7.9509e-04 - root_mean_squared_error: 0.0282 - val_loss: 0.0018 - val_root_mean_squared_error: 0.0419\n",
      "Epoch 457/500\n",
      "21/21 [==============================] - 0s 10ms/step - loss: 8.3500e-04 - root_mean_squared_error: 0.0289 - val_loss: 0.0014 - val_root_mean_squared_error: 0.0376\n",
      "Epoch 458/500\n",
      "21/21 [==============================] - 0s 10ms/step - loss: 8.3257e-04 - root_mean_squared_error: 0.0289 - val_loss: 0.0010 - val_root_mean_squared_error: 0.0318\n"
     ]
    },
    {
     "name": "stdout",
     "output_type": "stream",
     "text": [
      "Epoch 459/500\n",
      "21/21 [==============================] - 0s 10ms/step - loss: 8.1579e-04 - root_mean_squared_error: 0.0286 - val_loss: 7.7498e-04 - val_root_mean_squared_error: 0.0278\n",
      "Epoch 460/500\n",
      "21/21 [==============================] - 0s 10ms/step - loss: 8.4056e-04 - root_mean_squared_error: 0.0290 - val_loss: 8.5365e-04 - val_root_mean_squared_error: 0.0292\n",
      "Epoch 461/500\n",
      "21/21 [==============================] - 0s 11ms/step - loss: 8.0001e-04 - root_mean_squared_error: 0.0283 - val_loss: 0.0010 - val_root_mean_squared_error: 0.0318\n",
      "Epoch 462/500\n",
      "21/21 [==============================] - 0s 10ms/step - loss: 8.4397e-04 - root_mean_squared_error: 0.0291 - val_loss: 9.8332e-04 - val_root_mean_squared_error: 0.0314\n",
      "Epoch 463/500\n",
      "21/21 [==============================] - 0s 10ms/step - loss: 7.9836e-04 - root_mean_squared_error: 0.0283 - val_loss: 7.6241e-04 - val_root_mean_squared_error: 0.0276\n",
      "Epoch 464/500\n",
      "21/21 [==============================] - 0s 11ms/step - loss: 7.7838e-04 - root_mean_squared_error: 0.0279 - val_loss: 0.0021 - val_root_mean_squared_error: 0.0462\n",
      "Epoch 465/500\n",
      "21/21 [==============================] - 0s 12ms/step - loss: 7.9810e-04 - root_mean_squared_error: 0.0283 - val_loss: 9.3684e-04 - val_root_mean_squared_error: 0.0306\n",
      "Epoch 466/500\n",
      "21/21 [==============================] - 0s 12ms/step - loss: 7.9599e-04 - root_mean_squared_error: 0.0282 - val_loss: 8.1333e-04 - val_root_mean_squared_error: 0.0285\n",
      "Epoch 467/500\n",
      "21/21 [==============================] - 0s 11ms/step - loss: 8.3223e-04 - root_mean_squared_error: 0.0288 - val_loss: 0.0018 - val_root_mean_squared_error: 0.0429\n",
      "Epoch 468/500\n",
      "21/21 [==============================] - 0s 11ms/step - loss: 7.7192e-04 - root_mean_squared_error: 0.0278 - val_loss: 9.6657e-04 - val_root_mean_squared_error: 0.0311\n",
      "Epoch 469/500\n",
      "21/21 [==============================] - 0s 11ms/step - loss: 8.1998e-04 - root_mean_squared_error: 0.0286 - val_loss: 7.7697e-04 - val_root_mean_squared_error: 0.0279\n",
      "Epoch 470/500\n",
      "21/21 [==============================] - 0s 10ms/step - loss: 8.2833e-04 - root_mean_squared_error: 0.0288 - val_loss: 7.5529e-04 - val_root_mean_squared_error: 0.0275\n",
      "Epoch 471/500\n",
      "21/21 [==============================] - 0s 10ms/step - loss: 8.0941e-04 - root_mean_squared_error: 0.0285 - val_loss: 9.2868e-04 - val_root_mean_squared_error: 0.0305\n",
      "Epoch 472/500\n",
      "21/21 [==============================] - 0s 11ms/step - loss: 8.3292e-04 - root_mean_squared_error: 0.0289 - val_loss: 0.0013 - val_root_mean_squared_error: 0.0364\n",
      "Epoch 473/500\n",
      "21/21 [==============================] - 0s 11ms/step - loss: 7.7730e-04 - root_mean_squared_error: 0.0279 - val_loss: 8.6171e-04 - val_root_mean_squared_error: 0.0294\n",
      "Epoch 474/500\n",
      "21/21 [==============================] - 0s 10ms/step - loss: 8.0207e-04 - root_mean_squared_error: 0.0283 - val_loss: 0.0014 - val_root_mean_squared_error: 0.0371\n",
      "Epoch 475/500\n",
      "21/21 [==============================] - 0s 10ms/step - loss: 8.1603e-04 - root_mean_squared_error: 0.0286 - val_loss: 0.0033 - val_root_mean_squared_error: 0.0574\n",
      "Epoch 476/500\n",
      "21/21 [==============================] - 0s 10ms/step - loss: 8.4062e-04 - root_mean_squared_error: 0.0290 - val_loss: 0.0011 - val_root_mean_squared_error: 0.0326\n",
      "Epoch 477/500\n",
      "21/21 [==============================] - 0s 10ms/step - loss: 8.0636e-04 - root_mean_squared_error: 0.0284 - val_loss: 7.8202e-04 - val_root_mean_squared_error: 0.0280\n",
      "Epoch 478/500\n",
      "21/21 [==============================] - 0s 11ms/step - loss: 8.0788e-04 - root_mean_squared_error: 0.0284 - val_loss: 0.0011 - val_root_mean_squared_error: 0.0339\n",
      "Epoch 479/500\n",
      "21/21 [==============================] - 0s 12ms/step - loss: 8.1882e-04 - root_mean_squared_error: 0.0286 - val_loss: 9.7975e-04 - val_root_mean_squared_error: 0.0313\n",
      "Epoch 480/500\n",
      "21/21 [==============================] - 0s 11ms/step - loss: 8.0312e-04 - root_mean_squared_error: 0.0283 - val_loss: 0.0013 - val_root_mean_squared_error: 0.0361\n",
      "Epoch 481/500\n",
      "21/21 [==============================] - 0s 10ms/step - loss: 7.8461e-04 - root_mean_squared_error: 0.0280 - val_loss: 7.9164e-04 - val_root_mean_squared_error: 0.0281\n",
      "Epoch 482/500\n",
      "21/21 [==============================] - 0s 10ms/step - loss: 8.2869e-04 - root_mean_squared_error: 0.0288 - val_loss: 0.0012 - val_root_mean_squared_error: 0.0340\n",
      "Epoch 483/500\n",
      "21/21 [==============================] - 0s 9ms/step - loss: 8.0486e-04 - root_mean_squared_error: 0.0284 - val_loss: 0.0014 - val_root_mean_squared_error: 0.0369\n",
      "Epoch 484/500\n",
      "21/21 [==============================] - 0s 9ms/step - loss: 8.1081e-04 - root_mean_squared_error: 0.0285 - val_loss: 0.0017 - val_root_mean_squared_error: 0.0408\n",
      "Epoch 485/500\n",
      "21/21 [==============================] - 0s 10ms/step - loss: 8.5123e-04 - root_mean_squared_error: 0.0292 - val_loss: 0.0010 - val_root_mean_squared_error: 0.0318\n",
      "Epoch 486/500\n",
      "21/21 [==============================] - 0s 10ms/step - loss: 7.7851e-04 - root_mean_squared_error: 0.0279 - val_loss: 8.4694e-04 - val_root_mean_squared_error: 0.0291\n",
      "Epoch 487/500\n",
      "21/21 [==============================] - 0s 10ms/step - loss: 8.0284e-04 - root_mean_squared_error: 0.0283 - val_loss: 9.5558e-04 - val_root_mean_squared_error: 0.0309\n",
      "Epoch 488/500\n",
      "21/21 [==============================] - 0s 10ms/step - loss: 8.0647e-04 - root_mean_squared_error: 0.0284 - val_loss: 0.0016 - val_root_mean_squared_error: 0.0399\n",
      "Epoch 489/500\n",
      "21/21 [==============================] - 0s 10ms/step - loss: 7.8467e-04 - root_mean_squared_error: 0.0280 - val_loss: 0.0011 - val_root_mean_squared_error: 0.0334\n",
      "Epoch 490/500\n",
      "21/21 [==============================] - 0s 10ms/step - loss: 7.7944e-04 - root_mean_squared_error: 0.0279 - val_loss: 0.0015 - val_root_mean_squared_error: 0.0383\n",
      "Epoch 491/500\n",
      "21/21 [==============================] - 0s 11ms/step - loss: 7.8024e-04 - root_mean_squared_error: 0.0279 - val_loss: 9.3072e-04 - val_root_mean_squared_error: 0.0305\n",
      "Epoch 492/500\n",
      "21/21 [==============================] - 0s 11ms/step - loss: 8.4864e-04 - root_mean_squared_error: 0.0291 - val_loss: 9.8886e-04 - val_root_mean_squared_error: 0.0314\n",
      "Epoch 493/500\n",
      "21/21 [==============================] - 0s 12ms/step - loss: 7.7399e-04 - root_mean_squared_error: 0.0278 - val_loss: 9.4439e-04 - val_root_mean_squared_error: 0.0307\n",
      "Epoch 494/500\n",
      "21/21 [==============================] - 0s 14ms/step - loss: 8.2334e-04 - root_mean_squared_error: 0.0287 - val_loss: 9.8259e-04 - val_root_mean_squared_error: 0.0313\n",
      "Epoch 495/500\n",
      "21/21 [==============================] - 0s 12ms/step - loss: 8.1640e-04 - root_mean_squared_error: 0.0286 - val_loss: 9.3097e-04 - val_root_mean_squared_error: 0.0305\n",
      "Epoch 496/500\n",
      "21/21 [==============================] - 0s 10ms/step - loss: 8.0850e-04 - root_mean_squared_error: 0.0284 - val_loss: 0.0011 - val_root_mean_squared_error: 0.0325\n",
      "Epoch 497/500\n",
      "21/21 [==============================] - 0s 9ms/step - loss: 7.9554e-04 - root_mean_squared_error: 0.0282 - val_loss: 0.0012 - val_root_mean_squared_error: 0.0340\n",
      "Epoch 498/500\n",
      "21/21 [==============================] - 0s 10ms/step - loss: 7.6625e-04 - root_mean_squared_error: 0.0277 - val_loss: 0.0013 - val_root_mean_squared_error: 0.0363\n",
      "Epoch 499/500\n",
      "21/21 [==============================] - 0s 10ms/step - loss: 8.0395e-04 - root_mean_squared_error: 0.0284 - val_loss: 8.3543e-04 - val_root_mean_squared_error: 0.0289\n",
      "Epoch 500/500\n",
      "21/21 [==============================] - 0s 9ms/step - loss: 7.8426e-04 - root_mean_squared_error: 0.0280 - val_loss: 0.0013 - val_root_mean_squared_error: 0.0358\n"
     ]
    },
    {
     "data": {
      "text/plain": [
       "<tensorflow.python.keras.callbacks.History at 0x1b939856f28>"
      ]
     },
     "execution_count": 51,
     "metadata": {},
     "output_type": "execute_result"
    }
   ],
   "source": [
    "## 적합화\n",
    "model.fit(train_dataset, epochs=training_epochs,\n",
    "          steps_per_epoch=trainX.shape[0]//batch_size,\n",
    "          validation_data=test_dataset,\n",
    "          validation_steps=testX.shape[0]//batch_size)"
   ]
  },
  {
   "cell_type": "code",
   "execution_count": 52,
   "metadata": {
    "colab": {
     "base_uri": "https://localhost:8080/",
     "height": 279
    },
    "colab_type": "code",
    "id": "TCc2skcg-zfD",
    "outputId": "fe451e85-e7a9-44a1-8612-97a021fdeba9"
   },
   "outputs": [
    {
     "data": {
      "image/png": "[encoded data removed]",
      "text/plain": [
       "<Figure size 432x288 with 1 Axes>"
      ]
     },
     "metadata": {
      "needs_background": "light"
     },
     "output_type": "display_data"
    }
   ],
   "source": [
    "## 결과 확인\n",
    "prediction = model.predict(test_dataset)\n",
    "\n",
    "plt.plot(testY)\n",
    "plt.plot(prediction)\n",
    "plt.xlabel(\"Time Period\")\n",
    "plt.ylabel(\"Stock Price\")\n",
    "plt.legend(['real', 'prediction'])\n",
    "plt.show()"
   ]
  },
  {
   "cell_type": "code",
   "execution_count": 0,
   "metadata": {
    "colab": {},
    "colab_type": "code",
    "id": "mQ6njqym-zWM"
   },
   "outputs": [],
   "source": []
  },
  {
   "cell_type": "code",
   "execution_count": 0,
   "metadata": {
    "colab": {},
    "colab_type": "code",
    "id": "G93gWmSF-zGs"
   },
   "outputs": [],
   "source": []
  }
 ],
 "metadata": {
  "accelerator": "GPU",
  "colab": {
   "collapsed_sections": [],
   "name": "5_1.Recurrent_Neural_Network.ipynb",
   "provenance": []
  },
  "kernelspec": {
   "display_name": "Python 3",
   "language": "python",
   "name": "python3"
  },
  "language_info": {
   "codemirror_mode": {
    "name": "ipython",
    "version": 3
   },
   "file_extension": ".py",
   "mimetype": "text/x-python",
   "name": "python",
   "nbconvert_exporter": "python",
   "pygments_lexer": "ipython3",
   "version": "3.6.10"
  }
 },
 "nbformat": 4,
 "nbformat_minor": 1
}
