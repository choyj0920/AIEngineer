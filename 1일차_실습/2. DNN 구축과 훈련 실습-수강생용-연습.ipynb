{
 "cells": [
  {
   "cell_type": "markdown",
   "metadata": {
    "colab_type": "text",
    "id": "1D2zND53dHZg"
   },
   "source": [
    "# DNN 구축과 훈련 실습"
   ]
  },
  {
   "cell_type": "markdown",
   "metadata": {
    "colab_type": "text",
    "id": "YuSmlP3hc2gA"
   },
   "source": [
    "## 라이브러리 불러오기"
   ]
  },
  {
   "cell_type": "code",
   "execution_count": 1,
   "metadata": {},
   "outputs": [],
   "source": [
    "import warnings\n",
    "warnings.filterwarnings('ignore')"
   ]
  },
  {
   "cell_type": "code",
   "execution_count": 2,
   "metadata": {
    "colab": {
     "base_uri": "https://localhost:8080/",
     "height": 55
    },
    "colab_type": "code",
    "id": "yIP78tvlc2gB",
    "outputId": "0def9aa6-d010-4b7c-822c-2fdca0735e96"
   },
   "outputs": [
    {
     "name": "stdout",
     "output_type": "stream",
     "text": [
      "2.4.1\n",
      "2.4.0\n"
     ]
    }
   ],
   "source": [
    "## 라이브러리 임포트\n",
    "import tensorflow as tf\n",
    "from tensorflow import keras\n",
    "from tensorflow.keras.utils import to_categorical\n",
    "import numpy as np\n",
    "import matplotlib.pyplot as plt\n",
    "\n",
    "import os\n",
    "\n",
    "print(tf.__version__)\n",
    "print(keras.__version__)"
   ]
  },
  {
   "cell_type": "markdown",
   "metadata": {
    "colab_type": "text",
    "id": "P9h5pJtRc2gG"
   },
   "source": [
    "## 하이퍼 파라미터"
   ]
  },
  {
   "cell_type": "code",
   "execution_count": 3,
   "metadata": {
    "colab": {},
    "colab_type": "code",
    "id": "8GyqfeSTc2gH"
   },
   "outputs": [],
   "source": [
    "learning_rate = 0.001\n",
    "training_epochs = 10\n",
    "batch_size = 128\n",
    "n_class = 10"
   ]
  },
  {
   "cell_type": "markdown",
   "metadata": {
    "colab_type": "text",
    "id": "yfso9lHbc2gJ"
   },
   "source": [
    "## MNIST 데이터셋"
   ]
  },
  {
   "cell_type": "code",
   "execution_count": 4,
   "metadata": {
    "colab": {},
    "colab_type": "code",
    "id": "bTm_qqgnc2gK"
   },
   "outputs": [],
   "source": [
    "## MNIST Dataset \n",
    "mnist = keras.datasets.mnist\n",
    "class_names = ['0', '1', '2', '3', '4', '5', '6', '7', '8', '9']\n",
    "\n",
    "## Fashion MNIST Dataset \n",
    "#mnist = keras.datasets.fashion_mnist\n",
    "#class_names = ['T-shirt/top', 'Trouser', 'Pullover', 'Dress', 'Coat', 'Sandal', 'Shirt', 'Sneaker', 'Bag', 'Ankle boot']"
   ]
  },
  {
   "cell_type": "markdown",
   "metadata": {
    "colab_type": "text",
    "id": "yBEChy8Vc2gM"
   },
   "source": [
    "## 데이터셋 불러오기"
   ]
  },
  {
   "cell_type": "code",
   "execution_count": 5,
   "metadata": {
    "colab": {},
    "colab_type": "code",
    "id": "xIiLtFKFc2gN"
   },
   "outputs": [],
   "source": [
    "## MNIST dataset load\n",
    "(train_images, train_labels), (test_images, test_labels) = mnist.load_data()  "
   ]
  },
  {
   "cell_type": "markdown",
   "metadata": {},
   "source": [
    "## 연습1: 데이터셋 불러오기"
   ]
  },
  {
   "cell_type": "code",
   "execution_count": 6,
   "metadata": {
    "colab": {
     "base_uri": "https://localhost:8080/",
     "height": 36
    },
    "colab_type": "code",
    "id": "7pZPYK3tc2gP",
    "outputId": "be2a0a49-3df7-4519-b66b-9f21f76032b3"
   },
   "outputs": [
    {
     "data": {
      "text/plain": [
       "(numpy.ndarray, numpy.ndarray)"
      ]
     },
     "execution_count": 6,
     "metadata": {},
     "output_type": "execute_result"
    }
   ],
   "source": [
    "## train_images, train_labels의 type 확인\n",
    "type(train_images),type(train_labels)\n"
   ]
  },
  {
   "cell_type": "code",
   "execution_count": 7,
   "metadata": {
    "colab": {
     "base_uri": "https://localhost:8080/",
     "height": 36
    },
    "colab_type": "code",
    "id": "pot6yL8Jc2gR",
    "outputId": "258ac93e-72be-4f9c-ea08-60d7e15c9828"
   },
   "outputs": [
    {
     "data": {
      "text/plain": [
       "((60000, 28, 28), (60000,))"
      ]
     },
     "execution_count": 7,
     "metadata": {},
     "output_type": "execute_result"
    }
   ],
   "source": [
    "## train_images, train_labels의 shape 확인\n",
    "train_images.shape, train_labels.shape"
   ]
  },
  {
   "cell_type": "code",
   "execution_count": 8,
   "metadata": {
    "colab": {
     "base_uri": "https://localhost:8080/",
     "height": 36
    },
    "colab_type": "code",
    "id": "tbXINTxAc2gT",
    "outputId": "bb8b9f5c-fd7e-4a37-f963-33fdc75d538e"
   },
   "outputs": [
    {
     "data": {
      "text/plain": [
       "((10000, 28, 28), (10000,))"
      ]
     },
     "execution_count": 8,
     "metadata": {},
     "output_type": "execute_result"
    }
   ],
   "source": [
    "## test_images, test_labels의 shape 확인\n",
    "test_images.shape,  test_labels.shape"
   ]
  },
  {
   "cell_type": "code",
   "execution_count": 9,
   "metadata": {
    "colab": {
     "base_uri": "https://localhost:8080/",
     "height": 209
    },
    "colab_type": "code",
    "id": "UNUwl_XzdscK",
    "outputId": "6f388c04-880b-41d0-9f2b-2e925bb83a4f"
   },
   "outputs": [
    {
     "data": {
      "text/plain": [
       "{0: 5923,\n",
       " 1: 6742,\n",
       " 2: 5958,\n",
       " 3: 6131,\n",
       " 4: 5842,\n",
       " 5: 5421,\n",
       " 6: 5918,\n",
       " 7: 6265,\n",
       " 8: 5851,\n",
       " 9: 5949}"
      ]
     },
     "execution_count": 9,
     "metadata": {},
     "output_type": "execute_result"
    }
   ],
   "source": [
    "## training set의 각 class 별 image 수 확인\n",
    "unique, counts = np.unique(train_labels, axis=-1, return_counts=True)\n",
    "dict(zip(unique, counts))"
   ]
  },
  {
   "cell_type": "code",
   "execution_count": 10,
   "metadata": {
    "colab": {
     "base_uri": "https://localhost:8080/",
     "height": 209
    },
    "colab_type": "code",
    "id": "jG4FZ0PKd2sQ",
    "outputId": "abb57dd3-045b-499a-dd71-1e7db1d4c4e5"
   },
   "outputs": [
    {
     "data": {
      "text/plain": [
       "{0: 980,\n",
       " 1: 1135,\n",
       " 2: 1032,\n",
       " 3: 1010,\n",
       " 4: 982,\n",
       " 5: 892,\n",
       " 6: 958,\n",
       " 7: 1028,\n",
       " 8: 974,\n",
       " 9: 1009}"
      ]
     },
     "execution_count": 10,
     "metadata": {},
     "output_type": "execute_result"
    }
   ],
   "source": [
    "## test set의 각 class 별 image 수 확인\n",
    "unique, counts = np.unique(test_labels, axis=-1, return_counts=True)\n",
    "dict(zip(unique, counts))"
   ]
  },
  {
   "cell_type": "code",
   "execution_count": 11,
   "metadata": {
    "colab": {
     "base_uri": "https://localhost:8080/",
     "height": 55
    },
    "colab_type": "code",
    "id": "0IJkpDBLc2gV",
    "outputId": "6b35c7ff-046b-4aee-96b3-8c9c1ae389cd"
   },
   "outputs": [
    {
     "name": "stdout",
     "output_type": "stream",
     "text": [
      "train data 수:  60000\n",
      " test data 수:  10000\n"
     ]
    }
   ],
   "source": [
    "## train dataset, test dataset의 개수 저장\n",
    "n_train = train_images.shape[0]\n",
    "n_test = test_images.shape[0]\n",
    "print('train data 수: ', n_train)\n",
    "print(' test data 수: ', n_test)"
   ]
  },
  {
   "cell_type": "code",
   "execution_count": 12,
   "metadata": {},
   "outputs": [
    {
     "name": "stdout",
     "output_type": "stream",
     "text": [
      "4\n"
     ]
    }
   ],
   "source": [
    "print(train_labels[2])"
   ]
  },
  {
   "cell_type": "code",
   "execution_count": 13,
   "metadata": {},
   "outputs": [],
   "source": [
    "#print(train_images[2])"
   ]
  },
  {
   "cell_type": "code",
   "execution_count": 14,
   "metadata": {
    "colab": {
     "base_uri": "https://localhost:8080/",
     "height": 265
    },
    "colab_type": "code",
    "id": "nPGVScGHc2gX",
    "outputId": "13525f5d-1424-4542-f0c8-0e62c5c1874a"
   },
   "outputs": [
    {
     "data": {
      "image/png": "[encoded data removed]",
      "text/plain": [
       "<Figure size 432x288 with 2 Axes>"
      ]
     },
     "metadata": {
      "needs_background": "light"
     },
     "output_type": "display_data"
    }
   ],
   "source": [
    "## train_images의 0번 image 화면에 출력\n",
    "plt.figure()\n",
    "plt.imshow(train_images[2], cmap=plt.cm.binary)\n",
    "plt.colorbar()\n",
    "plt.show()"
   ]
  },
  {
   "cell_type": "code",
   "execution_count": 15,
   "metadata": {
    "colab": {
     "base_uri": "https://localhost:8080/",
     "height": 860
    },
    "colab_type": "code",
    "id": "lMx9I_5Lc2gZ",
    "outputId": "7f2b8bb0-205b-47d2-fa18-1d29691d6b43"
   },
   "outputs": [
    {
     "data": {
      "image/png": "[encoded data removed]",
      "text/plain": [
       "<Figure size 1080x1080 with 25 Axes>"
      ]
     },
     "metadata": {},
     "output_type": "display_data"
    }
   ],
   "source": [
    "## 25개의 train image와 label 화면에 출력\n",
    "plt.figure(figsize=(15,15))\n",
    "for i in range(25):\n",
    "    plt.subplot(5,5,i+1)\n",
    "    plt.xticks([])\n",
    "    plt.yticks([])\n",
    "    plt.grid(False)\n",
    "    plt.imshow(train_images[i], cmap=plt.cm.binary)\n",
    "    plt.xlabel(class_names[train_labels[i]])"
   ]
  },
  {
   "cell_type": "code",
   "execution_count": 16,
   "metadata": {
    "colab": {
     "base_uri": "https://localhost:8080/",
     "height": 228
    },
    "colab_type": "code",
    "id": "kg0Nx9Obc2gb",
    "outputId": "ada56711-3720-46ea-ae9f-067298dcdd70"
   },
   "outputs": [
    {
     "name": "stdout",
     "output_type": "stream",
     "text": [
      "<nomalizing pixel values>\n",
      "before:  [ 35 241 225 160 108]\n",
      "after:   [0.13725491 0.94509804 0.88235295 0.627451   0.42352942]\n",
      "\n"
     ]
    }
   ],
   "source": [
    "## image를 0~1사이 값으로 만들기 위하여 255로 나누어줌\n",
    "print('<nomalizing pixel values>')\n",
    "print('before: ', train_images[0,13,12:17])\n",
    "train_images = train_images.astype(np.float32) / 255.\n",
    "test_images = test_images.astype(np.float32) / 255.\n",
    "print('after:  ', train_images[0,13,12:17])\n",
    "print()"
   ]
  },
  {
   "cell_type": "markdown",
   "metadata": {},
   "source": [
    "## 연습2: 원핫인코딩"
   ]
  },
  {
   "cell_type": "code",
   "execution_count": 17,
   "metadata": {},
   "outputs": [
    {
     "name": "stdout",
     "output_type": "stream",
     "text": [
      "<one-hot encoding>\n",
      "before:  [5 0 4 1 9]\n",
      "after:   [[0. 0. 0. 0. 0. 1. 0. 0. 0. 0.]\n",
      " [1. 0. 0. 0. 0. 0. 0. 0. 0. 0.]\n",
      " [0. 0. 0. 0. 1. 0. 0. 0. 0. 0.]\n",
      " [0. 1. 0. 0. 0. 0. 0. 0. 0. 0.]\n",
      " [0. 0. 0. 0. 0. 0. 0. 0. 0. 1.]]\n"
     ]
    }
   ],
   "source": [
    "## one-hot encodin을 완성하라.\n",
    "## to_categorical(레이블, n_class)을 사용  => \n",
    "##  원핫 코딩 categorical_crossentropy로 매치하는 것 기억  (정수: sparse_categorial_crossentropy\n",
    "print('<one-hot encoding>')\n",
    "print('before: ', train_labels[:5])\n",
    "#  to do\n",
    "train_labels=to_categorical(train_labels,n_class)\n",
    "test_labels=to_categorical(test_labels,n_class)\n",
    "\n",
    "#  to do\n",
    "print('after:  ', train_labels[:5])"
   ]
  },
  {
   "cell_type": "markdown",
   "metadata": {},
   "source": [
    "## 연습3: 데이터셋 구성"
   ]
  },
  {
   "cell_type": "code",
   "execution_count": 18,
   "metadata": {
    "colab": {},
    "colab_type": "code",
    "id": "lHyVpL1Ka9mz"
   },
   "outputs": [],
   "source": [
    "## dataset 구성\n",
    "# from_tensor_slices, shuffe, batch, repeat(epoch)를 사용해보라. \n",
    "# 참조 \n",
    "#1. repeat(step_n) : 원하는 epoch 수를 넣을 수 있다. 아무런 파라미터를 주지 않는다면 iteration이 무제한으로 돌아간다.\n",
    "#2. shuffle(1000) : 한번 epoch이 돌고나서 랜덤하게 섞을 것인지 정한다.\n",
    "#  to do\n",
    "train_dataset=tf.data.Dataset.from_tensor_slices((train_images,train_labels)).shuffle(buffer_size=100000).batch(batch_size).repeat()\n",
    "test_dataset=tf.data.Dataset.from_tensor_slices((test_images,test_labels)).batch(batch_size)\n",
    "#  to do"
   ]
  },
  {
   "cell_type": "markdown",
   "metadata": {
    "colab_type": "text",
    "id": "y9pWpm9mc2gd"
   },
   "source": [
    "## 신경망으로 구현한 로지스틱 회귀 모델"
   ]
  },
  {
   "cell_type": "markdown",
   "metadata": {},
   "source": [
    "## 연습 4: 신경망 로지스틱 회귀 모델 구축"
   ]
  },
  {
   "cell_type": "code",
   "execution_count": 19,
   "metadata": {
    "colab": {},
    "colab_type": "code",
    "id": "i5v4vQA2c2ge"
   },
   "outputs": [],
   "source": [
    "# 힌트: Dense, 클래스 10개, softmax를 사용해라.\n",
    "def create_lr_model():\n",
    "#  to do\n",
    "    model=keras.Sequential()\n",
    "    model.add(keras.layers.Flatten(input_shape=(28,28)))  #28x28 ->784\n",
    "    model.add(keras.layers.Dense(10,activation='softmax'))\n",
    "#  to do\n",
    "    return model\n"
   ]
  },
  {
   "cell_type": "code",
   "execution_count": 20,
   "metadata": {
    "colab": {
     "base_uri": "https://localhost:8080/",
     "height": 247
    },
    "colab_type": "code",
    "id": "54eUybNTc2gg",
    "outputId": "0f27021b-7053-4965-f0f5-a3d238b4b283"
   },
   "outputs": [
    {
     "name": "stdout",
     "output_type": "stream",
     "text": [
      "Model: \"sequential\"\n",
      "_________________________________________________________________\n",
      "Layer (type)                 Output Shape              Param #   \n",
      "=================================================================\n",
      "flatten (Flatten)            (None, 784)               0         \n",
      "_________________________________________________________________\n",
      "dense (Dense)                (None, 10)                7850      \n",
      "=================================================================\n",
      "Total params: 7,850\n",
      "Trainable params: 7,850\n",
      "Non-trainable params: 0\n",
      "_________________________________________________________________\n"
     ]
    }
   ],
   "source": [
    "lr_model = create_lr_model()\n",
    "lr_model.summary()"
   ]
  },
  {
   "cell_type": "markdown",
   "metadata": {},
   "source": [
    "# 연습 5. 모델 컴파일"
   ]
  },
  {
   "cell_type": "markdown",
   "metadata": {
    "colab_type": "text",
    "id": "xWTv4YmqegoR"
   },
   "source": [
    "## 모델 컴파일 (최적화와 손실함수) "
   ]
  },
  {
   "cell_type": "code",
   "execution_count": 21,
   "metadata": {
    "colab": {},
    "colab_type": "code",
    "id": "WIDB24aaeZbT"
   },
   "outputs": [],
   "source": [
    "# 다음을 사용해 컴파일을 완성하라\n",
    "# keras.optimizers.Adam, learning_rate, 손실함수는 categorical_crossentropy, 성과척도는 accaury로 시도해보라\n",
    "# 최적화(optimizer), 손실함수(loss), 성과척도(metrics) 정의하는 것\n",
    "\n",
    "lr_model.compile(optimizer=tf.keras.optimizers.Adam(learning_rate),loss='categorical_crossentropy',\n",
    "                metrics=['accuracy'])\n",
    "#  to do\n",
    "#  to do"
   ]
  },
  {
   "cell_type": "markdown",
   "metadata": {
    "colab_type": "text",
    "id": "UZ4-9ws-c2gh"
   },
   "source": [
    "## 훈련(학습)"
   ]
  },
  {
   "cell_type": "code",
   "execution_count": 22,
   "metadata": {
    "colab": {
     "base_uri": "https://localhost:8080/",
     "height": 55
    },
    "colab_type": "code",
    "id": "Tuge30Lsc2gi",
    "outputId": "468ee494-6c01-4b0b-9eee-3e5690bef1cb"
   },
   "outputs": [
    {
     "name": "stdout",
     "output_type": "stream",
     "text": [
      "number of steps per epoch:  468\n",
      "number of steps per validation:  78\n"
     ]
    }
   ],
   "source": [
    "steps_per_epoch = n_train//batch_size  # train sample 한 에폭에 배치 몇번!  #model.fit()에서 사용한다.\n",
    "validation_steps = n_test//batch_size  # 한 test에 배치 몇번\n",
    "print('number of steps per epoch: ', steps_per_epoch)\n",
    "print('number of steps per validation: ', validation_steps) "
   ]
  },
  {
   "cell_type": "code",
   "execution_count": 33,
   "metadata": {},
   "outputs": [
    {
     "name": "stdout",
     "output_type": "stream",
     "text": [
      "78/78 [==============================] - 0s 753us/step - loss: 0.2659 - accuracy: 0.9253\n"
     ]
    },
    {
     "data": {
      "text/plain": [
       "[0.26592302322387695, 0.9252804517745972]"
      ]
     },
     "execution_count": 33,
     "metadata": {},
     "output_type": "execute_result"
    }
   ],
   "source": [
    "## traing 전에 loss 및 validation accuracy 확인\n",
    "# test_dataset을 사용해 보라\n",
    "lr_model.evaluate(test_dataset, steps=validation_steps)\n"
   ]
  },
  {
   "cell_type": "markdown",
   "metadata": {},
   "source": [
    "## 연습 6. 모델 학습 "
   ]
  },
  {
   "cell_type": "code",
   "execution_count": 24,
   "metadata": {
    "colab": {
     "base_uri": "https://localhost:8080/",
     "height": 804
    },
    "colab_type": "code",
    "id": "AqA-8BjNfarK",
    "outputId": "c87c41f0-0383-406a-8b26-ca868f598bc2"
   },
   "outputs": [
    {
     "name": "stdout",
     "output_type": "stream",
     "text": [
      "Epoch 1/10\n",
      "468/468 [==============================] - 2s 3ms/step - loss: 0.6708 - accuracy: 0.8365 - val_loss: 0.3819 - val_accuracy: 0.9033\n",
      "Epoch 2/10\n",
      "468/468 [==============================] - 1s 1ms/step - loss: 0.3613 - accuracy: 0.9031 - val_loss: 0.3208 - val_accuracy: 0.9126\n",
      "Epoch 3/10\n",
      "468/468 [==============================] - 1s 2ms/step - loss: 0.3197 - accuracy: 0.9122 - val_loss: 0.2950 - val_accuracy: 0.9184\n",
      "Epoch 4/10\n",
      "468/468 [==============================] - 1s 2ms/step - loss: 0.2990 - accuracy: 0.9169 - val_loss: 0.2855 - val_accuracy: 0.9199\n",
      "Epoch 5/10\n",
      "468/468 [==============================] - 1s 2ms/step - loss: 0.2886 - accuracy: 0.9197 - val_loss: 0.2789 - val_accuracy: 0.9230\n",
      "Epoch 6/10\n",
      "468/468 [==============================] - 1s 2ms/step - loss: 0.2792 - accuracy: 0.9218 - val_loss: 0.2738 - val_accuracy: 0.9241\n",
      "Epoch 7/10\n",
      "468/468 [==============================] - 1s 1ms/step - loss: 0.2730 - accuracy: 0.9242 - val_loss: 0.2732 - val_accuracy: 0.9245\n",
      "Epoch 8/10\n",
      "468/468 [==============================] - 1s 2ms/step - loss: 0.2691 - accuracy: 0.9252 - val_loss: 0.2682 - val_accuracy: 0.9252\n",
      "Epoch 9/10\n",
      "468/468 [==============================] - 1s 2ms/step - loss: 0.2652 - accuracy: 0.9266 - val_loss: 0.2661 - val_accuracy: 0.9260\n",
      "Epoch 10/10\n",
      "468/468 [==============================] - 1s 2ms/step - loss: 0.2630 - accuracy: 0.9261 - val_loss: 0.2659 - val_accuracy: 0.9253\n"
     ]
    },
    {
     "data": {
      "text/plain": [
       "<tensorflow.python.keras.callbacks.History at 0x288cbde0a00>"
      ]
     },
     "execution_count": 24,
     "metadata": {},
     "output_type": "execute_result"
    }
   ],
   "source": [
    "# 다음과 lr_model.fit() 함수를 이용해 아래 학습함수를 완성하라\n",
    "# 힌트:  train_dataset, epochs=training_epochs, steps_per_epoch=steps_per_epoch, \n",
    "# validation_data=test_dataset, validation_steps=validation_steps\n",
    "lr_model.fit(train_dataset,epochs=training_epochs,steps_per_epoch=steps_per_epoch,\n",
    "            validation_data=test_dataset, validation_steps=validation_steps)\n",
    "#  to do\n",
    "#  to do"
   ]
  },
  {
   "cell_type": "code",
   "execution_count": 25,
   "metadata": {},
   "outputs": [
    {
     "name": "stdout",
     "output_type": "stream",
     "text": [
      "78/78 [==============================] - 0s 714us/step - loss: 0.2659 - accuracy: 0.9253\n"
     ]
    },
    {
     "data": {
      "text/plain": [
       "[0.26592302322387695, 0.9252804517745972]"
      ]
     },
     "execution_count": 25,
     "metadata": {},
     "output_type": "execute_result"
    }
   ],
   "source": [
    "## traing 후에 loss 및 validation accuracy 확인: 훈련이전과 비교\n",
    "# test_dataset을 사용해 보라\n",
    "lr_model.evaluate(test_dataset, steps=validation_steps)"
   ]
  },
  {
   "cell_type": "markdown",
   "metadata": {
    "colab_type": "text",
    "id": "KZ3x2hbfc2gk"
   },
   "source": [
    "## 학습 결과 확인"
   ]
  },
  {
   "cell_type": "code",
   "execution_count": 26,
   "metadata": {
    "colab": {},
    "colab_type": "code",
    "id": "P8o6oJWWc2gl"
   },
   "outputs": [],
   "source": [
    "def plot_image(i, predictions_array, true_label, img):\n",
    "    predictions_array, true_label, img = predictions_array[i], true_label[i], img[i]\n",
    "    plt.grid(False)\n",
    "    plt.xticks([])\n",
    "    plt.yticks([])\n",
    "\n",
    "    plt.imshow(img, cmap=plt.cm.binary)  # 손글씨 그림 그리기\n",
    "\n",
    "    predicted_label = np.argmax(predictions_array)  # 레이블 예측\n",
    "    if predicted_label == true_label:\n",
    "        color = 'blue'\n",
    "    else:\n",
    "        color = 'red'\n",
    "\n",
    "    plt.xlabel(\"{} {:2.0f}% ({})\".format(class_names[predicted_label],\n",
    "                                100*np.max(predictions_array),\n",
    "                                class_names[true_label]),\n",
    "                                color=color)\n",
    "\n",
    "def plot_value_array(i, predictions_array, true_label):\n",
    "    predictions_array, true_label = predictions_array[i], true_label[i]\n",
    "    plt.grid(False)\n",
    "    #plt.xticks([])\n",
    "    plt.xticks(range(n_class), class_names, rotation=90)\n",
    "    plt.yticks([])\n",
    "    thisplot = plt.bar(range(n_class), predictions_array, color=\"#777777\")\n",
    "    plt.ylim([0, 1]) \n",
    "    predicted_label = np.argmax(predictions_array) # 레이블 예측\n",
    " \n",
    "    thisplot[predicted_label].set_color('red')\n",
    "    thisplot[true_label].set_color('blue')"
   ]
  },
  {
   "cell_type": "code",
   "execution_count": 27,
   "metadata": {
    "colab": {
     "base_uri": "https://localhost:8080/",
     "height": 1000
    },
    "colab_type": "code",
    "id": "QXeU3uTQf-lK",
    "outputId": "80dfe9e1-aa7e-4b1d-f10e-2bf7ff503878"
   },
   "outputs": [
    {
     "data": {
      "image/png": "[encoded data removed]",
      "text/plain": [
       "<Figure size 1296x1440 with 30 Axes>"
      ]
     },
     "metadata": {
      "needs_background": "light"
     },
     "output_type": "display_data"
    }
   ],
   "source": [
    "rnd_idx = np.random.randint(1, n_test//batch_size)\n",
    "img_cnt = 0\n",
    "for images, labels in test_dataset:\n",
    "    img_cnt += 1\n",
    "    if img_cnt != rnd_idx:\n",
    "        continue\n",
    "    predictions = lr_model(images, training=False)\n",
    "    num_rows = 5\n",
    "    num_cols = 3\n",
    "    num_images = num_rows*num_cols\n",
    "    labels = tf.argmax(labels, axis=-1)\n",
    "    plt.figure(figsize=(3*2*num_cols, 4*num_rows))\n",
    "    plt.subplots_adjust(hspace=1.0)\n",
    "    for i in range(num_images):\n",
    "        plt.subplot(num_rows, 2*num_cols, 2*i+1)\n",
    "        plot_image(i, predictions.numpy(), labels.numpy(), images.numpy())  # images.numpy()를 imshow로 그린다.\n",
    "        plt.subplot(num_rows, 2*num_cols, 2*i+2)\n",
    "        plot_value_array(i, predictions.numpy(), labels.numpy())        \n",
    "    break"
   ]
  },
  {
   "cell_type": "code",
   "execution_count": 28,
   "metadata": {},
   "outputs": [],
   "source": [
    " predictions = lr_model(images, training=False)"
   ]
  },
  {
   "cell_type": "code",
   "execution_count": 29,
   "metadata": {},
   "outputs": [],
   "source": [
    " predictions = lr_model.predict(images)"
   ]
  },
  {
   "cell_type": "code",
   "execution_count": 30,
   "metadata": {},
   "outputs": [
    {
     "data": {
      "text/plain": [
       "array([9.4634771e-09, 9.9723840e-01, 2.0903538e-04, 8.2169287e-04,\n",
       "       5.8388201e-07, 5.6506742e-05, 1.4708150e-04, 6.1858223e-06,\n",
       "       1.4676491e-03, 5.2897100e-05], dtype=float32)"
      ]
     },
     "execution_count": 30,
     "metadata": {},
     "output_type": "execute_result"
    }
   ],
   "source": [
    "predictions[0]"
   ]
  },
  {
   "cell_type": "markdown",
   "metadata": {
    "colab_type": "text",
    "id": "7NlrYsiqc2gn"
   },
   "source": [
    "## 3층 DNN을 구축해보자"
   ]
  },
  {
   "cell_type": "markdown",
   "metadata": {},
   "source": [
    "## 연습 7: 3층 DNN 구축"
   ]
  },
  {
   "cell_type": "code",
   "execution_count": 34,
   "metadata": {
    "colab": {},
    "colab_type": "code",
    "id": "oExA_JU5c2gn"
   },
   "outputs": [],
   "source": [
    "# 다음의 3층 DNN을 완성하라.\n",
    "# input_shape=(28,28)를 사용하고\n",
    "# 은닉층의 유닛을 256, 128로 하고 마지막 전결합 출력 유닛을 10로 하는 3층 신경망을 완성하라. \n",
    "# 은닉층의 활성화 함수는 relu 전결합층의 활성화함수는 softmax를 사용하라.\n",
    "def create_mlp_model():\n",
    "#  to do\n",
    "#  to do\n",
    "    model=keras.Sequential()\n",
    "    model.add(keras.layers.Flatten(input_shape=(28,28)))  #28x28 ->784\n",
    "    model.add(keras.layers.Dense(256,activation='relu'))\n",
    "    model.add(keras.layers.Dense(128,activation='relu'))\n",
    "    model.add(keras.layers.Dense(10,activation='softmax'))\n",
    "#  to do\n",
    "#  to do\n",
    "    return model"
   ]
  },
  {
   "cell_type": "code",
   "execution_count": 35,
   "metadata": {
    "colab": {
     "base_uri": "https://localhost:8080/",
     "height": 324
    },
    "colab_type": "code",
    "id": "qt3aJVrBg4I7",
    "outputId": "32fe62e0-8b36-4b2b-ec55-3b61a2e7a97c"
   },
   "outputs": [
    {
     "name": "stdout",
     "output_type": "stream",
     "text": [
      "Model: \"sequential_1\"\n",
      "_________________________________________________________________\n",
      "Layer (type)                 Output Shape              Param #   \n",
      "=================================================================\n",
      "flatten_1 (Flatten)          (None, 784)               0         \n",
      "_________________________________________________________________\n",
      "dense_1 (Dense)              (None, 256)               200960    \n",
      "_________________________________________________________________\n",
      "dense_2 (Dense)              (None, 128)               32896     \n",
      "_________________________________________________________________\n",
      "dense_3 (Dense)              (None, 10)                1290      \n",
      "=================================================================\n",
      "Total params: 235,146\n",
      "Trainable params: 235,146\n",
      "Non-trainable params: 0\n",
      "_________________________________________________________________\n"
     ]
    }
   ],
   "source": [
    "mlp_model = create_mlp_model()\n",
    "mlp_model.summary()"
   ]
  },
  {
   "cell_type": "code",
   "execution_count": 36,
   "metadata": {
    "colab": {},
    "colab_type": "code",
    "id": "a4Bh7fiKc2gq"
   },
   "outputs": [],
   "source": [
    "## 모델 컴파일\n",
    "mlp_model.compile(optimizer=keras.optimizers.Adam(learning_rate),\n",
    "                 loss = 'categorical_crossentropy',\n",
    "                 metrics=['accuracy'])"
   ]
  },
  {
   "cell_type": "code",
   "execution_count": 41,
   "metadata": {
    "colab": {
     "base_uri": "https://localhost:8080/",
     "height": 55
    },
    "colab_type": "code",
    "id": "08ZRV2yaNG1r",
    "outputId": "9a8cff49-4c17-42d1-cef3-237f90ac3027"
   },
   "outputs": [
    {
     "name": "stdout",
     "output_type": "stream",
     "text": [
      "78/78 [==============================] - 0s 1ms/step - loss: 0.1004 - accuracy: 0.9736\n"
     ]
    },
    {
     "data": {
      "text/plain": [
       "[0.10043942928314209, 0.973557710647583]"
      ]
     },
     "execution_count": 41,
     "metadata": {},
     "output_type": "execute_result"
    }
   ],
   "source": [
    "## traing 전에 loss 및 validation accuracy 확인\n",
    "mlp_model.evaluate(test_dataset, steps=validation_steps)"
   ]
  },
  {
   "cell_type": "code",
   "execution_count": 38,
   "metadata": {
    "colab": {
     "base_uri": "https://localhost:8080/",
     "height": 804
    },
    "colab_type": "code",
    "id": "PJUm_LLJc2gx",
    "outputId": "63793ce3-b8af-4174-8a11-51a4664d892a",
    "scrolled": false
   },
   "outputs": [
    {
     "name": "stdout",
     "output_type": "stream",
     "text": [
      "Epoch 1/10\n",
      "468/468 [==============================] - 2s 2ms/step - loss: 0.2672 - accuracy: 0.9228 - val_loss: 0.1203 - val_accuracy: 0.9640\n",
      "Epoch 2/10\n",
      "468/468 [==============================] - 1s 3ms/step - loss: 0.0994 - accuracy: 0.9709 - val_loss: 0.0924 - val_accuracy: 0.9707\n",
      "Epoch 3/10\n",
      "468/468 [==============================] - 1s 3ms/step - loss: 0.0645 - accuracy: 0.9803 - val_loss: 0.0792 - val_accuracy: 0.9761\n",
      "Epoch 4/10\n",
      "468/468 [==============================] - 1s 3ms/step - loss: 0.0469 - accuracy: 0.9856 - val_loss: 0.0698 - val_accuracy: 0.9793\n",
      "Epoch 5/10\n",
      "468/468 [==============================] - 1s 2ms/step - loss: 0.0335 - accuracy: 0.9895 - val_loss: 0.0794 - val_accuracy: 0.9764\n",
      "Epoch 6/10\n",
      "468/468 [==============================] - 1s 3ms/step - loss: 0.0261 - accuracy: 0.9915 - val_loss: 0.0752 - val_accuracy: 0.9787\n",
      "Epoch 7/10\n",
      "468/468 [==============================] - 1s 3ms/step - loss: 0.0239 - accuracy: 0.9918 - val_loss: 0.0728 - val_accuracy: 0.9794\n",
      "Epoch 8/10\n",
      "468/468 [==============================] - 1s 3ms/step - loss: 0.0171 - accuracy: 0.9943 - val_loss: 0.0755 - val_accuracy: 0.9800\n",
      "Epoch 9/10\n",
      "468/468 [==============================] - 1s 3ms/step - loss: 0.0161 - accuracy: 0.9949 - val_loss: 0.0799 - val_accuracy: 0.9793\n",
      "Epoch 10/10\n",
      "468/468 [==============================] - 1s 3ms/step - loss: 0.0110 - accuracy: 0.9962 - val_loss: 0.1004 - val_accuracy: 0.9736\n"
     ]
    }
   ],
   "source": [
    "## 훈련\n",
    "history = mlp_model.fit(train_dataset, epochs=training_epochs, steps_per_epoch=steps_per_epoch, \n",
    "                    validation_data=test_dataset, validation_steps=validation_steps)"
   ]
  },
  {
   "cell_type": "code",
   "execution_count": 42,
   "metadata": {},
   "outputs": [
    {
     "name": "stdout",
     "output_type": "stream",
     "text": [
      "78/78 [==============================] - 0s 1ms/step - loss: 0.1004 - accuracy: 0.9736\n"
     ]
    },
    {
     "data": {
      "text/plain": [
       "[0.10043942928314209, 0.973557710647583]"
      ]
     },
     "execution_count": 42,
     "metadata": {},
     "output_type": "execute_result"
    }
   ],
   "source": [
    "## traing 후 loss 및 validation accuracy 확인\n",
    "mlp_model.evaluate(test_dataset, steps=validation_steps)"
   ]
  },
  {
   "cell_type": "markdown",
   "metadata": {},
   "source": [
    "# 학습결과 확인"
   ]
  },
  {
   "cell_type": "code",
   "execution_count": 39,
   "metadata": {},
   "outputs": [],
   "source": [
    "def plot_image(i, predictions_array, true_label, img):\n",
    "    predictions_array, true_label, img = predictions_array[i], true_label[i], img[i]\n",
    "    plt.grid(False)\n",
    "    plt.xticks([])\n",
    "    plt.yticks([])\n",
    "\n",
    "    plt.imshow(img,cmap=plt.cm.binary)\n",
    "\n",
    "    predicted_label = np.argmax(predictions_array)\n",
    "    if predicted_label == true_label:\n",
    "        color = 'blue'\n",
    "    else:\n",
    "        color = 'red'\n",
    "\n",
    "    plt.xlabel(\"{} {:2.0f}% ({})\".format(class_names[predicted_label],\n",
    "                                100*np.max(predictions_array),\n",
    "                                class_names[true_label]),\n",
    "                                color=color)\n",
    "\n",
    "def plot_value_array(i, predictions_array, true_label):\n",
    "    predictions_array, true_label = predictions_array[i], true_label[i]\n",
    "    plt.grid(False)\n",
    "    #plt.xticks([])\n",
    "    plt.xticks(range(n_class), class_names, rotation=90)\n",
    "    plt.yticks([])\n",
    "    thisplot = plt.bar(range(n_class), predictions_array, color=\"#777777\")\n",
    "    plt.ylim([0, 1]) \n",
    "    predicted_label = np.argmax(predictions_array)\n",
    " \n",
    "    thisplot[predicted_label].set_color('red')\n",
    "    thisplot[true_label].set_color('blue')"
   ]
  },
  {
   "cell_type": "code",
   "execution_count": 40,
   "metadata": {},
   "outputs": [
    {
     "data": {
      "image/png": "[encoded data removed]",
      "text/plain": [
       "<Figure size 1296x1440 with 30 Axes>"
      ]
     },
     "metadata": {
      "needs_background": "light"
     },
     "output_type": "display_data"
    }
   ],
   "source": [
    "rnd_idx = np.random.randint(1, n_test//batch_size)\n",
    "img_cnt = 0\n",
    "for images, labels in test_dataset:\n",
    "    img_cnt += 1\n",
    "    if img_cnt != rnd_idx:\n",
    "        continue\n",
    "    predictions = lr_model(images, training=False)\n",
    "    num_rows = 5\n",
    "    num_cols = 3\n",
    "    num_images = num_rows*num_cols\n",
    "    labels = tf.argmax(labels, axis=-1)\n",
    "    plt.figure(figsize=(3*2*num_cols, 4*num_rows))\n",
    "    plt.subplots_adjust(hspace=1.0)\n",
    "    for i in range(num_images):\n",
    "        plt.subplot(num_rows, 2*num_cols, 2*i+1)\n",
    "        plot_image(i, predictions.numpy(), labels.numpy(), images.numpy())\n",
    "        plt.subplot(num_rows, 2*num_cols, 2*i+2)\n",
    "        plot_value_array(i, predictions.numpy(), labels.numpy())        \n",
    "    break"
   ]
  },
  {
   "cell_type": "markdown",
   "metadata": {
    "colab_type": "text",
    "id": "41x7OABPhZVL"
   },
   "source": [
    "## 이제 5층 DNN을 구축해보자"
   ]
  },
  {
   "cell_type": "markdown",
   "metadata": {},
   "source": [
    "## 연습 8:  5층 DNN 구축"
   ]
  },
  {
   "cell_type": "code",
   "execution_count": 43,
   "metadata": {
    "colab": {},
    "colab_type": "code",
    "id": "b8VAp4MUc2g2"
   },
   "outputs": [],
   "source": [
    "# 다음의 5층 DNN을 완성하라.\n",
    "# input_shape=(28,28)를 사용하고\n",
    "# 2개 은닉층의 유닛을 각각 256, 128로 하고 마지막 전결합 출력 유닛을 10로 하는 5층 신경망을 완성하라. \n",
    "# 은닉층의 활성화 함수는 relu 전결합층의 활성화함수는 softmax를 사용하라.\n",
    "\n",
    "def create_dmlp_model():\n",
    "#  to do\n",
    "    model=keras.Sequential()\n",
    "    model.add(keras.layers.Flatten(input_shape=(28,28)))  #28x28 ->784\n",
    "    model.add(keras.layers.Dense(256,activation='relu'))\n",
    "    model.add(keras.layers.Dense(256,activation='relu'))\n",
    "    model.add(keras.layers.Dense(128,activation='relu'))\n",
    "    model.add(keras.layers.Dense(128,activation='relu'))\n",
    "    model.add(keras.layers.Dense(10,activation='softmax'))\n",
    "#  to do\n",
    "    return model"
   ]
  },
  {
   "cell_type": "code",
   "execution_count": 44,
   "metadata": {
    "colab": {
     "base_uri": "https://localhost:8080/",
     "height": 401
    },
    "colab_type": "code",
    "id": "7-DUAEV0hsSd",
    "outputId": "28d707f7-d068-4956-95b1-bcf933a7e8a9"
   },
   "outputs": [
    {
     "name": "stdout",
     "output_type": "stream",
     "text": [
      "Model: \"sequential_2\"\n",
      "_________________________________________________________________\n",
      "Layer (type)                 Output Shape              Param #   \n",
      "=================================================================\n",
      "flatten_2 (Flatten)          (None, 784)               0         \n",
      "_________________________________________________________________\n",
      "dense_4 (Dense)              (None, 256)               200960    \n",
      "_________________________________________________________________\n",
      "dense_5 (Dense)              (None, 256)               65792     \n",
      "_________________________________________________________________\n",
      "dense_6 (Dense)              (None, 128)               32896     \n",
      "_________________________________________________________________\n",
      "dense_7 (Dense)              (None, 128)               16512     \n",
      "_________________________________________________________________\n",
      "dense_8 (Dense)              (None, 10)                1290      \n",
      "=================================================================\n",
      "Total params: 317,450\n",
      "Trainable params: 317,450\n",
      "Non-trainable params: 0\n",
      "_________________________________________________________________\n"
     ]
    }
   ],
   "source": [
    "dmlp_model = create_dmlp_model()\n",
    "dmlp_model.summary()"
   ]
  },
  {
   "cell_type": "code",
   "execution_count": 45,
   "metadata": {
    "colab": {},
    "colab_type": "code",
    "id": "KhkHjbQNhwhU"
   },
   "outputs": [],
   "source": [
    "## 모델 컴파일\n",
    "dmlp_model.compile(optimizer=keras.optimizers.Adam(learning_rate),\n",
    "                 loss = 'categorical_crossentropy',\n",
    "                 metrics=['accuracy'])"
   ]
  },
  {
   "cell_type": "code",
   "execution_count": 46,
   "metadata": {
    "colab": {
     "base_uri": "https://localhost:8080/",
     "height": 55
    },
    "colab_type": "code",
    "id": "r-WGoWaMN8hc",
    "outputId": "003b7855-77b4-4d4a-93ca-f5f620cbcb88"
   },
   "outputs": [
    {
     "name": "stdout",
     "output_type": "stream",
     "text": [
      "78/78 [==============================] - 0s 1ms/step - loss: 2.3106 - accuracy: 0.0991\n"
     ]
    },
    {
     "data": {
      "text/plain": [
       "[2.3128979206085205, 0.09875801205635071]"
      ]
     },
     "execution_count": 46,
     "metadata": {},
     "output_type": "execute_result"
    }
   ],
   "source": [
    "## traing 전에 loss 및 validation accuracy 확인\n",
    "dmlp_model.evaluate(test_dataset, steps=validation_steps)"
   ]
  },
  {
   "cell_type": "code",
   "execution_count": 49,
   "metadata": {
    "colab": {
     "base_uri": "https://localhost:8080/",
     "height": 804
    },
    "colab_type": "code",
    "id": "6Vv2ebjDh4LZ",
    "outputId": "71712c29-f948-42ca-ff5e-991aca8321a1"
   },
   "outputs": [
    {
     "name": "stdout",
     "output_type": "stream",
     "text": [
      "Epoch 1/10\n",
      "468/468 [==============================] - 2s 3ms/step - loss: 0.0161 - accuracy: 0.9947 - val_loss: 0.0943 - val_accuracy: 0.9770\n",
      "Epoch 2/10\n",
      "468/468 [==============================] - 2s 4ms/step - loss: 0.0168 - accuracy: 0.9948 - val_loss: 0.0825 - val_accuracy: 0.9821\n",
      "Epoch 3/10\n",
      "468/468 [==============================] - 2s 4ms/step - loss: 0.0189 - accuracy: 0.9938 - val_loss: 0.0813 - val_accuracy: 0.9801\n",
      "Epoch 4/10\n",
      "468/468 [==============================] - 2s 4ms/step - loss: 0.0136 - accuracy: 0.9955 - val_loss: 0.0745 - val_accuracy: 0.9829\n",
      "Epoch 5/10\n",
      "468/468 [==============================] - 2s 4ms/step - loss: 0.0110 - accuracy: 0.9965 - val_loss: 0.0994 - val_accuracy: 0.9784\n",
      "Epoch 6/10\n",
      "468/468 [==============================] - 2s 4ms/step - loss: 0.0145 - accuracy: 0.9953 - val_loss: 0.0905 - val_accuracy: 0.9783\n",
      "Epoch 7/10\n",
      "468/468 [==============================] - 2s 4ms/step - loss: 0.0091 - accuracy: 0.9971 - val_loss: 0.0838 - val_accuracy: 0.9814\n",
      "Epoch 8/10\n",
      "468/468 [==============================] - 2s 4ms/step - loss: 0.0111 - accuracy: 0.9966 - val_loss: 0.1176 - val_accuracy: 0.9763\n",
      "Epoch 9/10\n",
      "468/468 [==============================] - 2s 4ms/step - loss: 0.0107 - accuracy: 0.9968 - val_loss: 0.0930 - val_accuracy: 0.9817\n",
      "Epoch 10/10\n",
      "468/468 [==============================] - 2s 4ms/step - loss: 0.0113 - accuracy: 0.9964 - val_loss: 0.1007 - val_accuracy: 0.9798\n"
     ]
    }
   ],
   "source": [
    "## 훈련\n",
    "history = dmlp_model.fit(train_dataset, epochs=training_epochs, steps_per_epoch=steps_per_epoch, \n",
    "                    validation_data=test_dataset, validation_steps=validation_steps)"
   ]
  },
  {
   "cell_type": "code",
   "execution_count": 50,
   "metadata": {},
   "outputs": [
    {
     "name": "stdout",
     "output_type": "stream",
     "text": [
      "78/78 [==============================] - 0s 1ms/step - loss: 0.1007 - accuracy: 0.9798\n"
     ]
    },
    {
     "data": {
      "text/plain": [
       "[0.10072469711303711, 0.9797676205635071]"
      ]
     },
     "execution_count": 50,
     "metadata": {},
     "output_type": "execute_result"
    }
   ],
   "source": [
    "## traing 후에 loss 및 validation accuracy 확인\n",
    "dmlp_model.evaluate(test_dataset, steps=validation_steps)"
   ]
  },
  {
   "cell_type": "markdown",
   "metadata": {
    "colab_type": "text",
    "id": "71kpuSCFiVC8"
   },
   "source": [
    "## 드롭 아웃 (Drop-out)을 추가해보자"
   ]
  },
  {
   "cell_type": "markdown",
   "metadata": {},
   "source": [
    "## 연습 9: 드롭아웃 추가"
   ]
  },
  {
   "cell_type": "code",
   "execution_count": null,
   "metadata": {
    "colab": {},
    "colab_type": "code",
    "id": "nJlViNrRiTxX"
   },
   "outputs": [],
   "source": [
    "# 5층 DNN의 은닉층의 출력 다음 단계에 Dropout을 추가하라. kera.layers.Dropout(drop_rate)\n",
    "drop_rate = 0.2\n",
    "\n",
    "def create_do_model():\n",
    "#  to do\n",
    "#  to do\n",
    "#  to do\n",
    "#  to do\n",
    "#  to do\n",
    "#  to do\n",
    "#  to do\n",
    "#  to do\n",
    "#  to do\n",
    "#  to do\n",
    "#  to do\n",
    "    return model"
   ]
  },
  {
   "cell_type": "code",
   "execution_count": null,
   "metadata": {
    "colab": {
     "base_uri": "https://localhost:8080/",
     "height": 554
    },
    "colab_type": "code",
    "id": "nI-pBhnhikLR",
    "outputId": "3934aac5-5373-4b45-be7a-9bdabf556413"
   },
   "outputs": [],
   "source": [
    "do_model = create_do_model()\n",
    "do_model.summary()"
   ]
  },
  {
   "cell_type": "code",
   "execution_count": null,
   "metadata": {
    "colab": {},
    "colab_type": "code",
    "id": "HCcq8aCHipD7"
   },
   "outputs": [],
   "source": [
    "## 모델 컴파일\n",
    "do_model.compile(optimizer=keras.optimizers.Adam(learning_rate),\n",
    "                 loss = 'categorical_crossentropy',\n",
    "                 metrics=['accuracy'])"
   ]
  },
  {
   "cell_type": "code",
   "execution_count": null,
   "metadata": {
    "colab": {
     "base_uri": "https://localhost:8080/",
     "height": 55
    },
    "colab_type": "code",
    "id": "TLWGEw3mOMmN",
    "outputId": "aa4447c9-7bee-4e6e-97dc-cb6d6ce6c55f"
   },
   "outputs": [],
   "source": [
    "## traing 전에 loss 및 validation accuracy 확인\n",
    "do_model.evaluate(test_dataset, steps=validation_steps)"
   ]
  },
  {
   "cell_type": "code",
   "execution_count": null,
   "metadata": {
    "colab": {
     "base_uri": "https://localhost:8080/",
     "height": 804
    },
    "colab_type": "code",
    "id": "1mKoA7PQisdX",
    "outputId": "0dc25016-275a-40b9-caba-35ba673a00e7"
   },
   "outputs": [],
   "source": [
    "## 훈련\n",
    "history = do_model.fit(train_dataset, epochs=training_epochs, steps_per_epoch=steps_per_epoch, \n",
    "                    validation_data=test_dataset, validation_steps=validation_steps)"
   ]
  },
  {
   "cell_type": "markdown",
   "metadata": {
    "colab_type": "text",
    "id": "o4Gwn7Ohke_0"
   },
   "source": [
    "## 가중치 감쇠: L2 규제화 (Weight Decay: L2 Regulrarization)를 적용해보자"
   ]
  },
  {
   "cell_type": "markdown",
   "metadata": {},
   "source": [
    "## 연습 10: 가중치 감쇠 규제화"
   ]
  },
  {
   "cell_type": "code",
   "execution_count": null,
   "metadata": {
    "colab": {},
    "colab_type": "code",
    "id": "498WlMinivuh"
   },
   "outputs": [],
   "source": [
    "# 다음을 이용해서 5층 DNN의 규제화를 완성하라. (Dropout 대신 규제화를 사용한다.)\n",
    "# kernel_regularizer=keras.regularizers.l2(reg_weight,\n",
    "# bias_regularizer=keras.regularizers.l2(reg_weight\n",
    "reg_weight = 0.00002\n",
    "\n",
    "def create_l2r_model():\n",
    "#  to do\n",
    "#  to do\n",
    "#  to do\n",
    "#  to do\n",
    "#  to do\n",
    "#  to do\n",
    "#  to do\n",
    "    return model"
   ]
  },
  {
   "cell_type": "code",
   "execution_count": null,
   "metadata": {
    "colab": {
     "base_uri": "https://localhost:8080/",
     "height": 401
    },
    "colab_type": "code",
    "id": "oaAVX1tKi684",
    "outputId": "334f12ac-8205-4919-c8b3-991d17fec071"
   },
   "outputs": [],
   "source": [
    "l2r_model = create_l2r_model()\n",
    "l2r_model.summary()"
   ]
  },
  {
   "cell_type": "code",
   "execution_count": null,
   "metadata": {
    "colab": {},
    "colab_type": "code",
    "id": "aA44lA68i_Jr"
   },
   "outputs": [],
   "source": [
    "## 모델 컴파일\n",
    "l2r_model.compile(optimizer=keras.optimizers.Adam(learning_rate),\n",
    "                 loss = 'categorical_crossentropy',\n",
    "                 metrics=['accuracy'])"
   ]
  },
  {
   "cell_type": "code",
   "execution_count": null,
   "metadata": {
    "colab": {
     "base_uri": "https://localhost:8080/",
     "height": 55
    },
    "colab_type": "code",
    "id": "vQiT1vyKOT0l",
    "outputId": "4c4fb79e-a92b-430e-942e-7ba0ea955eb8"
   },
   "outputs": [],
   "source": [
    "## traing 전에 loss 및 validation accuracy 확인\n",
    "l2r_model.evaluate(test_dataset, steps=validation_steps)"
   ]
  },
  {
   "cell_type": "code",
   "execution_count": null,
   "metadata": {
    "colab": {
     "base_uri": "https://localhost:8080/",
     "height": 804
    },
    "colab_type": "code",
    "id": "z8WeyIGjjCDV",
    "outputId": "cf5aaacc-0e77-4627-d674-2655b791940b"
   },
   "outputs": [],
   "source": [
    "## 훈련\n",
    "history = l2r_model.fit(train_dataset, epochs=training_epochs, steps_per_epoch=steps_per_epoch, \n",
    "                    validation_data=test_dataset, validation_steps=validation_steps)"
   ]
  },
  {
   "cell_type": "markdown",
   "metadata": {
    "colab_type": "text",
    "id": "irML-8lUkkfG"
   },
   "source": [
    "## 배치 정규화 (Batch Normalization)를 추가해보자"
   ]
  },
  {
   "cell_type": "markdown",
   "metadata": {},
   "source": [
    "## 연습 11 배치 정규화 추가"
   ]
  },
  {
   "cell_type": "code",
   "execution_count": null,
   "metadata": {
    "colab": {},
    "colab_type": "code",
    "id": "gNeYF10ejFGk"
   },
   "outputs": [],
   "source": [
    "# BatchNormalizatio()과 ReLu()를 이용해 5층 DNN을 완성하라.\n",
    "\n",
    "def create_bn_model():\n",
    "#  to do\n",
    "#  to do\n",
    "#  to do\n",
    "#  to do\n",
    "#  to do\n",
    "#  to do\n",
    "#  to do\n",
    "#  to do\n",
    "#  to do\n",
    "#  to do\n",
    "#  to do\n",
    "#  to do\n",
    "#  to do\n",
    "#  to do\n",
    "#  to do\n",
    "#  to do\n",
    "#  to do\n",
    "     return model"
   ]
  },
  {
   "cell_type": "code",
   "execution_count": null,
   "metadata": {
    "colab": {
     "base_uri": "https://localhost:8080/",
     "height": 785
    },
    "colab_type": "code",
    "id": "yE7WPx0gjiCc",
    "outputId": "155b1f6e-cd2f-4b2f-c101-3d43fcb7eb2b"
   },
   "outputs": [],
   "source": [
    "bn_model = create_bn_model()\n",
    "bn_model.summary()"
   ]
  },
  {
   "cell_type": "code",
   "execution_count": null,
   "metadata": {
    "colab": {},
    "colab_type": "code",
    "id": "vD-Oz2nhjmNS"
   },
   "outputs": [],
   "source": [
    "## 모델 컴파일\n",
    "bn_model.compile(optimizer=keras.optimizers.Adam(learning_rate),\n",
    "                 loss = 'categorical_crossentropy',\n",
    "                 metrics=['accuracy'])"
   ]
  },
  {
   "cell_type": "code",
   "execution_count": null,
   "metadata": {
    "colab": {
     "base_uri": "https://localhost:8080/",
     "height": 55
    },
    "colab_type": "code",
    "id": "tGy89IteOiJT",
    "outputId": "869d3707-7f33-48be-c5ac-9e8d751024be"
   },
   "outputs": [],
   "source": [
    "## traing 전에 loss 및 validation accuracy 확인\n",
    "bn_model.evaluate(test_dataset, steps=validation_steps)"
   ]
  },
  {
   "cell_type": "code",
   "execution_count": null,
   "metadata": {
    "colab": {
     "base_uri": "https://localhost:8080/",
     "height": 804
    },
    "colab_type": "code",
    "id": "35Y_1qiijomM",
    "outputId": "516911e4-5079-4aee-e59d-c43b18544c2c"
   },
   "outputs": [],
   "source": [
    "## 훈련\n",
    "history = bn_model.fit(train_dataset, epochs=training_epochs, steps_per_epoch=steps_per_epoch, \n",
    "                    validation_data=test_dataset, validation_steps=validation_steps)"
   ]
  },
  {
   "cell_type": "markdown",
   "metadata": {
    "colab_type": "text",
    "id": "8kxIPIPlkuz1"
   },
   "source": [
    "## 학습률을 조정해보자 (Learning Rate Decay라고도 부른다.)"
   ]
  },
  {
   "cell_type": "code",
   "execution_count": null,
   "metadata": {
    "colab": {
     "base_uri": "https://localhost:8080/",
     "height": 401
    },
    "colab_type": "code",
    "id": "4fyYjZuajsS0",
    "outputId": "b97d28dd-0906-48db-bfb5-98ac76658ad6"
   },
   "outputs": [],
   "source": [
    "lr_decay_model = create_dmlp_model()\n",
    "lr_decay_model.summary()"
   ]
  },
  {
   "cell_type": "code",
   "execution_count": null,
   "metadata": {
    "colab": {},
    "colab_type": "code",
    "id": "9NPkdj28j8NC"
   },
   "outputs": [],
   "source": [
    "### learning rate scheduler - exponential decay\n",
    "### initial learning rate: 초기 learning rate\n",
    "### decay_steps: 몇 step 후에 learning rate을 감소시킬 것인지\n",
    "### decay_rate: learning rate 감소 비율\n",
    "### staircase: 계단식 감소여부(False일 경우는 매 step마다 감소하여 decay steps에 도달하였을 때 decay_rate만큼 감소됨) \n",
    "lr_schedule = keras.optimizers.schedules.ExponentialDecay(initial_learning_rate=learning_rate,\n",
    "                                                          decay_steps=n_train//batch_size*10,\n",
    "                                                          decay_rate=0.3,\n",
    "                                                          staircase=True)"
   ]
  },
  {
   "cell_type": "code",
   "execution_count": null,
   "metadata": {
    "colab": {},
    "colab_type": "code",
    "id": "M1j-pvySj-tv"
   },
   "outputs": [],
   "source": [
    "## 모델 컴파일\n",
    "lr_decay_model.compile(optimizer=keras.optimizers.Adam(lr_schedule),\n",
    "                 loss = 'categorical_crossentropy',\n",
    "                 metrics=['accuracy'])"
   ]
  },
  {
   "cell_type": "code",
   "execution_count": null,
   "metadata": {
    "colab": {
     "base_uri": "https://localhost:8080/",
     "height": 55
    },
    "colab_type": "code",
    "id": "sxG441v6PP16",
    "outputId": "9392a898-0632-44c4-c931-02469e93d29f"
   },
   "outputs": [],
   "source": [
    "## traing 전에 loss 및 validation accuracy 확인\n",
    "lr_decay_model.evaluate(test_dataset, steps=validation_steps)"
   ]
  },
  {
   "cell_type": "code",
   "execution_count": null,
   "metadata": {
    "colab": {
     "base_uri": "https://localhost:8080/",
     "height": 804
    },
    "colab_type": "code",
    "id": "fmJleaw4kEpP",
    "outputId": "d7e1eb95-5720-49fc-f444-3c199addc897"
   },
   "outputs": [],
   "source": [
    "## 훈련\n",
    "history = lr_decay_model.fit(train_dataset, epochs=training_epochs, steps_per_epoch=steps_per_epoch, \n",
    "                    validation_data=test_dataset, validation_steps=validation_steps)"
   ]
  },
  {
   "cell_type": "markdown",
   "metadata": {
    "colab_type": "text",
    "id": "VqXaOUbi_ZTv"
   },
   "source": [
    "### 자 이제 각자의 모델을 한 번 만들어 보자"
   ]
  },
  {
   "cell_type": "code",
   "execution_count": null,
   "metadata": {
    "colab": {},
    "colab_type": "code",
    "id": "-JuDsyAekH28"
   },
   "outputs": [],
   "source": [
    "def create_my_model():\n",
    "    model = keras.Sequential()\n",
    "    '''model.add를 이용해 각자의 model을 만들어 보라- 위에 나온 것보다 더 좋은 성능의 모델을 만들어 보라'''\n"
   ]
  },
  {
   "cell_type": "code",
   "execution_count": null,
   "metadata": {
    "colab": {},
    "colab_type": "code",
    "id": "sl0SuHH--6JF"
   },
   "outputs": [],
   "source": [
    "my_model = create_my_model()\n",
    "my_model.summary()"
   ]
  },
  {
   "cell_type": "code",
   "execution_count": null,
   "metadata": {
    "colab": {},
    "colab_type": "code",
    "id": "G8JSYFkh-_YZ"
   },
   "outputs": [],
   "source": [
    "## model compile\n",
    "my_model.compile(optimizer=keras.optimizers.Adam(learning_rate),\n",
    "                 loss = 'categorical_crossentropy',\n",
    "                 metrics=['accuracy'])"
   ]
  },
  {
   "cell_type": "code",
   "execution_count": null,
   "metadata": {
    "colab": {},
    "colab_type": "code",
    "id": "ksOwMAMl_LUX"
   },
   "outputs": [],
   "source": [
    "## traing 전에 loss 및 validation accuracy 확인\n",
    "my_model.evaluate(test_dataset, steps=validation_steps)"
   ]
  },
  {
   "cell_type": "code",
   "execution_count": null,
   "metadata": {
    "colab": {},
    "colab_type": "code",
    "id": "g6Wbw9OE_vhS"
   },
   "outputs": [],
   "source": [
    "## training\n",
    "history = my_model.fit(train_dataset, epochs=training_epochs, steps_per_epoch=steps_per_epoch, \n",
    "                    validation_data=test_dataset, validation_steps=validation_steps)"
   ]
  },
  {
   "cell_type": "code",
   "execution_count": null,
   "metadata": {},
   "outputs": [],
   "source": []
  },
  {
   "cell_type": "code",
   "execution_count": null,
   "metadata": {},
   "outputs": [],
   "source": []
  }
 ],
 "metadata": {
  "accelerator": "GPU",
  "colab": {
   "collapsed_sections": [],
   "name": "4.Multi_Layer_Perceptron.ipynb",
   "provenance": []
  },
  "kernelspec": {
   "display_name": "Python 3",
   "language": "python",
   "name": "python3"
  },
  "language_info": {
   "codemirror_mode": {
    "name": "ipython",
    "version": 3
   },
   "file_extension": ".py",
   "mimetype": "text/x-python",
   "name": "python",
   "nbconvert_exporter": "python",
   "pygments_lexer": "ipython3",
   "version": "3.8.5"
  }
 },
 "nbformat": 4,
 "nbformat_minor": 1
}
